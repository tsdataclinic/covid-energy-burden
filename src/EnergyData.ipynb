{
 "cells": [
  {
   "cell_type": "code",
   "execution_count": 1,
   "metadata": {},
   "outputs": [],
   "source": [
    "%load_ext autoreload\n",
    "%autoreload 2"
   ]
  },
  {
   "cell_type": "code",
   "execution_count": 2,
   "metadata": {},
   "outputs": [],
   "source": [
    "import pandas as pd\n",
    "import numpy as np\n",
    "import seaborn as sns\n",
    "import matplotlib.pyplot as plt\n",
    "import requests\n",
    "import re\n",
    "import statsmodels.api as sm\n",
    "import statsmodels.formula.api as smf\n",
    "from fbprophet import Prophet\n",
    "from fbprophet.plot import add_changepoints_to_plot\n",
    "from fbprophet.diagnostics import cross_validation\n",
    "from datetime import datetime, timedelta\n",
    "import calendar\n",
    "import holidays\n",
    "from dateutil.relativedelta import relativedelta\n",
    "\n",
    "%matplotlib inline"
   ]
  },
  {
   "cell_type": "code",
   "execution_count": 3,
   "metadata": {},
   "outputs": [],
   "source": [
    "#viz setup\n",
    "# sns.set(style='whitegrid',font_scale=1.75,rc={\"axes.spines.top\":False,\"axes.spines.right\":False, \"lines.linewidth\": 2.5,'lines.markersize': 10},color_codes=False,palette=sns.color_palette(['#27a3aa','#f76d23','#70d6e3','#ffbb31','#b1c96d','#cce18a','#1c4c5d','#787642']))\n",
    "sns.set(style='whitegrid',font_scale=1.5,rc={\"axes.spines.top\":False,\"axes.spines.right\":False, \"lines.linewidth\": 2.5,'lines.markersize': 10},color_codes=False,palette=sns.color_palette(['#27a3aa','#f76d23','#70d6e3','#ffbb31','#b1c96d','#cce18a','#1c4c5d','#787642']))"
   ]
  },
  {
   "cell_type": "code",
   "execution_count": 4,
   "metadata": {},
   "outputs": [],
   "source": [
    "states = [\"AL\", \"AZ\", \"AR\", \"CA\", \"CO\", \"CT\", \"DC\", \"DE\", \"FL\", \"GA\", \n",
    "          \"ID\", \"IL\", \"IN\", \"IA\", \"KS\", \"KY\", \"LA\", \"ME\", \"MD\", \n",
    "          \"MA\", \"MI\", \"MN\", \"MS\", \"MO\", \"MT\", \"NE\", \"NV\", \"NH\", \"NJ\", \n",
    "          \"NM\", \"NY\", \"NC\", \"ND\", \"OH\", \"OK\", \"OR\", \"PA\", \"RI\", \"SC\", \n",
    "          \"SD\", \"TN\", \"TX\", \"UT\", \"VT\", \"VA\", \"WA\", \"WV\", \"WI\", \"WY\"]\n",
    "regions = [\"_ENC\",\"_MAC\",\"_MTN\",\"_NEC\",\"_PAC\",\"PUS\",\"_WNC\",\"_WSC\",\"_ESC\",\"_SAC\"]\n",
    "sectors = ['RES','COM']"
   ]
  },
  {
   "cell_type": "code",
   "execution_count": null,
   "metadata": {},
   "outputs": [
    {
     "name": "stdout",
     "output_type": "stream",
     "text": [
      "AL-RES\n",
      "AL-COM\n",
      "AZ-RES\n",
      "AZ-COM\n",
      "AR-RES\n",
      "AR-COM\n",
      "CA-RES\n",
      "CA-COM\n",
      "CO-RES\n",
      "CO-COM\n",
      "CT-RES\n",
      "CT-COM\n",
      "DC-RES\n",
      "DC-COM\n",
      "DE-RES\n",
      "DE-COM\n",
      "FL-RES\n",
      "FL-COM\n",
      "GA-RES\n",
      "GA-COM\n",
      "ID-RES\n",
      "ID-COM\n",
      "IL-RES\n",
      "IL-COM\n",
      "IN-RES\n",
      "IN-COM\n",
      "IA-RES\n",
      "IA-COM\n",
      "KS-RES\n",
      "KS-COM\n",
      "KY-RES\n",
      "KY-COM\n",
      "LA-RES\n",
      "LA-COM\n",
      "ME-RES\n",
      "ME-COM\n",
      "MD-RES\n",
      "MD-COM\n",
      "MA-RES\n",
      "MA-COM\n",
      "MI-RES\n",
      "MI-COM\n",
      "MN-RES\n",
      "MN-COM\n",
      "MS-RES\n",
      "MS-COM\n",
      "MO-RES\n",
      "MO-COM\n",
      "MT-RES\n",
      "MT-COM\n",
      "NE-RES\n",
      "NE-COM\n",
      "NV-RES\n",
      "NV-COM\n",
      "NH-RES\n",
      "NH-COM\n",
      "NJ-RES\n",
      "NJ-COM\n",
      "NM-RES\n",
      "NM-COM\n",
      "NY-RES\n",
      "NY-COM\n",
      "NC-RES\n",
      "NC-COM\n",
      "ND-RES\n",
      "ND-COM\n",
      "OH-RES\n",
      "OH-COM\n"
     ]
    }
   ],
   "source": [
    "idx = 0\n",
    "for state in states:\n",
    "    for sector in sectors:\n",
    "        print(\"{}-{}\".format(state,sector))\n",
    "        response_consumption = requests.get(\"http://api.eia.gov/series/?api_key=e45b817b9a5449da30e0b88815d5f119&series_id=ELEC.SALES.{}-{}.M\".format(state,sector))\n",
    "        j_consumption = response_consumption.json()\n",
    "        tmp_consumption = pd.DataFrame(j_consumption['series'][0]['data'],columns=['month','sales_mkwh'])\n",
    "        tmp_consumption['state'] = state\n",
    "        tmp_consumption['sector'] = sector\n",
    "        \n",
    "        response_consumers = requests.get(\"http://api.eia.gov/series/?api_key=e45b817b9a5449da30e0b88815d5f119&series_id=ELEC.CUSTOMERS.{}-{}.M\".format(state,sector))\n",
    "        j_consumers = response_consumers.json()\n",
    "        tmp_consumers = pd.DataFrame(j_consumers['series'][0]['data'],columns=['month','consumers'])\n",
    "        tmp_consumers['state'] = state\n",
    "        tmp_consumers['sector'] = sector\n",
    "        \n",
    "        response_price = requests.get(\"http://api.eia.gov/series/?api_key=e45b817b9a5449da30e0b88815d5f119&series_id=ELEC.PRICE.{}-{}.M\".format(state,sector))\n",
    "        j_price = response_price.json()\n",
    "        tmp_price = pd.DataFrame(j_price['series'][0]['data'],columns=['month','price'])\n",
    "        tmp_price['state'] = state\n",
    "        tmp_price['sector'] = sector\n",
    "        \n",
    "        tmp = tmp_consumption.merge(tmp_consumers,how='left',on=['month','state','sector']).merge(tmp_price,how='left',on=['month','state','sector'])\n",
    "        \n",
    "        if idx == 0:\n",
    "            energy_data = tmp.copy()\n",
    "        else:\n",
    "            energy_data = energy_data.append(tmp)\n",
    "        idx = idx +1"
   ]
  },
  {
   "cell_type": "code",
   "execution_count": null,
   "metadata": {},
   "outputs": [],
   "source": [
    "idx = 0\n",
    "for region in regions:\n",
    "    response_cool = requests.get(\"http://api.eia.gov/series/?api_key=e45b817b9a5449da30e0b88815d5f119&series_id=STEO.ZWCD{}.M\".format(region))\n",
    "    j_cool = response_cool.json()\n",
    "    tmp_cool = pd.DataFrame(j_cool['series'][0]['data'],columns=['month','cooling_days'])\n",
    "    tmp_cool['region'] = region\n",
    "    \n",
    "    response_heat = requests.get(\"http://api.eia.gov/series/?api_key=e45b817b9a5449da30e0b88815d5f119&series_id=STEO.ZWHD{}.M\".format(region))\n",
    "    j_heat = response_heat.json()\n",
    "    tmp_heat = pd.DataFrame(j_heat['series'][0]['data'],columns=['month','heating_days'])\n",
    "    tmp_heat['region'] = region\n",
    "    \n",
    "    tmp = tmp_cool.merge(tmp_heat,how='left',on=['month','region'])\n",
    "    if idx == 0:\n",
    "        heating_cooling_days = tmp.copy()\n",
    "    else:\n",
    "        heating_cooling_days = heating_cooling_days.append(tmp)\n",
    "    idx = idx +1"
   ]
  },
  {
   "cell_type": "code",
   "execution_count": null,
   "metadata": {},
   "outputs": [],
   "source": [
    "energy_data['revenue'] = energy_data.sales_mkwh*energy_data.price\n",
    "country = energy_data.groupby(['month','sector']).sum().reset_index()\n",
    "country['state'] = 'USA'\n",
    "country.price = country.revenue/country.sales_mkwh"
   ]
  },
  {
   "cell_type": "code",
   "execution_count": null,
   "metadata": {},
   "outputs": [],
   "source": [
    "energy_data = energy_data.append(country)"
   ]
  },
  {
   "cell_type": "code",
   "execution_count": null,
   "metadata": {},
   "outputs": [],
   "source": [
    "energy_data['use_per_capita'] = energy_data.sales_mkwh*1000000/energy_data.consumers"
   ]
  },
  {
   "cell_type": "code",
   "execution_count": null,
   "metadata": {},
   "outputs": [],
   "source": [
    "heating_cooling_days.region = [re.sub('_','',r) for r in heating_cooling_days.region]"
   ]
  },
  {
   "cell_type": "code",
   "execution_count": null,
   "metadata": {},
   "outputs": [],
   "source": [
    "states.extend(['USA'])"
   ]
  },
  {
   "cell_type": "code",
   "execution_count": null,
   "metadata": {},
   "outputs": [],
   "source": [
    "state_region_mapping = pd.DataFrame(data={'state': states})"
   ]
  },
  {
   "cell_type": "code",
   "execution_count": null,
   "metadata": {},
   "outputs": [],
   "source": [
    "state_region_mapping['region'] = ''"
   ]
  },
  {
   "cell_type": "code",
   "execution_count": null,
   "metadata": {},
   "outputs": [],
   "source": [
    "state_region_mapping.loc[state_region_mapping.state.isin(['WA','OR','CA']),'region'] = 'PAC'\n",
    "state_region_mapping.loc[state_region_mapping.state.isin(['MT','ID','WY','NV','UT','CO','AZ','NM']),'region'] = 'MTN'\n",
    "state_region_mapping.loc[state_region_mapping.state.isin(['ND','SD','MN','NE','IA','KS','MO']),'region'] = 'WNC'\n",
    "state_region_mapping.loc[state_region_mapping.state.isin(['OK','TX','AR','LA']),'region'] = 'WSC'\n",
    "state_region_mapping.loc[state_region_mapping.state.isin(['WI','IL','IN','MI','OH']),'region'] = 'ENC'\n",
    "state_region_mapping.loc[state_region_mapping.state.isin(['KY','TN','MS','AL']),'region'] = 'ESC'\n",
    "state_region_mapping.loc[state_region_mapping.state.isin(['WV','MD','DE','VA','NC','SC','GA','FL','DC']),'region'] = 'SAC'\n",
    "state_region_mapping.loc[state_region_mapping.state.isin(['NY','PA','NJ']),'region'] = 'MAC'\n",
    "state_region_mapping.loc[state_region_mapping.state.isin(['RI','CT','MA','NH','VT','ME']),'region'] = 'NEC'\n",
    "state_region_mapping.loc[state_region_mapping.state.isin(['USA']),'region'] = 'PUS'"
   ]
  },
  {
   "cell_type": "code",
   "execution_count": null,
   "metadata": {},
   "outputs": [],
   "source": [
    "energy_data = energy_data.merge(state_region_mapping,how='left',on='state')"
   ]
  },
  {
   "cell_type": "code",
   "execution_count": null,
   "metadata": {},
   "outputs": [],
   "source": [
    "energy_data= energy_data.merge(heating_cooling_days,how='left',on=['month','region'])"
   ]
  },
  {
   "cell_type": "code",
   "execution_count": null,
   "metadata": {},
   "outputs": [],
   "source": [
    "energy_data = energy_data.dropna()"
   ]
  },
  {
   "cell_type": "code",
   "execution_count": null,
   "metadata": {},
   "outputs": [],
   "source": [
    "energy_data = pd.concat([energy_data,pd.get_dummies(energy_data.sector)],axis=1)"
   ]
  },
  {
   "cell_type": "code",
   "execution_count": null,
   "metadata": {},
   "outputs": [],
   "source": [
    "energy_data['time'] = [12*(int(d[0:4])-2008)+int(d[4:6]) for d in energy_data.month]"
   ]
  },
  {
   "cell_type": "code",
   "execution_count": null,
   "metadata": {},
   "outputs": [],
   "source": [
    "energy_data['year'] = [int(d[0:4]) for d in energy_data.month]\n",
    "energy_data['mon'] = [int(d[4:6]) for d in energy_data.month]"
   ]
  },
  {
   "cell_type": "code",
   "execution_count": null,
   "metadata": {},
   "outputs": [],
   "source": [
    "def get_season(m):\n",
    "    if (m == 12)|(m<=2):\n",
    "        return 'winter'\n",
    "    if (m>=3)&(m<=5):\n",
    "        return 'spring'\n",
    "    if(m>=6)&(m<=8):\n",
    "        return 'summer'\n",
    "    if(m>=9)&(m<=11):\n",
    "        return 'fall'"
   ]
  },
  {
   "cell_type": "code",
   "execution_count": null,
   "metadata": {},
   "outputs": [],
   "source": [
    "energy_data['season'] = energy_data.mon.apply(get_season)"
   ]
  },
  {
   "cell_type": "code",
   "execution_count": null,
   "metadata": {},
   "outputs": [],
   "source": [
    "energy_data.head()"
   ]
  },
  {
   "cell_type": "code",
   "execution_count": null,
   "metadata": {},
   "outputs": [],
   "source": [
    "energy_data['date'] = [datetime(y,m,1) for y,m in zip(energy_data.year, energy_data.mon)]"
   ]
  },
  {
   "cell_type": "code",
   "execution_count": null,
   "metadata": {},
   "outputs": [],
   "source": [
    "def get_datetime_features(date):\n",
    "    st = date\n",
    "    en = date + relativedelta(months=1) - relativedelta(days=1)\n",
    "    \n",
    "    ## number of days in month\n",
    "    num_days = len(pd.date_range(st,en))\n",
    "    ## number of weekends in month\n",
    "    num_weekends = pd.date_range(st,en).weekday.isin([5,6]).sum()\n",
    "    ## number of holidays in month\n",
    "    us_holidays = holidays.US(years=date.year)\n",
    "    us_holidays = pd.DataFrame(us_holidays.items(),columns=['date','hol'])\n",
    "    us_holidays['date'] = pd.to_datetime(us_holidays.date)\n",
    "    num_holidays = len(us_holidays[(us_holidays.date.dt.month == date.month) & ~(us_holidays.date.dt.weekday.isin([5,6]))])\n",
    "    \n",
    "    num_weekends_or_holidays = num_holidays+num_weekends\n",
    "    ## % of weekdays in month\n",
    "    pct_weekdays = 1 - (num_holidays+num_weekends)/num_days\n",
    "    \n",
    "    return num_days, num_weekends_or_holidays, pct_weekdays"
   ]
  },
  {
   "cell_type": "code",
   "execution_count": null,
   "metadata": {},
   "outputs": [],
   "source": [
    "energy_data['num_days'], energy_data['num_hols'], energy_data['pct_weekdays'] = zip(*energy_data.date.apply(get_datetime_features)) "
   ]
  },
  {
   "cell_type": "code",
   "execution_count": null,
   "metadata": {},
   "outputs": [],
   "source": [
    "energy_data['y'] = energy_data.use_per_capita/energy_data.num_days"
   ]
  },
  {
   "cell_type": "code",
   "execution_count": null,
   "metadata": {},
   "outputs": [],
   "source": [
    "energy_data.head()"
   ]
  },
  {
   "cell_type": "code",
   "execution_count": null,
   "metadata": {},
   "outputs": [],
   "source": [
    "energy_data.tail()"
   ]
  },
  {
   "cell_type": "code",
   "execution_count": null,
   "metadata": {},
   "outputs": [],
   "source": [
    "energy_data.date.max()"
   ]
  },
  {
   "cell_type": "code",
   "execution_count": null,
   "metadata": {},
   "outputs": [],
   "source": [
    "data_urls = ['https://www1.ncdc.noaa.gov/pub/data/swdi/stormevents/csvfiles/StormEvents_details-ftp_v1.0_d2008_c20180718.csv.gz',\n",
    "            'https://www1.ncdc.noaa.gov/pub/data/swdi/stormevents/csvfiles/StormEvents_details-ftp_v1.0_d2009_c20180718.csv.gz',\n",
    "            'https://www1.ncdc.noaa.gov/pub/data/swdi/stormevents/csvfiles/StormEvents_details-ftp_v1.0_d2010_c20200922.csv.gz',\n",
    "            'https://www1.ncdc.noaa.gov/pub/data/swdi/stormevents/csvfiles/StormEvents_details-ftp_v1.0_d2011_c20180718.csv.gz',\n",
    "            'https://www1.ncdc.noaa.gov/pub/data/swdi/stormevents/csvfiles/StormEvents_details-ftp_v1.0_d2012_c20200317.csv.gz',\n",
    "            'https://www1.ncdc.noaa.gov/pub/data/swdi/stormevents/csvfiles/StormEvents_details-ftp_v1.0_d2013_c20170519.csv.gz',\n",
    "            'https://www1.ncdc.noaa.gov/pub/data/swdi/stormevents/csvfiles/StormEvents_details-ftp_v1.0_d2014_c20210120.csv.gz',\n",
    "            'https://www1.ncdc.noaa.gov/pub/data/swdi/stormevents/csvfiles/StormEvents_details-ftp_v1.0_d2015_c20191116.csv.gz',\n",
    "            'https://www1.ncdc.noaa.gov/pub/data/swdi/stormevents/csvfiles/StormEvents_details-ftp_v1.0_d2016_c20190817.csv.gz',\n",
    "            'https://www1.ncdc.noaa.gov/pub/data/swdi/stormevents/csvfiles/StormEvents_details-ftp_v1.0_d2017_c20210120.csv.gz',\n",
    "            'https://www1.ncdc.noaa.gov/pub/data/swdi/stormevents/csvfiles/StormEvents_details-ftp_v1.0_d2018_c20201216.csv.gz',\n",
    "            'https://www1.ncdc.noaa.gov/pub/data/swdi/stormevents/csvfiles/StormEvents_details-ftp_v1.0_d2019_c20210223.csv.gz',\n",
    "            'https://www1.ncdc.noaa.gov/pub/data/swdi/stormevents/csvfiles/StormEvents_details-ftp_v1.0_d2020_c20210223.csv.gz']"
   ]
  },
  {
   "cell_type": "code",
   "execution_count": null,
   "metadata": {},
   "outputs": [],
   "source": [
    "idx=0\n",
    "for d in data_urls:\n",
    "    tmp = pd.read_csv(d)\n",
    "    if idx == 0:\n",
    "        storm_data = tmp.copy()\n",
    "    else:\n",
    "        storm_data = storm_data.append(tmp)\n",
    "    idx = idx +1"
   ]
  },
  {
   "cell_type": "code",
   "execution_count": null,
   "metadata": {},
   "outputs": [],
   "source": [
    "storm_data.EVENT_TYPE.value_counts()"
   ]
  },
  {
   "cell_type": "code",
   "execution_count": null,
   "metadata": {},
   "outputs": [],
   "source": [
    "storm_data[storm_data.DAMAGE_PROPERTY == '629.00M']"
   ]
  },
  {
   "cell_type": "code",
   "execution_count": null,
   "metadata": {},
   "outputs": [],
   "source": [
    "# storm_data_clean = storm_data[storm_data.MAGNITUDE>60].copy()\n",
    "storm_data_clean = storm_data[['BEGIN_YEARMONTH', 'BEGIN_DAY', 'END_YEARMONTH',\n",
    "       'END_DAY', 'EPISODE_ID', 'EVENT_ID', 'STATE', 'STATE_FIPS',\n",
    "       'EVENT_TYPE','MAGNITUDE', 'CATEGORY', 'TOR_F_SCALE',\n",
    "       'EPISODE_NARRATIVE']].copy()"
   ]
  },
  {
   "cell_type": "code",
   "execution_count": null,
   "metadata": {},
   "outputs": [],
   "source": [
    "storm_data_clean = storm_data_clean.drop_duplicates(subset=['EVENT_TYPE','EPISODE_ID','STATE'])"
   ]
  },
  {
   "cell_type": "code",
   "execution_count": null,
   "metadata": {},
   "outputs": [],
   "source": [
    "storm_data_clean.tail()"
   ]
  },
  {
   "cell_type": "code",
   "execution_count": null,
   "metadata": {},
   "outputs": [],
   "source": [
    "us_state_abbrev = {\n",
    "    'Alabama': 'AL',\n",
    "    'Alaska': 'AK',\n",
    "    'American Samoa': 'AS',\n",
    "    'Arizona': 'AZ',\n",
    "    'Arkansas': 'AR',\n",
    "    'California': 'CA',\n",
    "    'Colorado': 'CO',\n",
    "    'Connecticut': 'CT',\n",
    "    'Delaware': 'DE',\n",
    "    'District of Columbia': 'DC',\n",
    "    'Florida': 'FL',\n",
    "    'Georgia': 'GA',\n",
    "    'Guam': 'GU',\n",
    "    'Hawaii': 'HI',\n",
    "    'Idaho': 'ID',\n",
    "    'Illinois': 'IL',\n",
    "    'Indiana': 'IN',\n",
    "    'Iowa': 'IA',\n",
    "    'Kansas': 'KS',\n",
    "    'Kentucky': 'KY',\n",
    "    'Louisiana': 'LA',\n",
    "    'Maine': 'ME',\n",
    "    'Maryland': 'MD',\n",
    "    'Massachusetts': 'MA',\n",
    "    'Michigan': 'MI',\n",
    "    'Minnesota': 'MN',\n",
    "    'Mississippi': 'MS',\n",
    "    'Missouri': 'MO',\n",
    "    'Montana': 'MT',\n",
    "    'Nebraska': 'NE',\n",
    "    'Nevada': 'NV',\n",
    "    'New Hampshire': 'NH',\n",
    "    'New Jersey': 'NJ',\n",
    "    'New Mexico': 'NM',\n",
    "    'New York': 'NY',\n",
    "    'North Carolina': 'NC',\n",
    "    'North Dakota': 'ND',\n",
    "    'Northern Mariana Islands':'MP',\n",
    "    'Ohio': 'OH',\n",
    "    'Oklahoma': 'OK',\n",
    "    'Oregon': 'OR',\n",
    "    'Pennsylvania': 'PA',\n",
    "    'Puerto Rico': 'PR',\n",
    "    'Rhode Island': 'RI',\n",
    "    'South Carolina': 'SC',\n",
    "    'South Dakota': 'SD',\n",
    "    'Tennessee': 'TN',\n",
    "    'Texas': 'TX',\n",
    "    'Utah': 'UT',\n",
    "    'Vermont': 'VT',\n",
    "    'Virgin Islands': 'VI',\n",
    "    'Virginia': 'VA',\n",
    "    'Washington': 'WA',\n",
    "    'West Virginia': 'WV',\n",
    "    'Wisconsin': 'WI',\n",
    "    'Wyoming': 'WY',\n",
    "    'USA':'USA'\n",
    "}"
   ]
  },
  {
   "cell_type": "code",
   "execution_count": null,
   "metadata": {},
   "outputs": [],
   "source": [
    "us_state_abbrev_caps = {k.upper():v.upper() for k,v in us_state_abbrev.items()}"
   ]
  },
  {
   "cell_type": "code",
   "execution_count": null,
   "metadata": {},
   "outputs": [],
   "source": [
    "storm_data_clean['state'] = storm_data_clean.STATE.map(us_state_abbrev_caps)"
   ]
  },
  {
   "cell_type": "code",
   "execution_count": null,
   "metadata": {},
   "outputs": [],
   "source": [
    "storm_data_clean = storm_data_clean[~storm_data_clean.state.isna()]\n",
    "storm_data_clean = storm_data_clean.drop(columns='STATE')"
   ]
  },
  {
   "cell_type": "code",
   "execution_count": null,
   "metadata": {},
   "outputs": [],
   "source": [
    "storm_data_clean['begin_date'] = [str(y) + str(d).zfill(2) for y,d in zip(storm_data_clean.BEGIN_YEARMONTH,storm_data_clean.BEGIN_DAY)]\n",
    "storm_data_clean['end_date'] = [str(y) + str(d).zfill(2) for y,d in zip(storm_data_clean.END_YEARMONTH,storm_data_clean.END_DAY)]"
   ]
  },
  {
   "cell_type": "code",
   "execution_count": null,
   "metadata": {},
   "outputs": [],
   "source": [
    "storm_data_clean.begin_date = pd.to_datetime(storm_data_clean.begin_date)\n",
    "storm_data_clean.end_date = pd.to_datetime(storm_data_clean.end_date)"
   ]
  },
  {
   "cell_type": "code",
   "execution_count": null,
   "metadata": {},
   "outputs": [],
   "source": [
    "storm_data_clean = storm_data_clean.drop_duplicates(subset='EPISODE_NARRATIVE').sort_values(['state','begin_date'])"
   ]
  },
  {
   "cell_type": "code",
   "execution_count": null,
   "metadata": {},
   "outputs": [],
   "source": [
    "storm_data_clean['num_days'] = (storm_data_clean.end_date - storm_data_clean.begin_date)"
   ]
  },
  {
   "cell_type": "code",
   "execution_count": null,
   "metadata": {},
   "outputs": [],
   "source": [
    "storm_data_clean.num_days = storm_data_clean.num_days.dt.days +1"
   ]
  },
  {
   "cell_type": "code",
   "execution_count": null,
   "metadata": {},
   "outputs": [],
   "source": [
    "storm_data_clean = storm_data_clean.drop(columns=['BEGIN_DAY','END_YEARMONTH','END_DAY'])"
   ]
  },
  {
   "cell_type": "code",
   "execution_count": null,
   "metadata": {},
   "outputs": [],
   "source": [
    "# events_to_keep = ['Thunderstorm Wind', 'Hail', 'Flash Flood', 'Flood', 'High Wind',\n",
    "#        'Winter Weather', 'Tornado', 'Winter Storm', 'Heavy Snow', 'Heavy Rain',\n",
    "#        'Lightning', 'Strong Wind', 'Blizzard', 'Heat', 'Frost/Freeze',\n",
    "#        'Extreme Cold/Wind Chill', 'Excessive Heat', 'Cold/Wind Chill',\n",
    "#        'Lake-Effect Snow',\n",
    "#        'Ice Storm','Tropical Storm', 'Freezing Fog', \n",
    "#        'Hurricane (Typhoon)', \n",
    "#        'Hurricane']\n",
    "events_to_keep = [\n",
    "       'Winter Weather', 'Winter Storm', 'Heavy Snow', 'Blizzard', 'Heat', 'Frost/Freeze',\n",
    "       'Extreme Cold/Wind Chill', 'Excessive Heat', 'Cold/Wind Chill','Lake-Effect Snow','Ice Storm',\n",
    "        'Thunderstorm Wind', 'High Wind','Tornado','Heavy Rain','Strong Wind','Tropical Storm', 'Hurricane (Typhoon)', 'Hurricane']\n",
    "hot_cold_map = {'Winter Weather':'cold', 'Winter Storm':'cold', 'Heavy Snow':'cold', 'Blizzard':'cold', 'Heat':'hot', 'Frost/Freeze':'cold',\n",
    "       'Extreme Cold/Wind Chill':'cold', 'Excessive Heat':'hot', 'Cold/Wind Chill':'cold','Lake-Effect Snow':'cold','Ice Storm':'cold',\n",
    "               'Thunderstorm Wind':'wind', 'High Wind':'wind','Tornado':'wind','Heavy Rain':'wind','Strong Wind':'wind','Tropical Storm':'wind',\n",
    "                'Hurricane (Typhoon)':'wind', 'Hurricane':'wind'}"
   ]
  },
  {
   "cell_type": "code",
   "execution_count": null,
   "metadata": {},
   "outputs": [],
   "source": [
    "storm_data_clean = storm_data_clean[storm_data_clean.EVENT_TYPE.isin(events_to_keep)]\n",
    "storm_data_clean['hot_cold'] = storm_data_clean.EVENT_TYPE.map(hot_cold_map)"
   ]
  },
  {
   "cell_type": "code",
   "execution_count": null,
   "metadata": {},
   "outputs": [],
   "source": [
    "storm_data_clean = storm_data_clean.groupby(['state','BEGIN_YEARMONTH','hot_cold']).sum().reset_index()"
   ]
  },
  {
   "cell_type": "code",
   "execution_count": null,
   "metadata": {},
   "outputs": [],
   "source": [
    "storm_data_clean = storm_data_clean.rename(columns={'BEGIN_YEARMONTH':'month'})\n",
    "storm_data_clean.month = storm_data_clean.month.astype(str)"
   ]
  },
  {
   "cell_type": "code",
   "execution_count": null,
   "metadata": {},
   "outputs": [],
   "source": [
    "storm_data_clean = storm_data_clean.pivot(index=['state','month'], columns='hot_cold', values='num_days').reset_index().fillna(0)"
   ]
  },
  {
   "cell_type": "code",
   "execution_count": null,
   "metadata": {},
   "outputs": [],
   "source": [
    "storm_data_clean['mon'] = [x[4:6] for x in storm_data_clean.month]"
   ]
  },
  {
   "cell_type": "code",
   "execution_count": null,
   "metadata": {},
   "outputs": [],
   "source": [
    "storm_data_clean"
   ]
  },
  {
   "cell_type": "code",
   "execution_count": null,
   "metadata": {},
   "outputs": [],
   "source": [
    "a = '2021'\n",
    "b= '02'"
   ]
  },
  {
   "cell_type": "code",
   "execution_count": null,
   "metadata": {},
   "outputs": [],
   "source": [
    "a+b"
   ]
  },
  {
   "cell_type": "code",
   "execution_count": null,
   "metadata": {},
   "outputs": [],
   "source": [
    "avg_jan_feb = storm_data_clean.groupby(['state','mon']).mean().reset_index()\n",
    "avg_jan_feb = avg_jan_feb[avg_jan_feb.mon.isin(['01','02'])]\n",
    "avg_jan_feb['month'] = '2021'\n",
    "avg_jan_feb['month'] = [x+y for x,y in zip(avg_jan_feb.month, avg_jan_feb.mon)]"
   ]
  },
  {
   "cell_type": "code",
   "execution_count": null,
   "metadata": {},
   "outputs": [],
   "source": [
    "avg_jan_feb"
   ]
  },
  {
   "cell_type": "code",
   "execution_count": null,
   "metadata": {},
   "outputs": [],
   "source": [
    "storm_data_clean = pd.concat([storm_data_clean, avg_jan_feb])"
   ]
  },
  {
   "cell_type": "code",
   "execution_count": null,
   "metadata": {},
   "outputs": [],
   "source": [
    "energy_data = energy_data.merge(storm_data_clean[['state','month','hot','cold','wind']],how='left',on=['state','month'])\n",
    "# energy_data.storm_days = energy_data.storm_days.fillna(0)"
   ]
  },
  {
   "cell_type": "code",
   "execution_count": null,
   "metadata": {},
   "outputs": [],
   "source": [
    "energy_data.hot = energy_data.hot.fillna(0)\n",
    "energy_data.cold = energy_data.cold.fillna(0)\n",
    "energy_data.wind = energy_data.wind.fillna(0)"
   ]
  },
  {
   "cell_type": "code",
   "execution_count": null,
   "metadata": {},
   "outputs": [],
   "source": [
    "energy_data.head()"
   ]
  },
  {
   "cell_type": "code",
   "execution_count": null,
   "metadata": {},
   "outputs": [],
   "source": [
    "energy_data.to_csv('energy_data.csv',index=False)"
   ]
  },
  {
   "cell_type": "code",
   "execution_count": null,
   "metadata": {},
   "outputs": [],
   "source": []
  },
  {
   "cell_type": "code",
   "execution_count": null,
   "metadata": {},
   "outputs": [],
   "source": []
  }
 ],
 "metadata": {
  "alphastudio": {
   "as_jupyter_image_name": "gcr.io/ts-quantsource/as-jupyter-v6",
   "as_jupyter_image_tag": "202102182204-0a00b650bbc9"
  },
  "kernelspec": {
   "display_name": "Python 3",
   "language": "python",
   "name": "python3"
  },
  "language_info": {
   "codemirror_mode": {
    "name": "ipython",
    "version": 3
   },
   "file_extension": ".py",
   "mimetype": "text/x-python",
   "name": "python",
   "nbconvert_exporter": "python",
   "pygments_lexer": "ipython3",
   "version": "3.6.9"
  }
 },
 "nbformat": 4,
 "nbformat_minor": 4
}
