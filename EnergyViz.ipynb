{
 "cells": [
  {
   "cell_type": "code",
   "execution_count": 37,
   "metadata": {},
   "outputs": [],
   "source": [
    "import pandas as pd\n",
    "import numpy as np\n",
    "import seaborn as sns\n",
    "import matplotlib.pyplot as plt\n",
    "import plotly.graph_objects as go\n",
    "import plotly.express as px\n",
    "import chart_studio.plotly as py\n",
    "from plotly.graph_objects import Layout"
   ]
  },
  {
   "cell_type": "code",
   "execution_count": 2,
   "metadata": {},
   "outputs": [],
   "source": [
    "import chart_studio\n",
    "chart_studio.tools.set_credentials_file(username='kmohan_ts', api_key='DQQyWqXWsC1Cma8ld4Ud')"
   ]
  },
  {
   "cell_type": "code",
   "execution_count": 4,
   "metadata": {},
   "outputs": [],
   "source": [
    "energy_data = pd.read_csv('~/Documents/Projects/covid-energy-burden/energy_data_with_predictions_new.csv')"
   ]
  },
  {
   "cell_type": "code",
   "execution_count": 5,
   "metadata": {},
   "outputs": [
    {
     "data": {
      "text/plain": [
       "Index(['Unnamed: 0', 'date', 'month', 'sales_mkwh', 'state', 'sector',\n",
       "       'consumers', 'price', 'revenue', 'use_per_capita', 'region',\n",
       "       'cooling_days', 'heating_days', 'COM', 'RES', 'time', 'year', 'mon',\n",
       "       'season', 'num_days', 'num_hols', 'pct_weekdays', 'hot', 'cold', 'wind',\n",
       "       'y', 'yhat', 'yhat_upper', 'yhat_lower', 'predicted_use',\n",
       "       'yhat_extreme', 'pct_error', 'pct_error_x', 'pct_error_abs', 'MSE',\n",
       "       'RMSE'],\n",
       "      dtype='object')"
      ]
     },
     "execution_count": 5,
     "metadata": {},
     "output_type": "execute_result"
    }
   ],
   "source": [
    "energy_data.columns"
   ]
  },
  {
   "cell_type": "code",
   "execution_count": 6,
   "metadata": {},
   "outputs": [
    {
     "data": {
      "text/html": [
       "<div>\n",
       "<style scoped>\n",
       "    .dataframe tbody tr th:only-of-type {\n",
       "        vertical-align: middle;\n",
       "    }\n",
       "\n",
       "    .dataframe tbody tr th {\n",
       "        vertical-align: top;\n",
       "    }\n",
       "\n",
       "    .dataframe thead th {\n",
       "        text-align: right;\n",
       "    }\n",
       "</style>\n",
       "<table border=\"1\" class=\"dataframe\">\n",
       "  <thead>\n",
       "    <tr style=\"text-align: right;\">\n",
       "      <th></th>\n",
       "      <th>Unnamed: 0</th>\n",
       "      <th>date</th>\n",
       "      <th>month</th>\n",
       "      <th>sales_mkwh</th>\n",
       "      <th>state</th>\n",
       "      <th>sector</th>\n",
       "      <th>consumers</th>\n",
       "      <th>price</th>\n",
       "      <th>revenue</th>\n",
       "      <th>use_per_capita</th>\n",
       "      <th>...</th>\n",
       "      <th>yhat</th>\n",
       "      <th>yhat_upper</th>\n",
       "      <th>yhat_lower</th>\n",
       "      <th>predicted_use</th>\n",
       "      <th>yhat_extreme</th>\n",
       "      <th>pct_error</th>\n",
       "      <th>pct_error_x</th>\n",
       "      <th>pct_error_abs</th>\n",
       "      <th>MSE</th>\n",
       "      <th>RMSE</th>\n",
       "    </tr>\n",
       "  </thead>\n",
       "  <tbody>\n",
       "    <tr>\n",
       "      <th>0</th>\n",
       "      <td>1</td>\n",
       "      <td>2020-12-01</td>\n",
       "      <td>202012</td>\n",
       "      <td>2992.76542</td>\n",
       "      <td>AL</td>\n",
       "      <td>RES</td>\n",
       "      <td>2326166.0</td>\n",
       "      <td>11.39</td>\n",
       "      <td>34087.598134</td>\n",
       "      <td>1286.565714</td>\n",
       "      <td>...</td>\n",
       "      <td>41.524989</td>\n",
       "      <td>45.128825</td>\n",
       "      <td>37.689929</td>\n",
       "      <td>2.994415e+09</td>\n",
       "      <td>37.689929</td>\n",
       "      <td>-0.055104</td>\n",
       "      <td>9.185533</td>\n",
       "      <td>0.055104</td>\n",
       "      <td>0.000523</td>\n",
       "      <td>0.022869</td>\n",
       "    </tr>\n",
       "    <tr>\n",
       "      <th>1</th>\n",
       "      <td>2</td>\n",
       "      <td>2020-11-01</td>\n",
       "      <td>202011</td>\n",
       "      <td>2056.87325</td>\n",
       "      <td>AL</td>\n",
       "      <td>RES</td>\n",
       "      <td>2324212.0</td>\n",
       "      <td>12.99</td>\n",
       "      <td>26718.783518</td>\n",
       "      <td>884.976607</td>\n",
       "      <td>...</td>\n",
       "      <td>28.513945</td>\n",
       "      <td>31.935801</td>\n",
       "      <td>24.925139</td>\n",
       "      <td>1.988174e+09</td>\n",
       "      <td>31.935801</td>\n",
       "      <td>3.340004</td>\n",
       "      <td>-8.259815</td>\n",
       "      <td>3.340004</td>\n",
       "      <td>0.970767</td>\n",
       "      <td>0.985275</td>\n",
       "    </tr>\n",
       "    <tr>\n",
       "      <th>2</th>\n",
       "      <td>3</td>\n",
       "      <td>2020-10-01</td>\n",
       "      <td>202010</td>\n",
       "      <td>2150.98005</td>\n",
       "      <td>AL</td>\n",
       "      <td>RES</td>\n",
       "      <td>2326554.0</td>\n",
       "      <td>13.17</td>\n",
       "      <td>28328.407259</td>\n",
       "      <td>924.534763</td>\n",
       "      <td>...</td>\n",
       "      <td>31.124199</td>\n",
       "      <td>34.754811</td>\n",
       "      <td>27.205621</td>\n",
       "      <td>2.244776e+09</td>\n",
       "      <td>27.205621</td>\n",
       "      <td>-4.360615</td>\n",
       "      <td>8.778524</td>\n",
       "      <td>4.360615</td>\n",
       "      <td>1.691292</td>\n",
       "      <td>1.300497</td>\n",
       "    </tr>\n",
       "    <tr>\n",
       "      <th>3</th>\n",
       "      <td>4</td>\n",
       "      <td>2020-09-01</td>\n",
       "      <td>202009</td>\n",
       "      <td>2876.36566</td>\n",
       "      <td>AL</td>\n",
       "      <td>RES</td>\n",
       "      <td>2325509.0</td>\n",
       "      <td>13.18</td>\n",
       "      <td>37910.499399</td>\n",
       "      <td>1236.875738</td>\n",
       "      <td>...</td>\n",
       "      <td>42.644634</td>\n",
       "      <td>46.582426</td>\n",
       "      <td>38.520784</td>\n",
       "      <td>2.975114e+09</td>\n",
       "      <td>38.520784</td>\n",
       "      <td>-3.433109</td>\n",
       "      <td>6.569151</td>\n",
       "      <td>3.433109</td>\n",
       "      <td>2.003479</td>\n",
       "      <td>1.415443</td>\n",
       "    </tr>\n",
       "    <tr>\n",
       "      <th>4</th>\n",
       "      <td>5</td>\n",
       "      <td>2020-08-01</td>\n",
       "      <td>202008</td>\n",
       "      <td>3568.63790</td>\n",
       "      <td>AL</td>\n",
       "      <td>RES</td>\n",
       "      <td>2322835.0</td>\n",
       "      <td>12.75</td>\n",
       "      <td>45500.133225</td>\n",
       "      <td>1536.328624</td>\n",
       "      <td>...</td>\n",
       "      <td>49.643776</td>\n",
       "      <td>53.362903</td>\n",
       "      <td>45.970742</td>\n",
       "      <td>3.574743e+09</td>\n",
       "      <td>45.970742</td>\n",
       "      <td>-0.171085</td>\n",
       "      <td>7.240353</td>\n",
       "      <td>0.171085</td>\n",
       "      <td>0.007189</td>\n",
       "      <td>0.084788</td>\n",
       "    </tr>\n",
       "  </tbody>\n",
       "</table>\n",
       "<p>5 rows × 36 columns</p>\n",
       "</div>"
      ],
      "text/plain": [
       "   Unnamed: 0        date   month  sales_mkwh state sector  consumers  price  \\\n",
       "0           1  2020-12-01  202012  2992.76542    AL    RES  2326166.0  11.39   \n",
       "1           2  2020-11-01  202011  2056.87325    AL    RES  2324212.0  12.99   \n",
       "2           3  2020-10-01  202010  2150.98005    AL    RES  2326554.0  13.17   \n",
       "3           4  2020-09-01  202009  2876.36566    AL    RES  2325509.0  13.18   \n",
       "4           5  2020-08-01  202008  3568.63790    AL    RES  2322835.0  12.75   \n",
       "\n",
       "        revenue  use_per_capita  ...       yhat  yhat_upper  yhat_lower  \\\n",
       "0  34087.598134     1286.565714  ...  41.524989   45.128825   37.689929   \n",
       "1  26718.783518      884.976607  ...  28.513945   31.935801   24.925139   \n",
       "2  28328.407259      924.534763  ...  31.124199   34.754811   27.205621   \n",
       "3  37910.499399     1236.875738  ...  42.644634   46.582426   38.520784   \n",
       "4  45500.133225     1536.328624  ...  49.643776   53.362903   45.970742   \n",
       "\n",
       "   predicted_use  yhat_extreme  pct_error  pct_error_x  pct_error_abs  \\\n",
       "0   2.994415e+09     37.689929  -0.055104     9.185533       0.055104   \n",
       "1   1.988174e+09     31.935801   3.340004    -8.259815       3.340004   \n",
       "2   2.244776e+09     27.205621  -4.360615     8.778524       4.360615   \n",
       "3   2.975114e+09     38.520784  -3.433109     6.569151       3.433109   \n",
       "4   3.574743e+09     45.970742  -0.171085     7.240353       0.171085   \n",
       "\n",
       "        MSE      RMSE  \n",
       "0  0.000523  0.022869  \n",
       "1  0.970767  0.985275  \n",
       "2  1.691292  1.300497  \n",
       "3  2.003479  1.415443  \n",
       "4  0.007189  0.084788  \n",
       "\n",
       "[5 rows x 36 columns]"
      ]
     },
     "execution_count": 6,
     "metadata": {},
     "output_type": "execute_result"
    }
   ],
   "source": [
    "energy_data.head()"
   ]
  },
  {
   "cell_type": "code",
   "execution_count": 53,
   "metadata": {},
   "outputs": [],
   "source": [
    "def mean_errors(df, col='pct_error'):\n",
    "    pre_covid = df[(df.date<'2020-03-01')&(df.date >= '2019-01-01')][col].mean()\n",
    "    post_covid = df[df.date>='2020-03-01'][col].mean()\n",
    "    diff = post_covid - pre_covid\n",
    "    return diff\n",
    "#     return {'pre_covid':pre_covid, 'post_covid':post_covid}\n",
    "\n",
    "def max_errors(df, col='pct_error'):\n",
    "    pre_covid = df[(df.date<'2020-03-01')&(df.date >= '2019-01-01')][col].mean()\n",
    "    post_covid = df[df.date>='2020-03-01'][col].max()\n",
    "    diff = post_covid - pre_covid\n",
    "    return diff\n",
    "\n",
    "def get_pre_covid_errors(df, col='pct_error'):\n",
    "    pre_covid = df[(df.date<'2020-03-01')&(df.date >= '2019-01-01')][col].mean()\n",
    "    return pre_covid\n",
    "\n",
    "def get_post_covid_errors(df, col='pct_error'):\n",
    "    post_covid = df[df.date>='2020-03-01'][col].mean()\n",
    "    return post_covid"
   ]
  },
  {
   "cell_type": "code",
   "execution_count": 11,
   "metadata": {},
   "outputs": [],
   "source": [
    "pre_covid_error = energy_data.groupby(['state','sector']).apply(get_pre_covid_errors).reset_index().rename(columns={0:'pre_covid_error'})\n",
    "post_covid_error = energy_data.groupby(['state','sector']).apply(get_post_covid_errors).reset_index().rename(columns={0:'post_covid_error'})"
   ]
  },
  {
   "cell_type": "code",
   "execution_count": 12,
   "metadata": {},
   "outputs": [],
   "source": [
    "pre_post_error = pre_covid_error.merge(post_covid_error,on=['state','sector'])"
   ]
  },
  {
   "cell_type": "code",
   "execution_count": 13,
   "metadata": {},
   "outputs": [],
   "source": [
    "energy_data = energy_data.merge(pre_post_error,on=['state','sector'])"
   ]
  },
  {
   "cell_type": "code",
   "execution_count": 14,
   "metadata": {},
   "outputs": [],
   "source": [
    "energy_data['pre_post_diff'] = energy_data['post_covid_error'] - energy_data['pre_covid_error']"
   ]
  },
  {
   "cell_type": "code",
   "execution_count": 15,
   "metadata": {},
   "outputs": [],
   "source": [
    "energy_data['anno_text'] = ['<b>+'+str(np.round(x,2))+'%</b>' if x>0 else '<b>'+str(np.round(x,2))+'%</b>' for x in energy_data['pre_post_diff']]\n",
    "energy_data['anno_color'] = ['green' if x>0 else 'red' for x in energy_data['pre_post_diff']]"
   ]
  },
  {
   "cell_type": "code",
   "execution_count": 16,
   "metadata": {},
   "outputs": [
    {
     "data": {
      "text/plain": [
       "'green'"
      ]
     },
     "execution_count": 16,
     "metadata": {},
     "output_type": "execute_result"
    }
   ],
   "source": [
    "list(energy_data[(energy_data.state=='AZ')&(energy_data.sector==\"RES\")].anno_color)[0]"
   ]
  },
  {
   "cell_type": "code",
   "execution_count": 17,
   "metadata": {},
   "outputs": [],
   "source": [
    "states = energy_data[~(energy_data.state =='USA')].state.unique()"
   ]
  },
  {
   "cell_type": "code",
   "execution_count": 18,
   "metadata": {},
   "outputs": [],
   "source": [
    "states = ['USA']"
   ]
  },
  {
   "cell_type": "code",
   "execution_count": 19,
   "metadata": {},
   "outputs": [],
   "source": [
    "states.extend(energy_data[~(energy_data.state =='USA')].state.unique())"
   ]
  },
  {
   "cell_type": "code",
   "execution_count": 21,
   "metadata": {},
   "outputs": [],
   "source": [
    "us_state_abbrev = {\n",
    "    'Alabama': 'AL',\n",
    "    'Alaska': 'AK',\n",
    "    'American Samoa': 'AS',\n",
    "    'Arizona': 'AZ',\n",
    "    'Arkansas': 'AR',\n",
    "    'California': 'CA',\n",
    "    'Colorado': 'CO',\n",
    "    'Connecticut': 'CT',\n",
    "    'Delaware': 'DE',\n",
    "    'District of Columbia': 'DC',\n",
    "    'Florida': 'FL',\n",
    "    'Georgia': 'GA',\n",
    "    'Guam': 'GU',\n",
    "    'Hawaii': 'HI',\n",
    "    'Idaho': 'ID',\n",
    "    'Illinois': 'IL',\n",
    "    'Indiana': 'IN',\n",
    "    'Iowa': 'IA',\n",
    "    'Kansas': 'KS',\n",
    "    'Kentucky': 'KY',\n",
    "    'Louisiana': 'LA',\n",
    "    'Maine': 'ME',\n",
    "    'Maryland': 'MD',\n",
    "    'Massachusetts': 'MA',\n",
    "    'Michigan': 'MI',\n",
    "    'Minnesota': 'MN',\n",
    "    'Mississippi': 'MS',\n",
    "    'Missouri': 'MO',\n",
    "    'Montana': 'MT',\n",
    "    'Nebraska': 'NE',\n",
    "    'Nevada': 'NV',\n",
    "    'New Hampshire': 'NH',\n",
    "    'New Jersey': 'NJ',\n",
    "    'New Mexico': 'NM',\n",
    "    'New York': 'NY',\n",
    "    'North Carolina': 'NC',\n",
    "    'North Dakota': 'ND',\n",
    "    'Northern Mariana Islands':'MP',\n",
    "    'Ohio': 'OH',\n",
    "    'Oklahoma': 'OK',\n",
    "    'Oregon': 'OR',\n",
    "    'Pennsylvania': 'PA',\n",
    "    'Puerto Rico': 'PR',\n",
    "    'Rhode Island': 'RI',\n",
    "    'South Carolina': 'SC',\n",
    "    'South Dakota': 'SD',\n",
    "    'Tennessee': 'TN',\n",
    "    'Texas': 'TX',\n",
    "    'Utah': 'UT',\n",
    "    'Vermont': 'VT',\n",
    "    'Virgin Islands': 'VI',\n",
    "    'Virginia': 'VA',\n",
    "    'Washington': 'WA',\n",
    "    'West Virginia': 'WV',\n",
    "    'Wisconsin': 'WI',\n",
    "    'Wyoming': 'WY',\n",
    "    'USA':'USA'\n",
    "}\n",
    "\n",
    "# thank you to @kinghelix and @trevormarburger for this idea\n",
    "abbrev_us_state = dict(map(reversed, us_state_abbrev.items()))"
   ]
  },
  {
   "cell_type": "code",
   "execution_count": 22,
   "metadata": {},
   "outputs": [],
   "source": [
    "energy_data['state_name'] = [abbrev_us_state[s] for s in energy_data['state']]"
   ]
  },
  {
   "cell_type": "code",
   "execution_count": 70,
   "metadata": {},
   "outputs": [
    {
     "data": {
      "application/vnd.plotly.v1+json": {
       "config": {
        "plotlyServerURL": "https://plotly.com"
       },
       "data": [
        {
         "marker": {
          "color": "#27a3aa"
         },
         "mode": "lines+markers",
         "type": "scatter",
         "visible": true,
         "x": [
          "2020-12-01",
          "2020-11-01",
          "2020-10-01",
          "2020-09-01",
          "2020-08-01",
          "2020-07-01",
          "2020-06-01",
          "2020-05-01",
          "2020-04-01",
          "2020-03-01",
          "2020-02-01",
          "2020-01-01",
          "2019-12-01",
          "2019-11-01",
          "2019-10-01",
          "2019-09-01",
          "2019-08-01",
          "2019-07-01",
          "2019-06-01",
          "2019-05-01",
          "2019-04-01",
          "2019-03-01",
          "2019-02-01",
          "2019-01-01"
         ],
         "y": [
          -12.15,
          -0.45,
          -3.6,
          -1.17,
          6.62,
          3.76,
          6.89,
          4.62,
          1.52,
          -6.04,
          -11.58,
          -3.29,
          0.65,
          -0.73,
          6.73,
          -6.72,
          -1.21,
          -2.26,
          7.01,
          -4.31,
          -5.89,
          0.04,
          4.32,
          -1.77
         ]
        }
       ],
       "layout": {
        "annotations": [
         {
          "font_color": "green",
          "font_family": "Arial",
          "font_size": 14,
          "showarrow": false,
          "text": "<b>+1.36%</b>",
          "x": "2020-01-20",
          "y": -0.00012790528628165988
         }
        ],
        "autosize": true,
        "shapes": [
         {
          "line": {
           "color": "red",
           "dash": "dash",
           "width": 2
          },
          "type": "line",
          "x0": "2019-01-01",
          "x1": "2020-02-18",
          "y0": -1.3585866467037007,
          "y1": -1.3585866467037007
         },
         {
          "line": {
           "color": "green",
           "dash": "dash",
           "width": 2
          },
          "type": "line",
          "x0": "2020-02-15",
          "x1": "2020-12-01",
          "y0": -0.00012790528628165988,
          "y1": -0.00012790528628165988
         },
         {
          "line": {
           "color": "#f76d23",
           "dash": "dot",
           "width": 3
          },
          "type": "line",
          "x0": "2020-02-15",
          "x1": "2020-02-15",
          "y0": -14.575362238853769,
          "y1": 8.411399895790199
         }
        ],
        "showlegend": false,
        "template": {
         "data": {
          "bar": [
           {
            "error_x": {
             "color": "#2a3f5f"
            },
            "error_y": {
             "color": "#2a3f5f"
            },
            "marker": {
             "line": {
              "color": "white",
              "width": 0.5
             }
            },
            "type": "bar"
           }
          ],
          "barpolar": [
           {
            "marker": {
             "line": {
              "color": "white",
              "width": 0.5
             }
            },
            "type": "barpolar"
           }
          ],
          "carpet": [
           {
            "aaxis": {
             "endlinecolor": "#2a3f5f",
             "gridcolor": "#C8D4E3",
             "linecolor": "#C8D4E3",
             "minorgridcolor": "#C8D4E3",
             "startlinecolor": "#2a3f5f"
            },
            "baxis": {
             "endlinecolor": "#2a3f5f",
             "gridcolor": "#C8D4E3",
             "linecolor": "#C8D4E3",
             "minorgridcolor": "#C8D4E3",
             "startlinecolor": "#2a3f5f"
            },
            "type": "carpet"
           }
          ],
          "choropleth": [
           {
            "colorbar": {
             "outlinewidth": 0,
             "ticks": ""
            },
            "type": "choropleth"
           }
          ],
          "contour": [
           {
            "colorbar": {
             "outlinewidth": 0,
             "ticks": ""
            },
            "colorscale": [
             [
              0,
              "#0d0887"
             ],
             [
              0.1111111111111111,
              "#46039f"
             ],
             [
              0.2222222222222222,
              "#7201a8"
             ],
             [
              0.3333333333333333,
              "#9c179e"
             ],
             [
              0.4444444444444444,
              "#bd3786"
             ],
             [
              0.5555555555555556,
              "#d8576b"
             ],
             [
              0.6666666666666666,
              "#ed7953"
             ],
             [
              0.7777777777777778,
              "#fb9f3a"
             ],
             [
              0.8888888888888888,
              "#fdca26"
             ],
             [
              1,
              "#f0f921"
             ]
            ],
            "type": "contour"
           }
          ],
          "contourcarpet": [
           {
            "colorbar": {
             "outlinewidth": 0,
             "ticks": ""
            },
            "type": "contourcarpet"
           }
          ],
          "heatmap": [
           {
            "colorbar": {
             "outlinewidth": 0,
             "ticks": ""
            },
            "colorscale": [
             [
              0,
              "#0d0887"
             ],
             [
              0.1111111111111111,
              "#46039f"
             ],
             [
              0.2222222222222222,
              "#7201a8"
             ],
             [
              0.3333333333333333,
              "#9c179e"
             ],
             [
              0.4444444444444444,
              "#bd3786"
             ],
             [
              0.5555555555555556,
              "#d8576b"
             ],
             [
              0.6666666666666666,
              "#ed7953"
             ],
             [
              0.7777777777777778,
              "#fb9f3a"
             ],
             [
              0.8888888888888888,
              "#fdca26"
             ],
             [
              1,
              "#f0f921"
             ]
            ],
            "type": "heatmap"
           }
          ],
          "heatmapgl": [
           {
            "colorbar": {
             "outlinewidth": 0,
             "ticks": ""
            },
            "colorscale": [
             [
              0,
              "#0d0887"
             ],
             [
              0.1111111111111111,
              "#46039f"
             ],
             [
              0.2222222222222222,
              "#7201a8"
             ],
             [
              0.3333333333333333,
              "#9c179e"
             ],
             [
              0.4444444444444444,
              "#bd3786"
             ],
             [
              0.5555555555555556,
              "#d8576b"
             ],
             [
              0.6666666666666666,
              "#ed7953"
             ],
             [
              0.7777777777777778,
              "#fb9f3a"
             ],
             [
              0.8888888888888888,
              "#fdca26"
             ],
             [
              1,
              "#f0f921"
             ]
            ],
            "type": "heatmapgl"
           }
          ],
          "histogram": [
           {
            "marker": {
             "colorbar": {
              "outlinewidth": 0,
              "ticks": ""
             }
            },
            "type": "histogram"
           }
          ],
          "histogram2d": [
           {
            "colorbar": {
             "outlinewidth": 0,
             "ticks": ""
            },
            "colorscale": [
             [
              0,
              "#0d0887"
             ],
             [
              0.1111111111111111,
              "#46039f"
             ],
             [
              0.2222222222222222,
              "#7201a8"
             ],
             [
              0.3333333333333333,
              "#9c179e"
             ],
             [
              0.4444444444444444,
              "#bd3786"
             ],
             [
              0.5555555555555556,
              "#d8576b"
             ],
             [
              0.6666666666666666,
              "#ed7953"
             ],
             [
              0.7777777777777778,
              "#fb9f3a"
             ],
             [
              0.8888888888888888,
              "#fdca26"
             ],
             [
              1,
              "#f0f921"
             ]
            ],
            "type": "histogram2d"
           }
          ],
          "histogram2dcontour": [
           {
            "colorbar": {
             "outlinewidth": 0,
             "ticks": ""
            },
            "colorscale": [
             [
              0,
              "#0d0887"
             ],
             [
              0.1111111111111111,
              "#46039f"
             ],
             [
              0.2222222222222222,
              "#7201a8"
             ],
             [
              0.3333333333333333,
              "#9c179e"
             ],
             [
              0.4444444444444444,
              "#bd3786"
             ],
             [
              0.5555555555555556,
              "#d8576b"
             ],
             [
              0.6666666666666666,
              "#ed7953"
             ],
             [
              0.7777777777777778,
              "#fb9f3a"
             ],
             [
              0.8888888888888888,
              "#fdca26"
             ],
             [
              1,
              "#f0f921"
             ]
            ],
            "type": "histogram2dcontour"
           }
          ],
          "mesh3d": [
           {
            "colorbar": {
             "outlinewidth": 0,
             "ticks": ""
            },
            "type": "mesh3d"
           }
          ],
          "parcoords": [
           {
            "line": {
             "colorbar": {
              "outlinewidth": 0,
              "ticks": ""
             }
            },
            "type": "parcoords"
           }
          ],
          "pie": [
           {
            "automargin": true,
            "type": "pie"
           }
          ],
          "scatter": [
           {
            "marker": {
             "colorbar": {
              "outlinewidth": 0,
              "ticks": ""
             }
            },
            "type": "scatter"
           }
          ],
          "scatter3d": [
           {
            "line": {
             "colorbar": {
              "outlinewidth": 0,
              "ticks": ""
             }
            },
            "marker": {
             "colorbar": {
              "outlinewidth": 0,
              "ticks": ""
             }
            },
            "type": "scatter3d"
           }
          ],
          "scattercarpet": [
           {
            "marker": {
             "colorbar": {
              "outlinewidth": 0,
              "ticks": ""
             }
            },
            "type": "scattercarpet"
           }
          ],
          "scattergeo": [
           {
            "marker": {
             "colorbar": {
              "outlinewidth": 0,
              "ticks": ""
             }
            },
            "type": "scattergeo"
           }
          ],
          "scattergl": [
           {
            "marker": {
             "colorbar": {
              "outlinewidth": 0,
              "ticks": ""
             }
            },
            "type": "scattergl"
           }
          ],
          "scattermapbox": [
           {
            "marker": {
             "colorbar": {
              "outlinewidth": 0,
              "ticks": ""
             }
            },
            "type": "scattermapbox"
           }
          ],
          "scatterpolar": [
           {
            "marker": {
             "colorbar": {
              "outlinewidth": 0,
              "ticks": ""
             }
            },
            "type": "scatterpolar"
           }
          ],
          "scatterpolargl": [
           {
            "marker": {
             "colorbar": {
              "outlinewidth": 0,
              "ticks": ""
             }
            },
            "type": "scatterpolargl"
           }
          ],
          "scatterternary": [
           {
            "marker": {
             "colorbar": {
              "outlinewidth": 0,
              "ticks": ""
             }
            },
            "type": "scatterternary"
           }
          ],
          "surface": [
           {
            "colorbar": {
             "outlinewidth": 0,
             "ticks": ""
            },
            "colorscale": [
             [
              0,
              "#0d0887"
             ],
             [
              0.1111111111111111,
              "#46039f"
             ],
             [
              0.2222222222222222,
              "#7201a8"
             ],
             [
              0.3333333333333333,
              "#9c179e"
             ],
             [
              0.4444444444444444,
              "#bd3786"
             ],
             [
              0.5555555555555556,
              "#d8576b"
             ],
             [
              0.6666666666666666,
              "#ed7953"
             ],
             [
              0.7777777777777778,
              "#fb9f3a"
             ],
             [
              0.8888888888888888,
              "#fdca26"
             ],
             [
              1,
              "#f0f921"
             ]
            ],
            "type": "surface"
           }
          ],
          "table": [
           {
            "cells": {
             "fill": {
              "color": "#EBF0F8"
             },
             "line": {
              "color": "white"
             }
            },
            "header": {
             "fill": {
              "color": "#C8D4E3"
             },
             "line": {
              "color": "white"
             }
            },
            "type": "table"
           }
          ]
         },
         "layout": {
          "annotationdefaults": {
           "arrowcolor": "#2a3f5f",
           "arrowhead": 0,
           "arrowwidth": 1
          },
          "coloraxis": {
           "colorbar": {
            "outlinewidth": 0,
            "ticks": ""
           }
          },
          "colorscale": {
           "diverging": [
            [
             0,
             "#8e0152"
            ],
            [
             0.1,
             "#c51b7d"
            ],
            [
             0.2,
             "#de77ae"
            ],
            [
             0.3,
             "#f1b6da"
            ],
            [
             0.4,
             "#fde0ef"
            ],
            [
             0.5,
             "#f7f7f7"
            ],
            [
             0.6,
             "#e6f5d0"
            ],
            [
             0.7,
             "#b8e186"
            ],
            [
             0.8,
             "#7fbc41"
            ],
            [
             0.9,
             "#4d9221"
            ],
            [
             1,
             "#276419"
            ]
           ],
           "sequential": [
            [
             0,
             "#0d0887"
            ],
            [
             0.1111111111111111,
             "#46039f"
            ],
            [
             0.2222222222222222,
             "#7201a8"
            ],
            [
             0.3333333333333333,
             "#9c179e"
            ],
            [
             0.4444444444444444,
             "#bd3786"
            ],
            [
             0.5555555555555556,
             "#d8576b"
            ],
            [
             0.6666666666666666,
             "#ed7953"
            ],
            [
             0.7777777777777778,
             "#fb9f3a"
            ],
            [
             0.8888888888888888,
             "#fdca26"
            ],
            [
             1,
             "#f0f921"
            ]
           ],
           "sequentialminus": [
            [
             0,
             "#0d0887"
            ],
            [
             0.1111111111111111,
             "#46039f"
            ],
            [
             0.2222222222222222,
             "#7201a8"
            ],
            [
             0.3333333333333333,
             "#9c179e"
            ],
            [
             0.4444444444444444,
             "#bd3786"
            ],
            [
             0.5555555555555556,
             "#d8576b"
            ],
            [
             0.6666666666666666,
             "#ed7953"
            ],
            [
             0.7777777777777778,
             "#fb9f3a"
            ],
            [
             0.8888888888888888,
             "#fdca26"
            ],
            [
             1,
             "#f0f921"
            ]
           ]
          },
          "colorway": [
           "#636efa",
           "#EF553B",
           "#00cc96",
           "#ab63fa",
           "#FFA15A",
           "#19d3f3",
           "#FF6692",
           "#B6E880",
           "#FF97FF",
           "#FECB52"
          ],
          "font": {
           "color": "#2a3f5f"
          },
          "geo": {
           "bgcolor": "white",
           "lakecolor": "white",
           "landcolor": "white",
           "showlakes": true,
           "showland": true,
           "subunitcolor": "#C8D4E3"
          },
          "hoverlabel": {
           "align": "left"
          },
          "hovermode": "closest",
          "mapbox": {
           "style": "light"
          },
          "paper_bgcolor": "white",
          "plot_bgcolor": "white",
          "polar": {
           "angularaxis": {
            "gridcolor": "#EBF0F8",
            "linecolor": "#EBF0F8",
            "ticks": ""
           },
           "bgcolor": "white",
           "radialaxis": {
            "gridcolor": "#EBF0F8",
            "linecolor": "#EBF0F8",
            "ticks": ""
           }
          },
          "scene": {
           "xaxis": {
            "backgroundcolor": "white",
            "gridcolor": "#DFE8F3",
            "gridwidth": 2,
            "linecolor": "#EBF0F8",
            "showbackground": true,
            "ticks": "",
            "zerolinecolor": "#EBF0F8"
           },
           "yaxis": {
            "backgroundcolor": "white",
            "gridcolor": "#DFE8F3",
            "gridwidth": 2,
            "linecolor": "#EBF0F8",
            "showbackground": true,
            "ticks": "",
            "zerolinecolor": "#EBF0F8"
           },
           "zaxis": {
            "backgroundcolor": "white",
            "gridcolor": "#DFE8F3",
            "gridwidth": 2,
            "linecolor": "#EBF0F8",
            "showbackground": true,
            "ticks": "",
            "zerolinecolor": "#EBF0F8"
           }
          },
          "shapedefaults": {
           "line": {
            "color": "#2a3f5f"
           }
          },
          "ternary": {
           "aaxis": {
            "gridcolor": "#DFE8F3",
            "linecolor": "#A2B1C6",
            "ticks": ""
           },
           "baxis": {
            "gridcolor": "#DFE8F3",
            "linecolor": "#A2B1C6",
            "ticks": ""
           },
           "bgcolor": "white",
           "caxis": {
            "gridcolor": "#DFE8F3",
            "linecolor": "#A2B1C6",
            "ticks": ""
           }
          },
          "title": {
           "x": 0.05
          },
          "xaxis": {
           "automargin": true,
           "gridcolor": "#EBF0F8",
           "linecolor": "#EBF0F8",
           "ticks": "",
           "title": {
            "standoff": 15
           },
           "zerolinecolor": "#EBF0F8",
           "zerolinewidth": 2
          },
          "yaxis": {
           "automargin": true,
           "gridcolor": "#EBF0F8",
           "linecolor": "#EBF0F8",
           "ticks": "",
           "title": {
            "standoff": 15
           },
           "zerolinecolor": "#EBF0F8",
           "zerolinewidth": 2
          }
         }
        },
        "title": {
         "text": "Pandemic-related change in residential energy consumption for North Dakota"
        },
        "updatemenus": [
         {
          "active": 32,
          "buttons": [
           {
            "args": [
             {
              "type": "scatter",
              "x": [
               [
                "2019-01-01",
                "2019-02-01",
                "2019-03-01",
                "2019-04-01",
                "2019-05-01",
                "2019-06-01",
                "2019-07-01",
                "2019-08-01",
                "2019-09-01",
                "2019-10-01",
                "2019-11-01",
                "2019-12-01",
                "2020-01-01",
                "2020-02-01",
                "2020-03-01",
                "2020-04-01",
                "2020-05-01",
                "2020-06-01",
                "2020-07-01",
                "2020-08-01",
                "2020-09-01",
                "2020-10-01",
                "2020-11-01",
                "2020-12-01"
               ]
              ],
              "y": [
               [
                -3.88,
                0.97,
                0.78,
                -1.3,
                -1.15,
                0.78,
                -1.8,
                -1,
                -1.13,
                3.62,
                0.2,
                1.21,
                -6.31,
                -6.02,
                -2.88,
                0.69,
                7.86,
                4.11,
                2,
                2.08,
                1.78,
                0.03,
                4.34,
                4.07
               ]
              ]
             },
             {
              "annotations": [
               {
                "font_color": "green",
                "font_family": "Arial",
                "font_size": 14,
                "showarrow": false,
                "text": "<b>+3.48%</b>",
                "x": "2020-01-20",
                "y": 2.408039197339682
               }
              ],
              "shapes": [
               {
                "line": {
                 "color": "red",
                 "dash": "dash",
                 "width": 2
                },
                "type": "line",
                "x0": "2019-01-01",
                "x1": "2020-02-18",
                "y0": -1.0731438742786206,
                "y1": -1.0731438742786206
               },
               {
                "line": {
                 "color": "green",
                 "dash": "dash",
                 "width": 2
                },
                "type": "line",
                "x0": "2020-02-15",
                "x1": "2020-12-01",
                "y0": 2.408039197339682,
                "y1": 2.408039197339682
               },
               {
                "line": {
                 "color": "#f76d23",
                 "dash": "dot",
                 "width": 3
                },
                "type": "line",
                "x0": "2020-02-15",
                "x1": "2020-02-15",
                "y0": -7.571660793305899,
                "y1": 9.430445030586567
               }
              ],
              "title": "Pandemic-related change in residential energy consumption for USA"
             },
             [
              0
             ]
            ],
            "label": "USA",
            "method": "update",
            "visible": true
           },
           {
            "args": [
             {
              "type": "scatter",
              "x": [
               [
                "2020-12-01",
                "2020-11-01",
                "2020-10-01",
                "2020-09-01",
                "2020-08-01",
                "2020-07-01",
                "2020-06-01",
                "2020-05-01",
                "2020-04-01",
                "2020-03-01",
                "2020-02-01",
                "2020-01-01",
                "2019-12-01",
                "2019-11-01",
                "2019-10-01",
                "2019-09-01",
                "2019-08-01",
                "2019-07-01",
                "2019-06-01",
                "2019-05-01",
                "2019-04-01",
                "2019-03-01",
                "2019-02-01",
                "2019-01-01"
               ]
              ],
              "y": [
               [
                -0.06,
                3.34,
                -4.36,
                -3.43,
                -0.17,
                -6.06,
                -2.94,
                2.09,
                -8.37,
                1.41,
                -7.5,
                -11.01,
                0.55,
                -3.04,
                9.46,
                0.71,
                -2.55,
                -5.03,
                3.39,
                1.66,
                1.97,
                -5.31,
                -2.62,
                -4.15
               ]
              ]
             },
             {
              "annotations": [
               {
                "font_color": "red",
                "font_family": "Arial",
                "font_size": 14,
                "showarrow": false,
                "text": "<b>-0.18%</b>",
                "x": "2020-01-20",
                "y": -1.854673610600339
               }
              ],
              "shapes": [
               {
                "line": {
                 "color": "red",
                 "dash": "dash",
                 "width": 2
                },
                "type": "line",
                "x0": "2019-01-01",
                "x1": "2020-02-18",
                "y0": -1.6770083940226839,
                "y1": -1.6770083940226839
               },
               {
                "line": {
                 "color": "green",
                 "dash": "dash",
                 "width": 2
                },
                "type": "line",
                "x0": "2020-02-15",
                "x1": "2020-12-01",
                "y0": -1.854673610600339,
                "y1": -1.854673610600339
               },
               {
                "line": {
                 "color": "#f76d23",
                 "dash": "dot",
                 "width": 3
                },
                "type": "line",
                "x0": "2020-02-15",
                "x1": "2020-02-15",
                "y0": -13.208810207625017,
                "y1": 11.34834104178822
               }
              ],
              "title": "Pandemic-related change in residential energy consumption for Alabama"
             },
             [
              0
             ]
            ],
            "label": "Alabama",
            "method": "update",
            "visible": true
           },
           {
            "args": [
             {
              "type": "scatter",
              "x": [
               [
                "2020-12-01",
                "2020-11-01",
                "2020-10-01",
                "2020-09-01",
                "2020-08-01",
                "2020-07-01",
                "2020-06-01",
                "2020-05-01",
                "2020-04-01",
                "2020-03-01",
                "2020-02-01",
                "2020-01-01",
                "2019-12-01",
                "2019-11-01",
                "2019-10-01",
                "2019-09-01",
                "2019-08-01",
                "2019-07-01",
                "2019-06-01",
                "2019-05-01",
                "2019-04-01",
                "2019-03-01",
                "2019-02-01",
                "2019-01-01"
               ]
              ],
              "y": [
               [
                7.16,
                10.17,
                9.36,
                2.42,
                1.19,
                5.29,
                6.3,
                13.11,
                10.7,
                -0.27,
                3.89,
                0.82,
                1.92,
                1.15,
                -4.52,
                0.58,
                -1.65,
                -0.58,
                1.71,
                1.14,
                3.56,
                -0.65,
                3.56,
                -0.66
               ]
              ]
             },
             {
              "annotations": [
               {
                "font_color": "green",
                "font_family": "Arial",
                "font_size": 14,
                "showarrow": false,
                "text": "<b>+5.81%</b>",
                "x": "2020-01-20",
                "y": 6.543023889474135
               }
              ],
              "shapes": [
               {
                "line": {
                 "color": "red",
                 "dash": "dash",
                 "width": 2
                },
                "type": "line",
                "x0": "2019-01-01",
                "x1": "2020-02-18",
                "y0": 0.733861103996263,
                "y1": 0.733861103996263
               },
               {
                "line": {
                 "color": "green",
                 "dash": "dash",
                 "width": 2
                },
                "type": "line",
                "x0": "2020-02-15",
                "x1": "2020-12-01",
                "y0": 6.543023889474135,
                "y1": 6.543023889474135
               },
               {
                "line": {
                 "color": "#f76d23",
                 "dash": "dot",
                 "width": 3
                },
                "type": "line",
                "x0": "2020-02-15",
                "x1": "2020-02-15",
                "y0": -5.426492195650877,
                "y1": 15.726901756716835
               }
              ],
              "title": "Pandemic-related change in residential energy consumption for Arizona"
             },
             [
              0
             ]
            ],
            "label": "Arizona",
            "method": "update",
            "visible": true
           },
           {
            "args": [
             {
              "type": "scatter",
              "x": [
               [
                "2020-12-01",
                "2020-11-01",
                "2020-10-01",
                "2020-09-01",
                "2020-08-01",
                "2020-07-01",
                "2020-06-01",
                "2020-05-01",
                "2020-04-01",
                "2020-03-01",
                "2020-02-01",
                "2020-01-01",
                "2019-12-01",
                "2019-11-01",
                "2019-10-01",
                "2019-09-01",
                "2019-08-01",
                "2019-07-01",
                "2019-06-01",
                "2019-05-01",
                "2019-04-01",
                "2019-03-01",
                "2019-02-01",
                "2019-01-01"
               ]
              ],
              "y": [
               [
                3.21,
                3.18,
                -10.34,
                -3.09,
                -4.39,
                -6.12,
                -5.06,
                -1.92,
                -5.04,
                -3.35,
                -9.53,
                -8.69,
                6.38,
                3.39,
                8.55,
                -0.31,
                -8.03,
                -8.91,
                0.53,
                -5.91,
                1.32,
                3.73,
                1.46,
                -5.92
               ]
              ]
             },
             {
              "annotations": [
               {
                "font_color": "red",
                "font_family": "Arial",
                "font_size": 14,
                "showarrow": false,
                "text": "<b>-1.73%</b>",
                "x": "2020-01-20",
                "y": -3.293063456755769
               }
              ],
              "shapes": [
               {
                "line": {
                 "color": "red",
                 "dash": "dash",
                 "width": 2
                },
                "type": "line",
                "x0": "2019-01-01",
                "x1": "2020-02-18",
                "y0": -1.566542400780135,
                "y1": -1.566542400780135
               },
               {
                "line": {
                 "color": "green",
                 "dash": "dash",
                 "width": 2
                },
                "type": "line",
                "x0": "2020-02-15",
                "x1": "2020-12-01",
                "y0": -3.293063456755769,
                "y1": -3.293063456755769
               },
               {
                "line": {
                 "color": "#f76d23",
                 "dash": "dot",
                 "width": 3
                },
                "type": "line",
                "x0": "2020-02-15",
                "x1": "2020-02-15",
                "y0": -12.413660694671014,
                "y1": 10.260933210986156
               }
              ],
              "title": "Pandemic-related change in residential energy consumption for Arkansas"
             },
             [
              0
             ]
            ],
            "label": "Arkansas",
            "method": "update",
            "visible": true
           },
           {
            "args": [
             {
              "type": "scatter",
              "x": [
               [
                "2020-12-01",
                "2020-11-01",
                "2020-10-01",
                "2020-09-01",
                "2020-08-01",
                "2020-07-01",
                "2020-06-01",
                "2020-05-01",
                "2020-04-01",
                "2020-03-01",
                "2020-02-01",
                "2020-01-01",
                "2019-12-01",
                "2019-11-01",
                "2019-10-01",
                "2019-09-01",
                "2019-08-01",
                "2019-07-01",
                "2019-06-01",
                "2019-05-01",
                "2019-04-01",
                "2019-03-01",
                "2019-02-01",
                "2019-01-01"
               ]
              ],
              "y": [
               [
                9.56,
                -9.11,
                13.95,
                4.58,
                1.85,
                12.74,
                9.94,
                14.65,
                -9.75,
                -9.05,
                -16.47,
                -1.77,
                4.46,
                -5.22,
                -5.15,
                2.42,
                4.95,
                2.74,
                -5.81,
                6.12,
                -12.53,
                2.91,
                -0.63,
                5.45
               ]
              ]
             },
             {
              "annotations": [
               {
                "font_color": "green",
                "font_family": "Arial",
                "font_size": 14,
                "showarrow": false,
                "text": "<b>+5.26%</b>",
                "x": "2020-01-20",
                "y": 3.9355490419913552
               }
              ],
              "shapes": [
               {
                "line": {
                 "color": "red",
                 "dash": "dash",
                 "width": 2
                },
                "type": "line",
                "x0": "2019-01-01",
                "x1": "2020-02-18",
                "y0": -1.3233480512281877,
                "y1": -1.3233480512281877
               },
               {
                "line": {
                 "color": "green",
                 "dash": "dash",
                 "width": 2
                },
                "type": "line",
                "x0": "2020-02-15",
                "x1": "2020-12-01",
                "y0": 3.9355490419913552,
                "y1": 3.9355490419913552
               },
               {
                "line": {
                 "color": "#f76d23",
                 "dash": "dot",
                 "width": 3
                },
                "type": "line",
                "x0": "2020-02-15",
                "x1": "2020-02-15",
                "y0": -19.758411792705196,
                "y1": 17.57629964522149
               }
              ],
              "title": "Pandemic-related change in residential energy consumption for California"
             },
             [
              0
             ]
            ],
            "label": "California",
            "method": "update",
            "visible": true
           },
           {
            "args": [
             {
              "type": "scatter",
              "x": [
               [
                "2020-12-01",
                "2020-11-01",
                "2020-10-01",
                "2020-09-01",
                "2020-08-01",
                "2020-07-01",
                "2020-06-01",
                "2020-05-01",
                "2020-04-01",
                "2020-03-01",
                "2020-02-01",
                "2020-01-01",
                "2019-12-01",
                "2019-11-01",
                "2019-10-01",
                "2019-09-01",
                "2019-08-01",
                "2019-07-01",
                "2019-06-01",
                "2019-05-01",
                "2019-04-01",
                "2019-03-01",
                "2019-02-01",
                "2019-01-01"
               ]
              ],
              "y": [
               [
                4.7,
                3.22,
                3.04,
                3.61,
                3.8,
                7.29,
                12.05,
                4.24,
                1.66,
                -0.61,
                -3.8,
                -4.15,
                -2.52,
                0.3,
                -2.39,
                2.94,
                3.78,
                0.22,
                -2.47,
                3.33,
                -1.13,
                1.26,
                -4.15,
                -4.29
               ]
              ]
             },
             {
              "annotations": [
               {
                "font_color": "green",
                "font_family": "Arial",
                "font_size": 14,
                "showarrow": false,
                "text": "<b>+5.23%</b>",
                "x": "2020-01-20",
                "y": 4.298904352163747
               }
              ],
              "shapes": [
               {
                "line": {
                 "color": "red",
                 "dash": "dash",
                 "width": 2
                },
                "type": "line",
                "x0": "2019-01-01",
                "x1": "2020-02-18",
                "y0": -0.9340154103980078,
                "y1": -0.9340154103980078
               },
               {
                "line": {
                 "color": "green",
                 "dash": "dash",
                 "width": 2
                },
                "type": "line",
                "x0": "2020-02-15",
                "x1": "2020-12-01",
                "y0": 4.298904352163747,
                "y1": 4.298904352163747
               },
               {
                "line": {
                 "color": "#f76d23",
                 "dash": "dot",
                 "width": 3
                },
                "type": "line",
                "x0": "2020-02-15",
                "x1": "2020-02-15",
                "y0": -5.14736660096642,
                "y1": 14.455007049318539
               }
              ],
              "title": "Pandemic-related change in residential energy consumption for Colorado"
             },
             [
              0
             ]
            ],
            "label": "Colorado",
            "method": "update",
            "visible": true
           },
           {
            "args": [
             {
              "type": "scatter",
              "x": [
               [
                "2020-12-01",
                "2020-11-01",
                "2020-10-01",
                "2020-09-01",
                "2020-08-01",
                "2020-07-01",
                "2020-06-01",
                "2020-05-01",
                "2020-04-01",
                "2020-03-01",
                "2020-02-01",
                "2020-01-01",
                "2019-12-01",
                "2019-11-01",
                "2019-10-01",
                "2019-09-01",
                "2019-08-01",
                "2019-07-01",
                "2019-06-01",
                "2019-05-01",
                "2019-04-01",
                "2019-03-01",
                "2019-02-01",
                "2019-01-01"
               ]
              ],
              "y": [
               [
                6.74,
                9.22,
                3.57,
                -8.03,
                7.32,
                7.5,
                13.97,
                10.09,
                -0.78,
                -6.69,
                -8.97,
                -3.72,
                11.51,
                -8.79,
                -1.81,
                -16.3,
                3.34,
                6.02,
                2.55,
                -0.52,
                -8.45,
                -3.03,
                -2.59,
                -2.57
               ]
              ]
             },
             {
              "annotations": [
               {
                "font_color": "green",
                "font_family": "Arial",
                "font_size": 14,
                "showarrow": false,
                "text": "<b>+6.67%</b>",
                "x": "2020-01-20",
                "y": 4.292459013895704
               }
              ],
              "shapes": [
               {
                "line": {
                 "color": "red",
                 "dash": "dash",
                 "width": 2
                },
                "type": "line",
                "x0": "2019-01-01",
                "x1": "2020-02-18",
                "y0": -2.380764427414649,
                "y1": -2.380764427414649
               },
               {
                "line": {
                 "color": "green",
                 "dash": "dash",
                 "width": 2
                },
                "type": "line",
                "x0": "2020-02-15",
                "x1": "2020-12-01",
                "y0": 4.292459013895704,
                "y1": 4.292459013895704
               },
               {
                "line": {
                 "color": "#f76d23",
                 "dash": "dot",
                 "width": 3
                },
                "type": "line",
                "x0": "2020-02-15",
                "x1": "2020-02-15",
                "y0": -19.564063103198414,
                "y1": 16.766184557540132
               }
              ],
              "title": "Pandemic-related change in residential energy consumption for Connecticut"
             },
             [
              0
             ]
            ],
            "label": "Connecticut",
            "method": "update",
            "visible": true
           },
           {
            "args": [
             {
              "type": "scatter",
              "x": [
               [
                "2020-12-01",
                "2020-11-01",
                "2020-10-01",
                "2020-09-01",
                "2020-08-01",
                "2020-07-01",
                "2020-06-01",
                "2020-05-01",
                "2020-04-01",
                "2020-03-01",
                "2020-02-01",
                "2020-01-01",
                "2019-12-01",
                "2019-11-01",
                "2019-10-01",
                "2019-09-01",
                "2019-08-01",
                "2019-07-01",
                "2019-06-01",
                "2019-05-01",
                "2019-04-01",
                "2019-03-01",
                "2019-02-01",
                "2019-01-01"
               ]
              ],
              "y": [
               [
                -1.24,
                -5.39,
                -3.9,
                10.28,
                0.84,
                5.29,
                7.11,
                12.74,
                -5.62,
                -8.58,
                -12.72,
                -12.93,
                6.64,
                -1.02,
                -4.15,
                -7.86,
                1.22,
                1.62,
                6.15,
                -7.98,
                -6.57,
                0.99,
                1.72,
                -2.98
               ]
              ]
             },
             {
              "annotations": [
               {
                "font_color": "green",
                "font_family": "Arial",
                "font_size": 14,
                "showarrow": false,
                "text": "<b>+3.86%</b>",
                "x": "2020-01-20",
                "y": 1.1535300330864668
               }
              ],
              "shapes": [
               {
                "line": {
                 "color": "red",
                 "dash": "dash",
                 "width": 2
                },
                "type": "line",
                "x0": "2019-01-01",
                "x1": "2020-02-18",
                "y0": -2.7051963988530203,
                "y1": -2.7051963988530203
               },
               {
                "line": {
                 "color": "green",
                 "dash": "dash",
                 "width": 2
                },
                "type": "line",
                "x0": "2020-02-15",
                "x1": "2020-12-01",
                "y0": 1.1535300330864668,
                "y1": 1.1535300330864668
               },
               {
                "line": {
                 "color": "#f76d23",
                 "dash": "dot",
                 "width": 3
                },
                "type": "line",
                "x0": "2020-02-15",
                "x1": "2020-02-15",
                "y0": -15.510627552985502,
                "y1": 15.290657669530598
               }
              ],
              "title": "Pandemic-related change in residential energy consumption for Delaware"
             },
             [
              0
             ]
            ],
            "label": "Delaware",
            "method": "update",
            "visible": true
           },
           {
            "args": [
             {
              "type": "scatter",
              "x": [
               [
                "2020-12-01",
                "2020-11-01",
                "2020-10-01",
                "2020-09-01",
                "2020-08-01",
                "2020-07-01",
                "2020-06-01",
                "2020-05-01",
                "2020-04-01",
                "2020-03-01",
                "2020-02-01",
                "2020-01-01",
                "2019-12-01",
                "2019-11-01",
                "2019-10-01",
                "2019-09-01",
                "2019-08-01",
                "2019-07-01",
                "2019-06-01",
                "2019-05-01",
                "2019-04-01",
                "2019-03-01",
                "2019-02-01",
                "2019-01-01"
               ]
              ],
              "y": [
               [
                1.15,
                5.86,
                0.25,
                -0.4,
                1.59,
                -0.14,
                3.25,
                7.7,
                8.63,
                1.82,
                -8.2,
                -9.52,
                -2.18,
                2.28,
                2.86,
                -1.34,
                -3.7,
                -2.04,
                5.09,
                0.81,
                0.95,
                0.62,
                0.22,
                -5.05
               ]
              ]
             },
             {
              "annotations": [
               {
                "font_color": "green",
                "font_family": "Arial",
                "font_size": 14,
                "showarrow": false,
                "text": "<b>+4.34%</b>",
                "x": "2020-01-20",
                "y": 2.9696605331471186
               }
              ],
              "shapes": [
               {
                "line": {
                 "color": "red",
                 "dash": "dash",
                 "width": 2
                },
                "type": "line",
                "x0": "2019-01-01",
                "x1": "2020-02-18",
                "y0": -1.371746895403088,
                "y1": -1.371746895403088
               },
               {
                "line": {
                 "color": "green",
                 "dash": "dash",
                 "width": 2
                },
                "type": "line",
                "x0": "2020-02-15",
                "x1": "2020-12-01",
                "y0": 2.9696605331471186,
                "y1": 2.9696605331471186
               },
               {
                "line": {
                 "color": "#f76d23",
                 "dash": "dot",
                 "width": 3
                },
                "type": "line",
                "x0": "2020-02-15",
                "x1": "2020-02-15",
                "y0": -11.41970719260817,
                "y1": 10.350085528757422
               }
              ],
              "title": "Pandemic-related change in residential energy consumption for Florida"
             },
             [
              0
             ]
            ],
            "label": "Florida",
            "method": "update",
            "visible": true
           },
           {
            "args": [
             {
              "type": "scatter",
              "x": [
               [
                "2020-12-01",
                "2020-11-01",
                "2020-10-01",
                "2020-09-01",
                "2020-08-01",
                "2020-07-01",
                "2020-06-01",
                "2020-05-01",
                "2020-04-01",
                "2020-03-01",
                "2020-02-01",
                "2020-01-01",
                "2019-12-01",
                "2019-11-01",
                "2019-10-01",
                "2019-09-01",
                "2019-08-01",
                "2019-07-01",
                "2019-06-01",
                "2019-05-01",
                "2019-04-01",
                "2019-03-01",
                "2019-02-01",
                "2019-01-01"
               ]
              ],
              "y": [
               [
                7.77,
                -0.43,
                -9.28,
                -5.19,
                -5.39,
                -3.07,
                -1.98,
                5.14,
                -8.89,
                -0.82,
                -5.61,
                -7.46,
                0.82,
                1.62,
                2.24,
                0.97,
                -0.88,
                -4.14,
                -1.21,
                2.29,
                1.71,
                -1.8,
                -1.06,
                -0.79
               ]
              ]
             },
             {
              "annotations": [
               {
                "font_color": "red",
                "font_family": "Arial",
                "font_size": 14,
                "showarrow": false,
                "text": "<b>-1.26%</b>",
                "x": "2020-01-20",
                "y": -2.2124442830387308
               }
              ],
              "shapes": [
               {
                "line": {
                 "color": "red",
                 "dash": "dash",
                 "width": 2
                },
                "type": "line",
                "x0": "2019-01-01",
                "x1": "2020-02-18",
                "y0": -0.950722723447395,
                "y1": -0.950722723447395
               },
               {
                "line": {
                 "color": "green",
                 "dash": "dash",
                 "width": 2
                },
                "type": "line",
                "x0": "2020-02-15",
                "x1": "2020-12-01",
                "y0": -2.2124442830387308,
                "y1": -2.2124442830387308
               },
               {
                "line": {
                 "color": "#f76d23",
                 "dash": "dot",
                 "width": 3
                },
                "type": "line",
                "x0": "2020-02-15",
                "x1": "2020-02-15",
                "y0": -11.132169140338616,
                "y1": 9.322639711666788
               }
              ],
              "title": "Pandemic-related change in residential energy consumption for Georgia"
             },
             [
              0
             ]
            ],
            "label": "Georgia",
            "method": "update",
            "visible": true
           },
           {
            "args": [
             {
              "type": "scatter",
              "x": [
               [
                "2020-12-01",
                "2020-11-01",
                "2020-10-01",
                "2020-09-01",
                "2020-08-01",
                "2020-07-01",
                "2020-06-01",
                "2020-05-01",
                "2020-04-01",
                "2020-03-01",
                "2020-02-01",
                "2020-01-01",
                "2019-12-01",
                "2019-11-01",
                "2019-10-01",
                "2019-09-01",
                "2019-08-01",
                "2019-07-01",
                "2019-06-01",
                "2019-05-01",
                "2019-04-01",
                "2019-03-01",
                "2019-02-01",
                "2019-01-01"
               ]
              ],
              "y": [
               [
                3.61,
                9.02,
                1.71,
                3.07,
                -0.61,
                2.25,
                6.35,
                3.81,
                5.17,
                1.05,
                -0.96,
                -7.26,
                -3.74,
                4.46,
                1.66,
                2.69,
                1.36,
                -0.54,
                5.65,
                0.38,
                -0.73,
                0.74,
                -2.13,
                -4.65
               ]
              ]
             },
             {
              "annotations": [
               {
                "font_color": "green",
                "font_family": "Arial",
                "font_size": 14,
                "showarrow": false,
                "text": "<b>+3.76%</b>",
                "x": "2020-01-20",
                "y": 3.543314049377217
               }
              ],
              "shapes": [
               {
                "line": {
                 "color": "red",
                 "dash": "dash",
                 "width": 2
                },
                "type": "line",
                "x0": "2019-01-01",
                "x1": "2020-02-18",
                "y0": -0.2186518945895795,
                "y1": -0.2186518945895795
               },
               {
                "line": {
                 "color": "green",
                 "dash": "dash",
                 "width": 2
                },
                "type": "line",
                "x0": "2020-02-15",
                "x1": "2020-12-01",
                "y0": 3.543314049377217,
                "y1": 3.543314049377217
               },
               {
                "line": {
                 "color": "#f76d23",
                 "dash": "dot",
                 "width": 3
                },
                "type": "line",
                "x0": "2020-02-15",
                "x1": "2020-02-15",
                "y0": -8.71115124754238,
                "y1": 10.820660140699104
               }
              ],
              "title": "Pandemic-related change in residential energy consumption for Idaho"
             },
             [
              0
             ]
            ],
            "label": "Idaho",
            "method": "update",
            "visible": true
           },
           {
            "args": [
             {
              "type": "scatter",
              "x": [
               [
                "2020-12-01",
                "2020-11-01",
                "2020-10-01",
                "2020-09-01",
                "2020-08-01",
                "2020-07-01",
                "2020-06-01",
                "2020-05-01",
                "2020-04-01",
                "2020-03-01",
                "2020-02-01",
                "2020-01-01",
                "2019-12-01",
                "2019-11-01",
                "2019-10-01",
                "2019-09-01",
                "2019-08-01",
                "2019-07-01",
                "2019-06-01",
                "2019-05-01",
                "2019-04-01",
                "2019-03-01",
                "2019-02-01",
                "2019-01-01"
               ]
              ],
              "y": [
               [
                6.64,
                3.96,
                4.18,
                0.12,
                7.52,
                4.07,
                9.69,
                15.39,
                0.84,
                0.57,
                0.76,
                -1.97,
                0.4,
                1.12,
                4.33,
                -1.96,
                -1.84,
                -0.65,
                -0.61,
                -0.31,
                -1.85,
                3.7,
                0.07,
                -4.65
               ]
              ]
             },
             {
              "annotations": [
               {
                "font_color": "green",
                "font_family": "Arial",
                "font_size": 14,
                "showarrow": false,
                "text": "<b>+5.55%</b>",
                "x": "2020-01-20",
                "y": 5.29910715278928
               }
              ],
              "shapes": [
               {
                "line": {
                 "color": "red",
                 "dash": "dash",
                 "width": 2
                },
                "type": "line",
                "x0": "2019-01-01",
                "x1": "2020-02-18",
                "y0": -0.24707354064751996,
                "y1": -0.24707354064751996
               },
               {
                "line": {
                 "color": "green",
                 "dash": "dash",
                 "width": 2
                },
                "type": "line",
                "x0": "2020-02-15",
                "x1": "2020-12-01",
                "y0": 5.29910715278928,
                "y1": 5.29910715278928
               },
               {
                "line": {
                 "color": "#f76d23",
                 "dash": "dot",
                 "width": 3
                },
                "type": "line",
                "x0": "2020-02-15",
                "x1": "2020-02-15",
                "y0": -5.577961843521574,
                "y1": 18.4702835298457
               }
              ],
              "title": "Pandemic-related change in residential energy consumption for Illinois"
             },
             [
              0
             ]
            ],
            "label": "Illinois",
            "method": "update",
            "visible": true
           },
           {
            "args": [
             {
              "type": "scatter",
              "x": [
               [
                "2020-12-01",
                "2020-11-01",
                "2020-10-01",
                "2020-09-01",
                "2020-08-01",
                "2020-07-01",
                "2020-06-01",
                "2020-05-01",
                "2020-04-01",
                "2020-03-01",
                "2020-02-01",
                "2020-01-01",
                "2019-12-01",
                "2019-11-01",
                "2019-10-01",
                "2019-09-01",
                "2019-08-01",
                "2019-07-01",
                "2019-06-01",
                "2019-05-01",
                "2019-04-01",
                "2019-03-01",
                "2019-02-01",
                "2019-01-01"
               ]
              ],
              "y": [
               [
                -2.67,
                1.69,
                -1.93,
                4.04,
                0.31,
                -6.22,
                0.87,
                5.95,
                0.86,
                -1.1,
                -5.52,
                -8.57,
                -1.72,
                -1.83,
                4.99,
                2.42,
                2.9,
                -6.81,
                0.5,
                0.25,
                2.12,
                1.95,
                0.63,
                -9.38
               ]
              ]
             },
             {
              "annotations": [
               {
                "font_color": "green",
                "font_family": "Arial",
                "font_size": 14,
                "showarrow": false,
                "text": "<b>+1.47%</b>",
                "x": "2020-01-20",
                "y": 0.17883832288883253
               }
              ],
              "shapes": [
               {
                "line": {
                 "color": "red",
                 "dash": "dash",
                 "width": 2
                },
                "type": "line",
                "x0": "2019-01-01",
                "x1": "2020-02-18",
                "y0": -1.2909705349618554,
                "y1": -1.2909705349618554
               },
               {
                "line": {
                 "color": "green",
                 "dash": "dash",
                 "width": 2
                },
                "type": "line",
                "x0": "2020-02-15",
                "x1": "2020-12-01",
                "y0": 0.17883832288883253,
                "y1": 0.17883832288883253
               },
               {
                "line": {
                 "color": "#f76d23",
                 "dash": "dot",
                 "width": 3
                },
                "type": "line",
                "x0": "2020-02-15",
                "x1": "2020-02-15",
                "y0": -11.25059568153018,
                "y1": 7.144370779600369
               }
              ],
              "title": "Pandemic-related change in residential energy consumption for Indiana"
             },
             [
              0
             ]
            ],
            "label": "Indiana",
            "method": "update",
            "visible": true
           },
           {
            "args": [
             {
              "type": "scatter",
              "x": [
               [
                "2020-12-01",
                "2020-11-01",
                "2020-10-01",
                "2020-09-01",
                "2020-08-01",
                "2020-07-01",
                "2020-06-01",
                "2020-05-01",
                "2020-04-01",
                "2020-03-01",
                "2020-02-01",
                "2020-01-01",
                "2019-12-01",
                "2019-11-01",
                "2019-10-01",
                "2019-09-01",
                "2019-08-01",
                "2019-07-01",
                "2019-06-01",
                "2019-05-01",
                "2019-04-01",
                "2019-03-01",
                "2019-02-01",
                "2019-01-01"
               ]
              ],
              "y": [
               [
                2.39,
                7.17,
                -3.43,
                6.79,
                4.01,
                -0.15,
                2.3,
                3.8,
                2.12,
                -4.45,
                -4.25,
                -4.75,
                -0.78,
                -3.47,
                6.9,
                -6.5,
                1.37,
                1.06,
                -1.41,
                1.12,
                -8.98,
                7.27,
                5.17,
                -4.37
               ]
              ]
             },
             {
              "annotations": [
               {
                "font_color": "green",
                "font_family": "Arial",
                "font_size": 14,
                "showarrow": false,
                "text": "<b>+2.89%</b>",
                "x": "2020-01-20",
                "y": 2.056313421761029
               }
              ],
              "shapes": [
               {
                "line": {
                 "color": "red",
                 "dash": "dash",
                 "width": 2
                },
                "type": "line",
                "x0": "2019-01-01",
                "x1": "2020-02-18",
                "y0": -0.8312052242507794,
                "y1": -0.8312052242507794
               },
               {
                "line": {
                 "color": "green",
                 "dash": "dash",
                 "width": 2
                },
                "type": "line",
                "x0": "2020-02-15",
                "x1": "2020-12-01",
                "y0": 2.056313421761029,
                "y1": 2.056313421761029
               },
               {
                "line": {
                 "color": "#f76d23",
                 "dash": "dot",
                 "width": 3
                },
                "type": "line",
                "x0": "2020-02-15",
                "x1": "2020-02-15",
                "y0": -10.776168445275319,
                "y1": 8.722197292000068
               }
              ],
              "title": "Pandemic-related change in residential energy consumption for Iowa"
             },
             [
              0
             ]
            ],
            "label": "Iowa",
            "method": "update",
            "visible": true
           },
           {
            "args": [
             {
              "type": "scatter",
              "x": [
               [
                "2020-12-01",
                "2020-11-01",
                "2020-10-01",
                "2020-09-01",
                "2020-08-01",
                "2020-07-01",
                "2020-06-01",
                "2020-05-01",
                "2020-04-01",
                "2020-03-01",
                "2020-02-01",
                "2020-01-01",
                "2019-12-01",
                "2019-11-01",
                "2019-10-01",
                "2019-09-01",
                "2019-08-01",
                "2019-07-01",
                "2019-06-01",
                "2019-05-01",
                "2019-04-01",
                "2019-03-01",
                "2019-02-01",
                "2019-01-01"
               ]
              ],
              "y": [
               [
                2.58,
                3.33,
                4.52,
                2.13,
                -1.72,
                -3.56,
                -0.55,
                2.74,
                5.54,
                -1.21,
                -2.96,
                -12.14,
                -0.92,
                -1.03,
                5.67,
                5.59,
                -1.41,
                -5.01,
                -1.38,
                0.75,
                2.48,
                -1.82,
                2.41,
                -8.55
               ]
              ]
             },
             {
              "annotations": [
               {
                "font_color": "green",
                "font_family": "Arial",
                "font_size": 14,
                "showarrow": false,
                "text": "<b>+2.69%</b>",
                "x": "2020-01-20",
                "y": 1.3799893075303504
               }
              ],
              "shapes": [
               {
                "line": {
                 "color": "red",
                 "dash": "dash",
                 "width": 2
                },
                "type": "line",
                "x0": "2019-01-01",
                "x1": "2020-02-18",
                "y0": -1.308794750796677,
                "y1": -1.308794750796677
               },
               {
                "line": {
                 "color": "green",
                 "dash": "dash",
                 "width": 2
                },
                "type": "line",
                "x0": "2020-02-15",
                "x1": "2020-12-01",
                "y0": 1.3799893075303504,
                "y1": 1.3799893075303504
               },
               {
                "line": {
                 "color": "#f76d23",
                 "dash": "dot",
                 "width": 3
                },
                "type": "line",
                "x0": "2020-02-15",
                "x1": "2020-02-15",
                "y0": -14.5632566345557,
                "y1": 6.800197918056677
               }
              ],
              "title": "Pandemic-related change in residential energy consumption for Kansas"
             },
             [
              0
             ]
            ],
            "label": "Kansas",
            "method": "update",
            "visible": true
           },
           {
            "args": [
             {
              "type": "scatter",
              "x": [
               [
                "2020-12-01",
                "2020-11-01",
                "2020-10-01",
                "2020-09-01",
                "2020-08-01",
                "2020-07-01",
                "2020-06-01",
                "2020-05-01",
                "2020-04-01",
                "2020-03-01",
                "2020-02-01",
                "2020-01-01",
                "2019-12-01",
                "2019-11-01",
                "2019-10-01",
                "2019-09-01",
                "2019-08-01",
                "2019-07-01",
                "2019-06-01",
                "2019-05-01",
                "2019-04-01",
                "2019-03-01",
                "2019-02-01",
                "2019-01-01"
               ]
              ],
              "y": [
               [
                -0.68,
                1.83,
                -1.22,
                -0.49,
                1.01,
                1.55,
                3.34,
                6.99,
                -4.53,
                -2.37,
                -6.67,
                -7.88,
                1.27,
                -0.33,
                4.65,
                -3.34,
                -0.59,
                0.38,
                2.65,
                -5.44,
                -1.23,
                3.46,
                0.07,
                -4.28
               ]
              ]
             },
             {
              "annotations": [
               {
                "font_color": "green",
                "font_family": "Arial",
                "font_size": 14,
                "showarrow": false,
                "text": "<b>+1.78%</b>",
                "x": "2020-01-20",
                "y": 0.5433979174586125
               }
              ],
              "shapes": [
               {
                "line": {
                 "color": "red",
                 "dash": "dash",
                 "width": 2
                },
                "type": "line",
                "x0": "2019-01-01",
                "x1": "2020-02-18",
                "y0": -1.2348990433695597,
                "y1": -1.2348990433695597
               },
               {
                "line": {
                 "color": "green",
                 "dash": "dash",
                 "width": 2
                },
                "type": "line",
                "x0": "2020-02-15",
                "x1": "2020-12-01",
                "y0": 0.5433979174586125,
                "y1": 0.5433979174586125
               },
               {
                "line": {
                 "color": "#f76d23",
                 "dash": "dot",
                 "width": 3
                },
                "type": "line",
                "x0": "2020-02-15",
                "x1": "2020-02-15",
                "y0": -9.455245090317957,
                "y1": 8.385918132523559
               }
              ],
              "title": "Pandemic-related change in residential energy consumption for Kentucky"
             },
             [
              0
             ]
            ],
            "label": "Kentucky",
            "method": "update",
            "visible": true
           },
           {
            "args": [
             {
              "type": "scatter",
              "x": [
               [
                "2020-12-01",
                "2020-11-01",
                "2020-10-01",
                "2020-09-01",
                "2020-08-01",
                "2020-07-01",
                "2020-06-01",
                "2020-05-01",
                "2020-04-01",
                "2020-03-01",
                "2020-02-01",
                "2020-01-01",
                "2019-12-01",
                "2019-11-01",
                "2019-10-01",
                "2019-09-01",
                "2019-08-01",
                "2019-07-01",
                "2019-06-01",
                "2019-05-01",
                "2019-04-01",
                "2019-03-01",
                "2019-02-01",
                "2019-01-01"
               ]
              ],
              "y": [
               [
                4.64,
                5.04,
                -11.07,
                -0.65,
                -1.15,
                -3.51,
                -0.3,
                2.7,
                7.29,
                -0.58,
                -11.04,
                -3.64,
                4.53,
                -1.31,
                5.56,
                -1.75,
                -4.13,
                -2.57,
                4.87,
                -3.11,
                0.75,
                -4.4,
                -3.16,
                -3.68
               ]
              ]
             },
             {
              "annotations": [
               {
                "font_color": "green",
                "font_family": "Arial",
                "font_size": 14,
                "showarrow": false,
                "text": "<b>+1.89%</b>",
                "x": "2020-01-20",
                "y": 0.24057624236218295
               }
              ],
              "shapes": [
               {
                "line": {
                 "color": "red",
                 "dash": "dash",
                 "width": 2
                },
                "type": "line",
                "x0": "2019-01-01",
                "x1": "2020-02-18",
                "y0": -1.6477243958050516,
                "y1": -1.6477243958050516
               },
               {
                "line": {
                 "color": "green",
                 "dash": "dash",
                 "width": 2
                },
                "type": "line",
                "x0": "2020-02-15",
                "x1": "2020-12-01",
                "y0": 0.24057624236218295,
                "y1": 0.24057624236218295
               },
               {
                "line": {
                 "color": "#f76d23",
                 "dash": "dot",
                 "width": 3
                },
                "type": "line",
                "x0": "2020-02-15",
                "x1": "2020-02-15",
                "y0": -13.282329032938156,
                "y1": 8.74381755344341
               }
              ],
              "title": "Pandemic-related change in residential energy consumption for Louisiana"
             },
             [
              0
             ]
            ],
            "label": "Louisiana",
            "method": "update",
            "visible": true
           },
           {
            "args": [
             {
              "type": "scatter",
              "x": [
               [
                "2020-12-01",
                "2020-11-01",
                "2020-10-01",
                "2020-09-01",
                "2020-08-01",
                "2020-07-01",
                "2020-06-01",
                "2020-05-01",
                "2020-04-01",
                "2020-03-01",
                "2020-02-01",
                "2020-01-01",
                "2019-12-01",
                "2019-11-01",
                "2019-10-01",
                "2019-09-01",
                "2019-08-01",
                "2019-07-01",
                "2019-06-01",
                "2019-05-01",
                "2019-04-01",
                "2019-03-01",
                "2019-02-01",
                "2019-01-01"
               ]
              ],
              "y": [
               [
                -0.79,
                3.42,
                4.1,
                5.32,
                14.39,
                5.78,
                4.8,
                9.03,
                7.61,
                1.5,
                4.21,
                -2.13,
                -2.69,
                2.84,
                -3.49,
                0.41,
                -1.46,
                -9.09,
                -4.24,
                2.84,
                1.62,
                1.7,
                11.53,
                -4.38
               ]
              ]
             },
             {
              "annotations": [
               {
                "font_color": "green",
                "font_family": "Arial",
                "font_size": 14,
                "showarrow": false,
                "text": "<b>+5.68%</b>",
                "x": "2020-01-20",
                "y": 5.515562189996734
               }
              ],
              "shapes": [
               {
                "line": {
                 "color": "red",
                 "dash": "dash",
                 "width": 2
                },
                "type": "line",
                "x0": "2019-01-01",
                "x1": "2020-02-18",
                "y0": -0.16633036685675132,
                "y1": -0.16633036685675132
               },
               {
                "line": {
                 "color": "green",
                 "dash": "dash",
                 "width": 2
                },
                "type": "line",
                "x0": "2020-02-15",
                "x1": "2020-12-01",
                "y0": 5.515562189996734,
                "y1": 5.515562189996734
               },
               {
                "line": {
                 "color": "#f76d23",
                 "dash": "dot",
                 "width": 3
                },
                "type": "line",
                "x0": "2020-02-15",
                "x1": "2020-02-15",
                "y0": -10.903682417995599,
                "y1": 17.269104032045366
               }
              ],
              "title": "Pandemic-related change in residential energy consumption for Maine"
             },
             [
              0
             ]
            ],
            "label": "Maine",
            "method": "update",
            "visible": true
           },
           {
            "args": [
             {
              "type": "scatter",
              "x": [
               [
                "2020-12-01",
                "2020-11-01",
                "2020-10-01",
                "2020-09-01",
                "2020-08-01",
                "2020-07-01",
                "2020-06-01",
                "2020-05-01",
                "2020-04-01",
                "2020-03-01",
                "2020-02-01",
                "2020-01-01",
                "2019-12-01",
                "2019-11-01",
                "2019-10-01",
                "2019-09-01",
                "2019-08-01",
                "2019-07-01",
                "2019-06-01",
                "2019-05-01",
                "2019-04-01",
                "2019-03-01",
                "2019-02-01",
                "2019-01-01"
               ]
              ],
              "y": [
               [
                7.51,
                6.37,
                -5.3,
                2.07,
                5.53,
                9.31,
                10.42,
                9.54,
                -2.46,
                -7.62,
                -6.09,
                -3.7,
                5.11,
                1.07,
                -8.44,
                -6.48,
                -0.42,
                2.72,
                3.24,
                -5.67,
                -6.69,
                0.85,
                2.29,
                0.92
               ]
              ]
             },
             {
              "annotations": [
               {
                "font_color": "green",
                "font_family": "Arial",
                "font_size": 14,
                "showarrow": false,
                "text": "<b>+5.06%</b>",
                "x": "2020-01-20",
                "y": 3.5373052050320255
               }
              ],
              "shapes": [
               {
                "line": {
                 "color": "red",
                 "dash": "dash",
                 "width": 2
                },
                "type": "line",
                "x0": "2019-01-01",
                "x1": "2020-02-18",
                "y0": -1.5201001451522518,
                "y1": -1.5201001451522518
               },
               {
                "line": {
                 "color": "green",
                 "dash": "dash",
                 "width": 2
                },
                "type": "line",
                "x0": "2020-02-15",
                "x1": "2020-12-01",
                "y0": 3.5373052050320255,
                "y1": 3.5373052050320255
               },
               {
                "line": {
                 "color": "#f76d23",
                 "dash": "dot",
                 "width": 3
                },
                "type": "line",
                "x0": "2020-02-15",
                "x1": "2020-02-15",
                "y0": -10.12390421624208,
                "y1": 12.500367472800708
               }
              ],
              "title": "Pandemic-related change in residential energy consumption for Maryland"
             },
             [
              0
             ]
            ],
            "label": "Maryland",
            "method": "update",
            "visible": true
           },
           {
            "args": [
             {
              "type": "scatter",
              "x": [
               [
                "2020-12-01",
                "2020-11-01",
                "2020-10-01",
                "2020-09-01",
                "2020-08-01",
                "2020-07-01",
                "2020-06-01",
                "2020-05-01",
                "2020-04-01",
                "2020-03-01",
                "2020-02-01",
                "2020-01-01",
                "2019-12-01",
                "2019-11-01",
                "2019-10-01",
                "2019-09-01",
                "2019-08-01",
                "2019-07-01",
                "2019-06-01",
                "2019-05-01",
                "2019-04-01",
                "2019-03-01",
                "2019-02-01",
                "2019-01-01"
               ]
              ],
              "y": [
               [
                11.25,
                7.3,
                9.56,
                13.01,
                13.08,
                4.99,
                8.56,
                12.9,
                5,
                -2.13,
                -3.76,
                -0.43,
                -1.08,
                -1.12,
                2.34,
                -1.87,
                4.46,
                -3.01,
                -3.15,
                0.56,
                -0.84,
                -1.58,
                0.53,
                -3.06
               ]
              ]
             },
             {
              "annotations": [
               {
                "font_color": "green",
                "font_family": "Arial",
                "font_size": 14,
                "showarrow": false,
                "text": "<b>+9.21%</b>",
                "x": "2020-01-20",
                "y": 8.352304702042023
               }
              ],
              "shapes": [
               {
                "line": {
                 "color": "red",
                 "dash": "dash",
                 "width": 2
                },
                "type": "line",
                "x0": "2019-01-01",
                "x1": "2020-02-18",
                "y0": -0.8566484826088673,
                "y1": -0.8566484826088673
               },
               {
                "line": {
                 "color": "green",
                 "dash": "dash",
                 "width": 2
                },
                "type": "line",
                "x0": "2020-02-15",
                "x1": "2020-12-01",
                "y0": 8.352304702042023,
                "y1": 8.352304702042023
               },
               {
                "line": {
                 "color": "#f76d23",
                 "dash": "dot",
                 "width": 3
                },
                "type": "line",
                "x0": "2020-02-15",
                "x1": "2020-02-15",
                "y0": -4.506538694188656,
                "y1": 15.694108691020762
               }
              ],
              "title": "Pandemic-related change in residential energy consumption for Massachusetts"
             },
             [
              0
             ]
            ],
            "label": "Massachusetts",
            "method": "update",
            "visible": true
           },
           {
            "args": [
             {
              "type": "scatter",
              "x": [
               [
                "2020-12-01",
                "2020-11-01",
                "2020-10-01",
                "2020-09-01",
                "2020-08-01",
                "2020-07-01",
                "2020-06-01",
                "2020-05-01",
                "2020-04-01",
                "2020-03-01",
                "2020-02-01",
                "2020-01-01",
                "2019-12-01",
                "2019-11-01",
                "2019-10-01",
                "2019-09-01",
                "2019-08-01",
                "2019-07-01",
                "2019-06-01",
                "2019-05-01",
                "2019-04-01",
                "2019-03-01",
                "2019-02-01",
                "2019-01-01"
               ]
              ],
              "y": [
               [
                4.59,
                10.43,
                11.57,
                6.68,
                9.02,
                11.37,
                15.08,
                17.54,
                8.2,
                2.58,
                0.74,
                -5.65,
                -0.48,
                4.41,
                2.03,
                -9.12,
                0.53,
                1.71,
                -1.19,
                -2.11,
                -1.69,
                0.21,
                4.27,
                -3.06
               ]
              ]
             },
             {
              "annotations": [
               {
                "font_color": "green",
                "font_family": "Arial",
                "font_size": 14,
                "showarrow": false,
                "text": "<b>+10.38%</b>",
                "x": "2020-01-20",
                "y": 9.70683545569975
               }
              ],
              "shapes": [
               {
                "line": {
                 "color": "red",
                 "dash": "dash",
                 "width": 2
                },
                "type": "line",
                "x0": "2019-01-01",
                "x1": "2020-02-18",
                "y0": -0.6730551231847783,
                "y1": -0.6730551231847783
               },
               {
                "line": {
                 "color": "green",
                 "dash": "dash",
                 "width": 2
                },
                "type": "line",
                "x0": "2020-02-15",
                "x1": "2020-12-01",
                "y0": 9.70683545569975,
                "y1": 9.70683545569975
               },
               {
                "line": {
                 "color": "#f76d23",
                 "dash": "dot",
                 "width": 3
                },
                "type": "line",
                "x0": "2020-02-15",
                "x1": "2020-02-15",
                "y0": -10.946789203271601,
                "y1": 21.05294131698683
               }
              ],
              "title": "Pandemic-related change in residential energy consumption for Michigan"
             },
             [
              0
             ]
            ],
            "label": "Michigan",
            "method": "update",
            "visible": true
           },
           {
            "args": [
             {
              "type": "scatter",
              "x": [
               [
                "2020-12-01",
                "2020-11-01",
                "2020-10-01",
                "2020-09-01",
                "2020-08-01",
                "2020-07-01",
                "2020-06-01",
                "2020-05-01",
                "2020-04-01",
                "2020-03-01",
                "2020-02-01",
                "2020-01-01",
                "2019-12-01",
                "2019-11-01",
                "2019-10-01",
                "2019-09-01",
                "2019-08-01",
                "2019-07-01",
                "2019-06-01",
                "2019-05-01",
                "2019-04-01",
                "2019-03-01",
                "2019-02-01",
                "2019-01-01"
               ]
              ],
              "y": [
               [
                4.37,
                6.49,
                3.84,
                4.79,
                7.84,
                9.64,
                7.9,
                7.24,
                4.67,
                0.22,
                -5.08,
                -3.07,
                1.3,
                0.52,
                3.93,
                -7.52,
                -2.5,
                -0.85,
                2.79,
                -0.22,
                -0.02,
                3.36,
                0.2,
                -3.13
               ]
              ]
             },
             {
              "annotations": [
               {
                "font_color": "green",
                "font_family": "Arial",
                "font_size": 14,
                "showarrow": false,
                "text": "<b>+6.43%</b>",
                "x": "2020-01-20",
                "y": 5.698116884538729
               }
              ],
              "shapes": [
               {
                "line": {
                 "color": "red",
                 "dash": "dash",
                 "width": 2
                },
                "type": "line",
                "x0": "2019-01-01",
                "x1": "2020-02-18",
                "y0": -0.7356098296608219,
                "y1": -0.7356098296608219
               },
               {
                "line": {
                 "color": "green",
                 "dash": "dash",
                 "width": 2
                },
                "type": "line",
                "x0": "2020-02-15",
                "x1": "2020-12-01",
                "y0": 5.698116884538729,
                "y1": 5.698116884538729
               },
               {
                "line": {
                 "color": "#f76d23",
                 "dash": "dot",
                 "width": 3
                },
                "type": "line",
                "x0": "2020-02-15",
                "x1": "2020-02-15",
                "y0": -9.021501476429211,
                "y1": 11.563866426429191
               }
              ],
              "title": "Pandemic-related change in residential energy consumption for Minnesota"
             },
             [
              0
             ]
            ],
            "label": "Minnesota",
            "method": "update",
            "visible": true
           },
           {
            "args": [
             {
              "type": "scatter",
              "x": [
               [
                "2020-12-01",
                "2020-11-01",
                "2020-10-01",
                "2020-09-01",
                "2020-08-01",
                "2020-07-01",
                "2020-06-01",
                "2020-05-01",
                "2020-04-01",
                "2020-03-01",
                "2020-02-01",
                "2020-01-01",
                "2019-12-01",
                "2019-11-01",
                "2019-10-01",
                "2019-09-01",
                "2019-08-01",
                "2019-07-01",
                "2019-06-01",
                "2019-05-01",
                "2019-04-01",
                "2019-03-01",
                "2019-02-01",
                "2019-01-01"
               ]
              ],
              "y": [
               [
                1.26,
                -1.26,
                -11.53,
                -3.8,
                -1.67,
                -6.58,
                -1.25,
                2.25,
                -4.6,
                -2.78,
                -11.5,
                -7.76,
                2.95,
                2.18,
                9.57,
                -0.17,
                -4.02,
                -7.33,
                2.73,
                -3.47,
                -1.47,
                -4.92,
                -1.39,
                -0.18
               ]
              ]
             },
             {
              "annotations": [
               {
                "font_color": "red",
                "font_family": "Arial",
                "font_size": 14,
                "showarrow": false,
                "text": "<b>-1.23%</b>",
                "x": "2020-01-20",
                "y": -2.9965849422221575
               }
              ],
              "shapes": [
               {
                "line": {
                 "color": "red",
                 "dash": "dash",
                 "width": 2
                },
                "type": "line",
                "x0": "2019-01-01",
                "x1": "2020-02-18",
                "y0": -1.7697276359335201,
                "y1": -1.7697276359335201
               },
               {
                "line": {
                 "color": "green",
                 "dash": "dash",
                 "width": 2
                },
                "type": "line",
                "x0": "2020-02-15",
                "x1": "2020-12-01",
                "y0": -2.9965849422221575,
                "y1": -2.9965849422221575
               },
               {
                "line": {
                 "color": "#f76d23",
                 "dash": "dot",
                 "width": 3
                },
                "type": "line",
                "x0": "2020-02-15",
                "x1": "2020-02-15",
                "y0": -13.835644307525756,
                "y1": 11.479244236919405
               }
              ],
              "title": "Pandemic-related change in residential energy consumption for Mississippi"
             },
             [
              0
             ]
            ],
            "label": "Mississippi",
            "method": "update",
            "visible": true
           },
           {
            "args": [
             {
              "type": "scatter",
              "x": [
               [
                "2020-12-01",
                "2020-11-01",
                "2020-10-01",
                "2020-09-01",
                "2020-08-01",
                "2020-07-01",
                "2020-06-01",
                "2020-05-01",
                "2020-04-01",
                "2020-03-01",
                "2020-02-01",
                "2020-01-01",
                "2019-12-01",
                "2019-11-01",
                "2019-10-01",
                "2019-09-01",
                "2019-08-01",
                "2019-07-01",
                "2019-06-01",
                "2019-05-01",
                "2019-04-01",
                "2019-03-01",
                "2019-02-01",
                "2019-01-01"
               ]
              ],
              "y": [
               [
                2.23,
                2.26,
                -3.75,
                -0.52,
                -6.02,
                -2.6,
                -4.44,
                3.63,
                -1.5,
                -4.18,
                -3.68,
                -6.77,
                -0.01,
                1.74,
                4.9,
                1.41,
                0.24,
                -4.82,
                -0.67,
                1.41,
                0.25,
                -1.71,
                -2.92,
                -7.57
               ]
              ]
             },
             {
              "annotations": [
               {
                "font_color": "red",
                "font_family": "Arial",
                "font_size": 14,
                "showarrow": false,
                "text": "<b>-0.19%</b>",
                "x": "2020-01-20",
                "y": -1.4877434427900056
               }
              ],
              "shapes": [
               {
                "line": {
                 "color": "red",
                 "dash": "dash",
                 "width": 2
                },
                "type": "line",
                "x0": "2019-01-01",
                "x1": "2020-02-18",
                "y0": -1.2997878713459634,
                "y1": -1.2997878713459634
               },
               {
                "line": {
                 "color": "green",
                 "dash": "dash",
                 "width": 2
                },
                "type": "line",
                "x0": "2020-02-15",
                "x1": "2020-12-01",
                "y0": -1.4877434427900056,
                "y1": -1.4877434427900056
               },
               {
                "line": {
                 "color": "#f76d23",
                 "dash": "dot",
                 "width": 3
                },
                "type": "line",
                "x0": "2020-02-15",
                "x1": "2020-02-15",
                "y0": -9.088295130608778,
                "y1": 5.876639086915366
               }
              ],
              "title": "Pandemic-related change in residential energy consumption for Missouri"
             },
             [
              0
             ]
            ],
            "label": "Missouri",
            "method": "update",
            "visible": true
           },
           {
            "args": [
             {
              "type": "scatter",
              "x": [
               [
                "2020-12-01",
                "2020-11-01",
                "2020-10-01",
                "2020-09-01",
                "2020-08-01",
                "2020-07-01",
                "2020-06-01",
                "2020-05-01",
                "2020-04-01",
                "2020-03-01",
                "2020-02-01",
                "2020-01-01",
                "2019-12-01",
                "2019-11-01",
                "2019-10-01",
                "2019-09-01",
                "2019-08-01",
                "2019-07-01",
                "2019-06-01",
                "2019-05-01",
                "2019-04-01",
                "2019-03-01",
                "2019-02-01",
                "2019-01-01"
               ]
              ],
              "y": [
               [
                0.95,
                6.83,
                -4.77,
                3.26,
                2.59,
                -2.2,
                2.79,
                -0.53,
                8.24,
                -4.73,
                -9.24,
                -7.59,
                -1.07,
                6.59,
                2.26,
                -5.42,
                -4.59,
                -8.97,
                -3.52,
                -5.5,
                1.64,
                13.6,
                4.18,
                -6.97
               ]
              ]
             },
             {
              "annotations": [
               {
                "font_color": "green",
                "font_family": "Arial",
                "font_size": 14,
                "showarrow": false,
                "text": "<b>+3.0%</b>",
                "x": "2020-01-20",
                "y": 1.2446376182539733
               }
              ],
              "shapes": [
               {
                "line": {
                 "color": "red",
                 "dash": "dash",
                 "width": 2
                },
                "type": "line",
                "x0": "2019-01-01",
                "x1": "2020-02-18",
                "y0": -1.7563230024433891,
                "y1": -1.7563230024433891
               },
               {
                "line": {
                 "color": "green",
                 "dash": "dash",
                 "width": 2
                },
                "type": "line",
                "x0": "2020-02-15",
                "x1": "2020-12-01",
                "y0": 1.2446376182539733,
                "y1": 1.2446376182539733
               },
               {
                "line": {
                 "color": "#f76d23",
                 "dash": "dot",
                 "width": 3
                },
                "type": "line",
                "x0": "2020-02-15",
                "x1": "2020-02-15",
                "y0": -11.08836871892972,
                "y1": 16.318634489892865
               }
              ],
              "title": "Pandemic-related change in residential energy consumption for Montana"
             },
             [
              0
             ]
            ],
            "label": "Montana",
            "method": "update",
            "visible": true
           },
           {
            "args": [
             {
              "type": "scatter",
              "x": [
               [
                "2020-12-01",
                "2020-11-01",
                "2020-10-01",
                "2020-09-01",
                "2020-08-01",
                "2020-07-01",
                "2020-06-01",
                "2020-05-01",
                "2020-04-01",
                "2020-03-01",
                "2020-02-01",
                "2020-01-01",
                "2019-12-01",
                "2019-11-01",
                "2019-10-01",
                "2019-09-01",
                "2019-08-01",
                "2019-07-01",
                "2019-06-01",
                "2019-05-01",
                "2019-04-01",
                "2019-03-01",
                "2019-02-01",
                "2019-01-01"
               ]
              ],
              "y": [
               [
                -2.31,
                6.64,
                -4.62,
                5.37,
                -3.73,
                1.94,
                4.96,
                1.31,
                -1.93,
                -5.11,
                -6.97,
                -5.03,
                -0.38,
                1.22,
                7.04,
                -6.19,
                -0.6,
                -2.15,
                0.99,
                -1.42,
                -3.43,
                7.11,
                3.73,
                -4.47
               ]
              ]
             },
             {
              "annotations": [
               {
                "font_color": "green",
                "font_family": "Arial",
                "font_size": 14,
                "showarrow": false,
                "text": "<b>+1.01%</b>",
                "x": "2020-01-20",
                "y": 0.251634982011714
               }
              ],
              "shapes": [
               {
                "line": {
                 "color": "red",
                 "dash": "dash",
                 "width": 2
                },
                "type": "line",
                "x0": "2019-01-01",
                "x1": "2020-02-18",
                "y0": -0.7541320220218343,
                "y1": -0.7541320220218343
               },
               {
                "line": {
                 "color": "green",
                 "dash": "dash",
                 "width": 2
                },
                "type": "line",
                "x0": "2020-02-15",
                "x1": "2020-12-01",
                "y0": 0.251634982011714,
                "y1": 0.251634982011714
               },
               {
                "line": {
                 "color": "#f76d23",
                 "dash": "dot",
                 "width": 3
                },
                "type": "line",
                "x0": "2020-02-15",
                "x1": "2020-02-15",
                "y0": -8.358286666195445,
                "y1": 8.531712809584105
               }
              ],
              "title": "Pandemic-related change in residential energy consumption for Nebraska"
             },
             [
              0
             ]
            ],
            "label": "Nebraska",
            "method": "update",
            "visible": true
           },
           {
            "args": [
             {
              "type": "scatter",
              "x": [
               [
                "2020-12-01",
                "2020-11-01",
                "2020-10-01",
                "2020-09-01",
                "2020-08-01",
                "2020-07-01",
                "2020-06-01",
                "2020-05-01",
                "2020-04-01",
                "2020-03-01",
                "2020-02-01",
                "2020-01-01",
                "2019-12-01",
                "2019-11-01",
                "2019-10-01",
                "2019-09-01",
                "2019-08-01",
                "2019-07-01",
                "2019-06-01",
                "2019-05-01",
                "2019-04-01",
                "2019-03-01",
                "2019-02-01",
                "2019-01-01"
               ]
              ],
              "y": [
               [
                7.81,
                20.04,
                11.09,
                7.59,
                3.59,
                2.39,
                5.43,
                14.23,
                13.31,
                7.31,
                -1.29,
                -10.88,
                2.35,
                13.71,
                -6.57,
                -2.93,
                -3.55,
                -5.86,
                1.3,
                -0.18,
                4.93,
                1.1,
                10.16,
                -8.06
               ]
              ]
             },
             {
              "annotations": [
               {
                "font_color": "green",
                "font_family": "Arial",
                "font_size": 14,
                "showarrow": false,
                "text": "<b>+9.69%</b>",
                "x": "2020-01-20",
                "y": 9.278368326431226
               }
              ],
              "shapes": [
               {
                "line": {
                 "color": "red",
                 "dash": "dash",
                 "width": 2
                },
                "type": "line",
                "x0": "2019-01-01",
                "x1": "2020-02-18",
                "y0": -0.41209079915064584,
                "y1": -0.41209079915064584
               },
               {
                "line": {
                 "color": "green",
                 "dash": "dash",
                 "width": 2
                },
                "type": "line",
                "x0": "2020-02-15",
                "x1": "2020-12-01",
                "y0": 9.278368326431226,
                "y1": 9.278368326431226
               },
               {
                "line": {
                 "color": "#f76d23",
                 "dash": "dot",
                 "width": 3
                },
                "type": "line",
                "x0": "2020-02-15",
                "x1": "2020-02-15",
                "y0": -13.050759022599555,
                "y1": 24.043055803949482
               }
              ],
              "title": "Pandemic-related change in residential energy consumption for Nevada"
             },
             [
              0
             ]
            ],
            "label": "Nevada",
            "method": "update",
            "visible": true
           },
           {
            "args": [
             {
              "type": "scatter",
              "x": [
               [
                "2020-12-01",
                "2020-11-01",
                "2020-10-01",
                "2020-09-01",
                "2020-08-01",
                "2020-07-01",
                "2020-06-01",
                "2020-05-01",
                "2020-04-01",
                "2020-03-01",
                "2020-02-01",
                "2020-01-01",
                "2019-12-01",
                "2019-11-01",
                "2019-10-01",
                "2019-09-01",
                "2019-08-01",
                "2019-07-01",
                "2019-06-01",
                "2019-05-01",
                "2019-04-01",
                "2019-03-01",
                "2019-02-01",
                "2019-01-01"
               ]
              ],
              "y": [
               [
                11.61,
                8.22,
                3.67,
                -6.91,
                11.96,
                13.46,
                13.94,
                14.59,
                -0.92,
                0.28,
                -8.46,
                -0.04,
                7.63,
                -2.38,
                -2.81,
                -14.51,
                5.47,
                3.09,
                0.61,
                -3.35,
                -5.14,
                -1.9,
                -1.46,
                0.23
               ]
              ]
             },
             {
              "annotations": [
               {
                "font_color": "green",
                "font_family": "Arial",
                "font_size": 14,
                "showarrow": false,
                "text": "<b>+8.63%</b>",
                "x": "2020-01-20",
                "y": 6.987743332388348
               }
              ],
              "shapes": [
               {
                "line": {
                 "color": "red",
                 "dash": "dash",
                 "width": 2
                },
                "type": "line",
                "x0": "2019-01-01",
                "x1": "2020-02-18",
                "y0": -1.6430137044979882,
                "y1": -1.6430137044979882
               },
               {
                "line": {
                 "color": "green",
                 "dash": "dash",
                 "width": 2
                },
                "type": "line",
                "x0": "2020-02-15",
                "x1": "2020-12-01",
                "y0": 6.987743332388348,
                "y1": 6.987743332388348
               },
               {
                "line": {
                 "color": "#f76d23",
                 "dash": "dot",
                 "width": 3
                },
                "type": "line",
                "x0": "2020-02-15",
                "x1": "2020-02-15",
                "y0": -17.406118504155252,
                "y1": 17.50765786542379
               }
              ],
              "title": "Pandemic-related change in residential energy consumption for New Hampshire"
             },
             [
              0
             ]
            ],
            "label": "New Hampshire",
            "method": "update",
            "visible": true
           },
           {
            "args": [
             {
              "type": "scatter",
              "x": [
               [
                "2020-12-01",
                "2020-11-01",
                "2020-10-01",
                "2020-09-01",
                "2020-08-01",
                "2020-07-01",
                "2020-06-01",
                "2020-05-01",
                "2020-04-01",
                "2020-03-01",
                "2020-02-01",
                "2020-01-01",
                "2019-12-01",
                "2019-11-01",
                "2019-10-01",
                "2019-09-01",
                "2019-08-01",
                "2019-07-01",
                "2019-06-01",
                "2019-05-01",
                "2019-04-01",
                "2019-03-01",
                "2019-02-01",
                "2019-01-01"
               ]
              ],
              "y": [
               [
                10.17,
                8.35,
                -1.76,
                8.91,
                4.09,
                4.56,
                5.48,
                11.59,
                8.72,
                -4.13,
                -3.13,
                -4.29,
                0.5,
                -3.07,
                -1.18,
                -0.25,
                1.04,
                0.82,
                2.82,
                -1.75,
                -5.28,
                -1.49,
                2.03,
                -3.22
               ]
              ]
             },
             {
              "annotations": [
               {
                "font_color": "green",
                "font_family": "Arial",
                "font_size": 14,
                "showarrow": false,
                "text": "<b>+6.77%</b>",
                "x": "2020-01-20",
                "y": 5.597325314865089
               }
              ],
              "shapes": [
               {
                "line": {
                 "color": "red",
                 "dash": "dash",
                 "width": 2
                },
                "type": "line",
                "x0": "2019-01-01",
                "x1": "2020-02-18",
                "y0": -1.1753146405029082,
                "y1": -1.1753146405029082
               },
               {
                "line": {
                 "color": "green",
                 "dash": "dash",
                 "width": 2
                },
                "type": "line",
                "x0": "2020-02-15",
                "x1": "2020-12-01",
                "y0": 5.597325314865089,
                "y1": 5.597325314865089
               },
               {
                "line": {
                 "color": "#f76d23",
                 "dash": "dot",
                 "width": 3
                },
                "type": "line",
                "x0": "2020-02-15",
                "x1": "2020-02-15",
                "y0": -6.340560813533869,
                "y1": 13.909390793213605
               }
              ],
              "title": "Pandemic-related change in residential energy consumption for New Jersey"
             },
             [
              0
             ]
            ],
            "label": "New Jersey",
            "method": "update",
            "visible": true
           },
           {
            "args": [
             {
              "type": "scatter",
              "x": [
               [
                "2020-12-01",
                "2020-11-01",
                "2020-10-01",
                "2020-09-01",
                "2020-08-01",
                "2020-07-01",
                "2020-06-01",
                "2020-05-01",
                "2020-04-01",
                "2020-03-01",
                "2020-02-01",
                "2020-01-01",
                "2019-12-01",
                "2019-11-01",
                "2019-10-01",
                "2019-09-01",
                "2019-08-01",
                "2019-07-01",
                "2019-06-01",
                "2019-05-01",
                "2019-04-01",
                "2019-03-01",
                "2019-02-01",
                "2019-01-01"
               ]
              ],
              "y": [
               [
                0.05,
                4.3,
                -0.57,
                -3.8,
                3.08,
                6.67,
                7.91,
                7.6,
                -4.16,
                -9,
                -10.59,
                -3.39,
                -2.37,
                0.92,
                -3.26,
                4.4,
                2.92,
                0.28,
                -2.94,
                0.93,
                -6.98,
                -2.11,
                -3.96,
                1.75
               ]
              ]
             },
             {
              "annotations": [
               {
                "font_color": "green",
                "font_family": "Arial",
                "font_size": 14,
                "showarrow": false,
                "text": "<b>+2.95%</b>",
                "x": "2020-01-20",
                "y": 1.2071988877235407
               }
              ],
              "shapes": [
               {
                "line": {
                 "color": "red",
                 "dash": "dash",
                 "width": 2
                },
                "type": "line",
                "x0": "2019-01-01",
                "x1": "2020-02-18",
                "y0": -1.7424618681054622,
                "y1": -1.7424618681054622
               },
               {
                "line": {
                 "color": "green",
                 "dash": "dash",
                 "width": 2
                },
                "type": "line",
                "x0": "2020-02-15",
                "x1": "2020-12-01",
                "y0": 1.2071988877235407,
                "y1": 1.2071988877235407
               },
               {
                "line": {
                 "color": "#f76d23",
                 "dash": "dot",
                 "width": 3
                },
                "type": "line",
                "x0": "2020-02-15",
                "x1": "2020-02-15",
                "y0": -12.710533278613415,
                "y1": 9.488132571843042
               }
              ],
              "title": "Pandemic-related change in residential energy consumption for New Mexico"
             },
             [
              0
             ]
            ],
            "label": "New Mexico",
            "method": "update",
            "visible": true
           },
           {
            "args": [
             {
              "type": "scatter",
              "x": [
               [
                "2020-12-01",
                "2020-11-01",
                "2020-10-01",
                "2020-09-01",
                "2020-08-01",
                "2020-07-01",
                "2020-06-01",
                "2020-05-01",
                "2020-04-01",
                "2020-03-01",
                "2020-02-01",
                "2020-01-01",
                "2019-12-01",
                "2019-11-01",
                "2019-10-01",
                "2019-09-01",
                "2019-08-01",
                "2019-07-01",
                "2019-06-01",
                "2019-05-01",
                "2019-04-01",
                "2019-03-01",
                "2019-02-01",
                "2019-01-01"
               ]
              ],
              "y": [
               [
                8.35,
                9.64,
                9.87,
                11.24,
                10.67,
                8.34,
                8.97,
                8.81,
                1.64,
                0.1,
                -3.8,
                -0.75,
                2.12,
                -3.35,
                -2.34,
                -4.36,
                5.83,
                0.08,
                0.52,
                -2.02,
                -2.31,
                -1.41,
                1.24,
                -4.09
               ]
              ]
             },
             {
              "annotations": [
               {
                "font_color": "green",
                "font_family": "Arial",
                "font_size": 14,
                "showarrow": false,
                "text": "<b>+8.81%</b>",
                "x": "2020-01-20",
                "y": 7.763803318839419
               }
              ],
              "shapes": [
               {
                "line": {
                 "color": "red",
                 "dash": "dash",
                 "width": 2
                },
                "type": "line",
                "x0": "2019-01-01",
                "x1": "2020-02-18",
                "y0": -1.0466826477007183,
                "y1": -1.0466826477007183
               },
               {
                "line": {
                 "color": "green",
                 "dash": "dash",
                 "width": 2
                },
                "type": "line",
                "x0": "2020-02-15",
                "x1": "2020-12-01",
                "y0": 7.763803318839419,
                "y1": 7.763803318839419
               },
               {
                "line": {
                 "color": "#f76d23",
                 "dash": "dot",
                 "width": 3
                },
                "type": "line",
                "x0": "2020-02-15",
                "x1": "2020-02-15",
                "y0": -5.227477464832221,
                "y1": 13.491230031290796
               }
              ],
              "title": "Pandemic-related change in residential energy consumption for New York"
             },
             [
              0
             ]
            ],
            "label": "New York",
            "method": "update",
            "visible": true
           },
           {
            "args": [
             {
              "type": "scatter",
              "x": [
               [
                "2020-12-01",
                "2020-11-01",
                "2020-10-01",
                "2020-09-01",
                "2020-08-01",
                "2020-07-01",
                "2020-06-01",
                "2020-05-01",
                "2020-04-01",
                "2020-03-01",
                "2020-02-01",
                "2020-01-01",
                "2019-12-01",
                "2019-11-01",
                "2019-10-01",
                "2019-09-01",
                "2019-08-01",
                "2019-07-01",
                "2019-06-01",
                "2019-05-01",
                "2019-04-01",
                "2019-03-01",
                "2019-02-01",
                "2019-01-01"
               ]
              ],
              "y": [
               [
                3.04,
                6.68,
                -1.23,
                -1.83,
                -0.94,
                -1.95,
                -1.06,
                9.88,
                -2.77,
                -6.26,
                -3.43,
                -8.62,
                0.45,
                3.35,
                4.31,
                0.87,
                -2.97,
                -5.11,
                0.54,
                2.09,
                4.31,
                -2.61,
                -1.02,
                -6.78
               ]
              ]
             },
             {
              "annotations": [
               {
                "font_color": "green",
                "font_family": "Arial",
                "font_size": 14,
                "showarrow": false,
                "text": "<b>+1.4%</b>",
                "x": "2020-01-20",
                "y": 0.35605414542441105
               }
              ],
              "shapes": [
               {
                "line": {
                 "color": "red",
                 "dash": "dash",
                 "width": 2
                },
                "type": "line",
                "x0": "2019-01-01",
                "x1": "2020-02-18",
                "y0": -1.045867842462703,
                "y1": -1.045867842462703
               },
               {
                "line": {
                 "color": "green",
                 "dash": "dash",
                 "width": 2
                },
                "type": "line",
                "x0": "2020-02-15",
                "x1": "2020-12-01",
                "y0": 0.35605414542441105,
                "y1": 0.35605414542441105
               },
               {
                "line": {
                 "color": "#f76d23",
                 "dash": "dot",
                 "width": 3
                },
                "type": "line",
                "x0": "2020-02-15",
                "x1": "2020-02-15",
                "y0": -10.340252012662729,
                "y1": 11.857745830034851
               }
              ],
              "title": "Pandemic-related change in residential energy consumption for North Carolina"
             },
             [
              0
             ]
            ],
            "label": "North Carolina",
            "method": "update",
            "visible": true
           },
           {
            "args": [
             {
              "type": "scatter",
              "x": [
               [
                "2020-12-01",
                "2020-11-01",
                "2020-10-01",
                "2020-09-01",
                "2020-08-01",
                "2020-07-01",
                "2020-06-01",
                "2020-05-01",
                "2020-04-01",
                "2020-03-01",
                "2020-02-01",
                "2020-01-01",
                "2019-12-01",
                "2019-11-01",
                "2019-10-01",
                "2019-09-01",
                "2019-08-01",
                "2019-07-01",
                "2019-06-01",
                "2019-05-01",
                "2019-04-01",
                "2019-03-01",
                "2019-02-01",
                "2019-01-01"
               ]
              ],
              "y": [
               [
                -12.15,
                -0.45,
                -3.6,
                -1.17,
                6.62,
                3.76,
                6.89,
                4.62,
                1.52,
                -6.04,
                -11.58,
                -3.29,
                0.65,
                -0.73,
                6.73,
                -6.72,
                -1.21,
                -2.26,
                7.01,
                -4.31,
                -5.89,
                0.04,
                4.32,
                -1.77
               ]
              ]
             },
             {
              "annotations": [
               {
                "font_color": "green",
                "font_family": "Arial",
                "font_size": 14,
                "showarrow": false,
                "text": "<b>+1.36%</b>",
                "x": "2020-01-20",
                "y": -0.00012790528628165988
               }
              ],
              "shapes": [
               {
                "line": {
                 "color": "red",
                 "dash": "dash",
                 "width": 2
                },
                "type": "line",
                "x0": "2019-01-01",
                "x1": "2020-02-18",
                "y0": -1.3585866467037007,
                "y1": -1.3585866467037007
               },
               {
                "line": {
                 "color": "green",
                 "dash": "dash",
                 "width": 2
                },
                "type": "line",
                "x0": "2020-02-15",
                "x1": "2020-12-01",
                "y0": -0.00012790528628165988,
                "y1": -0.00012790528628165988
               },
               {
                "line": {
                 "color": "#f76d23",
                 "dash": "dot",
                 "width": 3
                },
                "type": "line",
                "x0": "2020-02-15",
                "x1": "2020-02-15",
                "y0": -14.575362238853769,
                "y1": 8.411399895790199
               }
              ],
              "title": "Pandemic-related change in residential energy consumption for North Dakota"
             },
             [
              0
             ]
            ],
            "label": "North Dakota",
            "method": "update",
            "visible": true
           },
           {
            "args": [
             {
              "type": "scatter",
              "x": [
               [
                "2020-12-01",
                "2020-11-01",
                "2020-10-01",
                "2020-09-01",
                "2020-08-01",
                "2020-07-01",
                "2020-06-01",
                "2020-05-01",
                "2020-04-01",
                "2020-03-01",
                "2020-02-01",
                "2020-01-01",
                "2019-12-01",
                "2019-11-01",
                "2019-10-01",
                "2019-09-01",
                "2019-08-01",
                "2019-07-01",
                "2019-06-01",
                "2019-05-01",
                "2019-04-01",
                "2019-03-01",
                "2019-02-01",
                "2019-01-01"
               ]
              ],
              "y": [
               [
                2.3,
                2.9,
                1.53,
                5.6,
                2.14,
                1.13,
                3.33,
                10.72,
                3.43,
                -7.26,
                -1.18,
                -6.03,
                -1.39,
                -3.61,
                3.19,
                1.25,
                1.33,
                2.21,
                0.03,
                -3.08,
                -1.24,
                0.86,
                -0.87,
                -7.53
               ]
              ]
             },
             {
              "annotations": [
               {
                "font_color": "green",
                "font_family": "Arial",
                "font_size": 14,
                "showarrow": false,
                "text": "<b>+3.73%</b>",
                "x": "2020-01-20",
                "y": 2.5798450491730285
               }
              ],
              "shapes": [
               {
                "line": {
                 "color": "red",
                 "dash": "dash",
                 "width": 2
                },
                "type": "line",
                "x0": "2019-01-01",
                "x1": "2020-02-18",
                "y0": -1.1479366718247361,
                "y1": -1.1479366718247361
               },
               {
                "line": {
                 "color": "green",
                 "dash": "dash",
                 "width": 2
                },
                "type": "line",
                "x0": "2020-02-15",
                "x1": "2020-12-01",
                "y0": 2.5798450491730285,
                "y1": 2.5798450491730285
               },
               {
                "line": {
                 "color": "#f76d23",
                 "dash": "dot",
                 "width": 3
                },
                "type": "line",
                "x0": "2020-02-15",
                "x1": "2020-02-15",
                "y0": -9.031638409790968,
                "y1": 12.859294997953292
               }
              ],
              "title": "Pandemic-related change in residential energy consumption for Ohio"
             },
             [
              0
             ]
            ],
            "label": "Ohio",
            "method": "update",
            "visible": true
           },
           {
            "args": [
             {
              "type": "scatter",
              "x": [
               [
                "2020-12-01",
                "2020-11-01",
                "2020-10-01",
                "2020-09-01",
                "2020-08-01",
                "2020-07-01",
                "2020-06-01",
                "2020-05-01",
                "2020-04-01",
                "2020-03-01",
                "2020-02-01",
                "2020-01-01",
                "2019-12-01",
                "2019-11-01",
                "2019-10-01",
                "2019-09-01",
                "2019-08-01",
                "2019-07-01",
                "2019-06-01",
                "2019-05-01",
                "2019-04-01",
                "2019-03-01",
                "2019-02-01",
                "2019-01-01"
               ]
              ],
              "y": [
               [
                1.28,
                8.69,
                -3.77,
                -1.01,
                -3.37,
                -5.55,
                3.45,
                1.99,
                7.28,
                -2.54,
                -0.07,
                -6.16,
                1.85,
                5.74,
                4.75,
                1.43,
                -7.1,
                -5.37,
                -1.93,
                -6.9,
                1.49,
                7.99,
                10.25,
                -0.54
               ]
              ]
             },
             {
              "annotations": [
               {
                "font_color": "green",
                "font_family": "Arial",
                "font_size": 14,
                "showarrow": false,
                "text": "<b>+0.26%</b>",
                "x": "2020-01-20",
                "y": 0.6448446816212238
               }
              ],
              "shapes": [
               {
                "line": {
                 "color": "red",
                 "dash": "dash",
                 "width": 2
                },
                "type": "line",
                "x0": "2019-01-01",
                "x1": "2020-02-18",
                "y0": 0.38826016486311626,
                "y1": 0.38826016486311626
               },
               {
                "line": {
                 "color": "green",
                 "dash": "dash",
                 "width": 2
                },
                "type": "line",
                "x0": "2020-02-15",
                "x1": "2020-12-01",
                "y0": 0.6448446816212238,
                "y1": 0.6448446816212238
               },
               {
                "line": {
                 "color": "#f76d23",
                 "dash": "dot",
                 "width": 3
                },
                "type": "line",
                "x0": "2020-02-15",
                "x1": "2020-02-15",
                "y0": -8.516275245598061,
                "y1": 12.301314539667418
               }
              ],
              "title": "Pandemic-related change in residential energy consumption for Oklahoma"
             },
             [
              0
             ]
            ],
            "label": "Oklahoma",
            "method": "update",
            "visible": true
           },
           {
            "args": [
             {
              "type": "scatter",
              "x": [
               [
                "2020-12-01",
                "2020-11-01",
                "2020-10-01",
                "2020-09-01",
                "2020-08-01",
                "2020-07-01",
                "2020-06-01",
                "2020-05-01",
                "2020-04-01",
                "2020-03-01",
                "2020-02-01",
                "2020-01-01",
                "2019-12-01",
                "2019-11-01",
                "2019-10-01",
                "2019-09-01",
                "2019-08-01",
                "2019-07-01",
                "2019-06-01",
                "2019-05-01",
                "2019-04-01",
                "2019-03-01",
                "2019-02-01",
                "2019-01-01"
               ]
              ],
              "y": [
               [
                -2.87,
                5.21,
                4.82,
                2.35,
                2.14,
                3.4,
                5.82,
                6.15,
                -1.5,
                -5.61,
                -1.7,
                -11.55,
                -5.02,
                5.57,
                4.21,
                3.44,
                1.94,
                0.22,
                2.79,
                -7.21,
                -4.96,
                4.19,
                0.23,
                -3.36
               ]
              ]
             },
             {
              "annotations": [
               {
                "font_color": "green",
                "font_family": "Arial",
                "font_size": 14,
                "showarrow": false,
                "text": "<b>+2.79%</b>",
                "x": "2020-01-20",
                "y": 1.9912126973637085
               }
              ],
              "shapes": [
               {
                "line": {
                 "color": "red",
                 "dash": "dash",
                 "width": 2
                },
                "type": "line",
                "x0": "2019-01-01",
                "x1": "2020-02-18",
                "y0": -0.8017853460548753,
                "y1": -0.8017853460548753
               },
               {
                "line": {
                 "color": "green",
                 "dash": "dash",
                 "width": 2
                },
                "type": "line",
                "x0": "2020-02-15",
                "x1": "2020-12-01",
                "y0": 1.9912126973637085,
                "y1": 1.9912126973637085
               },
               {
                "line": {
                 "color": "#f76d23",
                 "dash": "dot",
                 "width": 3
                },
                "type": "line",
                "x0": "2020-02-15",
                "x1": "2020-02-15",
                "y0": -13.86071114961184,
                "y1": 7.3859777838677605
               }
              ],
              "title": "Pandemic-related change in residential energy consumption for Oregon"
             },
             [
              0
             ]
            ],
            "label": "Oregon",
            "method": "update",
            "visible": true
           },
           {
            "args": [
             {
              "type": "scatter",
              "x": [
               [
                "2020-12-01",
                "2020-11-01",
                "2020-10-01",
                "2020-09-01",
                "2020-08-01",
                "2020-07-01",
                "2020-06-01",
                "2020-05-01",
                "2020-04-01",
                "2020-03-01",
                "2020-02-01",
                "2020-01-01",
                "2019-12-01",
                "2019-11-01",
                "2019-10-01",
                "2019-09-01",
                "2019-08-01",
                "2019-07-01",
                "2019-06-01",
                "2019-05-01",
                "2019-04-01",
                "2019-03-01",
                "2019-02-01",
                "2019-01-01"
               ]
              ],
              "y": [
               [
                7.82,
                7.44,
                3.1,
                4.1,
                6.97,
                5.2,
                3.91,
                9.12,
                1.36,
                -12.59,
                -6.77,
                -4.67,
                -0.03,
                -3.79,
                2.24,
                0.95,
                3.98,
                -1.55,
                -1.47,
                -7.01,
                -3.27,
                -0.81,
                3.96,
                -4.12
               ]
              ]
             },
             {
              "annotations": [
               {
                "font_color": "green",
                "font_family": "Arial",
                "font_size": 14,
                "showarrow": false,
                "text": "<b>+5.24%</b>",
                "x": "2020-01-20",
                "y": 3.642333321504844
               }
              ],
              "shapes": [
               {
                "line": {
                 "color": "red",
                 "dash": "dash",
                 "width": 2
                },
                "type": "line",
                "x0": "2019-01-01",
                "x1": "2020-02-18",
                "y0": -1.5962495124283023,
                "y1": -1.5962495124283023
               },
               {
                "line": {
                 "color": "green",
                 "dash": "dash",
                 "width": 2
                },
                "type": "line",
                "x0": "2020-02-15",
                "x1": "2020-12-01",
                "y0": 3.642333321504844,
                "y1": 3.642333321504844
               },
               {
                "line": {
                 "color": "#f76d23",
                 "dash": "dot",
                 "width": 3
                },
                "type": "line",
                "x0": "2020-02-15",
                "x1": "2020-02-15",
                "y0": -15.103859234603236,
                "y1": 10.942296661428617
               }
              ],
              "title": "Pandemic-related change in residential energy consumption for Pennsylvania"
             },
             [
              0
             ]
            ],
            "label": "Pennsylvania",
            "method": "update",
            "visible": true
           },
           {
            "args": [
             {
              "type": "scatter",
              "x": [
               [
                "2020-12-01",
                "2020-11-01",
                "2020-10-01",
                "2020-09-01",
                "2020-08-01",
                "2020-07-01",
                "2020-06-01",
                "2020-05-01",
                "2020-04-01",
                "2020-03-01",
                "2020-02-01",
                "2020-01-01",
                "2019-12-01",
                "2019-11-01",
                "2019-10-01",
                "2019-09-01",
                "2019-08-01",
                "2019-07-01",
                "2019-06-01",
                "2019-05-01",
                "2019-04-01",
                "2019-03-01",
                "2019-02-01",
                "2019-01-01"
               ]
              ],
              "y": [
               [
                8.48,
                6.63,
                9.57,
                18.82,
                10.36,
                8.45,
                8.56,
                10.1,
                2.77,
                -4.73,
                1.07,
                -0.77,
                1.81,
                -7.09,
                -0.17,
                3.41,
                6.03,
                -2.99,
                -4.58,
                3.77,
                -1.35,
                -7.38,
                2.05,
                0.52
               ]
              ]
             },
             {
              "annotations": [
               {
                "font_color": "green",
                "font_family": "Arial",
                "font_size": 14,
                "showarrow": false,
                "text": "<b>+8.31%</b>",
                "x": "2020-01-20",
                "y": 7.900635628351196
               }
              ],
              "shapes": [
               {
                "line": {
                 "color": "red",
                 "dash": "dash",
                 "width": 2
                },
                "type": "line",
                "x0": "2019-01-01",
                "x1": "2020-02-18",
                "y0": -0.40510319115851123,
                "y1": -0.40510319115851123
               },
               {
                "line": {
                 "color": "green",
                 "dash": "dash",
                 "width": 2
                },
                "type": "line",
                "x0": "2020-02-15",
                "x1": "2020-12-01",
                "y0": 7.900635628351196,
                "y1": 7.900635628351196
               },
               {
                "line": {
                 "color": "#f76d23",
                 "dash": "dot",
                 "width": 3
                },
                "type": "line",
                "x0": "2020-02-15",
                "x1": "2020-02-15",
                "y0": -8.853139277145088,
                "y1": 22.58331506105776
               }
              ],
              "title": "Pandemic-related change in residential energy consumption for Rhode Island"
             },
             [
              0
             ]
            ],
            "label": "Rhode Island",
            "method": "update",
            "visible": true
           },
           {
            "args": [
             {
              "type": "scatter",
              "x": [
               [
                "2020-12-01",
                "2020-11-01",
                "2020-10-01",
                "2020-09-01",
                "2020-08-01",
                "2020-07-01",
                "2020-06-01",
                "2020-05-01",
                "2020-04-01",
                "2020-03-01",
                "2020-02-01",
                "2020-01-01",
                "2019-12-01",
                "2019-11-01",
                "2019-10-01",
                "2019-09-01",
                "2019-08-01",
                "2019-07-01",
                "2019-06-01",
                "2019-05-01",
                "2019-04-01",
                "2019-03-01",
                "2019-02-01",
                "2019-01-01"
               ]
              ],
              "y": [
               [
                2.89,
                7.5,
                -0.66,
                -0.94,
                0.07,
                -1.94,
                1.61,
                6.18,
                -7.75,
                1.39,
                0.19,
                -8.78,
                0.6,
                -0.2,
                6.3,
                0,
                -1.03,
                -5.09,
                1.52,
                4.48,
                2.12,
                -5.74,
                -2.53,
                -7.56
               ]
              ]
             },
             {
              "annotations": [
               {
                "font_color": "green",
                "font_family": "Arial",
                "font_size": 14,
                "showarrow": false,
                "text": "<b>+1.96%</b>",
                "x": "2020-01-20",
                "y": 0.8355690735853573
               }
              ],
              "shapes": [
               {
                "line": {
                 "color": "red",
                 "dash": "dash",
                 "width": 2
                },
                "type": "line",
                "x0": "2019-01-01",
                "x1": "2020-02-18",
                "y0": -1.123837436554276,
                "y1": -1.123837436554276
               },
               {
                "line": {
                 "color": "green",
                 "dash": "dash",
                 "width": 2
                },
                "type": "line",
                "x0": "2020-02-15",
                "x1": "2020-12-01",
                "y0": 0.8355690735853573,
                "y1": 0.8355690735853573
               },
               {
                "line": {
                 "color": "#f76d23",
                 "dash": "dot",
                 "width": 3
                },
                "type": "line",
                "x0": "2020-02-15",
                "x1": "2020-02-15",
                "y0": -10.53316094875718,
                "y1": 9.003374525453172
               }
              ],
              "title": "Pandemic-related change in residential energy consumption for South Carolina"
             },
             [
              0
             ]
            ],
            "label": "South Carolina",
            "method": "update",
            "visible": true
           },
           {
            "args": [
             {
              "type": "scatter",
              "x": [
               [
                "2020-12-01",
                "2020-11-01",
                "2020-10-01",
                "2020-09-01",
                "2020-08-01",
                "2020-07-01",
                "2020-06-01",
                "2020-05-01",
                "2020-04-01",
                "2020-03-01",
                "2020-02-01",
                "2020-01-01",
                "2019-12-01",
                "2019-11-01",
                "2019-10-01",
                "2019-09-01",
                "2019-08-01",
                "2019-07-01",
                "2019-06-01",
                "2019-05-01",
                "2019-04-01",
                "2019-03-01",
                "2019-02-01",
                "2019-01-01"
               ]
              ],
              "y": [
               [
                -4.69,
                0.49,
                -5.48,
                -0.26,
                3.68,
                2.65,
                4.88,
                -0.34,
                -3.51,
                -3.96,
                -14.01,
                -5.93,
                1.15,
                0.36,
                3.1,
                -7.65,
                -3.8,
                -2.44,
                4.88,
                -0.65,
                1.36,
                5.07,
                4.96,
                -6.94
               ]
              ]
             },
             {
              "annotations": [
               {
                "font_color": "green",
                "font_family": "Arial",
                "font_size": 14,
                "showarrow": false,
                "text": "<b>+0.81%</b>",
                "x": "2020-01-20",
                "y": -0.6544623789471411
               }
              ],
              "shapes": [
               {
                "line": {
                 "color": "red",
                 "dash": "dash",
                 "width": 2
                },
                "type": "line",
                "x0": "2019-01-01",
                "x1": "2020-02-18",
                "y0": -1.467781347762447,
                "y1": -1.467781347762447
               },
               {
                "line": {
                 "color": "green",
                 "dash": "dash",
                 "width": 2
                },
                "type": "line",
                "x0": "2020-02-15",
                "x1": "2020-12-01",
                "y0": -0.6544623789471411,
                "y1": -0.6544623789471411
               },
               {
                "line": {
                 "color": "#f76d23",
                 "dash": "dot",
                 "width": 3
                },
                "type": "line",
                "x0": "2020-02-15",
                "x1": "2020-02-15",
                "y0": -16.806881247586766,
                "y1": 6.088726715316911
               }
              ],
              "title": "Pandemic-related change in residential energy consumption for South Dakota"
             },
             [
              0
             ]
            ],
            "label": "South Dakota",
            "method": "update",
            "visible": true
           },
           {
            "args": [
             {
              "type": "scatter",
              "x": [
               [
                "2020-12-01",
                "2020-11-01",
                "2020-10-01",
                "2020-09-01",
                "2020-08-01",
                "2020-07-01",
                "2020-06-01",
                "2020-05-01",
                "2020-04-01",
                "2020-03-01",
                "2020-02-01",
                "2020-01-01",
                "2019-12-01",
                "2019-11-01",
                "2019-10-01",
                "2019-09-01",
                "2019-08-01",
                "2019-07-01",
                "2019-06-01",
                "2019-05-01",
                "2019-04-01",
                "2019-03-01",
                "2019-02-01",
                "2019-01-01"
               ]
              ],
              "y": [
               [
                -0.04,
                -3.84,
                -9.13,
                -1.01,
                2.61,
                -5.82,
                0.75,
                5.82,
                -6.43,
                -3.42,
                -14.84,
                -13.25,
                2.39,
                -0.55,
                12.74,
                -3.71,
                -3.78,
                -5.25,
                7.24,
                -6.03,
                -1.33,
                -2.55,
                2.44,
                -10.59
               ]
              ]
             },
             {
              "annotations": [
               {
                "font_color": "green",
                "font_family": "Arial",
                "font_size": 14,
                "showarrow": false,
                "text": "<b>+0.6%</b>",
                "x": "2020-01-20",
                "y": -2.0505880942182895
               }
              ],
              "shapes": [
               {
                "line": {
                 "color": "red",
                 "dash": "dash",
                 "width": 2
                },
                "type": "line",
                "x0": "2019-01-01",
                "x1": "2020-02-18",
                "y0": -2.648993309799631,
                "y1": -2.648993309799631
               },
               {
                "line": {
                 "color": "green",
                 "dash": "dash",
                 "width": 2
                },
                "type": "line",
                "x0": "2020-02-15",
                "x1": "2020-12-01",
                "y0": -2.0505880942182895,
                "y1": -2.0505880942182895
               },
               {
                "line": {
                 "color": "#f76d23",
                 "dash": "dot",
                 "width": 3
                },
                "type": "line",
                "x0": "2020-02-15",
                "x1": "2020-02-15",
                "y0": -17.81318857921428,
                "y1": 15.287445156107484
               }
              ],
              "title": "Pandemic-related change in residential energy consumption for Tennessee"
             },
             [
              0
             ]
            ],
            "label": "Tennessee",
            "method": "update",
            "visible": true
           },
           {
            "args": [
             {
              "type": "scatter",
              "x": [
               [
                "2020-12-01",
                "2020-11-01",
                "2020-10-01",
                "2020-09-01",
                "2020-08-01",
                "2020-07-01",
                "2020-06-01",
                "2020-05-01",
                "2020-04-01",
                "2020-03-01",
                "2020-02-01",
                "2020-01-01",
                "2019-12-01",
                "2019-11-01",
                "2019-10-01",
                "2019-09-01",
                "2019-08-01",
                "2019-07-01",
                "2019-06-01",
                "2019-05-01",
                "2019-04-01",
                "2019-03-01",
                "2019-02-01",
                "2019-01-01"
               ]
              ],
              "y": [
               [
                3.78,
                4.63,
                -7.76,
                1.34,
                -1.14,
                -1.97,
                0.98,
                4.63,
                3.25,
                -1.3,
                -7.54,
                -10.7,
                4.57,
                0.03,
                10.87,
                -2.16,
                -5,
                -3.56,
                -0.64,
                -2.66,
                -1.2,
                3.74,
                2.94,
                -5.47
               ]
              ]
             },
             {
              "annotations": [
               {
                "font_color": "green",
                "font_family": "Arial",
                "font_size": 14,
                "showarrow": false,
                "text": "<b>+1.84%</b>",
                "x": "2020-01-20",
                "y": 0.643923145962365
               }
              ],
              "shapes": [
               {
                "line": {
                 "color": "red",
                 "dash": "dash",
                 "width": 2
                },
                "type": "line",
                "x0": "2019-01-01",
                "x1": "2020-02-18",
                "y0": -1.1985376686311988,
                "y1": -1.1985376686311988
               },
               {
                "line": {
                 "color": "green",
                 "dash": "dash",
                 "width": 2
                },
                "type": "line",
                "x0": "2020-02-15",
                "x1": "2020-12-01",
                "y0": 0.643923145962365,
                "y1": 0.643923145962365
               },
               {
                "line": {
                 "color": "#f76d23",
                 "dash": "dot",
                 "width": 3
                },
                "type": "line",
                "x0": "2020-02-15",
                "x1": "2020-02-15",
                "y0": -12.84264031798628,
                "y1": 13.047511841182056
               }
              ],
              "title": "Pandemic-related change in residential energy consumption for Texas"
             },
             [
              0
             ]
            ],
            "label": "Texas",
            "method": "update",
            "visible": true
           },
           {
            "args": [
             {
              "type": "scatter",
              "x": [
               [
                "2020-12-01",
                "2020-11-01",
                "2020-10-01",
                "2020-09-01",
                "2020-08-01",
                "2020-07-01",
                "2020-06-01",
                "2020-05-01",
                "2020-04-01",
                "2020-03-01",
                "2020-02-01",
                "2020-01-01",
                "2019-12-01",
                "2019-11-01",
                "2019-10-01",
                "2019-09-01",
                "2019-08-01",
                "2019-07-01",
                "2019-06-01",
                "2019-05-01",
                "2019-04-01",
                "2019-03-01",
                "2019-02-01",
                "2019-01-01"
               ]
              ],
              "y": [
               [
                3.45,
                10.85,
                2.52,
                6.32,
                6.67,
                1.71,
                6.23,
                8.51,
                3.11,
                4.06,
                3.43,
                -3.01,
                -0.64,
                0.42,
                0.01,
                3.04,
                -1.35,
                -2.75,
                0.33,
                6.26,
                -2.98,
                -0.48,
                1.85,
                -2.2
               ]
              ]
             },
             {
              "annotations": [
               {
                "font_color": "green",
                "font_family": "Arial",
                "font_size": 14,
                "showarrow": false,
                "text": "<b>+5.21%</b>",
                "x": "2020-01-20",
                "y": 5.343681455154287
               }
              ],
              "shapes": [
               {
                "line": {
                 "color": "red",
                 "dash": "dash",
                 "width": 2
                },
                "type": "line",
                "x0": "2019-01-01",
                "x1": "2020-02-18",
                "y0": 0.13797582425388982,
                "y1": 0.13797582425388982
               },
               {
                "line": {
                 "color": "green",
                 "dash": "dash",
                 "width": 2
                },
                "type": "line",
                "x0": "2020-02-15",
                "x1": "2020-12-01",
                "y0": 5.343681455154287,
                "y1": 5.343681455154287
               },
               {
                "line": {
                 "color": "#f76d23",
                 "dash": "dot",
                 "width": 3
                },
                "type": "line",
                "x0": "2020-02-15",
                "x1": "2020-02-15",
                "y0": -3.612419367623729,
                "y1": 13.019191356014831
               }
              ],
              "title": "Pandemic-related change in residential energy consumption for Utah"
             },
             [
              0
             ]
            ],
            "label": "Utah",
            "method": "update",
            "visible": true
           },
           {
            "args": [
             {
              "type": "scatter",
              "x": [
               [
                "2020-12-01",
                "2020-11-01",
                "2020-10-01",
                "2020-09-01",
                "2020-08-01",
                "2020-07-01",
                "2020-06-01",
                "2020-05-01",
                "2020-04-01",
                "2020-03-01",
                "2020-02-01",
                "2020-01-01",
                "2019-12-01",
                "2019-11-01",
                "2019-10-01",
                "2019-09-01",
                "2019-08-01",
                "2019-07-01",
                "2019-06-01",
                "2019-05-01",
                "2019-04-01",
                "2019-03-01",
                "2019-02-01",
                "2019-01-01"
               ]
              ],
              "y": [
               [
                5.67,
                8.25,
                5.01,
                3.49,
                2.75,
                8.71,
                8.93,
                6.26,
                4.23,
                1,
                1.04,
                -5.52,
                0.78,
                3.31,
                -3.38,
                -1.7,
                2.05,
                -2.7,
                -1.29,
                -3.72,
                2.35,
                -3.28,
                4.32,
                -0.06
               ]
              ]
             },
             {
              "annotations": [
               {
                "font_color": "green",
                "font_family": "Arial",
                "font_size": 14,
                "showarrow": false,
                "text": "<b>+5.99%</b>",
                "x": "2020-01-20",
                "y": 5.430132897152627
               }
              ],
              "shapes": [
               {
                "line": {
                 "color": "red",
                 "dash": "dash",
                 "width": 2
                },
                "type": "line",
                "x0": "2019-01-01",
                "x1": "2020-02-18",
                "y0": -0.5574409134148146,
                "y1": -0.5574409134148146
               },
               {
                "line": {
                 "color": "green",
                 "dash": "dash",
                 "width": 2
                },
                "type": "line",
                "x0": "2020-02-15",
                "x1": "2020-12-01",
                "y0": 5.430132897152627,
                "y1": 5.430132897152627
               },
               {
                "line": {
                 "color": "#f76d23",
                 "dash": "dot",
                 "width": 3
                },
                "type": "line",
                "x0": "2020-02-15",
                "x1": "2020-02-15",
                "y0": -6.624276254811266,
                "y1": 10.71150216233819
               }
              ],
              "title": "Pandemic-related change in residential energy consumption for Vermont"
             },
             [
              0
             ]
            ],
            "label": "Vermont",
            "method": "update",
            "visible": true
           },
           {
            "args": [
             {
              "type": "scatter",
              "x": [
               [
                "2020-12-01",
                "2020-11-01",
                "2020-10-01",
                "2020-09-01",
                "2020-08-01",
                "2020-07-01",
                "2020-06-01",
                "2020-05-01",
                "2020-04-01",
                "2020-03-01",
                "2020-02-01",
                "2020-01-01",
                "2019-12-01",
                "2019-11-01",
                "2019-10-01",
                "2019-09-01",
                "2019-08-01",
                "2019-07-01",
                "2019-06-01",
                "2019-05-01",
                "2019-04-01",
                "2019-03-01",
                "2019-02-01",
                "2019-01-01"
               ]
              ],
              "y": [
               [
                8.52,
                7.61,
                -21.97,
                1.34,
                5.64,
                5.59,
                8.36,
                8.02,
                -9.48,
                -7.95,
                -11.18,
                -2.05,
                4.17,
                0.77,
                -1.75,
                -4.02,
                -4.44,
                1.97,
                1.77,
                -6.87,
                1.07,
                -0.77,
                0.94,
                -1.84
               ]
              ]
             },
             {
              "annotations": [
               {
                "font_color": "green",
                "font_family": "Arial",
                "font_size": 14,
                "showarrow": false,
                "text": "<b>+2.16%</b>",
                "x": "2020-01-20",
                "y": 0.5696691798373654
               }
              ],
              "shapes": [
               {
                "line": {
                 "color": "red",
                 "dash": "dash",
                 "width": 2
                },
                "type": "line",
                "x0": "2019-01-01",
                "x1": "2020-02-18",
                "y0": -1.588564545425227,
                "y1": -1.588564545425227
               },
               {
                "line": {
                 "color": "green",
                 "dash": "dash",
                 "width": 2
                },
                "type": "line",
                "x0": "2020-02-15",
                "x1": "2020-12-01",
                "y0": 0.5696691798373654,
                "y1": 0.5696691798373654
               },
               {
                "line": {
                 "color": "#f76d23",
                 "dash": "dot",
                 "width": 3
                },
                "type": "line",
                "x0": "2020-02-15",
                "x1": "2020-02-15",
                "y0": -26.369282896448528,
                "y1": 10.229474472724345
               }
              ],
              "title": "Pandemic-related change in residential energy consumption for Virginia"
             },
             [
              0
             ]
            ],
            "label": "Virginia",
            "method": "update",
            "visible": true
           },
           {
            "args": [
             {
              "type": "scatter",
              "x": [
               [
                "2020-12-01",
                "2020-11-01",
                "2020-10-01",
                "2020-09-01",
                "2020-08-01",
                "2020-07-01",
                "2020-06-01",
                "2020-05-01",
                "2020-04-01",
                "2020-03-01",
                "2020-02-01",
                "2020-01-01",
                "2019-12-01",
                "2019-11-01",
                "2019-10-01",
                "2019-09-01",
                "2019-08-01",
                "2019-07-01",
                "2019-06-01",
                "2019-05-01",
                "2019-04-01",
                "2019-03-01",
                "2019-02-01",
                "2019-01-01"
               ]
              ],
              "y": [
               [
                0.2,
                1.33,
                3.14,
                -2.45,
                -0.12,
                3.82,
                2.48,
                -3.8,
                -4.52,
                -5.98,
                -7.06,
                -8.97,
                -1.93,
                3.8,
                9.41,
                -1.42,
                1.85,
                -1.78,
                -1.45,
                -10.61,
                -2.97,
                4.57,
                -0.22,
                -4.43
               ]
              ]
             },
             {
              "annotations": [
               {
                "font_color": "green",
                "font_family": "Arial",
                "font_size": 14,
                "showarrow": false,
                "text": "<b>+0.92%</b>",
                "x": "2020-01-20",
                "y": -0.5905372109184064
               }
              ],
              "shapes": [
               {
                "line": {
                 "color": "red",
                 "dash": "dash",
                 "width": 2
                },
                "type": "line",
                "x0": "2019-01-01",
                "x1": "2020-02-18",
                "y0": -1.5141665090791079,
                "y1": -1.5141665090791079
               },
               {
                "line": {
                 "color": "green",
                 "dash": "dash",
                 "width": 2
                },
                "type": "line",
                "x0": "2020-02-15",
                "x1": "2020-12-01",
                "y0": -0.5905372109184064,
                "y1": -0.5905372109184064
               },
               {
                "line": {
                 "color": "#f76d23",
                 "dash": "dot",
                 "width": 3
                },
                "type": "line",
                "x0": "2020-02-15",
                "x1": "2020-02-15",
                "y0": -12.737571387929714,
                "y1": 11.289688813169436
               }
              ],
              "title": "Pandemic-related change in residential energy consumption for Washington"
             },
             [
              0
             ]
            ],
            "label": "Washington",
            "method": "update",
            "visible": true
           },
           {
            "args": [
             {
              "type": "scatter",
              "x": [
               [
                "2020-12-01",
                "2020-11-01",
                "2020-10-01",
                "2020-09-01",
                "2020-08-01",
                "2020-07-01",
                "2020-06-01",
                "2020-05-01",
                "2020-04-01",
                "2020-03-01",
                "2020-02-01",
                "2020-01-01",
                "2019-12-01",
                "2019-11-01",
                "2019-10-01",
                "2019-09-01",
                "2019-08-01",
                "2019-07-01",
                "2019-06-01",
                "2019-05-01",
                "2019-04-01",
                "2019-03-01",
                "2019-02-01",
                "2019-01-01"
               ]
              ],
              "y": [
               [
                -4.44,
                0.89,
                -5.75,
                4.07,
                2.54,
                6.15,
                4.75,
                16.34,
                -3.27,
                -9.24,
                -3.36,
                -8.34,
                2.85,
                -1.25,
                -1.18,
                -2.07,
                1.37,
                3.22,
                -0.97,
                -13.97,
                -2.68,
                0.82,
                3.01,
                -3.06
               ]
              ]
             },
             {
              "annotations": [
               {
                "font_color": "green",
                "font_family": "Arial",
                "font_size": 14,
                "showarrow": false,
                "text": "<b>+3.03%</b>",
                "x": "2020-01-20",
                "y": 1.2029480210555161
               }
              ],
              "shapes": [
               {
                "line": {
                 "color": "red",
                 "dash": "dash",
                 "width": 2
                },
                "type": "line",
                "x0": "2019-01-01",
                "x1": "2020-02-18",
                "y0": -1.8300061276788786,
                "y1": -1.8300061276788786
               },
               {
                "line": {
                 "color": "green",
                 "dash": "dash",
                 "width": 2
                },
                "type": "line",
                "x0": "2020-02-15",
                "x1": "2020-12-01",
                "y0": 1.2029480210555161,
                "y1": 1.2029480210555161
               },
               {
                "line": {
                 "color": "#f76d23",
                 "dash": "dot",
                 "width": 3
                },
                "type": "line",
                "x0": "2020-02-15",
                "x1": "2020-02-15",
                "y0": -16.76580047073773,
                "y1": 19.60421705612958
               }
              ],
              "title": "Pandemic-related change in residential energy consumption for West Virginia"
             },
             [
              0
             ]
            ],
            "label": "West Virginia",
            "method": "update",
            "visible": true
           },
           {
            "args": [
             {
              "type": "scatter",
              "x": [
               [
                "2020-12-01",
                "2020-11-01",
                "2020-10-01",
                "2020-09-01",
                "2020-08-01",
                "2020-07-01",
                "2020-06-01",
                "2020-05-01",
                "2020-04-01",
                "2020-03-01",
                "2020-02-01",
                "2020-01-01",
                "2019-12-01",
                "2019-11-01",
                "2019-10-01",
                "2019-09-01",
                "2019-08-01",
                "2019-07-01",
                "2019-06-01",
                "2019-05-01",
                "2019-04-01",
                "2019-03-01",
                "2019-02-01",
                "2019-01-01"
               ]
              ],
              "y": [
               [
                4.71,
                7.57,
                5.82,
                2.1,
                7.49,
                8.61,
                11.8,
                11.51,
                5.52,
                3.3,
                -4.14,
                0.32,
                -0.18,
                1.33,
                3.65,
                -3.44,
                -3.28,
                0.41,
                -1.85,
                0.07,
                0.63,
                2.26,
                2.6,
                -2.33
               ]
              ]
             },
             {
              "annotations": [
               {
                "font_color": "green",
                "font_family": "Arial",
                "font_size": 14,
                "showarrow": false,
                "text": "<b>+7.13%</b>",
                "x": "2020-01-20",
                "y": 6.844807728475226
               }
              ],
              "shapes": [
               {
                "line": {
                 "color": "red",
                 "dash": "dash",
                 "width": 2
                },
                "type": "line",
                "x0": "2019-01-01",
                "x1": "2020-02-18",
                "y0": -0.2820710619819097,
                "y1": -0.2820710619819097
               },
               {
                "line": {
                 "color": "green",
                 "dash": "dash",
                 "width": 2
                },
                "type": "line",
                "x0": "2020-02-15",
                "x1": "2020-12-01",
                "y0": 6.844807728475226,
                "y1": 6.844807728475226
               },
               {
                "line": {
                 "color": "#f76d23",
                 "dash": "dot",
                 "width": 3
                },
                "type": "line",
                "x0": "2020-02-15",
                "x1": "2020-02-15",
                "y0": -4.964144398024047,
                "y1": 14.159956513632872
               }
              ],
              "title": "Pandemic-related change in residential energy consumption for Wisconsin"
             },
             [
              0
             ]
            ],
            "label": "Wisconsin",
            "method": "update",
            "visible": true
           },
           {
            "args": [
             {
              "type": "scatter",
              "x": [
               [
                "2020-12-01",
                "2020-11-01",
                "2020-10-01",
                "2020-09-01",
                "2020-08-01",
                "2020-07-01",
                "2020-06-01",
                "2020-05-01",
                "2020-04-01",
                "2020-03-01",
                "2020-02-01",
                "2020-01-01",
                "2019-12-01",
                "2019-11-01",
                "2019-10-01",
                "2019-09-01",
                "2019-08-01",
                "2019-07-01",
                "2019-06-01",
                "2019-05-01",
                "2019-04-01",
                "2019-03-01",
                "2019-02-01",
                "2019-01-01"
               ]
              ],
              "y": [
               [
                -1.78,
                -6.49,
                -7.25,
                -4.21,
                -0.84,
                2.94,
                1.09,
                -7.9,
                -0.53,
                -2.73,
                -8.14,
                -12.72,
                -2.47,
                3.14,
                4.49,
                -0.08,
                -5.71,
                2.97,
                9.13,
                -2.76,
                -4.47,
                3.9,
                -3.45,
                -2.48
               ]
              ]
             },
             {
              "annotations": [
               {
                "font_color": "red",
                "font_family": "Arial",
                "font_size": 14,
                "showarrow": false,
                "text": "<b>-1.44%</b>",
                "x": "2020-01-20",
                "y": -2.7707392439934706
               }
              ],
              "shapes": [
               {
                "line": {
                 "color": "red",
                 "dash": "dash",
                 "width": 2
                },
                "type": "line",
                "x0": "2019-01-01",
                "x1": "2020-02-18",
                "y0": -1.3315110925728686,
                "y1": -1.3315110925728686
               },
               {
                "line": {
                 "color": "green",
                 "dash": "dash",
                 "width": 2
                },
                "type": "line",
                "x0": "2020-02-15",
                "x1": "2020-12-01",
                "y0": -2.7707392439934706,
                "y1": -2.7707392439934706
               },
               {
                "line": {
                 "color": "#f76d23",
                 "dash": "dot",
                 "width": 3
                },
                "type": "line",
                "x0": "2020-02-15",
                "x1": "2020-02-15",
                "y0": -15.269101174127615,
                "y1": 10.961313378837199
               }
              ],
              "title": "Pandemic-related change in residential energy consumption for Wyoming"
             },
             [
              0
             ]
            ],
            "label": "Wyoming",
            "method": "update",
            "visible": true
           }
          ],
          "direction": "down",
          "showactive": true
         }
        ],
        "xaxis": {
         "autorange": true,
         "range": [
          "2018-11-18 15:02:26.1255",
          "2021-01-13 08:57:33.8745"
         ],
         "title": {
          "text": "Month"
         },
         "type": "date"
        },
        "yaxis": {
         "autorange": true,
         "range": [
          -14.704501351969746,
          8.540539008906176
         ],
         "title": {
          "text": "% deviation"
         },
         "type": "linear"
        }
       }
      },
      "image/png": "[encoded data removed]",
      "text/html": [
       "<div>\n",
       "        \n",
       "        \n",
       "            <div id=\"0ae7db9e-a8bd-4723-81b8-e393115df96a\" class=\"plotly-graph-div\" style=\"height:525px; width:100%;\"></div>\n",
       "            <script type=\"text/javascript\">\n",
       "                require([\"plotly\"], function(Plotly) {\n",
       "                    window.PLOTLYENV=window.PLOTLYENV || {};\n",
       "                    \n",
       "                if (document.getElementById(\"0ae7db9e-a8bd-4723-81b8-e393115df96a\")) {\n",
       "                    Plotly.newPlot(\n",
       "                        '0ae7db9e-a8bd-4723-81b8-e393115df96a',\n",
       "                        [{\"marker\": {\"color\": \"#27a3aa\"}, \"mode\": \"lines+markers\", \"type\": \"scatter\", \"visible\": true, \"x\": [\"2019-01-01\", \"2019-02-01\", \"2019-03-01\", \"2019-04-01\", \"2019-05-01\", \"2019-06-01\", \"2019-07-01\", \"2019-08-01\", \"2019-09-01\", \"2019-10-01\", \"2019-11-01\", \"2019-12-01\", \"2020-01-01\", \"2020-02-01\", \"2020-03-01\", \"2020-04-01\", \"2020-05-01\", \"2020-06-01\", \"2020-07-01\", \"2020-08-01\", \"2020-09-01\", \"2020-10-01\", \"2020-11-01\", \"2020-12-01\"], \"y\": [-3.88, 0.97, 0.78, -1.3, -1.15, 0.78, -1.8, -1.0, -1.13, 3.62, 0.2, 1.21, -6.31, -6.02, -2.88, 0.69, 7.86, 4.11, 2.0, 2.08, 1.78, 0.03, 4.34, 4.07]}],\n",
       "                        {\"annotations\": [{\"font\": {\"color\": \"green\", \"family\": \"Arial\", \"size\": 14}, \"showarrow\": false, \"text\": \"<b>+3.48%</b>\", \"x\": \"2020-01-20\", \"y\": 2.408039197339682}], \"shapes\": [{\"line\": {\"color\": \"#f76d23\", \"dash\": \"dot\", \"width\": 3}, \"type\": \"line\", \"x0\": \"2020-02-15\", \"x1\": \"2020-02-15\", \"y0\": -7.571660793305899, \"y1\": 9.430445030586567}, {\"line\": {\"color\": \"red\", \"dash\": \"dash\", \"width\": 2}, \"type\": \"line\", \"x0\": \"2019-01-01\", \"x1\": \"2020-02-18\", \"y0\": -1.0731438742786206, \"y1\": -1.0731438742786206}, {\"line\": {\"color\": \"green\", \"dash\": \"dash\", \"width\": 2}, \"type\": \"line\", \"x0\": \"2020-02-15\", \"x1\": \"2020-12-01\", \"y0\": 2.408039197339682, \"y1\": 2.408039197339682}], \"showlegend\": false, \"template\": {\"data\": {\"bar\": [{\"error_x\": {\"color\": \"#2a3f5f\"}, \"error_y\": {\"color\": \"#2a3f5f\"}, \"marker\": {\"line\": {\"color\": \"white\", \"width\": 0.5}}, \"type\": \"bar\"}], \"barpolar\": [{\"marker\": {\"line\": {\"color\": \"white\", \"width\": 0.5}}, \"type\": \"barpolar\"}], \"carpet\": [{\"aaxis\": {\"endlinecolor\": \"#2a3f5f\", \"gridcolor\": \"#C8D4E3\", \"linecolor\": \"#C8D4E3\", \"minorgridcolor\": \"#C8D4E3\", \"startlinecolor\": \"#2a3f5f\"}, \"baxis\": {\"endlinecolor\": \"#2a3f5f\", \"gridcolor\": \"#C8D4E3\", \"linecolor\": \"#C8D4E3\", \"minorgridcolor\": \"#C8D4E3\", \"startlinecolor\": \"#2a3f5f\"}, \"type\": \"carpet\"}], \"choropleth\": [{\"colorbar\": {\"outlinewidth\": 0, \"ticks\": \"\"}, \"type\": \"choropleth\"}], \"contour\": [{\"colorbar\": {\"outlinewidth\": 0, \"ticks\": \"\"}, \"colorscale\": [[0.0, \"#0d0887\"], [0.1111111111111111, \"#46039f\"], [0.2222222222222222, \"#7201a8\"], [0.3333333333333333, \"#9c179e\"], [0.4444444444444444, \"#bd3786\"], [0.5555555555555556, \"#d8576b\"], [0.6666666666666666, \"#ed7953\"], [0.7777777777777778, \"#fb9f3a\"], [0.8888888888888888, \"#fdca26\"], [1.0, \"#f0f921\"]], \"type\": \"contour\"}], \"contourcarpet\": [{\"colorbar\": {\"outlinewidth\": 0, \"ticks\": \"\"}, \"type\": \"contourcarpet\"}], \"heatmap\": [{\"colorbar\": {\"outlinewidth\": 0, \"ticks\": \"\"}, \"colorscale\": [[0.0, \"#0d0887\"], [0.1111111111111111, \"#46039f\"], [0.2222222222222222, \"#7201a8\"], [0.3333333333333333, \"#9c179e\"], [0.4444444444444444, \"#bd3786\"], [0.5555555555555556, \"#d8576b\"], [0.6666666666666666, \"#ed7953\"], [0.7777777777777778, \"#fb9f3a\"], [0.8888888888888888, \"#fdca26\"], [1.0, \"#f0f921\"]], \"type\": \"heatmap\"}], \"heatmapgl\": [{\"colorbar\": {\"outlinewidth\": 0, \"ticks\": \"\"}, \"colorscale\": [[0.0, \"#0d0887\"], [0.1111111111111111, \"#46039f\"], [0.2222222222222222, \"#7201a8\"], [0.3333333333333333, \"#9c179e\"], [0.4444444444444444, \"#bd3786\"], [0.5555555555555556, \"#d8576b\"], [0.6666666666666666, \"#ed7953\"], [0.7777777777777778, \"#fb9f3a\"], [0.8888888888888888, \"#fdca26\"], [1.0, \"#f0f921\"]], \"type\": \"heatmapgl\"}], \"histogram\": [{\"marker\": {\"colorbar\": {\"outlinewidth\": 0, \"ticks\": \"\"}}, \"type\": \"histogram\"}], \"histogram2d\": [{\"colorbar\": {\"outlinewidth\": 0, \"ticks\": \"\"}, \"colorscale\": [[0.0, \"#0d0887\"], [0.1111111111111111, \"#46039f\"], [0.2222222222222222, \"#7201a8\"], [0.3333333333333333, \"#9c179e\"], [0.4444444444444444, \"#bd3786\"], [0.5555555555555556, \"#d8576b\"], [0.6666666666666666, \"#ed7953\"], [0.7777777777777778, \"#fb9f3a\"], [0.8888888888888888, \"#fdca26\"], [1.0, \"#f0f921\"]], \"type\": \"histogram2d\"}], \"histogram2dcontour\": [{\"colorbar\": {\"outlinewidth\": 0, \"ticks\": \"\"}, \"colorscale\": [[0.0, \"#0d0887\"], [0.1111111111111111, \"#46039f\"], [0.2222222222222222, \"#7201a8\"], [0.3333333333333333, \"#9c179e\"], [0.4444444444444444, \"#bd3786\"], [0.5555555555555556, \"#d8576b\"], [0.6666666666666666, \"#ed7953\"], [0.7777777777777778, \"#fb9f3a\"], [0.8888888888888888, \"#fdca26\"], [1.0, \"#f0f921\"]], \"type\": \"histogram2dcontour\"}], \"mesh3d\": [{\"colorbar\": {\"outlinewidth\": 0, \"ticks\": \"\"}, \"type\": \"mesh3d\"}], \"parcoords\": [{\"line\": {\"colorbar\": {\"outlinewidth\": 0, \"ticks\": \"\"}}, \"type\": \"parcoords\"}], \"pie\": [{\"automargin\": true, \"type\": \"pie\"}], \"scatter\": [{\"marker\": {\"colorbar\": {\"outlinewidth\": 0, \"ticks\": \"\"}}, \"type\": \"scatter\"}], \"scatter3d\": [{\"line\": {\"colorbar\": {\"outlinewidth\": 0, \"ticks\": \"\"}}, \"marker\": {\"colorbar\": {\"outlinewidth\": 0, \"ticks\": \"\"}}, \"type\": \"scatter3d\"}], \"scattercarpet\": [{\"marker\": {\"colorbar\": {\"outlinewidth\": 0, \"ticks\": \"\"}}, \"type\": \"scattercarpet\"}], \"scattergeo\": [{\"marker\": {\"colorbar\": {\"outlinewidth\": 0, \"ticks\": \"\"}}, \"type\": \"scattergeo\"}], \"scattergl\": [{\"marker\": {\"colorbar\": {\"outlinewidth\": 0, \"ticks\": \"\"}}, \"type\": \"scattergl\"}], \"scattermapbox\": [{\"marker\": {\"colorbar\": {\"outlinewidth\": 0, \"ticks\": \"\"}}, \"type\": \"scattermapbox\"}], \"scatterpolar\": [{\"marker\": {\"colorbar\": {\"outlinewidth\": 0, \"ticks\": \"\"}}, \"type\": \"scatterpolar\"}], \"scatterpolargl\": [{\"marker\": {\"colorbar\": {\"outlinewidth\": 0, \"ticks\": \"\"}}, \"type\": \"scatterpolargl\"}], \"scatterternary\": [{\"marker\": {\"colorbar\": {\"outlinewidth\": 0, \"ticks\": \"\"}}, \"type\": \"scatterternary\"}], \"surface\": [{\"colorbar\": {\"outlinewidth\": 0, \"ticks\": \"\"}, \"colorscale\": [[0.0, \"#0d0887\"], [0.1111111111111111, \"#46039f\"], [0.2222222222222222, \"#7201a8\"], [0.3333333333333333, \"#9c179e\"], [0.4444444444444444, \"#bd3786\"], [0.5555555555555556, \"#d8576b\"], [0.6666666666666666, \"#ed7953\"], [0.7777777777777778, \"#fb9f3a\"], [0.8888888888888888, \"#fdca26\"], [1.0, \"#f0f921\"]], \"type\": \"surface\"}], \"table\": [{\"cells\": {\"fill\": {\"color\": \"#EBF0F8\"}, \"line\": {\"color\": \"white\"}}, \"header\": {\"fill\": {\"color\": \"#C8D4E3\"}, \"line\": {\"color\": \"white\"}}, \"type\": \"table\"}]}, \"layout\": {\"annotationdefaults\": {\"arrowcolor\": \"#2a3f5f\", \"arrowhead\": 0, \"arrowwidth\": 1}, \"coloraxis\": {\"colorbar\": {\"outlinewidth\": 0, \"ticks\": \"\"}}, \"colorscale\": {\"diverging\": [[0, \"#8e0152\"], [0.1, \"#c51b7d\"], [0.2, \"#de77ae\"], [0.3, \"#f1b6da\"], [0.4, \"#fde0ef\"], [0.5, \"#f7f7f7\"], [0.6, \"#e6f5d0\"], [0.7, \"#b8e186\"], [0.8, \"#7fbc41\"], [0.9, \"#4d9221\"], [1, \"#276419\"]], \"sequential\": [[0.0, \"#0d0887\"], [0.1111111111111111, \"#46039f\"], [0.2222222222222222, \"#7201a8\"], [0.3333333333333333, \"#9c179e\"], [0.4444444444444444, \"#bd3786\"], [0.5555555555555556, \"#d8576b\"], [0.6666666666666666, \"#ed7953\"], [0.7777777777777778, \"#fb9f3a\"], [0.8888888888888888, \"#fdca26\"], [1.0, \"#f0f921\"]], \"sequentialminus\": [[0.0, \"#0d0887\"], [0.1111111111111111, \"#46039f\"], [0.2222222222222222, \"#7201a8\"], [0.3333333333333333, \"#9c179e\"], [0.4444444444444444, \"#bd3786\"], [0.5555555555555556, \"#d8576b\"], [0.6666666666666666, \"#ed7953\"], [0.7777777777777778, \"#fb9f3a\"], [0.8888888888888888, \"#fdca26\"], [1.0, \"#f0f921\"]]}, \"colorway\": [\"#636efa\", \"#EF553B\", \"#00cc96\", \"#ab63fa\", \"#FFA15A\", \"#19d3f3\", \"#FF6692\", \"#B6E880\", \"#FF97FF\", \"#FECB52\"], \"font\": {\"color\": \"#2a3f5f\"}, \"geo\": {\"bgcolor\": \"white\", \"lakecolor\": \"white\", \"landcolor\": \"white\", \"showlakes\": true, \"showland\": true, \"subunitcolor\": \"#C8D4E3\"}, \"hoverlabel\": {\"align\": \"left\"}, \"hovermode\": \"closest\", \"mapbox\": {\"style\": \"light\"}, \"paper_bgcolor\": \"white\", \"plot_bgcolor\": \"white\", \"polar\": {\"angularaxis\": {\"gridcolor\": \"#EBF0F8\", \"linecolor\": \"#EBF0F8\", \"ticks\": \"\"}, \"bgcolor\": \"white\", \"radialaxis\": {\"gridcolor\": \"#EBF0F8\", \"linecolor\": \"#EBF0F8\", \"ticks\": \"\"}}, \"scene\": {\"xaxis\": {\"backgroundcolor\": \"white\", \"gridcolor\": \"#DFE8F3\", \"gridwidth\": 2, \"linecolor\": \"#EBF0F8\", \"showbackground\": true, \"ticks\": \"\", \"zerolinecolor\": \"#EBF0F8\"}, \"yaxis\": {\"backgroundcolor\": \"white\", \"gridcolor\": \"#DFE8F3\", \"gridwidth\": 2, \"linecolor\": \"#EBF0F8\", \"showbackground\": true, \"ticks\": \"\", \"zerolinecolor\": \"#EBF0F8\"}, \"zaxis\": {\"backgroundcolor\": \"white\", \"gridcolor\": \"#DFE8F3\", \"gridwidth\": 2, \"linecolor\": \"#EBF0F8\", \"showbackground\": true, \"ticks\": \"\", \"zerolinecolor\": \"#EBF0F8\"}}, \"shapedefaults\": {\"line\": {\"color\": \"#2a3f5f\"}}, \"ternary\": {\"aaxis\": {\"gridcolor\": \"#DFE8F3\", \"linecolor\": \"#A2B1C6\", \"ticks\": \"\"}, \"baxis\": {\"gridcolor\": \"#DFE8F3\", \"linecolor\": \"#A2B1C6\", \"ticks\": \"\"}, \"bgcolor\": \"white\", \"caxis\": {\"gridcolor\": \"#DFE8F3\", \"linecolor\": \"#A2B1C6\", \"ticks\": \"\"}}, \"title\": {\"x\": 0.05}, \"xaxis\": {\"automargin\": true, \"gridcolor\": \"#EBF0F8\", \"linecolor\": \"#EBF0F8\", \"ticks\": \"\", \"title\": {\"standoff\": 15}, \"zerolinecolor\": \"#EBF0F8\", \"zerolinewidth\": 2}, \"yaxis\": {\"automargin\": true, \"gridcolor\": \"#EBF0F8\", \"linecolor\": \"#EBF0F8\", \"ticks\": \"\", \"title\": {\"standoff\": 15}, \"zerolinecolor\": \"#EBF0F8\", \"zerolinewidth\": 2}}}, \"title\": {\"text\": \"Pandemic-related change in residential energy consumption for USA\"}, \"updatemenus\": [{\"buttons\": [{\"args\": [{\"type\": \"scatter\", \"x\": [[\"2019-01-01\", \"2019-02-01\", \"2019-03-01\", \"2019-04-01\", \"2019-05-01\", \"2019-06-01\", \"2019-07-01\", \"2019-08-01\", \"2019-09-01\", \"2019-10-01\", \"2019-11-01\", \"2019-12-01\", \"2020-01-01\", \"2020-02-01\", \"2020-03-01\", \"2020-04-01\", \"2020-05-01\", \"2020-06-01\", \"2020-07-01\", \"2020-08-01\", \"2020-09-01\", \"2020-10-01\", \"2020-11-01\", \"2020-12-01\"]], \"y\": [[-3.88, 0.97, 0.78, -1.3, -1.15, 0.78, -1.8, -1.0, -1.13, 3.62, 0.2, 1.21, -6.31, -6.02, -2.88, 0.69, 7.86, 4.11, 2.0, 2.08, 1.78, 0.03, 4.34, 4.07]]}, {\"annotations\": [{\"font_color\": \"green\", \"font_family\": \"Arial\", \"font_size\": 14, \"showarrow\": false, \"text\": \"<b>+3.48%</b>\", \"x\": \"2020-01-20\", \"y\": 2.408039197339682}], \"shapes\": [{\"line\": {\"color\": \"red\", \"dash\": \"dash\", \"width\": 2}, \"type\": \"line\", \"x0\": \"2019-01-01\", \"x1\": \"2020-02-18\", \"y0\": -1.0731438742786206, \"y1\": -1.0731438742786206}, {\"line\": {\"color\": \"green\", \"dash\": \"dash\", \"width\": 2}, \"type\": \"line\", \"x0\": \"2020-02-15\", \"x1\": \"2020-12-01\", \"y0\": 2.408039197339682, \"y1\": 2.408039197339682}, {\"line\": {\"color\": \"#f76d23\", \"dash\": \"dot\", \"width\": 3}, \"type\": \"line\", \"x0\": \"2020-02-15\", \"x1\": \"2020-02-15\", \"y0\": -7.571660793305899, \"y1\": 9.430445030586567}], \"title\": \"Pandemic-related change in residential energy consumption for USA\"}, [0]], \"label\": \"USA\", \"method\": \"update\", \"visible\": true}, {\"args\": [{\"type\": \"scatter\", \"x\": [[\"2020-12-01\", \"2020-11-01\", \"2020-10-01\", \"2020-09-01\", \"2020-08-01\", \"2020-07-01\", \"2020-06-01\", \"2020-05-01\", \"2020-04-01\", \"2020-03-01\", \"2020-02-01\", \"2020-01-01\", \"2019-12-01\", \"2019-11-01\", \"2019-10-01\", \"2019-09-01\", \"2019-08-01\", \"2019-07-01\", \"2019-06-01\", \"2019-05-01\", \"2019-04-01\", \"2019-03-01\", \"2019-02-01\", \"2019-01-01\"]], \"y\": [[-0.06, 3.34, -4.36, -3.43, -0.17, -6.06, -2.94, 2.09, -8.37, 1.41, -7.5, -11.01, 0.55, -3.04, 9.46, 0.71, -2.55, -5.03, 3.39, 1.66, 1.97, -5.31, -2.62, -4.15]]}, {\"annotations\": [{\"font_color\": \"red\", \"font_family\": \"Arial\", \"font_size\": 14, \"showarrow\": false, \"text\": \"<b>-0.18%</b>\", \"x\": \"2020-01-20\", \"y\": -1.854673610600339}], \"shapes\": [{\"line\": {\"color\": \"red\", \"dash\": \"dash\", \"width\": 2}, \"type\": \"line\", \"x0\": \"2019-01-01\", \"x1\": \"2020-02-18\", \"y0\": -1.6770083940226839, \"y1\": -1.6770083940226839}, {\"line\": {\"color\": \"green\", \"dash\": \"dash\", \"width\": 2}, \"type\": \"line\", \"x0\": \"2020-02-15\", \"x1\": \"2020-12-01\", \"y0\": -1.854673610600339, \"y1\": -1.854673610600339}, {\"line\": {\"color\": \"#f76d23\", \"dash\": \"dot\", \"width\": 3}, \"type\": \"line\", \"x0\": \"2020-02-15\", \"x1\": \"2020-02-15\", \"y0\": -13.208810207625017, \"y1\": 11.34834104178822}], \"title\": \"Pandemic-related change in residential energy consumption for Alabama\"}, [0]], \"label\": \"Alabama\", \"method\": \"update\", \"visible\": true}, {\"args\": [{\"type\": \"scatter\", \"x\": [[\"2020-12-01\", \"2020-11-01\", \"2020-10-01\", \"2020-09-01\", \"2020-08-01\", \"2020-07-01\", \"2020-06-01\", \"2020-05-01\", \"2020-04-01\", \"2020-03-01\", \"2020-02-01\", \"2020-01-01\", \"2019-12-01\", \"2019-11-01\", \"2019-10-01\", \"2019-09-01\", \"2019-08-01\", \"2019-07-01\", \"2019-06-01\", \"2019-05-01\", \"2019-04-01\", \"2019-03-01\", \"2019-02-01\", \"2019-01-01\"]], \"y\": [[7.16, 10.17, 9.36, 2.42, 1.19, 5.29, 6.3, 13.11, 10.7, -0.27, 3.89, 0.82, 1.92, 1.15, -4.52, 0.58, -1.65, -0.58, 1.71, 1.14, 3.56, -0.65, 3.56, -0.66]]}, {\"annotations\": [{\"font_color\": \"green\", \"font_family\": \"Arial\", \"font_size\": 14, \"showarrow\": false, \"text\": \"<b>+5.81%</b>\", \"x\": \"2020-01-20\", \"y\": 6.543023889474135}], \"shapes\": [{\"line\": {\"color\": \"red\", \"dash\": \"dash\", \"width\": 2}, \"type\": \"line\", \"x0\": \"2019-01-01\", \"x1\": \"2020-02-18\", \"y0\": 0.733861103996263, \"y1\": 0.733861103996263}, {\"line\": {\"color\": \"green\", \"dash\": \"dash\", \"width\": 2}, \"type\": \"line\", \"x0\": \"2020-02-15\", \"x1\": \"2020-12-01\", \"y0\": 6.543023889474135, \"y1\": 6.543023889474135}, {\"line\": {\"color\": \"#f76d23\", \"dash\": \"dot\", \"width\": 3}, \"type\": \"line\", \"x0\": \"2020-02-15\", \"x1\": \"2020-02-15\", \"y0\": -5.426492195650877, \"y1\": 15.726901756716835}], \"title\": \"Pandemic-related change in residential energy consumption for Arizona\"}, [0]], \"label\": \"Arizona\", \"method\": \"update\", \"visible\": true}, {\"args\": [{\"type\": \"scatter\", \"x\": [[\"2020-12-01\", \"2020-11-01\", \"2020-10-01\", \"2020-09-01\", \"2020-08-01\", \"2020-07-01\", \"2020-06-01\", \"2020-05-01\", \"2020-04-01\", \"2020-03-01\", \"2020-02-01\", \"2020-01-01\", \"2019-12-01\", \"2019-11-01\", \"2019-10-01\", \"2019-09-01\", \"2019-08-01\", \"2019-07-01\", \"2019-06-01\", \"2019-05-01\", \"2019-04-01\", \"2019-03-01\", \"2019-02-01\", \"2019-01-01\"]], \"y\": [[3.21, 3.18, -10.34, -3.09, -4.39, -6.12, -5.06, -1.92, -5.04, -3.35, -9.53, -8.69, 6.38, 3.39, 8.55, -0.31, -8.03, -8.91, 0.53, -5.91, 1.32, 3.73, 1.46, -5.92]]}, {\"annotations\": [{\"font_color\": \"red\", \"font_family\": \"Arial\", \"font_size\": 14, \"showarrow\": false, \"text\": \"<b>-1.73%</b>\", \"x\": \"2020-01-20\", \"y\": -3.293063456755769}], \"shapes\": [{\"line\": {\"color\": \"red\", \"dash\": \"dash\", \"width\": 2}, \"type\": \"line\", \"x0\": \"2019-01-01\", \"x1\": \"2020-02-18\", \"y0\": -1.566542400780135, \"y1\": -1.566542400780135}, {\"line\": {\"color\": \"green\", \"dash\": \"dash\", \"width\": 2}, \"type\": \"line\", \"x0\": \"2020-02-15\", \"x1\": \"2020-12-01\", \"y0\": -3.293063456755769, \"y1\": -3.293063456755769}, {\"line\": {\"color\": \"#f76d23\", \"dash\": \"dot\", \"width\": 3}, \"type\": \"line\", \"x0\": \"2020-02-15\", \"x1\": \"2020-02-15\", \"y0\": -12.413660694671014, \"y1\": 10.260933210986156}], \"title\": \"Pandemic-related change in residential energy consumption for Arkansas\"}, [0]], \"label\": \"Arkansas\", \"method\": \"update\", \"visible\": true}, {\"args\": [{\"type\": \"scatter\", \"x\": [[\"2020-12-01\", \"2020-11-01\", \"2020-10-01\", \"2020-09-01\", \"2020-08-01\", \"2020-07-01\", \"2020-06-01\", \"2020-05-01\", \"2020-04-01\", \"2020-03-01\", \"2020-02-01\", \"2020-01-01\", \"2019-12-01\", \"2019-11-01\", \"2019-10-01\", \"2019-09-01\", \"2019-08-01\", \"2019-07-01\", \"2019-06-01\", \"2019-05-01\", \"2019-04-01\", \"2019-03-01\", \"2019-02-01\", \"2019-01-01\"]], \"y\": [[9.56, -9.11, 13.95, 4.58, 1.85, 12.74, 9.94, 14.65, -9.75, -9.05, -16.47, -1.77, 4.46, -5.22, -5.15, 2.42, 4.95, 2.74, -5.81, 6.12, -12.53, 2.91, -0.63, 5.45]]}, {\"annotations\": [{\"font_color\": \"green\", \"font_family\": \"Arial\", \"font_size\": 14, \"showarrow\": false, \"text\": \"<b>+5.26%</b>\", \"x\": \"2020-01-20\", \"y\": 3.9355490419913552}], \"shapes\": [{\"line\": {\"color\": \"red\", \"dash\": \"dash\", \"width\": 2}, \"type\": \"line\", \"x0\": \"2019-01-01\", \"x1\": \"2020-02-18\", \"y0\": -1.3233480512281877, \"y1\": -1.3233480512281877}, {\"line\": {\"color\": \"green\", \"dash\": \"dash\", \"width\": 2}, \"type\": \"line\", \"x0\": \"2020-02-15\", \"x1\": \"2020-12-01\", \"y0\": 3.9355490419913552, \"y1\": 3.9355490419913552}, {\"line\": {\"color\": \"#f76d23\", \"dash\": \"dot\", \"width\": 3}, \"type\": \"line\", \"x0\": \"2020-02-15\", \"x1\": \"2020-02-15\", \"y0\": -19.758411792705196, \"y1\": 17.57629964522149}], \"title\": \"Pandemic-related change in residential energy consumption for California\"}, [0]], \"label\": \"California\", \"method\": \"update\", \"visible\": true}, {\"args\": [{\"type\": \"scatter\", \"x\": [[\"2020-12-01\", \"2020-11-01\", \"2020-10-01\", \"2020-09-01\", \"2020-08-01\", \"2020-07-01\", \"2020-06-01\", \"2020-05-01\", \"2020-04-01\", \"2020-03-01\", \"2020-02-01\", \"2020-01-01\", \"2019-12-01\", \"2019-11-01\", \"2019-10-01\", \"2019-09-01\", \"2019-08-01\", \"2019-07-01\", \"2019-06-01\", \"2019-05-01\", \"2019-04-01\", \"2019-03-01\", \"2019-02-01\", \"2019-01-01\"]], \"y\": [[4.7, 3.22, 3.04, 3.61, 3.8, 7.29, 12.05, 4.24, 1.66, -0.61, -3.8, -4.15, -2.52, 0.3, -2.39, 2.94, 3.78, 0.22, -2.47, 3.33, -1.13, 1.26, -4.15, -4.29]]}, {\"annotations\": [{\"font_color\": \"green\", \"font_family\": \"Arial\", \"font_size\": 14, \"showarrow\": false, \"text\": \"<b>+5.23%</b>\", \"x\": \"2020-01-20\", \"y\": 4.298904352163747}], \"shapes\": [{\"line\": {\"color\": \"red\", \"dash\": \"dash\", \"width\": 2}, \"type\": \"line\", \"x0\": \"2019-01-01\", \"x1\": \"2020-02-18\", \"y0\": -0.9340154103980078, \"y1\": -0.9340154103980078}, {\"line\": {\"color\": \"green\", \"dash\": \"dash\", \"width\": 2}, \"type\": \"line\", \"x0\": \"2020-02-15\", \"x1\": \"2020-12-01\", \"y0\": 4.298904352163747, \"y1\": 4.298904352163747}, {\"line\": {\"color\": \"#f76d23\", \"dash\": \"dot\", \"width\": 3}, \"type\": \"line\", \"x0\": \"2020-02-15\", \"x1\": \"2020-02-15\", \"y0\": -5.14736660096642, \"y1\": 14.455007049318539}], \"title\": \"Pandemic-related change in residential energy consumption for Colorado\"}, [0]], \"label\": \"Colorado\", \"method\": \"update\", \"visible\": true}, {\"args\": [{\"type\": \"scatter\", \"x\": [[\"2020-12-01\", \"2020-11-01\", \"2020-10-01\", \"2020-09-01\", \"2020-08-01\", \"2020-07-01\", \"2020-06-01\", \"2020-05-01\", \"2020-04-01\", \"2020-03-01\", \"2020-02-01\", \"2020-01-01\", \"2019-12-01\", \"2019-11-01\", \"2019-10-01\", \"2019-09-01\", \"2019-08-01\", \"2019-07-01\", \"2019-06-01\", \"2019-05-01\", \"2019-04-01\", \"2019-03-01\", \"2019-02-01\", \"2019-01-01\"]], \"y\": [[6.74, 9.22, 3.57, -8.03, 7.32, 7.5, 13.97, 10.09, -0.78, -6.69, -8.97, -3.72, 11.51, -8.79, -1.81, -16.3, 3.34, 6.02, 2.55, -0.52, -8.45, -3.03, -2.59, -2.57]]}, {\"annotations\": [{\"font_color\": \"green\", \"font_family\": \"Arial\", \"font_size\": 14, \"showarrow\": false, \"text\": \"<b>+6.67%</b>\", \"x\": \"2020-01-20\", \"y\": 4.292459013895704}], \"shapes\": [{\"line\": {\"color\": \"red\", \"dash\": \"dash\", \"width\": 2}, \"type\": \"line\", \"x0\": \"2019-01-01\", \"x1\": \"2020-02-18\", \"y0\": -2.380764427414649, \"y1\": -2.380764427414649}, {\"line\": {\"color\": \"green\", \"dash\": \"dash\", \"width\": 2}, \"type\": \"line\", \"x0\": \"2020-02-15\", \"x1\": \"2020-12-01\", \"y0\": 4.292459013895704, \"y1\": 4.292459013895704}, {\"line\": {\"color\": \"#f76d23\", \"dash\": \"dot\", \"width\": 3}, \"type\": \"line\", \"x0\": \"2020-02-15\", \"x1\": \"2020-02-15\", \"y0\": -19.564063103198414, \"y1\": 16.766184557540132}], \"title\": \"Pandemic-related change in residential energy consumption for Connecticut\"}, [0]], \"label\": \"Connecticut\", \"method\": \"update\", \"visible\": true}, {\"args\": [{\"type\": \"scatter\", \"x\": [[\"2020-12-01\", \"2020-11-01\", \"2020-10-01\", \"2020-09-01\", \"2020-08-01\", \"2020-07-01\", \"2020-06-01\", \"2020-05-01\", \"2020-04-01\", \"2020-03-01\", \"2020-02-01\", \"2020-01-01\", \"2019-12-01\", \"2019-11-01\", \"2019-10-01\", \"2019-09-01\", \"2019-08-01\", \"2019-07-01\", \"2019-06-01\", \"2019-05-01\", \"2019-04-01\", \"2019-03-01\", \"2019-02-01\", \"2019-01-01\"]], \"y\": [[-1.24, -5.39, -3.9, 10.28, 0.84, 5.29, 7.11, 12.74, -5.62, -8.58, -12.72, -12.93, 6.64, -1.02, -4.15, -7.86, 1.22, 1.62, 6.15, -7.98, -6.57, 0.99, 1.72, -2.98]]}, {\"annotations\": [{\"font_color\": \"green\", \"font_family\": \"Arial\", \"font_size\": 14, \"showarrow\": false, \"text\": \"<b>+3.86%</b>\", \"x\": \"2020-01-20\", \"y\": 1.1535300330864668}], \"shapes\": [{\"line\": {\"color\": \"red\", \"dash\": \"dash\", \"width\": 2}, \"type\": \"line\", \"x0\": \"2019-01-01\", \"x1\": \"2020-02-18\", \"y0\": -2.7051963988530203, \"y1\": -2.7051963988530203}, {\"line\": {\"color\": \"green\", \"dash\": \"dash\", \"width\": 2}, \"type\": \"line\", \"x0\": \"2020-02-15\", \"x1\": \"2020-12-01\", \"y0\": 1.1535300330864668, \"y1\": 1.1535300330864668}, {\"line\": {\"color\": \"#f76d23\", \"dash\": \"dot\", \"width\": 3}, \"type\": \"line\", \"x0\": \"2020-02-15\", \"x1\": \"2020-02-15\", \"y0\": -15.510627552985502, \"y1\": 15.290657669530598}], \"title\": \"Pandemic-related change in residential energy consumption for Delaware\"}, [0]], \"label\": \"Delaware\", \"method\": \"update\", \"visible\": true}, {\"args\": [{\"type\": \"scatter\", \"x\": [[\"2020-12-01\", \"2020-11-01\", \"2020-10-01\", \"2020-09-01\", \"2020-08-01\", \"2020-07-01\", \"2020-06-01\", \"2020-05-01\", \"2020-04-01\", \"2020-03-01\", \"2020-02-01\", \"2020-01-01\", \"2019-12-01\", \"2019-11-01\", \"2019-10-01\", \"2019-09-01\", \"2019-08-01\", \"2019-07-01\", \"2019-06-01\", \"2019-05-01\", \"2019-04-01\", \"2019-03-01\", \"2019-02-01\", \"2019-01-01\"]], \"y\": [[1.15, 5.86, 0.25, -0.4, 1.59, -0.14, 3.25, 7.7, 8.63, 1.82, -8.2, -9.52, -2.18, 2.28, 2.86, -1.34, -3.7, -2.04, 5.09, 0.81, 0.95, 0.62, 0.22, -5.05]]}, {\"annotations\": [{\"font_color\": \"green\", \"font_family\": \"Arial\", \"font_size\": 14, \"showarrow\": false, \"text\": \"<b>+4.34%</b>\", \"x\": \"2020-01-20\", \"y\": 2.9696605331471186}], \"shapes\": [{\"line\": {\"color\": \"red\", \"dash\": \"dash\", \"width\": 2}, \"type\": \"line\", \"x0\": \"2019-01-01\", \"x1\": \"2020-02-18\", \"y0\": -1.371746895403088, \"y1\": -1.371746895403088}, {\"line\": {\"color\": \"green\", \"dash\": \"dash\", \"width\": 2}, \"type\": \"line\", \"x0\": \"2020-02-15\", \"x1\": \"2020-12-01\", \"y0\": 2.9696605331471186, \"y1\": 2.9696605331471186}, {\"line\": {\"color\": \"#f76d23\", \"dash\": \"dot\", \"width\": 3}, \"type\": \"line\", \"x0\": \"2020-02-15\", \"x1\": \"2020-02-15\", \"y0\": -11.41970719260817, \"y1\": 10.350085528757422}], \"title\": \"Pandemic-related change in residential energy consumption for Florida\"}, [0]], \"label\": \"Florida\", \"method\": \"update\", \"visible\": true}, {\"args\": [{\"type\": \"scatter\", \"x\": [[\"2020-12-01\", \"2020-11-01\", \"2020-10-01\", \"2020-09-01\", \"2020-08-01\", \"2020-07-01\", \"2020-06-01\", \"2020-05-01\", \"2020-04-01\", \"2020-03-01\", \"2020-02-01\", \"2020-01-01\", \"2019-12-01\", \"2019-11-01\", \"2019-10-01\", \"2019-09-01\", \"2019-08-01\", \"2019-07-01\", \"2019-06-01\", \"2019-05-01\", \"2019-04-01\", \"2019-03-01\", \"2019-02-01\", \"2019-01-01\"]], \"y\": [[7.77, -0.43, -9.28, -5.19, -5.39, -3.07, -1.98, 5.14, -8.89, -0.82, -5.61, -7.46, 0.82, 1.62, 2.24, 0.97, -0.88, -4.14, -1.21, 2.29, 1.71, -1.8, -1.06, -0.79]]}, {\"annotations\": [{\"font_color\": \"red\", \"font_family\": \"Arial\", \"font_size\": 14, \"showarrow\": false, \"text\": \"<b>-1.26%</b>\", \"x\": \"2020-01-20\", \"y\": -2.2124442830387308}], \"shapes\": [{\"line\": {\"color\": \"red\", \"dash\": \"dash\", \"width\": 2}, \"type\": \"line\", \"x0\": \"2019-01-01\", \"x1\": \"2020-02-18\", \"y0\": -0.950722723447395, \"y1\": -0.950722723447395}, {\"line\": {\"color\": \"green\", \"dash\": \"dash\", \"width\": 2}, \"type\": \"line\", \"x0\": \"2020-02-15\", \"x1\": \"2020-12-01\", \"y0\": -2.2124442830387308, \"y1\": -2.2124442830387308}, {\"line\": {\"color\": \"#f76d23\", \"dash\": \"dot\", \"width\": 3}, \"type\": \"line\", \"x0\": \"2020-02-15\", \"x1\": \"2020-02-15\", \"y0\": -11.132169140338616, \"y1\": 9.322639711666788}], \"title\": \"Pandemic-related change in residential energy consumption for Georgia\"}, [0]], \"label\": \"Georgia\", \"method\": \"update\", \"visible\": true}, {\"args\": [{\"type\": \"scatter\", \"x\": [[\"2020-12-01\", \"2020-11-01\", \"2020-10-01\", \"2020-09-01\", \"2020-08-01\", \"2020-07-01\", \"2020-06-01\", \"2020-05-01\", \"2020-04-01\", \"2020-03-01\", \"2020-02-01\", \"2020-01-01\", \"2019-12-01\", \"2019-11-01\", \"2019-10-01\", \"2019-09-01\", \"2019-08-01\", \"2019-07-01\", \"2019-06-01\", \"2019-05-01\", \"2019-04-01\", \"2019-03-01\", \"2019-02-01\", \"2019-01-01\"]], \"y\": [[3.61, 9.02, 1.71, 3.07, -0.61, 2.25, 6.35, 3.81, 5.17, 1.05, -0.96, -7.26, -3.74, 4.46, 1.66, 2.69, 1.36, -0.54, 5.65, 0.38, -0.73, 0.74, -2.13, -4.65]]}, {\"annotations\": [{\"font_color\": \"green\", \"font_family\": \"Arial\", \"font_size\": 14, \"showarrow\": false, \"text\": \"<b>+3.76%</b>\", \"x\": \"2020-01-20\", \"y\": 3.543314049377217}], \"shapes\": [{\"line\": {\"color\": \"red\", \"dash\": \"dash\", \"width\": 2}, \"type\": \"line\", \"x0\": \"2019-01-01\", \"x1\": \"2020-02-18\", \"y0\": -0.2186518945895795, \"y1\": -0.2186518945895795}, {\"line\": {\"color\": \"green\", \"dash\": \"dash\", \"width\": 2}, \"type\": \"line\", \"x0\": \"2020-02-15\", \"x1\": \"2020-12-01\", \"y0\": 3.543314049377217, \"y1\": 3.543314049377217}, {\"line\": {\"color\": \"#f76d23\", \"dash\": \"dot\", \"width\": 3}, \"type\": \"line\", \"x0\": \"2020-02-15\", \"x1\": \"2020-02-15\", \"y0\": -8.71115124754238, \"y1\": 10.820660140699104}], \"title\": \"Pandemic-related change in residential energy consumption for Idaho\"}, [0]], \"label\": \"Idaho\", \"method\": \"update\", \"visible\": true}, {\"args\": [{\"type\": \"scatter\", \"x\": [[\"2020-12-01\", \"2020-11-01\", \"2020-10-01\", \"2020-09-01\", \"2020-08-01\", \"2020-07-01\", \"2020-06-01\", \"2020-05-01\", \"2020-04-01\", \"2020-03-01\", \"2020-02-01\", \"2020-01-01\", \"2019-12-01\", \"2019-11-01\", \"2019-10-01\", \"2019-09-01\", \"2019-08-01\", \"2019-07-01\", \"2019-06-01\", \"2019-05-01\", \"2019-04-01\", \"2019-03-01\", \"2019-02-01\", \"2019-01-01\"]], \"y\": [[6.64, 3.96, 4.18, 0.12, 7.52, 4.07, 9.69, 15.39, 0.84, 0.57, 0.76, -1.97, 0.4, 1.12, 4.33, -1.96, -1.84, -0.65, -0.61, -0.31, -1.85, 3.7, 0.07, -4.65]]}, {\"annotations\": [{\"font_color\": \"green\", \"font_family\": \"Arial\", \"font_size\": 14, \"showarrow\": false, \"text\": \"<b>+5.55%</b>\", \"x\": \"2020-01-20\", \"y\": 5.29910715278928}], \"shapes\": [{\"line\": {\"color\": \"red\", \"dash\": \"dash\", \"width\": 2}, \"type\": \"line\", \"x0\": \"2019-01-01\", \"x1\": \"2020-02-18\", \"y0\": -0.24707354064751996, \"y1\": -0.24707354064751996}, {\"line\": {\"color\": \"green\", \"dash\": \"dash\", \"width\": 2}, \"type\": \"line\", \"x0\": \"2020-02-15\", \"x1\": \"2020-12-01\", \"y0\": 5.29910715278928, \"y1\": 5.29910715278928}, {\"line\": {\"color\": \"#f76d23\", \"dash\": \"dot\", \"width\": 3}, \"type\": \"line\", \"x0\": \"2020-02-15\", \"x1\": \"2020-02-15\", \"y0\": -5.577961843521574, \"y1\": 18.4702835298457}], \"title\": \"Pandemic-related change in residential energy consumption for Illinois\"}, [0]], \"label\": \"Illinois\", \"method\": \"update\", \"visible\": true}, {\"args\": [{\"type\": \"scatter\", \"x\": [[\"2020-12-01\", \"2020-11-01\", \"2020-10-01\", \"2020-09-01\", \"2020-08-01\", \"2020-07-01\", \"2020-06-01\", \"2020-05-01\", \"2020-04-01\", \"2020-03-01\", \"2020-02-01\", \"2020-01-01\", \"2019-12-01\", \"2019-11-01\", \"2019-10-01\", \"2019-09-01\", \"2019-08-01\", \"2019-07-01\", \"2019-06-01\", \"2019-05-01\", \"2019-04-01\", \"2019-03-01\", \"2019-02-01\", \"2019-01-01\"]], \"y\": [[-2.67, 1.69, -1.93, 4.04, 0.31, -6.22, 0.87, 5.95, 0.86, -1.1, -5.52, -8.57, -1.72, -1.83, 4.99, 2.42, 2.9, -6.81, 0.5, 0.25, 2.12, 1.95, 0.63, -9.38]]}, {\"annotations\": [{\"font_color\": \"green\", \"font_family\": \"Arial\", \"font_size\": 14, \"showarrow\": false, \"text\": \"<b>+1.47%</b>\", \"x\": \"2020-01-20\", \"y\": 0.17883832288883253}], \"shapes\": [{\"line\": {\"color\": \"red\", \"dash\": \"dash\", \"width\": 2}, \"type\": \"line\", \"x0\": \"2019-01-01\", \"x1\": \"2020-02-18\", \"y0\": -1.2909705349618554, \"y1\": -1.2909705349618554}, {\"line\": {\"color\": \"green\", \"dash\": \"dash\", \"width\": 2}, \"type\": \"line\", \"x0\": \"2020-02-15\", \"x1\": \"2020-12-01\", \"y0\": 0.17883832288883253, \"y1\": 0.17883832288883253}, {\"line\": {\"color\": \"#f76d23\", \"dash\": \"dot\", \"width\": 3}, \"type\": \"line\", \"x0\": \"2020-02-15\", \"x1\": \"2020-02-15\", \"y0\": -11.25059568153018, \"y1\": 7.144370779600369}], \"title\": \"Pandemic-related change in residential energy consumption for Indiana\"}, [0]], \"label\": \"Indiana\", \"method\": \"update\", \"visible\": true}, {\"args\": [{\"type\": \"scatter\", \"x\": [[\"2020-12-01\", \"2020-11-01\", \"2020-10-01\", \"2020-09-01\", \"2020-08-01\", \"2020-07-01\", \"2020-06-01\", \"2020-05-01\", \"2020-04-01\", \"2020-03-01\", \"2020-02-01\", \"2020-01-01\", \"2019-12-01\", \"2019-11-01\", \"2019-10-01\", \"2019-09-01\", \"2019-08-01\", \"2019-07-01\", \"2019-06-01\", \"2019-05-01\", \"2019-04-01\", \"2019-03-01\", \"2019-02-01\", \"2019-01-01\"]], \"y\": [[2.39, 7.17, -3.43, 6.79, 4.01, -0.15, 2.3, 3.8, 2.12, -4.45, -4.25, -4.75, -0.78, -3.47, 6.9, -6.5, 1.37, 1.06, -1.41, 1.12, -8.98, 7.27, 5.17, -4.37]]}, {\"annotations\": [{\"font_color\": \"green\", \"font_family\": \"Arial\", \"font_size\": 14, \"showarrow\": false, \"text\": \"<b>+2.89%</b>\", \"x\": \"2020-01-20\", \"y\": 2.056313421761029}], \"shapes\": [{\"line\": {\"color\": \"red\", \"dash\": \"dash\", \"width\": 2}, \"type\": \"line\", \"x0\": \"2019-01-01\", \"x1\": \"2020-02-18\", \"y0\": -0.8312052242507794, \"y1\": -0.8312052242507794}, {\"line\": {\"color\": \"green\", \"dash\": \"dash\", \"width\": 2}, \"type\": \"line\", \"x0\": \"2020-02-15\", \"x1\": \"2020-12-01\", \"y0\": 2.056313421761029, \"y1\": 2.056313421761029}, {\"line\": {\"color\": \"#f76d23\", \"dash\": \"dot\", \"width\": 3}, \"type\": \"line\", \"x0\": \"2020-02-15\", \"x1\": \"2020-02-15\", \"y0\": -10.776168445275319, \"y1\": 8.722197292000068}], \"title\": \"Pandemic-related change in residential energy consumption for Iowa\"}, [0]], \"label\": \"Iowa\", \"method\": \"update\", \"visible\": true}, {\"args\": [{\"type\": \"scatter\", \"x\": [[\"2020-12-01\", \"2020-11-01\", \"2020-10-01\", \"2020-09-01\", \"2020-08-01\", \"2020-07-01\", \"2020-06-01\", \"2020-05-01\", \"2020-04-01\", \"2020-03-01\", \"2020-02-01\", \"2020-01-01\", \"2019-12-01\", \"2019-11-01\", \"2019-10-01\", \"2019-09-01\", \"2019-08-01\", \"2019-07-01\", \"2019-06-01\", \"2019-05-01\", \"2019-04-01\", \"2019-03-01\", \"2019-02-01\", \"2019-01-01\"]], \"y\": [[2.58, 3.33, 4.52, 2.13, -1.72, -3.56, -0.55, 2.74, 5.54, -1.21, -2.96, -12.14, -0.92, -1.03, 5.67, 5.59, -1.41, -5.01, -1.38, 0.75, 2.48, -1.82, 2.41, -8.55]]}, {\"annotations\": [{\"font_color\": \"green\", \"font_family\": \"Arial\", \"font_size\": 14, \"showarrow\": false, \"text\": \"<b>+2.69%</b>\", \"x\": \"2020-01-20\", \"y\": 1.3799893075303504}], \"shapes\": [{\"line\": {\"color\": \"red\", \"dash\": \"dash\", \"width\": 2}, \"type\": \"line\", \"x0\": \"2019-01-01\", \"x1\": \"2020-02-18\", \"y0\": -1.308794750796677, \"y1\": -1.308794750796677}, {\"line\": {\"color\": \"green\", \"dash\": \"dash\", \"width\": 2}, \"type\": \"line\", \"x0\": \"2020-02-15\", \"x1\": \"2020-12-01\", \"y0\": 1.3799893075303504, \"y1\": 1.3799893075303504}, {\"line\": {\"color\": \"#f76d23\", \"dash\": \"dot\", \"width\": 3}, \"type\": \"line\", \"x0\": \"2020-02-15\", \"x1\": \"2020-02-15\", \"y0\": -14.5632566345557, \"y1\": 6.800197918056677}], \"title\": \"Pandemic-related change in residential energy consumption for Kansas\"}, [0]], \"label\": \"Kansas\", \"method\": \"update\", \"visible\": true}, {\"args\": [{\"type\": \"scatter\", \"x\": [[\"2020-12-01\", \"2020-11-01\", \"2020-10-01\", \"2020-09-01\", \"2020-08-01\", \"2020-07-01\", \"2020-06-01\", \"2020-05-01\", \"2020-04-01\", \"2020-03-01\", \"2020-02-01\", \"2020-01-01\", \"2019-12-01\", \"2019-11-01\", \"2019-10-01\", \"2019-09-01\", \"2019-08-01\", \"2019-07-01\", \"2019-06-01\", \"2019-05-01\", \"2019-04-01\", \"2019-03-01\", \"2019-02-01\", \"2019-01-01\"]], \"y\": [[-0.68, 1.83, -1.22, -0.49, 1.01, 1.55, 3.34, 6.99, -4.53, -2.37, -6.67, -7.88, 1.27, -0.33, 4.65, -3.34, -0.59, 0.38, 2.65, -5.44, -1.23, 3.46, 0.07, -4.28]]}, {\"annotations\": [{\"font_color\": \"green\", \"font_family\": \"Arial\", \"font_size\": 14, \"showarrow\": false, \"text\": \"<b>+1.78%</b>\", \"x\": \"2020-01-20\", \"y\": 0.5433979174586125}], \"shapes\": [{\"line\": {\"color\": \"red\", \"dash\": \"dash\", \"width\": 2}, \"type\": \"line\", \"x0\": \"2019-01-01\", \"x1\": \"2020-02-18\", \"y0\": -1.2348990433695597, \"y1\": -1.2348990433695597}, {\"line\": {\"color\": \"green\", \"dash\": \"dash\", \"width\": 2}, \"type\": \"line\", \"x0\": \"2020-02-15\", \"x1\": \"2020-12-01\", \"y0\": 0.5433979174586125, \"y1\": 0.5433979174586125}, {\"line\": {\"color\": \"#f76d23\", \"dash\": \"dot\", \"width\": 3}, \"type\": \"line\", \"x0\": \"2020-02-15\", \"x1\": \"2020-02-15\", \"y0\": -9.455245090317957, \"y1\": 8.385918132523559}], \"title\": \"Pandemic-related change in residential energy consumption for Kentucky\"}, [0]], \"label\": \"Kentucky\", \"method\": \"update\", \"visible\": true}, {\"args\": [{\"type\": \"scatter\", \"x\": [[\"2020-12-01\", \"2020-11-01\", \"2020-10-01\", \"2020-09-01\", \"2020-08-01\", \"2020-07-01\", \"2020-06-01\", \"2020-05-01\", \"2020-04-01\", \"2020-03-01\", \"2020-02-01\", \"2020-01-01\", \"2019-12-01\", \"2019-11-01\", \"2019-10-01\", \"2019-09-01\", \"2019-08-01\", \"2019-07-01\", \"2019-06-01\", \"2019-05-01\", \"2019-04-01\", \"2019-03-01\", \"2019-02-01\", \"2019-01-01\"]], \"y\": [[4.64, 5.04, -11.07, -0.65, -1.15, -3.51, -0.3, 2.7, 7.29, -0.58, -11.04, -3.64, 4.53, -1.31, 5.56, -1.75, -4.13, -2.57, 4.87, -3.11, 0.75, -4.4, -3.16, -3.68]]}, {\"annotations\": [{\"font_color\": \"green\", \"font_family\": \"Arial\", \"font_size\": 14, \"showarrow\": false, \"text\": \"<b>+1.89%</b>\", \"x\": \"2020-01-20\", \"y\": 0.24057624236218295}], \"shapes\": [{\"line\": {\"color\": \"red\", \"dash\": \"dash\", \"width\": 2}, \"type\": \"line\", \"x0\": \"2019-01-01\", \"x1\": \"2020-02-18\", \"y0\": -1.6477243958050516, \"y1\": -1.6477243958050516}, {\"line\": {\"color\": \"green\", \"dash\": \"dash\", \"width\": 2}, \"type\": \"line\", \"x0\": \"2020-02-15\", \"x1\": \"2020-12-01\", \"y0\": 0.24057624236218295, \"y1\": 0.24057624236218295}, {\"line\": {\"color\": \"#f76d23\", \"dash\": \"dot\", \"width\": 3}, \"type\": \"line\", \"x0\": \"2020-02-15\", \"x1\": \"2020-02-15\", \"y0\": -13.282329032938156, \"y1\": 8.74381755344341}], \"title\": \"Pandemic-related change in residential energy consumption for Louisiana\"}, [0]], \"label\": \"Louisiana\", \"method\": \"update\", \"visible\": true}, {\"args\": [{\"type\": \"scatter\", \"x\": [[\"2020-12-01\", \"2020-11-01\", \"2020-10-01\", \"2020-09-01\", \"2020-08-01\", \"2020-07-01\", \"2020-06-01\", \"2020-05-01\", \"2020-04-01\", \"2020-03-01\", \"2020-02-01\", \"2020-01-01\", \"2019-12-01\", \"2019-11-01\", \"2019-10-01\", \"2019-09-01\", \"2019-08-01\", \"2019-07-01\", \"2019-06-01\", \"2019-05-01\", \"2019-04-01\", \"2019-03-01\", \"2019-02-01\", \"2019-01-01\"]], \"y\": [[-0.79, 3.42, 4.1, 5.32, 14.39, 5.78, 4.8, 9.03, 7.61, 1.5, 4.21, -2.13, -2.69, 2.84, -3.49, 0.41, -1.46, -9.09, -4.24, 2.84, 1.62, 1.7, 11.53, -4.38]]}, {\"annotations\": [{\"font_color\": \"green\", \"font_family\": \"Arial\", \"font_size\": 14, \"showarrow\": false, \"text\": \"<b>+5.68%</b>\", \"x\": \"2020-01-20\", \"y\": 5.515562189996734}], \"shapes\": [{\"line\": {\"color\": \"red\", \"dash\": \"dash\", \"width\": 2}, \"type\": \"line\", \"x0\": \"2019-01-01\", \"x1\": \"2020-02-18\", \"y0\": -0.16633036685675132, \"y1\": -0.16633036685675132}, {\"line\": {\"color\": \"green\", \"dash\": \"dash\", \"width\": 2}, \"type\": \"line\", \"x0\": \"2020-02-15\", \"x1\": \"2020-12-01\", \"y0\": 5.515562189996734, \"y1\": 5.515562189996734}, {\"line\": {\"color\": \"#f76d23\", \"dash\": \"dot\", \"width\": 3}, \"type\": \"line\", \"x0\": \"2020-02-15\", \"x1\": \"2020-02-15\", \"y0\": -10.903682417995599, \"y1\": 17.269104032045366}], \"title\": \"Pandemic-related change in residential energy consumption for Maine\"}, [0]], \"label\": \"Maine\", \"method\": \"update\", \"visible\": true}, {\"args\": [{\"type\": \"scatter\", \"x\": [[\"2020-12-01\", \"2020-11-01\", \"2020-10-01\", \"2020-09-01\", \"2020-08-01\", \"2020-07-01\", \"2020-06-01\", \"2020-05-01\", \"2020-04-01\", \"2020-03-01\", \"2020-02-01\", \"2020-01-01\", \"2019-12-01\", \"2019-11-01\", \"2019-10-01\", \"2019-09-01\", \"2019-08-01\", \"2019-07-01\", \"2019-06-01\", \"2019-05-01\", \"2019-04-01\", \"2019-03-01\", \"2019-02-01\", \"2019-01-01\"]], \"y\": [[7.51, 6.37, -5.3, 2.07, 5.53, 9.31, 10.42, 9.54, -2.46, -7.62, -6.09, -3.7, 5.11, 1.07, -8.44, -6.48, -0.42, 2.72, 3.24, -5.67, -6.69, 0.85, 2.29, 0.92]]}, {\"annotations\": [{\"font_color\": \"green\", \"font_family\": \"Arial\", \"font_size\": 14, \"showarrow\": false, \"text\": \"<b>+5.06%</b>\", \"x\": \"2020-01-20\", \"y\": 3.5373052050320255}], \"shapes\": [{\"line\": {\"color\": \"red\", \"dash\": \"dash\", \"width\": 2}, \"type\": \"line\", \"x0\": \"2019-01-01\", \"x1\": \"2020-02-18\", \"y0\": -1.5201001451522518, \"y1\": -1.5201001451522518}, {\"line\": {\"color\": \"green\", \"dash\": \"dash\", \"width\": 2}, \"type\": \"line\", \"x0\": \"2020-02-15\", \"x1\": \"2020-12-01\", \"y0\": 3.5373052050320255, \"y1\": 3.5373052050320255}, {\"line\": {\"color\": \"#f76d23\", \"dash\": \"dot\", \"width\": 3}, \"type\": \"line\", \"x0\": \"2020-02-15\", \"x1\": \"2020-02-15\", \"y0\": -10.12390421624208, \"y1\": 12.500367472800708}], \"title\": \"Pandemic-related change in residential energy consumption for Maryland\"}, [0]], \"label\": \"Maryland\", \"method\": \"update\", \"visible\": true}, {\"args\": [{\"type\": \"scatter\", \"x\": [[\"2020-12-01\", \"2020-11-01\", \"2020-10-01\", \"2020-09-01\", \"2020-08-01\", \"2020-07-01\", \"2020-06-01\", \"2020-05-01\", \"2020-04-01\", \"2020-03-01\", \"2020-02-01\", \"2020-01-01\", \"2019-12-01\", \"2019-11-01\", \"2019-10-01\", \"2019-09-01\", \"2019-08-01\", \"2019-07-01\", \"2019-06-01\", \"2019-05-01\", \"2019-04-01\", \"2019-03-01\", \"2019-02-01\", \"2019-01-01\"]], \"y\": [[11.25, 7.3, 9.56, 13.01, 13.08, 4.99, 8.56, 12.9, 5.0, -2.13, -3.76, -0.43, -1.08, -1.12, 2.34, -1.87, 4.46, -3.01, -3.15, 0.56, -0.84, -1.58, 0.53, -3.06]]}, {\"annotations\": [{\"font_color\": \"green\", \"font_family\": \"Arial\", \"font_size\": 14, \"showarrow\": false, \"text\": \"<b>+9.21%</b>\", \"x\": \"2020-01-20\", \"y\": 8.352304702042023}], \"shapes\": [{\"line\": {\"color\": \"red\", \"dash\": \"dash\", \"width\": 2}, \"type\": \"line\", \"x0\": \"2019-01-01\", \"x1\": \"2020-02-18\", \"y0\": -0.8566484826088673, \"y1\": -0.8566484826088673}, {\"line\": {\"color\": \"green\", \"dash\": \"dash\", \"width\": 2}, \"type\": \"line\", \"x0\": \"2020-02-15\", \"x1\": \"2020-12-01\", \"y0\": 8.352304702042023, \"y1\": 8.352304702042023}, {\"line\": {\"color\": \"#f76d23\", \"dash\": \"dot\", \"width\": 3}, \"type\": \"line\", \"x0\": \"2020-02-15\", \"x1\": \"2020-02-15\", \"y0\": -4.506538694188656, \"y1\": 15.694108691020762}], \"title\": \"Pandemic-related change in residential energy consumption for Massachusetts\"}, [0]], \"label\": \"Massachusetts\", \"method\": \"update\", \"visible\": true}, {\"args\": [{\"type\": \"scatter\", \"x\": [[\"2020-12-01\", \"2020-11-01\", \"2020-10-01\", \"2020-09-01\", \"2020-08-01\", \"2020-07-01\", \"2020-06-01\", \"2020-05-01\", \"2020-04-01\", \"2020-03-01\", \"2020-02-01\", \"2020-01-01\", \"2019-12-01\", \"2019-11-01\", \"2019-10-01\", \"2019-09-01\", \"2019-08-01\", \"2019-07-01\", \"2019-06-01\", \"2019-05-01\", \"2019-04-01\", \"2019-03-01\", \"2019-02-01\", \"2019-01-01\"]], \"y\": [[4.59, 10.43, 11.57, 6.68, 9.02, 11.37, 15.08, 17.54, 8.2, 2.58, 0.74, -5.65, -0.48, 4.41, 2.03, -9.12, 0.53, 1.71, -1.19, -2.11, -1.69, 0.21, 4.27, -3.06]]}, {\"annotations\": [{\"font_color\": \"green\", \"font_family\": \"Arial\", \"font_size\": 14, \"showarrow\": false, \"text\": \"<b>+10.38%</b>\", \"x\": \"2020-01-20\", \"y\": 9.70683545569975}], \"shapes\": [{\"line\": {\"color\": \"red\", \"dash\": \"dash\", \"width\": 2}, \"type\": \"line\", \"x0\": \"2019-01-01\", \"x1\": \"2020-02-18\", \"y0\": -0.6730551231847783, \"y1\": -0.6730551231847783}, {\"line\": {\"color\": \"green\", \"dash\": \"dash\", \"width\": 2}, \"type\": \"line\", \"x0\": \"2020-02-15\", \"x1\": \"2020-12-01\", \"y0\": 9.70683545569975, \"y1\": 9.70683545569975}, {\"line\": {\"color\": \"#f76d23\", \"dash\": \"dot\", \"width\": 3}, \"type\": \"line\", \"x0\": \"2020-02-15\", \"x1\": \"2020-02-15\", \"y0\": -10.946789203271601, \"y1\": 21.05294131698683}], \"title\": \"Pandemic-related change in residential energy consumption for Michigan\"}, [0]], \"label\": \"Michigan\", \"method\": \"update\", \"visible\": true}, {\"args\": [{\"type\": \"scatter\", \"x\": [[\"2020-12-01\", \"2020-11-01\", \"2020-10-01\", \"2020-09-01\", \"2020-08-01\", \"2020-07-01\", \"2020-06-01\", \"2020-05-01\", \"2020-04-01\", \"2020-03-01\", \"2020-02-01\", \"2020-01-01\", \"2019-12-01\", \"2019-11-01\", \"2019-10-01\", \"2019-09-01\", \"2019-08-01\", \"2019-07-01\", \"2019-06-01\", \"2019-05-01\", \"2019-04-01\", \"2019-03-01\", \"2019-02-01\", \"2019-01-01\"]], \"y\": [[4.37, 6.49, 3.84, 4.79, 7.84, 9.64, 7.9, 7.24, 4.67, 0.22, -5.08, -3.07, 1.3, 0.52, 3.93, -7.52, -2.5, -0.85, 2.79, -0.22, -0.02, 3.36, 0.2, -3.13]]}, {\"annotations\": [{\"font_color\": \"green\", \"font_family\": \"Arial\", \"font_size\": 14, \"showarrow\": false, \"text\": \"<b>+6.43%</b>\", \"x\": \"2020-01-20\", \"y\": 5.698116884538729}], \"shapes\": [{\"line\": {\"color\": \"red\", \"dash\": \"dash\", \"width\": 2}, \"type\": \"line\", \"x0\": \"2019-01-01\", \"x1\": \"2020-02-18\", \"y0\": -0.7356098296608219, \"y1\": -0.7356098296608219}, {\"line\": {\"color\": \"green\", \"dash\": \"dash\", \"width\": 2}, \"type\": \"line\", \"x0\": \"2020-02-15\", \"x1\": \"2020-12-01\", \"y0\": 5.698116884538729, \"y1\": 5.698116884538729}, {\"line\": {\"color\": \"#f76d23\", \"dash\": \"dot\", \"width\": 3}, \"type\": \"line\", \"x0\": \"2020-02-15\", \"x1\": \"2020-02-15\", \"y0\": -9.021501476429211, \"y1\": 11.563866426429191}], \"title\": \"Pandemic-related change in residential energy consumption for Minnesota\"}, [0]], \"label\": \"Minnesota\", \"method\": \"update\", \"visible\": true}, {\"args\": [{\"type\": \"scatter\", \"x\": [[\"2020-12-01\", \"2020-11-01\", \"2020-10-01\", \"2020-09-01\", \"2020-08-01\", \"2020-07-01\", \"2020-06-01\", \"2020-05-01\", \"2020-04-01\", \"2020-03-01\", \"2020-02-01\", \"2020-01-01\", \"2019-12-01\", \"2019-11-01\", \"2019-10-01\", \"2019-09-01\", \"2019-08-01\", \"2019-07-01\", \"2019-06-01\", \"2019-05-01\", \"2019-04-01\", \"2019-03-01\", \"2019-02-01\", \"2019-01-01\"]], \"y\": [[1.26, -1.26, -11.53, -3.8, -1.67, -6.58, -1.25, 2.25, -4.6, -2.78, -11.5, -7.76, 2.95, 2.18, 9.57, -0.17, -4.02, -7.33, 2.73, -3.47, -1.47, -4.92, -1.39, -0.18]]}, {\"annotations\": [{\"font_color\": \"red\", \"font_family\": \"Arial\", \"font_size\": 14, \"showarrow\": false, \"text\": \"<b>-1.23%</b>\", \"x\": \"2020-01-20\", \"y\": -2.9965849422221575}], \"shapes\": [{\"line\": {\"color\": \"red\", \"dash\": \"dash\", \"width\": 2}, \"type\": \"line\", \"x0\": \"2019-01-01\", \"x1\": \"2020-02-18\", \"y0\": -1.7697276359335201, \"y1\": -1.7697276359335201}, {\"line\": {\"color\": \"green\", \"dash\": \"dash\", \"width\": 2}, \"type\": \"line\", \"x0\": \"2020-02-15\", \"x1\": \"2020-12-01\", \"y0\": -2.9965849422221575, \"y1\": -2.9965849422221575}, {\"line\": {\"color\": \"#f76d23\", \"dash\": \"dot\", \"width\": 3}, \"type\": \"line\", \"x0\": \"2020-02-15\", \"x1\": \"2020-02-15\", \"y0\": -13.835644307525756, \"y1\": 11.479244236919405}], \"title\": \"Pandemic-related change in residential energy consumption for Mississippi\"}, [0]], \"label\": \"Mississippi\", \"method\": \"update\", \"visible\": true}, {\"args\": [{\"type\": \"scatter\", \"x\": [[\"2020-12-01\", \"2020-11-01\", \"2020-10-01\", \"2020-09-01\", \"2020-08-01\", \"2020-07-01\", \"2020-06-01\", \"2020-05-01\", \"2020-04-01\", \"2020-03-01\", \"2020-02-01\", \"2020-01-01\", \"2019-12-01\", \"2019-11-01\", \"2019-10-01\", \"2019-09-01\", \"2019-08-01\", \"2019-07-01\", \"2019-06-01\", \"2019-05-01\", \"2019-04-01\", \"2019-03-01\", \"2019-02-01\", \"2019-01-01\"]], \"y\": [[2.23, 2.26, -3.75, -0.52, -6.02, -2.6, -4.44, 3.63, -1.5, -4.18, -3.68, -6.77, -0.01, 1.74, 4.9, 1.41, 0.24, -4.82, -0.67, 1.41, 0.25, -1.71, -2.92, -7.57]]}, {\"annotations\": [{\"font_color\": \"red\", \"font_family\": \"Arial\", \"font_size\": 14, \"showarrow\": false, \"text\": \"<b>-0.19%</b>\", \"x\": \"2020-01-20\", \"y\": -1.4877434427900056}], \"shapes\": [{\"line\": {\"color\": \"red\", \"dash\": \"dash\", \"width\": 2}, \"type\": \"line\", \"x0\": \"2019-01-01\", \"x1\": \"2020-02-18\", \"y0\": -1.2997878713459634, \"y1\": -1.2997878713459634}, {\"line\": {\"color\": \"green\", \"dash\": \"dash\", \"width\": 2}, \"type\": \"line\", \"x0\": \"2020-02-15\", \"x1\": \"2020-12-01\", \"y0\": -1.4877434427900056, \"y1\": -1.4877434427900056}, {\"line\": {\"color\": \"#f76d23\", \"dash\": \"dot\", \"width\": 3}, \"type\": \"line\", \"x0\": \"2020-02-15\", \"x1\": \"2020-02-15\", \"y0\": -9.088295130608778, \"y1\": 5.876639086915366}], \"title\": \"Pandemic-related change in residential energy consumption for Missouri\"}, [0]], \"label\": \"Missouri\", \"method\": \"update\", \"visible\": true}, {\"args\": [{\"type\": \"scatter\", \"x\": [[\"2020-12-01\", \"2020-11-01\", \"2020-10-01\", \"2020-09-01\", \"2020-08-01\", \"2020-07-01\", \"2020-06-01\", \"2020-05-01\", \"2020-04-01\", \"2020-03-01\", \"2020-02-01\", \"2020-01-01\", \"2019-12-01\", \"2019-11-01\", \"2019-10-01\", \"2019-09-01\", \"2019-08-01\", \"2019-07-01\", \"2019-06-01\", \"2019-05-01\", \"2019-04-01\", \"2019-03-01\", \"2019-02-01\", \"2019-01-01\"]], \"y\": [[0.95, 6.83, -4.77, 3.26, 2.59, -2.2, 2.79, -0.53, 8.24, -4.73, -9.24, -7.59, -1.07, 6.59, 2.26, -5.42, -4.59, -8.97, -3.52, -5.5, 1.64, 13.6, 4.18, -6.97]]}, {\"annotations\": [{\"font_color\": \"green\", \"font_family\": \"Arial\", \"font_size\": 14, \"showarrow\": false, \"text\": \"<b>+3.0%</b>\", \"x\": \"2020-01-20\", \"y\": 1.2446376182539733}], \"shapes\": [{\"line\": {\"color\": \"red\", \"dash\": \"dash\", \"width\": 2}, \"type\": \"line\", \"x0\": \"2019-01-01\", \"x1\": \"2020-02-18\", \"y0\": -1.7563230024433891, \"y1\": -1.7563230024433891}, {\"line\": {\"color\": \"green\", \"dash\": \"dash\", \"width\": 2}, \"type\": \"line\", \"x0\": \"2020-02-15\", \"x1\": \"2020-12-01\", \"y0\": 1.2446376182539733, \"y1\": 1.2446376182539733}, {\"line\": {\"color\": \"#f76d23\", \"dash\": \"dot\", \"width\": 3}, \"type\": \"line\", \"x0\": \"2020-02-15\", \"x1\": \"2020-02-15\", \"y0\": -11.08836871892972, \"y1\": 16.318634489892865}], \"title\": \"Pandemic-related change in residential energy consumption for Montana\"}, [0]], \"label\": \"Montana\", \"method\": \"update\", \"visible\": true}, {\"args\": [{\"type\": \"scatter\", \"x\": [[\"2020-12-01\", \"2020-11-01\", \"2020-10-01\", \"2020-09-01\", \"2020-08-01\", \"2020-07-01\", \"2020-06-01\", \"2020-05-01\", \"2020-04-01\", \"2020-03-01\", \"2020-02-01\", \"2020-01-01\", \"2019-12-01\", \"2019-11-01\", \"2019-10-01\", \"2019-09-01\", \"2019-08-01\", \"2019-07-01\", \"2019-06-01\", \"2019-05-01\", \"2019-04-01\", \"2019-03-01\", \"2019-02-01\", \"2019-01-01\"]], \"y\": [[-2.31, 6.64, -4.62, 5.37, -3.73, 1.94, 4.96, 1.31, -1.93, -5.11, -6.97, -5.03, -0.38, 1.22, 7.04, -6.19, -0.6, -2.15, 0.99, -1.42, -3.43, 7.11, 3.73, -4.47]]}, {\"annotations\": [{\"font_color\": \"green\", \"font_family\": \"Arial\", \"font_size\": 14, \"showarrow\": false, \"text\": \"<b>+1.01%</b>\", \"x\": \"2020-01-20\", \"y\": 0.251634982011714}], \"shapes\": [{\"line\": {\"color\": \"red\", \"dash\": \"dash\", \"width\": 2}, \"type\": \"line\", \"x0\": \"2019-01-01\", \"x1\": \"2020-02-18\", \"y0\": -0.7541320220218343, \"y1\": -0.7541320220218343}, {\"line\": {\"color\": \"green\", \"dash\": \"dash\", \"width\": 2}, \"type\": \"line\", \"x0\": \"2020-02-15\", \"x1\": \"2020-12-01\", \"y0\": 0.251634982011714, \"y1\": 0.251634982011714}, {\"line\": {\"color\": \"#f76d23\", \"dash\": \"dot\", \"width\": 3}, \"type\": \"line\", \"x0\": \"2020-02-15\", \"x1\": \"2020-02-15\", \"y0\": -8.358286666195445, \"y1\": 8.531712809584105}], \"title\": \"Pandemic-related change in residential energy consumption for Nebraska\"}, [0]], \"label\": \"Nebraska\", \"method\": \"update\", \"visible\": true}, {\"args\": [{\"type\": \"scatter\", \"x\": [[\"2020-12-01\", \"2020-11-01\", \"2020-10-01\", \"2020-09-01\", \"2020-08-01\", \"2020-07-01\", \"2020-06-01\", \"2020-05-01\", \"2020-04-01\", \"2020-03-01\", \"2020-02-01\", \"2020-01-01\", \"2019-12-01\", \"2019-11-01\", \"2019-10-01\", \"2019-09-01\", \"2019-08-01\", \"2019-07-01\", \"2019-06-01\", \"2019-05-01\", \"2019-04-01\", \"2019-03-01\", \"2019-02-01\", \"2019-01-01\"]], \"y\": [[7.81, 20.04, 11.09, 7.59, 3.59, 2.39, 5.43, 14.23, 13.31, 7.31, -1.29, -10.88, 2.35, 13.71, -6.57, -2.93, -3.55, -5.86, 1.3, -0.18, 4.93, 1.1, 10.16, -8.06]]}, {\"annotations\": [{\"font_color\": \"green\", \"font_family\": \"Arial\", \"font_size\": 14, \"showarrow\": false, \"text\": \"<b>+9.69%</b>\", \"x\": \"2020-01-20\", \"y\": 9.278368326431226}], \"shapes\": [{\"line\": {\"color\": \"red\", \"dash\": \"dash\", \"width\": 2}, \"type\": \"line\", \"x0\": \"2019-01-01\", \"x1\": \"2020-02-18\", \"y0\": -0.41209079915064584, \"y1\": -0.41209079915064584}, {\"line\": {\"color\": \"green\", \"dash\": \"dash\", \"width\": 2}, \"type\": \"line\", \"x0\": \"2020-02-15\", \"x1\": \"2020-12-01\", \"y0\": 9.278368326431226, \"y1\": 9.278368326431226}, {\"line\": {\"color\": \"#f76d23\", \"dash\": \"dot\", \"width\": 3}, \"type\": \"line\", \"x0\": \"2020-02-15\", \"x1\": \"2020-02-15\", \"y0\": -13.050759022599555, \"y1\": 24.043055803949482}], \"title\": \"Pandemic-related change in residential energy consumption for Nevada\"}, [0]], \"label\": \"Nevada\", \"method\": \"update\", \"visible\": true}, {\"args\": [{\"type\": \"scatter\", \"x\": [[\"2020-12-01\", \"2020-11-01\", \"2020-10-01\", \"2020-09-01\", \"2020-08-01\", \"2020-07-01\", \"2020-06-01\", \"2020-05-01\", \"2020-04-01\", \"2020-03-01\", \"2020-02-01\", \"2020-01-01\", \"2019-12-01\", \"2019-11-01\", \"2019-10-01\", \"2019-09-01\", \"2019-08-01\", \"2019-07-01\", \"2019-06-01\", \"2019-05-01\", \"2019-04-01\", \"2019-03-01\", \"2019-02-01\", \"2019-01-01\"]], \"y\": [[11.61, 8.22, 3.67, -6.91, 11.96, 13.46, 13.94, 14.59, -0.92, 0.28, -8.46, -0.04, 7.63, -2.38, -2.81, -14.51, 5.47, 3.09, 0.61, -3.35, -5.14, -1.9, -1.46, 0.23]]}, {\"annotations\": [{\"font_color\": \"green\", \"font_family\": \"Arial\", \"font_size\": 14, \"showarrow\": false, \"text\": \"<b>+8.63%</b>\", \"x\": \"2020-01-20\", \"y\": 6.987743332388348}], \"shapes\": [{\"line\": {\"color\": \"red\", \"dash\": \"dash\", \"width\": 2}, \"type\": \"line\", \"x0\": \"2019-01-01\", \"x1\": \"2020-02-18\", \"y0\": -1.6430137044979882, \"y1\": -1.6430137044979882}, {\"line\": {\"color\": \"green\", \"dash\": \"dash\", \"width\": 2}, \"type\": \"line\", \"x0\": \"2020-02-15\", \"x1\": \"2020-12-01\", \"y0\": 6.987743332388348, \"y1\": 6.987743332388348}, {\"line\": {\"color\": \"#f76d23\", \"dash\": \"dot\", \"width\": 3}, \"type\": \"line\", \"x0\": \"2020-02-15\", \"x1\": \"2020-02-15\", \"y0\": -17.406118504155252, \"y1\": 17.50765786542379}], \"title\": \"Pandemic-related change in residential energy consumption for New Hampshire\"}, [0]], \"label\": \"New Hampshire\", \"method\": \"update\", \"visible\": true}, {\"args\": [{\"type\": \"scatter\", \"x\": [[\"2020-12-01\", \"2020-11-01\", \"2020-10-01\", \"2020-09-01\", \"2020-08-01\", \"2020-07-01\", \"2020-06-01\", \"2020-05-01\", \"2020-04-01\", \"2020-03-01\", \"2020-02-01\", \"2020-01-01\", \"2019-12-01\", \"2019-11-01\", \"2019-10-01\", \"2019-09-01\", \"2019-08-01\", \"2019-07-01\", \"2019-06-01\", \"2019-05-01\", \"2019-04-01\", \"2019-03-01\", \"2019-02-01\", \"2019-01-01\"]], \"y\": [[10.17, 8.35, -1.76, 8.91, 4.09, 4.56, 5.48, 11.59, 8.72, -4.13, -3.13, -4.29, 0.5, -3.07, -1.18, -0.25, 1.04, 0.82, 2.82, -1.75, -5.28, -1.49, 2.03, -3.22]]}, {\"annotations\": [{\"font_color\": \"green\", \"font_family\": \"Arial\", \"font_size\": 14, \"showarrow\": false, \"text\": \"<b>+6.77%</b>\", \"x\": \"2020-01-20\", \"y\": 5.597325314865089}], \"shapes\": [{\"line\": {\"color\": \"red\", \"dash\": \"dash\", \"width\": 2}, \"type\": \"line\", \"x0\": \"2019-01-01\", \"x1\": \"2020-02-18\", \"y0\": -1.1753146405029082, \"y1\": -1.1753146405029082}, {\"line\": {\"color\": \"green\", \"dash\": \"dash\", \"width\": 2}, \"type\": \"line\", \"x0\": \"2020-02-15\", \"x1\": \"2020-12-01\", \"y0\": 5.597325314865089, \"y1\": 5.597325314865089}, {\"line\": {\"color\": \"#f76d23\", \"dash\": \"dot\", \"width\": 3}, \"type\": \"line\", \"x0\": \"2020-02-15\", \"x1\": \"2020-02-15\", \"y0\": -6.340560813533869, \"y1\": 13.909390793213605}], \"title\": \"Pandemic-related change in residential energy consumption for New Jersey\"}, [0]], \"label\": \"New Jersey\", \"method\": \"update\", \"visible\": true}, {\"args\": [{\"type\": \"scatter\", \"x\": [[\"2020-12-01\", \"2020-11-01\", \"2020-10-01\", \"2020-09-01\", \"2020-08-01\", \"2020-07-01\", \"2020-06-01\", \"2020-05-01\", \"2020-04-01\", \"2020-03-01\", \"2020-02-01\", \"2020-01-01\", \"2019-12-01\", \"2019-11-01\", \"2019-10-01\", \"2019-09-01\", \"2019-08-01\", \"2019-07-01\", \"2019-06-01\", \"2019-05-01\", \"2019-04-01\", \"2019-03-01\", \"2019-02-01\", \"2019-01-01\"]], \"y\": [[0.05, 4.3, -0.57, -3.8, 3.08, 6.67, 7.91, 7.6, -4.16, -9.0, -10.59, -3.39, -2.37, 0.92, -3.26, 4.4, 2.92, 0.28, -2.94, 0.93, -6.98, -2.11, -3.96, 1.75]]}, {\"annotations\": [{\"font_color\": \"green\", \"font_family\": \"Arial\", \"font_size\": 14, \"showarrow\": false, \"text\": \"<b>+2.95%</b>\", \"x\": \"2020-01-20\", \"y\": 1.2071988877235407}], \"shapes\": [{\"line\": {\"color\": \"red\", \"dash\": \"dash\", \"width\": 2}, \"type\": \"line\", \"x0\": \"2019-01-01\", \"x1\": \"2020-02-18\", \"y0\": -1.7424618681054622, \"y1\": -1.7424618681054622}, {\"line\": {\"color\": \"green\", \"dash\": \"dash\", \"width\": 2}, \"type\": \"line\", \"x0\": \"2020-02-15\", \"x1\": \"2020-12-01\", \"y0\": 1.2071988877235407, \"y1\": 1.2071988877235407}, {\"line\": {\"color\": \"#f76d23\", \"dash\": \"dot\", \"width\": 3}, \"type\": \"line\", \"x0\": \"2020-02-15\", \"x1\": \"2020-02-15\", \"y0\": -12.710533278613415, \"y1\": 9.488132571843042}], \"title\": \"Pandemic-related change in residential energy consumption for New Mexico\"}, [0]], \"label\": \"New Mexico\", \"method\": \"update\", \"visible\": true}, {\"args\": [{\"type\": \"scatter\", \"x\": [[\"2020-12-01\", \"2020-11-01\", \"2020-10-01\", \"2020-09-01\", \"2020-08-01\", \"2020-07-01\", \"2020-06-01\", \"2020-05-01\", \"2020-04-01\", \"2020-03-01\", \"2020-02-01\", \"2020-01-01\", \"2019-12-01\", \"2019-11-01\", \"2019-10-01\", \"2019-09-01\", \"2019-08-01\", \"2019-07-01\", \"2019-06-01\", \"2019-05-01\", \"2019-04-01\", \"2019-03-01\", \"2019-02-01\", \"2019-01-01\"]], \"y\": [[8.35, 9.64, 9.87, 11.24, 10.67, 8.34, 8.97, 8.81, 1.64, 0.1, -3.8, -0.75, 2.12, -3.35, -2.34, -4.36, 5.83, 0.08, 0.52, -2.02, -2.31, -1.41, 1.24, -4.09]]}, {\"annotations\": [{\"font_color\": \"green\", \"font_family\": \"Arial\", \"font_size\": 14, \"showarrow\": false, \"text\": \"<b>+8.81%</b>\", \"x\": \"2020-01-20\", \"y\": 7.763803318839419}], \"shapes\": [{\"line\": {\"color\": \"red\", \"dash\": \"dash\", \"width\": 2}, \"type\": \"line\", \"x0\": \"2019-01-01\", \"x1\": \"2020-02-18\", \"y0\": -1.0466826477007183, \"y1\": -1.0466826477007183}, {\"line\": {\"color\": \"green\", \"dash\": \"dash\", \"width\": 2}, \"type\": \"line\", \"x0\": \"2020-02-15\", \"x1\": \"2020-12-01\", \"y0\": 7.763803318839419, \"y1\": 7.763803318839419}, {\"line\": {\"color\": \"#f76d23\", \"dash\": \"dot\", \"width\": 3}, \"type\": \"line\", \"x0\": \"2020-02-15\", \"x1\": \"2020-02-15\", \"y0\": -5.227477464832221, \"y1\": 13.491230031290796}], \"title\": \"Pandemic-related change in residential energy consumption for New York\"}, [0]], \"label\": \"New York\", \"method\": \"update\", \"visible\": true}, {\"args\": [{\"type\": \"scatter\", \"x\": [[\"2020-12-01\", \"2020-11-01\", \"2020-10-01\", \"2020-09-01\", \"2020-08-01\", \"2020-07-01\", \"2020-06-01\", \"2020-05-01\", \"2020-04-01\", \"2020-03-01\", \"2020-02-01\", \"2020-01-01\", \"2019-12-01\", \"2019-11-01\", \"2019-10-01\", \"2019-09-01\", \"2019-08-01\", \"2019-07-01\", \"2019-06-01\", \"2019-05-01\", \"2019-04-01\", \"2019-03-01\", \"2019-02-01\", \"2019-01-01\"]], \"y\": [[3.04, 6.68, -1.23, -1.83, -0.94, -1.95, -1.06, 9.88, -2.77, -6.26, -3.43, -8.62, 0.45, 3.35, 4.31, 0.87, -2.97, -5.11, 0.54, 2.09, 4.31, -2.61, -1.02, -6.78]]}, {\"annotations\": [{\"font_color\": \"green\", \"font_family\": \"Arial\", \"font_size\": 14, \"showarrow\": false, \"text\": \"<b>+1.4%</b>\", \"x\": \"2020-01-20\", \"y\": 0.35605414542441105}], \"shapes\": [{\"line\": {\"color\": \"red\", \"dash\": \"dash\", \"width\": 2}, \"type\": \"line\", \"x0\": \"2019-01-01\", \"x1\": \"2020-02-18\", \"y0\": -1.045867842462703, \"y1\": -1.045867842462703}, {\"line\": {\"color\": \"green\", \"dash\": \"dash\", \"width\": 2}, \"type\": \"line\", \"x0\": \"2020-02-15\", \"x1\": \"2020-12-01\", \"y0\": 0.35605414542441105, \"y1\": 0.35605414542441105}, {\"line\": {\"color\": \"#f76d23\", \"dash\": \"dot\", \"width\": 3}, \"type\": \"line\", \"x0\": \"2020-02-15\", \"x1\": \"2020-02-15\", \"y0\": -10.340252012662729, \"y1\": 11.857745830034851}], \"title\": \"Pandemic-related change in residential energy consumption for North Carolina\"}, [0]], \"label\": \"North Carolina\", \"method\": \"update\", \"visible\": true}, {\"args\": [{\"type\": \"scatter\", \"x\": [[\"2020-12-01\", \"2020-11-01\", \"2020-10-01\", \"2020-09-01\", \"2020-08-01\", \"2020-07-01\", \"2020-06-01\", \"2020-05-01\", \"2020-04-01\", \"2020-03-01\", \"2020-02-01\", \"2020-01-01\", \"2019-12-01\", \"2019-11-01\", \"2019-10-01\", \"2019-09-01\", \"2019-08-01\", \"2019-07-01\", \"2019-06-01\", \"2019-05-01\", \"2019-04-01\", \"2019-03-01\", \"2019-02-01\", \"2019-01-01\"]], \"y\": [[-12.15, -0.45, -3.6, -1.17, 6.62, 3.76, 6.89, 4.62, 1.52, -6.04, -11.58, -3.29, 0.65, -0.73, 6.73, -6.72, -1.21, -2.26, 7.01, -4.31, -5.89, 0.04, 4.32, -1.77]]}, {\"annotations\": [{\"font_color\": \"green\", \"font_family\": \"Arial\", \"font_size\": 14, \"showarrow\": false, \"text\": \"<b>+1.36%</b>\", \"x\": \"2020-01-20\", \"y\": -0.00012790528628165988}], \"shapes\": [{\"line\": {\"color\": \"red\", \"dash\": \"dash\", \"width\": 2}, \"type\": \"line\", \"x0\": \"2019-01-01\", \"x1\": \"2020-02-18\", \"y0\": -1.3585866467037007, \"y1\": -1.3585866467037007}, {\"line\": {\"color\": \"green\", \"dash\": \"dash\", \"width\": 2}, \"type\": \"line\", \"x0\": \"2020-02-15\", \"x1\": \"2020-12-01\", \"y0\": -0.00012790528628165988, \"y1\": -0.00012790528628165988}, {\"line\": {\"color\": \"#f76d23\", \"dash\": \"dot\", \"width\": 3}, \"type\": \"line\", \"x0\": \"2020-02-15\", \"x1\": \"2020-02-15\", \"y0\": -14.575362238853769, \"y1\": 8.411399895790199}], \"title\": \"Pandemic-related change in residential energy consumption for North Dakota\"}, [0]], \"label\": \"North Dakota\", \"method\": \"update\", \"visible\": true}, {\"args\": [{\"type\": \"scatter\", \"x\": [[\"2020-12-01\", \"2020-11-01\", \"2020-10-01\", \"2020-09-01\", \"2020-08-01\", \"2020-07-01\", \"2020-06-01\", \"2020-05-01\", \"2020-04-01\", \"2020-03-01\", \"2020-02-01\", \"2020-01-01\", \"2019-12-01\", \"2019-11-01\", \"2019-10-01\", \"2019-09-01\", \"2019-08-01\", \"2019-07-01\", \"2019-06-01\", \"2019-05-01\", \"2019-04-01\", \"2019-03-01\", \"2019-02-01\", \"2019-01-01\"]], \"y\": [[2.3, 2.9, 1.53, 5.6, 2.14, 1.13, 3.33, 10.72, 3.43, -7.26, -1.18, -6.03, -1.39, -3.61, 3.19, 1.25, 1.33, 2.21, 0.03, -3.08, -1.24, 0.86, -0.87, -7.53]]}, {\"annotations\": [{\"font_color\": \"green\", \"font_family\": \"Arial\", \"font_size\": 14, \"showarrow\": false, \"text\": \"<b>+3.73%</b>\", \"x\": \"2020-01-20\", \"y\": 2.5798450491730285}], \"shapes\": [{\"line\": {\"color\": \"red\", \"dash\": \"dash\", \"width\": 2}, \"type\": \"line\", \"x0\": \"2019-01-01\", \"x1\": \"2020-02-18\", \"y0\": -1.1479366718247361, \"y1\": -1.1479366718247361}, {\"line\": {\"color\": \"green\", \"dash\": \"dash\", \"width\": 2}, \"type\": \"line\", \"x0\": \"2020-02-15\", \"x1\": \"2020-12-01\", \"y0\": 2.5798450491730285, \"y1\": 2.5798450491730285}, {\"line\": {\"color\": \"#f76d23\", \"dash\": \"dot\", \"width\": 3}, \"type\": \"line\", \"x0\": \"2020-02-15\", \"x1\": \"2020-02-15\", \"y0\": -9.031638409790968, \"y1\": 12.859294997953292}], \"title\": \"Pandemic-related change in residential energy consumption for Ohio\"}, [0]], \"label\": \"Ohio\", \"method\": \"update\", \"visible\": true}, {\"args\": [{\"type\": \"scatter\", \"x\": [[\"2020-12-01\", \"2020-11-01\", \"2020-10-01\", \"2020-09-01\", \"2020-08-01\", \"2020-07-01\", \"2020-06-01\", \"2020-05-01\", \"2020-04-01\", \"2020-03-01\", \"2020-02-01\", \"2020-01-01\", \"2019-12-01\", \"2019-11-01\", \"2019-10-01\", \"2019-09-01\", \"2019-08-01\", \"2019-07-01\", \"2019-06-01\", \"2019-05-01\", \"2019-04-01\", \"2019-03-01\", \"2019-02-01\", \"2019-01-01\"]], \"y\": [[1.28, 8.69, -3.77, -1.01, -3.37, -5.55, 3.45, 1.99, 7.28, -2.54, -0.07, -6.16, 1.85, 5.74, 4.75, 1.43, -7.1, -5.37, -1.93, -6.9, 1.49, 7.99, 10.25, -0.54]]}, {\"annotations\": [{\"font_color\": \"green\", \"font_family\": \"Arial\", \"font_size\": 14, \"showarrow\": false, \"text\": \"<b>+0.26%</b>\", \"x\": \"2020-01-20\", \"y\": 0.6448446816212238}], \"shapes\": [{\"line\": {\"color\": \"red\", \"dash\": \"dash\", \"width\": 2}, \"type\": \"line\", \"x0\": \"2019-01-01\", \"x1\": \"2020-02-18\", \"y0\": 0.38826016486311626, \"y1\": 0.38826016486311626}, {\"line\": {\"color\": \"green\", \"dash\": \"dash\", \"width\": 2}, \"type\": \"line\", \"x0\": \"2020-02-15\", \"x1\": \"2020-12-01\", \"y0\": 0.6448446816212238, \"y1\": 0.6448446816212238}, {\"line\": {\"color\": \"#f76d23\", \"dash\": \"dot\", \"width\": 3}, \"type\": \"line\", \"x0\": \"2020-02-15\", \"x1\": \"2020-02-15\", \"y0\": -8.516275245598061, \"y1\": 12.301314539667418}], \"title\": \"Pandemic-related change in residential energy consumption for Oklahoma\"}, [0]], \"label\": \"Oklahoma\", \"method\": \"update\", \"visible\": true}, {\"args\": [{\"type\": \"scatter\", \"x\": [[\"2020-12-01\", \"2020-11-01\", \"2020-10-01\", \"2020-09-01\", \"2020-08-01\", \"2020-07-01\", \"2020-06-01\", \"2020-05-01\", \"2020-04-01\", \"2020-03-01\", \"2020-02-01\", \"2020-01-01\", \"2019-12-01\", \"2019-11-01\", \"2019-10-01\", \"2019-09-01\", \"2019-08-01\", \"2019-07-01\", \"2019-06-01\", \"2019-05-01\", \"2019-04-01\", \"2019-03-01\", \"2019-02-01\", \"2019-01-01\"]], \"y\": [[-2.87, 5.21, 4.82, 2.35, 2.14, 3.4, 5.82, 6.15, -1.5, -5.61, -1.7, -11.55, -5.02, 5.57, 4.21, 3.44, 1.94, 0.22, 2.79, -7.21, -4.96, 4.19, 0.23, -3.36]]}, {\"annotations\": [{\"font_color\": \"green\", \"font_family\": \"Arial\", \"font_size\": 14, \"showarrow\": false, \"text\": \"<b>+2.79%</b>\", \"x\": \"2020-01-20\", \"y\": 1.9912126973637085}], \"shapes\": [{\"line\": {\"color\": \"red\", \"dash\": \"dash\", \"width\": 2}, \"type\": \"line\", \"x0\": \"2019-01-01\", \"x1\": \"2020-02-18\", \"y0\": -0.8017853460548753, \"y1\": -0.8017853460548753}, {\"line\": {\"color\": \"green\", \"dash\": \"dash\", \"width\": 2}, \"type\": \"line\", \"x0\": \"2020-02-15\", \"x1\": \"2020-12-01\", \"y0\": 1.9912126973637085, \"y1\": 1.9912126973637085}, {\"line\": {\"color\": \"#f76d23\", \"dash\": \"dot\", \"width\": 3}, \"type\": \"line\", \"x0\": \"2020-02-15\", \"x1\": \"2020-02-15\", \"y0\": -13.86071114961184, \"y1\": 7.3859777838677605}], \"title\": \"Pandemic-related change in residential energy consumption for Oregon\"}, [0]], \"label\": \"Oregon\", \"method\": \"update\", \"visible\": true}, {\"args\": [{\"type\": \"scatter\", \"x\": [[\"2020-12-01\", \"2020-11-01\", \"2020-10-01\", \"2020-09-01\", \"2020-08-01\", \"2020-07-01\", \"2020-06-01\", \"2020-05-01\", \"2020-04-01\", \"2020-03-01\", \"2020-02-01\", \"2020-01-01\", \"2019-12-01\", \"2019-11-01\", \"2019-10-01\", \"2019-09-01\", \"2019-08-01\", \"2019-07-01\", \"2019-06-01\", \"2019-05-01\", \"2019-04-01\", \"2019-03-01\", \"2019-02-01\", \"2019-01-01\"]], \"y\": [[7.82, 7.44, 3.1, 4.1, 6.97, 5.2, 3.91, 9.12, 1.36, -12.59, -6.77, -4.67, -0.03, -3.79, 2.24, 0.95, 3.98, -1.55, -1.47, -7.01, -3.27, -0.81, 3.96, -4.12]]}, {\"annotations\": [{\"font_color\": \"green\", \"font_family\": \"Arial\", \"font_size\": 14, \"showarrow\": false, \"text\": \"<b>+5.24%</b>\", \"x\": \"2020-01-20\", \"y\": 3.642333321504844}], \"shapes\": [{\"line\": {\"color\": \"red\", \"dash\": \"dash\", \"width\": 2}, \"type\": \"line\", \"x0\": \"2019-01-01\", \"x1\": \"2020-02-18\", \"y0\": -1.5962495124283023, \"y1\": -1.5962495124283023}, {\"line\": {\"color\": \"green\", \"dash\": \"dash\", \"width\": 2}, \"type\": \"line\", \"x0\": \"2020-02-15\", \"x1\": \"2020-12-01\", \"y0\": 3.642333321504844, \"y1\": 3.642333321504844}, {\"line\": {\"color\": \"#f76d23\", \"dash\": \"dot\", \"width\": 3}, \"type\": \"line\", \"x0\": \"2020-02-15\", \"x1\": \"2020-02-15\", \"y0\": -15.103859234603236, \"y1\": 10.942296661428617}], \"title\": \"Pandemic-related change in residential energy consumption for Pennsylvania\"}, [0]], \"label\": \"Pennsylvania\", \"method\": \"update\", \"visible\": true}, {\"args\": [{\"type\": \"scatter\", \"x\": [[\"2020-12-01\", \"2020-11-01\", \"2020-10-01\", \"2020-09-01\", \"2020-08-01\", \"2020-07-01\", \"2020-06-01\", \"2020-05-01\", \"2020-04-01\", \"2020-03-01\", \"2020-02-01\", \"2020-01-01\", \"2019-12-01\", \"2019-11-01\", \"2019-10-01\", \"2019-09-01\", \"2019-08-01\", \"2019-07-01\", \"2019-06-01\", \"2019-05-01\", \"2019-04-01\", \"2019-03-01\", \"2019-02-01\", \"2019-01-01\"]], \"y\": [[8.48, 6.63, 9.57, 18.82, 10.36, 8.45, 8.56, 10.1, 2.77, -4.73, 1.07, -0.77, 1.81, -7.09, -0.17, 3.41, 6.03, -2.99, -4.58, 3.77, -1.35, -7.38, 2.05, 0.52]]}, {\"annotations\": [{\"font_color\": \"green\", \"font_family\": \"Arial\", \"font_size\": 14, \"showarrow\": false, \"text\": \"<b>+8.31%</b>\", \"x\": \"2020-01-20\", \"y\": 7.900635628351196}], \"shapes\": [{\"line\": {\"color\": \"red\", \"dash\": \"dash\", \"width\": 2}, \"type\": \"line\", \"x0\": \"2019-01-01\", \"x1\": \"2020-02-18\", \"y0\": -0.40510319115851123, \"y1\": -0.40510319115851123}, {\"line\": {\"color\": \"green\", \"dash\": \"dash\", \"width\": 2}, \"type\": \"line\", \"x0\": \"2020-02-15\", \"x1\": \"2020-12-01\", \"y0\": 7.900635628351196, \"y1\": 7.900635628351196}, {\"line\": {\"color\": \"#f76d23\", \"dash\": \"dot\", \"width\": 3}, \"type\": \"line\", \"x0\": \"2020-02-15\", \"x1\": \"2020-02-15\", \"y0\": -8.853139277145088, \"y1\": 22.58331506105776}], \"title\": \"Pandemic-related change in residential energy consumption for Rhode Island\"}, [0]], \"label\": \"Rhode Island\", \"method\": \"update\", \"visible\": true}, {\"args\": [{\"type\": \"scatter\", \"x\": [[\"2020-12-01\", \"2020-11-01\", \"2020-10-01\", \"2020-09-01\", \"2020-08-01\", \"2020-07-01\", \"2020-06-01\", \"2020-05-01\", \"2020-04-01\", \"2020-03-01\", \"2020-02-01\", \"2020-01-01\", \"2019-12-01\", \"2019-11-01\", \"2019-10-01\", \"2019-09-01\", \"2019-08-01\", \"2019-07-01\", \"2019-06-01\", \"2019-05-01\", \"2019-04-01\", \"2019-03-01\", \"2019-02-01\", \"2019-01-01\"]], \"y\": [[2.89, 7.5, -0.66, -0.94, 0.07, -1.94, 1.61, 6.18, -7.75, 1.39, 0.19, -8.78, 0.6, -0.2, 6.3, 0.0, -1.03, -5.09, 1.52, 4.48, 2.12, -5.74, -2.53, -7.56]]}, {\"annotations\": [{\"font_color\": \"green\", \"font_family\": \"Arial\", \"font_size\": 14, \"showarrow\": false, \"text\": \"<b>+1.96%</b>\", \"x\": \"2020-01-20\", \"y\": 0.8355690735853573}], \"shapes\": [{\"line\": {\"color\": \"red\", \"dash\": \"dash\", \"width\": 2}, \"type\": \"line\", \"x0\": \"2019-01-01\", \"x1\": \"2020-02-18\", \"y0\": -1.123837436554276, \"y1\": -1.123837436554276}, {\"line\": {\"color\": \"green\", \"dash\": \"dash\", \"width\": 2}, \"type\": \"line\", \"x0\": \"2020-02-15\", \"x1\": \"2020-12-01\", \"y0\": 0.8355690735853573, \"y1\": 0.8355690735853573}, {\"line\": {\"color\": \"#f76d23\", \"dash\": \"dot\", \"width\": 3}, \"type\": \"line\", \"x0\": \"2020-02-15\", \"x1\": \"2020-02-15\", \"y0\": -10.53316094875718, \"y1\": 9.003374525453172}], \"title\": \"Pandemic-related change in residential energy consumption for South Carolina\"}, [0]], \"label\": \"South Carolina\", \"method\": \"update\", \"visible\": true}, {\"args\": [{\"type\": \"scatter\", \"x\": [[\"2020-12-01\", \"2020-11-01\", \"2020-10-01\", \"2020-09-01\", \"2020-08-01\", \"2020-07-01\", \"2020-06-01\", \"2020-05-01\", \"2020-04-01\", \"2020-03-01\", \"2020-02-01\", \"2020-01-01\", \"2019-12-01\", \"2019-11-01\", \"2019-10-01\", \"2019-09-01\", \"2019-08-01\", \"2019-07-01\", \"2019-06-01\", \"2019-05-01\", \"2019-04-01\", \"2019-03-01\", \"2019-02-01\", \"2019-01-01\"]], \"y\": [[-4.69, 0.49, -5.48, -0.26, 3.68, 2.65, 4.88, -0.34, -3.51, -3.96, -14.01, -5.93, 1.15, 0.36, 3.1, -7.65, -3.8, -2.44, 4.88, -0.65, 1.36, 5.07, 4.96, -6.94]]}, {\"annotations\": [{\"font_color\": \"green\", \"font_family\": \"Arial\", \"font_size\": 14, \"showarrow\": false, \"text\": \"<b>+0.81%</b>\", \"x\": \"2020-01-20\", \"y\": -0.6544623789471411}], \"shapes\": [{\"line\": {\"color\": \"red\", \"dash\": \"dash\", \"width\": 2}, \"type\": \"line\", \"x0\": \"2019-01-01\", \"x1\": \"2020-02-18\", \"y0\": -1.467781347762447, \"y1\": -1.467781347762447}, {\"line\": {\"color\": \"green\", \"dash\": \"dash\", \"width\": 2}, \"type\": \"line\", \"x0\": \"2020-02-15\", \"x1\": \"2020-12-01\", \"y0\": -0.6544623789471411, \"y1\": -0.6544623789471411}, {\"line\": {\"color\": \"#f76d23\", \"dash\": \"dot\", \"width\": 3}, \"type\": \"line\", \"x0\": \"2020-02-15\", \"x1\": \"2020-02-15\", \"y0\": -16.806881247586766, \"y1\": 6.088726715316911}], \"title\": \"Pandemic-related change in residential energy consumption for South Dakota\"}, [0]], \"label\": \"South Dakota\", \"method\": \"update\", \"visible\": true}, {\"args\": [{\"type\": \"scatter\", \"x\": [[\"2020-12-01\", \"2020-11-01\", \"2020-10-01\", \"2020-09-01\", \"2020-08-01\", \"2020-07-01\", \"2020-06-01\", \"2020-05-01\", \"2020-04-01\", \"2020-03-01\", \"2020-02-01\", \"2020-01-01\", \"2019-12-01\", \"2019-11-01\", \"2019-10-01\", \"2019-09-01\", \"2019-08-01\", \"2019-07-01\", \"2019-06-01\", \"2019-05-01\", \"2019-04-01\", \"2019-03-01\", \"2019-02-01\", \"2019-01-01\"]], \"y\": [[-0.04, -3.84, -9.13, -1.01, 2.61, -5.82, 0.75, 5.82, -6.43, -3.42, -14.84, -13.25, 2.39, -0.55, 12.74, -3.71, -3.78, -5.25, 7.24, -6.03, -1.33, -2.55, 2.44, -10.59]]}, {\"annotations\": [{\"font_color\": \"green\", \"font_family\": \"Arial\", \"font_size\": 14, \"showarrow\": false, \"text\": \"<b>+0.6%</b>\", \"x\": \"2020-01-20\", \"y\": -2.0505880942182895}], \"shapes\": [{\"line\": {\"color\": \"red\", \"dash\": \"dash\", \"width\": 2}, \"type\": \"line\", \"x0\": \"2019-01-01\", \"x1\": \"2020-02-18\", \"y0\": -2.648993309799631, \"y1\": -2.648993309799631}, {\"line\": {\"color\": \"green\", \"dash\": \"dash\", \"width\": 2}, \"type\": \"line\", \"x0\": \"2020-02-15\", \"x1\": \"2020-12-01\", \"y0\": -2.0505880942182895, \"y1\": -2.0505880942182895}, {\"line\": {\"color\": \"#f76d23\", \"dash\": \"dot\", \"width\": 3}, \"type\": \"line\", \"x0\": \"2020-02-15\", \"x1\": \"2020-02-15\", \"y0\": -17.81318857921428, \"y1\": 15.287445156107484}], \"title\": \"Pandemic-related change in residential energy consumption for Tennessee\"}, [0]], \"label\": \"Tennessee\", \"method\": \"update\", \"visible\": true}, {\"args\": [{\"type\": \"scatter\", \"x\": [[\"2020-12-01\", \"2020-11-01\", \"2020-10-01\", \"2020-09-01\", \"2020-08-01\", \"2020-07-01\", \"2020-06-01\", \"2020-05-01\", \"2020-04-01\", \"2020-03-01\", \"2020-02-01\", \"2020-01-01\", \"2019-12-01\", \"2019-11-01\", \"2019-10-01\", \"2019-09-01\", \"2019-08-01\", \"2019-07-01\", \"2019-06-01\", \"2019-05-01\", \"2019-04-01\", \"2019-03-01\", \"2019-02-01\", \"2019-01-01\"]], \"y\": [[3.78, 4.63, -7.76, 1.34, -1.14, -1.97, 0.98, 4.63, 3.25, -1.3, -7.54, -10.7, 4.57, 0.03, 10.87, -2.16, -5.0, -3.56, -0.64, -2.66, -1.2, 3.74, 2.94, -5.47]]}, {\"annotations\": [{\"font_color\": \"green\", \"font_family\": \"Arial\", \"font_size\": 14, \"showarrow\": false, \"text\": \"<b>+1.84%</b>\", \"x\": \"2020-01-20\", \"y\": 0.643923145962365}], \"shapes\": [{\"line\": {\"color\": \"red\", \"dash\": \"dash\", \"width\": 2}, \"type\": \"line\", \"x0\": \"2019-01-01\", \"x1\": \"2020-02-18\", \"y0\": -1.1985376686311988, \"y1\": -1.1985376686311988}, {\"line\": {\"color\": \"green\", \"dash\": \"dash\", \"width\": 2}, \"type\": \"line\", \"x0\": \"2020-02-15\", \"x1\": \"2020-12-01\", \"y0\": 0.643923145962365, \"y1\": 0.643923145962365}, {\"line\": {\"color\": \"#f76d23\", \"dash\": \"dot\", \"width\": 3}, \"type\": \"line\", \"x0\": \"2020-02-15\", \"x1\": \"2020-02-15\", \"y0\": -12.84264031798628, \"y1\": 13.047511841182056}], \"title\": \"Pandemic-related change in residential energy consumption for Texas\"}, [0]], \"label\": \"Texas\", \"method\": \"update\", \"visible\": true}, {\"args\": [{\"type\": \"scatter\", \"x\": [[\"2020-12-01\", \"2020-11-01\", \"2020-10-01\", \"2020-09-01\", \"2020-08-01\", \"2020-07-01\", \"2020-06-01\", \"2020-05-01\", \"2020-04-01\", \"2020-03-01\", \"2020-02-01\", \"2020-01-01\", \"2019-12-01\", \"2019-11-01\", \"2019-10-01\", \"2019-09-01\", \"2019-08-01\", \"2019-07-01\", \"2019-06-01\", \"2019-05-01\", \"2019-04-01\", \"2019-03-01\", \"2019-02-01\", \"2019-01-01\"]], \"y\": [[3.45, 10.85, 2.52, 6.32, 6.67, 1.71, 6.23, 8.51, 3.11, 4.06, 3.43, -3.01, -0.64, 0.42, 0.01, 3.04, -1.35, -2.75, 0.33, 6.26, -2.98, -0.48, 1.85, -2.2]]}, {\"annotations\": [{\"font_color\": \"green\", \"font_family\": \"Arial\", \"font_size\": 14, \"showarrow\": false, \"text\": \"<b>+5.21%</b>\", \"x\": \"2020-01-20\", \"y\": 5.343681455154287}], \"shapes\": [{\"line\": {\"color\": \"red\", \"dash\": \"dash\", \"width\": 2}, \"type\": \"line\", \"x0\": \"2019-01-01\", \"x1\": \"2020-02-18\", \"y0\": 0.13797582425388982, \"y1\": 0.13797582425388982}, {\"line\": {\"color\": \"green\", \"dash\": \"dash\", \"width\": 2}, \"type\": \"line\", \"x0\": \"2020-02-15\", \"x1\": \"2020-12-01\", \"y0\": 5.343681455154287, \"y1\": 5.343681455154287}, {\"line\": {\"color\": \"#f76d23\", \"dash\": \"dot\", \"width\": 3}, \"type\": \"line\", \"x0\": \"2020-02-15\", \"x1\": \"2020-02-15\", \"y0\": -3.612419367623729, \"y1\": 13.019191356014831}], \"title\": \"Pandemic-related change in residential energy consumption for Utah\"}, [0]], \"label\": \"Utah\", \"method\": \"update\", \"visible\": true}, {\"args\": [{\"type\": \"scatter\", \"x\": [[\"2020-12-01\", \"2020-11-01\", \"2020-10-01\", \"2020-09-01\", \"2020-08-01\", \"2020-07-01\", \"2020-06-01\", \"2020-05-01\", \"2020-04-01\", \"2020-03-01\", \"2020-02-01\", \"2020-01-01\", \"2019-12-01\", \"2019-11-01\", \"2019-10-01\", \"2019-09-01\", \"2019-08-01\", \"2019-07-01\", \"2019-06-01\", \"2019-05-01\", \"2019-04-01\", \"2019-03-01\", \"2019-02-01\", \"2019-01-01\"]], \"y\": [[5.67, 8.25, 5.01, 3.49, 2.75, 8.71, 8.93, 6.26, 4.23, 1.0, 1.04, -5.52, 0.78, 3.31, -3.38, -1.7, 2.05, -2.7, -1.29, -3.72, 2.35, -3.28, 4.32, -0.06]]}, {\"annotations\": [{\"font_color\": \"green\", \"font_family\": \"Arial\", \"font_size\": 14, \"showarrow\": false, \"text\": \"<b>+5.99%</b>\", \"x\": \"2020-01-20\", \"y\": 5.430132897152627}], \"shapes\": [{\"line\": {\"color\": \"red\", \"dash\": \"dash\", \"width\": 2}, \"type\": \"line\", \"x0\": \"2019-01-01\", \"x1\": \"2020-02-18\", \"y0\": -0.5574409134148146, \"y1\": -0.5574409134148146}, {\"line\": {\"color\": \"green\", \"dash\": \"dash\", \"width\": 2}, \"type\": \"line\", \"x0\": \"2020-02-15\", \"x1\": \"2020-12-01\", \"y0\": 5.430132897152627, \"y1\": 5.430132897152627}, {\"line\": {\"color\": \"#f76d23\", \"dash\": \"dot\", \"width\": 3}, \"type\": \"line\", \"x0\": \"2020-02-15\", \"x1\": \"2020-02-15\", \"y0\": -6.624276254811266, \"y1\": 10.71150216233819}], \"title\": \"Pandemic-related change in residential energy consumption for Vermont\"}, [0]], \"label\": \"Vermont\", \"method\": \"update\", \"visible\": true}, {\"args\": [{\"type\": \"scatter\", \"x\": [[\"2020-12-01\", \"2020-11-01\", \"2020-10-01\", \"2020-09-01\", \"2020-08-01\", \"2020-07-01\", \"2020-06-01\", \"2020-05-01\", \"2020-04-01\", \"2020-03-01\", \"2020-02-01\", \"2020-01-01\", \"2019-12-01\", \"2019-11-01\", \"2019-10-01\", \"2019-09-01\", \"2019-08-01\", \"2019-07-01\", \"2019-06-01\", \"2019-05-01\", \"2019-04-01\", \"2019-03-01\", \"2019-02-01\", \"2019-01-01\"]], \"y\": [[8.52, 7.61, -21.97, 1.34, 5.64, 5.59, 8.36, 8.02, -9.48, -7.95, -11.18, -2.05, 4.17, 0.77, -1.75, -4.02, -4.44, 1.97, 1.77, -6.87, 1.07, -0.77, 0.94, -1.84]]}, {\"annotations\": [{\"font_color\": \"green\", \"font_family\": \"Arial\", \"font_size\": 14, \"showarrow\": false, \"text\": \"<b>+2.16%</b>\", \"x\": \"2020-01-20\", \"y\": 0.5696691798373654}], \"shapes\": [{\"line\": {\"color\": \"red\", \"dash\": \"dash\", \"width\": 2}, \"type\": \"line\", \"x0\": \"2019-01-01\", \"x1\": \"2020-02-18\", \"y0\": -1.588564545425227, \"y1\": -1.588564545425227}, {\"line\": {\"color\": \"green\", \"dash\": \"dash\", \"width\": 2}, \"type\": \"line\", \"x0\": \"2020-02-15\", \"x1\": \"2020-12-01\", \"y0\": 0.5696691798373654, \"y1\": 0.5696691798373654}, {\"line\": {\"color\": \"#f76d23\", \"dash\": \"dot\", \"width\": 3}, \"type\": \"line\", \"x0\": \"2020-02-15\", \"x1\": \"2020-02-15\", \"y0\": -26.369282896448528, \"y1\": 10.229474472724345}], \"title\": \"Pandemic-related change in residential energy consumption for Virginia\"}, [0]], \"label\": \"Virginia\", \"method\": \"update\", \"visible\": true}, {\"args\": [{\"type\": \"scatter\", \"x\": [[\"2020-12-01\", \"2020-11-01\", \"2020-10-01\", \"2020-09-01\", \"2020-08-01\", \"2020-07-01\", \"2020-06-01\", \"2020-05-01\", \"2020-04-01\", \"2020-03-01\", \"2020-02-01\", \"2020-01-01\", \"2019-12-01\", \"2019-11-01\", \"2019-10-01\", \"2019-09-01\", \"2019-08-01\", \"2019-07-01\", \"2019-06-01\", \"2019-05-01\", \"2019-04-01\", \"2019-03-01\", \"2019-02-01\", \"2019-01-01\"]], \"y\": [[0.2, 1.33, 3.14, -2.45, -0.12, 3.82, 2.48, -3.8, -4.52, -5.98, -7.06, -8.97, -1.93, 3.8, 9.41, -1.42, 1.85, -1.78, -1.45, -10.61, -2.97, 4.57, -0.22, -4.43]]}, {\"annotations\": [{\"font_color\": \"green\", \"font_family\": \"Arial\", \"font_size\": 14, \"showarrow\": false, \"text\": \"<b>+0.92%</b>\", \"x\": \"2020-01-20\", \"y\": -0.5905372109184064}], \"shapes\": [{\"line\": {\"color\": \"red\", \"dash\": \"dash\", \"width\": 2}, \"type\": \"line\", \"x0\": \"2019-01-01\", \"x1\": \"2020-02-18\", \"y0\": -1.5141665090791079, \"y1\": -1.5141665090791079}, {\"line\": {\"color\": \"green\", \"dash\": \"dash\", \"width\": 2}, \"type\": \"line\", \"x0\": \"2020-02-15\", \"x1\": \"2020-12-01\", \"y0\": -0.5905372109184064, \"y1\": -0.5905372109184064}, {\"line\": {\"color\": \"#f76d23\", \"dash\": \"dot\", \"width\": 3}, \"type\": \"line\", \"x0\": \"2020-02-15\", \"x1\": \"2020-02-15\", \"y0\": -12.737571387929714, \"y1\": 11.289688813169436}], \"title\": \"Pandemic-related change in residential energy consumption for Washington\"}, [0]], \"label\": \"Washington\", \"method\": \"update\", \"visible\": true}, {\"args\": [{\"type\": \"scatter\", \"x\": [[\"2020-12-01\", \"2020-11-01\", \"2020-10-01\", \"2020-09-01\", \"2020-08-01\", \"2020-07-01\", \"2020-06-01\", \"2020-05-01\", \"2020-04-01\", \"2020-03-01\", \"2020-02-01\", \"2020-01-01\", \"2019-12-01\", \"2019-11-01\", \"2019-10-01\", \"2019-09-01\", \"2019-08-01\", \"2019-07-01\", \"2019-06-01\", \"2019-05-01\", \"2019-04-01\", \"2019-03-01\", \"2019-02-01\", \"2019-01-01\"]], \"y\": [[-4.44, 0.89, -5.75, 4.07, 2.54, 6.15, 4.75, 16.34, -3.27, -9.24, -3.36, -8.34, 2.85, -1.25, -1.18, -2.07, 1.37, 3.22, -0.97, -13.97, -2.68, 0.82, 3.01, -3.06]]}, {\"annotations\": [{\"font_color\": \"green\", \"font_family\": \"Arial\", \"font_size\": 14, \"showarrow\": false, \"text\": \"<b>+3.03%</b>\", \"x\": \"2020-01-20\", \"y\": 1.2029480210555161}], \"shapes\": [{\"line\": {\"color\": \"red\", \"dash\": \"dash\", \"width\": 2}, \"type\": \"line\", \"x0\": \"2019-01-01\", \"x1\": \"2020-02-18\", \"y0\": -1.8300061276788786, \"y1\": -1.8300061276788786}, {\"line\": {\"color\": \"green\", \"dash\": \"dash\", \"width\": 2}, \"type\": \"line\", \"x0\": \"2020-02-15\", \"x1\": \"2020-12-01\", \"y0\": 1.2029480210555161, \"y1\": 1.2029480210555161}, {\"line\": {\"color\": \"#f76d23\", \"dash\": \"dot\", \"width\": 3}, \"type\": \"line\", \"x0\": \"2020-02-15\", \"x1\": \"2020-02-15\", \"y0\": -16.76580047073773, \"y1\": 19.60421705612958}], \"title\": \"Pandemic-related change in residential energy consumption for West Virginia\"}, [0]], \"label\": \"West Virginia\", \"method\": \"update\", \"visible\": true}, {\"args\": [{\"type\": \"scatter\", \"x\": [[\"2020-12-01\", \"2020-11-01\", \"2020-10-01\", \"2020-09-01\", \"2020-08-01\", \"2020-07-01\", \"2020-06-01\", \"2020-05-01\", \"2020-04-01\", \"2020-03-01\", \"2020-02-01\", \"2020-01-01\", \"2019-12-01\", \"2019-11-01\", \"2019-10-01\", \"2019-09-01\", \"2019-08-01\", \"2019-07-01\", \"2019-06-01\", \"2019-05-01\", \"2019-04-01\", \"2019-03-01\", \"2019-02-01\", \"2019-01-01\"]], \"y\": [[4.71, 7.57, 5.82, 2.1, 7.49, 8.61, 11.8, 11.51, 5.52, 3.3, -4.14, 0.32, -0.18, 1.33, 3.65, -3.44, -3.28, 0.41, -1.85, 0.07, 0.63, 2.26, 2.6, -2.33]]}, {\"annotations\": [{\"font_color\": \"green\", \"font_family\": \"Arial\", \"font_size\": 14, \"showarrow\": false, \"text\": \"<b>+7.13%</b>\", \"x\": \"2020-01-20\", \"y\": 6.844807728475226}], \"shapes\": [{\"line\": {\"color\": \"red\", \"dash\": \"dash\", \"width\": 2}, \"type\": \"line\", \"x0\": \"2019-01-01\", \"x1\": \"2020-02-18\", \"y0\": -0.2820710619819097, \"y1\": -0.2820710619819097}, {\"line\": {\"color\": \"green\", \"dash\": \"dash\", \"width\": 2}, \"type\": \"line\", \"x0\": \"2020-02-15\", \"x1\": \"2020-12-01\", \"y0\": 6.844807728475226, \"y1\": 6.844807728475226}, {\"line\": {\"color\": \"#f76d23\", \"dash\": \"dot\", \"width\": 3}, \"type\": \"line\", \"x0\": \"2020-02-15\", \"x1\": \"2020-02-15\", \"y0\": -4.964144398024047, \"y1\": 14.159956513632872}], \"title\": \"Pandemic-related change in residential energy consumption for Wisconsin\"}, [0]], \"label\": \"Wisconsin\", \"method\": \"update\", \"visible\": true}, {\"args\": [{\"type\": \"scatter\", \"x\": [[\"2020-12-01\", \"2020-11-01\", \"2020-10-01\", \"2020-09-01\", \"2020-08-01\", \"2020-07-01\", \"2020-06-01\", \"2020-05-01\", \"2020-04-01\", \"2020-03-01\", \"2020-02-01\", \"2020-01-01\", \"2019-12-01\", \"2019-11-01\", \"2019-10-01\", \"2019-09-01\", \"2019-08-01\", \"2019-07-01\", \"2019-06-01\", \"2019-05-01\", \"2019-04-01\", \"2019-03-01\", \"2019-02-01\", \"2019-01-01\"]], \"y\": [[-1.78, -6.49, -7.25, -4.21, -0.84, 2.94, 1.09, -7.9, -0.53, -2.73, -8.14, -12.72, -2.47, 3.14, 4.49, -0.08, -5.71, 2.97, 9.13, -2.76, -4.47, 3.9, -3.45, -2.48]]}, {\"annotations\": [{\"font_color\": \"red\", \"font_family\": \"Arial\", \"font_size\": 14, \"showarrow\": false, \"text\": \"<b>-1.44%</b>\", \"x\": \"2020-01-20\", \"y\": -2.7707392439934706}], \"shapes\": [{\"line\": {\"color\": \"red\", \"dash\": \"dash\", \"width\": 2}, \"type\": \"line\", \"x0\": \"2019-01-01\", \"x1\": \"2020-02-18\", \"y0\": -1.3315110925728686, \"y1\": -1.3315110925728686}, {\"line\": {\"color\": \"green\", \"dash\": \"dash\", \"width\": 2}, \"type\": \"line\", \"x0\": \"2020-02-15\", \"x1\": \"2020-12-01\", \"y0\": -2.7707392439934706, \"y1\": -2.7707392439934706}, {\"line\": {\"color\": \"#f76d23\", \"dash\": \"dot\", \"width\": 3}, \"type\": \"line\", \"x0\": \"2020-02-15\", \"x1\": \"2020-02-15\", \"y0\": -15.269101174127615, \"y1\": 10.961313378837199}], \"title\": \"Pandemic-related change in residential energy consumption for Wyoming\"}, [0]], \"label\": \"Wyoming\", \"method\": \"update\", \"visible\": true}], \"direction\": \"down\", \"showactive\": true}], \"xaxis\": {\"title\": {\"text\": \"Month\"}}, \"yaxis\": {\"title\": {\"text\": \"% deviation\"}}},\n",
       "                        {\"responsive\": true}\n",
       "                    ).then(function(){\n",
       "                            \n",
       "var gd = document.getElementById('0ae7db9e-a8bd-4723-81b8-e393115df96a');\n",
       "var x = new MutationObserver(function (mutations, observer) {{\n",
       "        var display = window.getComputedStyle(gd).display;\n",
       "        if (!display || display === 'none') {{\n",
       "            console.log([gd, 'removed!']);\n",
       "            Plotly.purge(gd);\n",
       "            observer.disconnect();\n",
       "        }}\n",
       "}});\n",
       "\n",
       "// Listen for the removal of the full notebook cells\n",
       "var notebookContainer = gd.closest('#notebook-container');\n",
       "if (notebookContainer) {{\n",
       "    x.observe(notebookContainer, {childList: true});\n",
       "}}\n",
       "\n",
       "// Listen for the clearing of the current output cell\n",
       "var outputEl = gd.closest('.output');\n",
       "if (outputEl) {{\n",
       "    x.observe(outputEl, {childList: true});\n",
       "}}\n",
       "\n",
       "                        })\n",
       "                };\n",
       "                });\n",
       "            </script>\n",
       "        </div>"
      ]
     },
     "metadata": {},
     "output_type": "display_data"
    },
    {
     "data": {
      "text/plain": [
       "'https://plotly.com/~kmohan_ts/3/'"
      ]
     },
     "execution_count": 70,
     "metadata": {},
     "output_type": "execute_result"
    }
   ],
   "source": [
    "# fig = px.line(energy_data[(energy_data.state=='USA')&(energy_data.sector==\"RES\")&(energy_data.year >= 2019)], x=\"date\", y=\"pct_error_20\", title='Error in prediction')\n",
    "# fig.add_shape(type='line',x0='2020-02-15',x1='2020-02-15')\n",
    "\n",
    "# # fig = go.Figure(go.Scatter(x=energy_data[(energy_data.state=='USA')&(energy_data.sector==\"RES\")&(energy_data.year >= 2019)].date,\n",
    "# #                            y=np.round(energy_data[(energy_data.state=='USA')&(energy_data.sector==\"RES\")&(energy_data.year >= 2019)].pct_error_20,2),mode='lines+markers',marker_color='#27a3aa'))\n",
    "layout = Layout(title=\"Pandemic-related change in residential energy consumption for USA\",xaxis=dict(title=\"Month\"),yaxis=dict(title=\"% deviation\"),template='plotly_white')\n",
    "fig = go.Figure(layout=layout)\n",
    "fig.add_trace(go.Scatter(x=energy_data[(energy_data.state_name=='USA')&(energy_data.sector==\"RES\")&(energy_data.year >= 2019)].date,\n",
    "                         y=np.round(energy_data[(energy_data.state_name=='USA')&(energy_data.sector==\"RES\")&(energy_data.year >= 2019)].pct_error,2),\n",
    "                         mode='lines+markers',marker_color='#27a3aa',visible=True))\n",
    "# fig = px.scatter(energy_data[(energy_data.state=='USA')&(energy_data.sector==\"RES\")&(energy_data.year >= 2019)],\n",
    "#                 x='date',\n",
    "#                 y='pct_error_20'\n",
    "#                 )\n",
    "fig.add_shape(type='line',\n",
    "              x0='2020-02-15',x1='2020-02-15',\n",
    "              y0=energy_data[(energy_data.state_name=='USA')&(energy_data.sector==\"RES\")&(energy_data.year >= 2019)].pct_error.min()*1.2,\n",
    "              y1=energy_data[(energy_data.state_name=='USA')&(energy_data.sector==\"RES\")&(energy_data.year >= 2019)].pct_error.max()*1.2,\n",
    "              line=dict(color='#f76d23', width=3, dash=\"dot\"))\n",
    "fig.add_shape(type='line',\n",
    "              x0='2019-01-01',x1='2020-02-18',\n",
    "              y0=energy_data[(energy_data.state_name=='USA')&(energy_data.sector==\"RES\")].pre_covid_error.min(),\n",
    "              y1=energy_data[(energy_data.state_name=='USA')&(energy_data.sector==\"RES\")].pre_covid_error.min(),\n",
    "              line=dict(color='red', width=2, dash=\"dash\"))\n",
    "fig.add_shape(type='line',\n",
    "              x0='2020-02-15',x1='2020-12-01',\n",
    "              y0=energy_data[(energy_data.state_name=='USA')&(energy_data.sector==\"RES\")].post_covid_error.min(),\n",
    "              y1=energy_data[(energy_data.state_name=='USA')&(energy_data.sector==\"RES\")].post_covid_error.min(),\n",
    "              line=dict(color='green', width=2, dash=\"dash\"))\n",
    "fig.add_annotation(x='2020-01-20',\n",
    "                  y=energy_data[(energy_data.state_name=='USA')&(energy_data.sector==\"RES\")].post_covid_error.min(),\n",
    "                  text=list(energy_data[(energy_data.state_name=='USA')&(energy_data.sector==\"RES\")].anno_text)[0],\n",
    "                  showarrow=False,\n",
    "                  font_size=14,\n",
    "                  font_family='Arial',\n",
    "                  font_color=list(energy_data[(energy_data.state_name=='USA')&(energy_data.sector==\"RES\")].anno_color)[0] \n",
    "                  )\n",
    "\n",
    "updatemenu = []\n",
    "buttons = []\n",
    "states = ['USA']\n",
    "states.extend(energy_data[~(energy_data.state_name =='USA')].state_name.unique())\n",
    "\n",
    "for state in states:\n",
    "    buttons.append(dict(method='update',\n",
    "                        label=state,\n",
    "                        visible=True,\n",
    "                        args=[#update to trace\n",
    "                            {'y':[np.round(energy_data[(energy_data.state_name==state)&(energy_data.sector==\"RES\")&(energy_data.year >= 2019)].pct_error,2)],\n",
    "                               'x':[energy_data[(energy_data.state_name==state)&(energy_data.sector==\"RES\")&(energy_data.year >= 2019)].date],\n",
    "                               'type':'scatter'},\n",
    "                            #update to layout\n",
    "                            {'title':'Pandemic-related change in residential energy consumption for '+state,\n",
    "                             'annotations':[{'x':'2020-01-20',\n",
    "                                             'y':energy_data[(energy_data.state_name==state)&(energy_data.sector==\"RES\")].post_covid_error.min(),\n",
    "                                             'text':list(energy_data[(energy_data.state_name==state)&(energy_data.sector==\"RES\")].anno_text)[0],\n",
    "                                             'showarrow':False,'font_size':14,'font_family':'Arial',\n",
    "                                             'font_color':list(energy_data[(energy_data.state_name==state)&(energy_data.sector==\"RES\")].anno_color)[0] }],\n",
    "                            'shapes':[{'type':'line',\n",
    "                                       'x0':'2019-01-01','x1':'2020-02-18',\n",
    "                                       'y0':energy_data[(energy_data.state_name==state)&(energy_data.sector==\"RES\")].pre_covid_error.min(),\n",
    "                                       'y1':energy_data[(energy_data.state_name==state)&(energy_data.sector==\"RES\")].pre_covid_error.min(),\n",
    "                                       'line':dict(color='red', width=2, dash=\"dash\")},\n",
    "                                     {'type':'line',\n",
    "                                       'x0':'2020-02-15','x1':'2020-12-01',\n",
    "                                       'y0':energy_data[(energy_data.state_name==state)&(energy_data.sector==\"RES\")].post_covid_error.min(),\n",
    "                                       'y1':energy_data[(energy_data.state_name==state)&(energy_data.sector==\"RES\")].post_covid_error.min(),\n",
    "                                       'line':dict(color='green', width=2, dash=\"dash\")},\n",
    "                                     {'type':'line',\n",
    "                                       'x0':'2020-02-15','x1':'2020-02-15',\n",
    "                                       'y0':energy_data[(energy_data.state_name==state)&(energy_data.sector==\"RES\")&(energy_data.year >= 2019)].pct_error.min()*1.2,\n",
    "                                       'y1':energy_data[(energy_data.state_name==state)&(energy_data.sector==\"RES\")&(energy_data.year >= 2019)].pct_error.max()*1.2,\n",
    "                                       'line':dict(color='#f76d23', width=3, dash=\"dot\")}]},\n",
    "                            [0]]))\n",
    "\n",
    "    # some adjustments to the updatemenus\n",
    "updatemenu = []\n",
    "your_menu = dict()\n",
    "updatemenu.append(your_menu)\n",
    "\n",
    "updatemenu[0]['buttons'] = buttons\n",
    "updatemenu[0]['direction'] = 'down'\n",
    "updatemenu[0]['showactive'] = True\n",
    "\n",
    "# add dropdown menus to the figure\n",
    "fig.update_layout(showlegend=False, updatemenus=updatemenu,xaxis=dict(title=\"Month\"),yaxis=dict(title=\"% deviation\"),template='plotly_white')\n",
    "fig.show()\n",
    "\n",
    "py.plot(fig, filename = 'res-energy-states', auto_open=False)"
   ]
  },
  {
   "cell_type": "code",
   "execution_count": 52,
   "metadata": {},
   "outputs": [
    {
     "data": {
      "text/html": [
       "<div>\n",
       "<style scoped>\n",
       "    .dataframe tbody tr th:only-of-type {\n",
       "        vertical-align: middle;\n",
       "    }\n",
       "\n",
       "    .dataframe tbody tr th {\n",
       "        vertical-align: top;\n",
       "    }\n",
       "\n",
       "    .dataframe thead th {\n",
       "        text-align: right;\n",
       "    }\n",
       "</style>\n",
       "<table border=\"1\" class=\"dataframe\">\n",
       "  <thead>\n",
       "    <tr style=\"text-align: right;\">\n",
       "      <th></th>\n",
       "      <th>Unnamed: 0</th>\n",
       "      <th>date</th>\n",
       "      <th>month</th>\n",
       "      <th>sales_mkwh</th>\n",
       "      <th>state</th>\n",
       "      <th>sector</th>\n",
       "      <th>consumers</th>\n",
       "      <th>price</th>\n",
       "      <th>revenue</th>\n",
       "      <th>use_per_capita</th>\n",
       "      <th>...</th>\n",
       "      <th>pct_error_x</th>\n",
       "      <th>pct_error_abs</th>\n",
       "      <th>MSE</th>\n",
       "      <th>RMSE</th>\n",
       "      <th>pre_covid_error</th>\n",
       "      <th>post_covid_error</th>\n",
       "      <th>pre_post_diff</th>\n",
       "      <th>anno_text</th>\n",
       "      <th>anno_color</th>\n",
       "      <th>state_name</th>\n",
       "    </tr>\n",
       "  </thead>\n",
       "  <tbody>\n",
       "    <tr>\n",
       "      <th>0</th>\n",
       "      <td>1</td>\n",
       "      <td>2020-12-01</td>\n",
       "      <td>202012</td>\n",
       "      <td>2992.76542</td>\n",
       "      <td>AL</td>\n",
       "      <td>RES</td>\n",
       "      <td>2326166.0</td>\n",
       "      <td>11.39</td>\n",
       "      <td>34087.598134</td>\n",
       "      <td>1286.565714</td>\n",
       "      <td>...</td>\n",
       "      <td>9.185533</td>\n",
       "      <td>0.055104</td>\n",
       "      <td>0.000523</td>\n",
       "      <td>0.022869</td>\n",
       "      <td>-1.677008</td>\n",
       "      <td>-1.854674</td>\n",
       "      <td>-0.177665</td>\n",
       "      <td>&lt;b&gt;-0.18%&lt;/b&gt;</td>\n",
       "      <td>red</td>\n",
       "      <td>Alabama</td>\n",
       "    </tr>\n",
       "    <tr>\n",
       "      <th>1</th>\n",
       "      <td>2</td>\n",
       "      <td>2020-11-01</td>\n",
       "      <td>202011</td>\n",
       "      <td>2056.87325</td>\n",
       "      <td>AL</td>\n",
       "      <td>RES</td>\n",
       "      <td>2324212.0</td>\n",
       "      <td>12.99</td>\n",
       "      <td>26718.783518</td>\n",
       "      <td>884.976607</td>\n",
       "      <td>...</td>\n",
       "      <td>-8.259815</td>\n",
       "      <td>3.340004</td>\n",
       "      <td>0.970767</td>\n",
       "      <td>0.985275</td>\n",
       "      <td>-1.677008</td>\n",
       "      <td>-1.854674</td>\n",
       "      <td>-0.177665</td>\n",
       "      <td>&lt;b&gt;-0.18%&lt;/b&gt;</td>\n",
       "      <td>red</td>\n",
       "      <td>Alabama</td>\n",
       "    </tr>\n",
       "    <tr>\n",
       "      <th>2</th>\n",
       "      <td>3</td>\n",
       "      <td>2020-10-01</td>\n",
       "      <td>202010</td>\n",
       "      <td>2150.98005</td>\n",
       "      <td>AL</td>\n",
       "      <td>RES</td>\n",
       "      <td>2326554.0</td>\n",
       "      <td>13.17</td>\n",
       "      <td>28328.407259</td>\n",
       "      <td>924.534763</td>\n",
       "      <td>...</td>\n",
       "      <td>8.778524</td>\n",
       "      <td>4.360615</td>\n",
       "      <td>1.691292</td>\n",
       "      <td>1.300497</td>\n",
       "      <td>-1.677008</td>\n",
       "      <td>-1.854674</td>\n",
       "      <td>-0.177665</td>\n",
       "      <td>&lt;b&gt;-0.18%&lt;/b&gt;</td>\n",
       "      <td>red</td>\n",
       "      <td>Alabama</td>\n",
       "    </tr>\n",
       "    <tr>\n",
       "      <th>3</th>\n",
       "      <td>4</td>\n",
       "      <td>2020-09-01</td>\n",
       "      <td>202009</td>\n",
       "      <td>2876.36566</td>\n",
       "      <td>AL</td>\n",
       "      <td>RES</td>\n",
       "      <td>2325509.0</td>\n",
       "      <td>13.18</td>\n",
       "      <td>37910.499399</td>\n",
       "      <td>1236.875738</td>\n",
       "      <td>...</td>\n",
       "      <td>6.569151</td>\n",
       "      <td>3.433109</td>\n",
       "      <td>2.003479</td>\n",
       "      <td>1.415443</td>\n",
       "      <td>-1.677008</td>\n",
       "      <td>-1.854674</td>\n",
       "      <td>-0.177665</td>\n",
       "      <td>&lt;b&gt;-0.18%&lt;/b&gt;</td>\n",
       "      <td>red</td>\n",
       "      <td>Alabama</td>\n",
       "    </tr>\n",
       "    <tr>\n",
       "      <th>4</th>\n",
       "      <td>5</td>\n",
       "      <td>2020-08-01</td>\n",
       "      <td>202008</td>\n",
       "      <td>3568.63790</td>\n",
       "      <td>AL</td>\n",
       "      <td>RES</td>\n",
       "      <td>2322835.0</td>\n",
       "      <td>12.75</td>\n",
       "      <td>45500.133225</td>\n",
       "      <td>1536.328624</td>\n",
       "      <td>...</td>\n",
       "      <td>7.240353</td>\n",
       "      <td>0.171085</td>\n",
       "      <td>0.007189</td>\n",
       "      <td>0.084788</td>\n",
       "      <td>-1.677008</td>\n",
       "      <td>-1.854674</td>\n",
       "      <td>-0.177665</td>\n",
       "      <td>&lt;b&gt;-0.18%&lt;/b&gt;</td>\n",
       "      <td>red</td>\n",
       "      <td>Alabama</td>\n",
       "    </tr>\n",
       "  </tbody>\n",
       "</table>\n",
       "<p>5 rows × 42 columns</p>\n",
       "</div>"
      ],
      "text/plain": [
       "   Unnamed: 0        date   month  sales_mkwh state sector  consumers  price  \\\n",
       "0           1  2020-12-01  202012  2992.76542    AL    RES  2326166.0  11.39   \n",
       "1           2  2020-11-01  202011  2056.87325    AL    RES  2324212.0  12.99   \n",
       "2           3  2020-10-01  202010  2150.98005    AL    RES  2326554.0  13.17   \n",
       "3           4  2020-09-01  202009  2876.36566    AL    RES  2325509.0  13.18   \n",
       "4           5  2020-08-01  202008  3568.63790    AL    RES  2322835.0  12.75   \n",
       "\n",
       "        revenue  use_per_capita  ... pct_error_x  pct_error_abs       MSE  \\\n",
       "0  34087.598134     1286.565714  ...    9.185533       0.055104  0.000523   \n",
       "1  26718.783518      884.976607  ...   -8.259815       3.340004  0.970767   \n",
       "2  28328.407259      924.534763  ...    8.778524       4.360615  1.691292   \n",
       "3  37910.499399     1236.875738  ...    6.569151       3.433109  2.003479   \n",
       "4  45500.133225     1536.328624  ...    7.240353       0.171085  0.007189   \n",
       "\n",
       "       RMSE  pre_covid_error  post_covid_error  pre_post_diff      anno_text  \\\n",
       "0  0.022869        -1.677008         -1.854674      -0.177665  <b>-0.18%</b>   \n",
       "1  0.985275        -1.677008         -1.854674      -0.177665  <b>-0.18%</b>   \n",
       "2  1.300497        -1.677008         -1.854674      -0.177665  <b>-0.18%</b>   \n",
       "3  1.415443        -1.677008         -1.854674      -0.177665  <b>-0.18%</b>   \n",
       "4  0.084788        -1.677008         -1.854674      -0.177665  <b>-0.18%</b>   \n",
       "\n",
       "  anno_color  state_name  \n",
       "0        red     Alabama  \n",
       "1        red     Alabama  \n",
       "2        red     Alabama  \n",
       "3        red     Alabama  \n",
       "4        red     Alabama  \n",
       "\n",
       "[5 rows x 42 columns]"
      ]
     },
     "execution_count": 52,
     "metadata": {},
     "output_type": "execute_result"
    }
   ],
   "source": [
    "energy_data.head()"
   ]
  },
  {
   "cell_type": "markdown",
   "metadata": {},
   "source": [
    "### Geo plot"
   ]
  },
  {
   "cell_type": "code",
   "execution_count": 153,
   "metadata": {},
   "outputs": [],
   "source": [
    "mean_change = pd.DataFrame(energy_data.groupby(['state','sector']).apply(mean_errors).reset_index().rename(columns={0:'mean_change'}))\n",
    "max_change = pd.DataFrame(energy_data.groupby(['state','sector']).apply(max_errors).reset_index().rename(columns={0:'max_change'}))"
   ]
  },
  {
   "cell_type": "code",
   "execution_count": 154,
   "metadata": {},
   "outputs": [],
   "source": [
    "mean_res_change = mean_change[mean_change.sector==\"RES\"]\n",
    "max_res_change = max_change[max_change.sector==\"RES\"]"
   ]
  },
  {
   "cell_type": "code",
   "execution_count": 155,
   "metadata": {},
   "outputs": [],
   "source": [
    "state_stats = mean_res_change.merge(max_res_change,how='left',on=['state','sector'])"
   ]
  },
  {
   "cell_type": "code",
   "execution_count": 156,
   "metadata": {},
   "outputs": [],
   "source": [
    "state_stats['state_name'] = [abbrev_us_state[s] for s in state_stats['state']]"
   ]
  },
  {
   "cell_type": "code",
   "execution_count": 157,
   "metadata": {},
   "outputs": [
    {
     "data": {
      "text/html": [
       "<div>\n",
       "<style scoped>\n",
       "    .dataframe tbody tr th:only-of-type {\n",
       "        vertical-align: middle;\n",
       "    }\n",
       "\n",
       "    .dataframe tbody tr th {\n",
       "        vertical-align: top;\n",
       "    }\n",
       "\n",
       "    .dataframe thead th {\n",
       "        text-align: right;\n",
       "    }\n",
       "</style>\n",
       "<table border=\"1\" class=\"dataframe\">\n",
       "  <thead>\n",
       "    <tr style=\"text-align: right;\">\n",
       "      <th></th>\n",
       "      <th>state</th>\n",
       "      <th>sector</th>\n",
       "      <th>mean_change</th>\n",
       "      <th>max_change</th>\n",
       "      <th>state_name</th>\n",
       "    </tr>\n",
       "  </thead>\n",
       "  <tbody>\n",
       "    <tr>\n",
       "      <th>0</th>\n",
       "      <td>AL</td>\n",
       "      <td>RES</td>\n",
       "      <td>-0.177665</td>\n",
       "      <td>5.017012</td>\n",
       "      <td>Alabama</td>\n",
       "    </tr>\n",
       "    <tr>\n",
       "      <th>1</th>\n",
       "      <td>AR</td>\n",
       "      <td>RES</td>\n",
       "      <td>-1.726521</td>\n",
       "      <td>4.773621</td>\n",
       "      <td>Arkansas</td>\n",
       "    </tr>\n",
       "    <tr>\n",
       "      <th>2</th>\n",
       "      <td>AZ</td>\n",
       "      <td>RES</td>\n",
       "      <td>5.809163</td>\n",
       "      <td>12.371890</td>\n",
       "      <td>Arizona</td>\n",
       "    </tr>\n",
       "    <tr>\n",
       "      <th>3</th>\n",
       "      <td>CA</td>\n",
       "      <td>RES</td>\n",
       "      <td>5.258897</td>\n",
       "      <td>15.970264</td>\n",
       "      <td>California</td>\n",
       "    </tr>\n",
       "    <tr>\n",
       "      <th>4</th>\n",
       "      <td>CO</td>\n",
       "      <td>RES</td>\n",
       "      <td>5.232920</td>\n",
       "      <td>12.979855</td>\n",
       "      <td>Colorado</td>\n",
       "    </tr>\n",
       "  </tbody>\n",
       "</table>\n",
       "</div>"
      ],
      "text/plain": [
       "  state sector  mean_change  max_change  state_name\n",
       "0    AL    RES    -0.177665    5.017012     Alabama\n",
       "1    AR    RES    -1.726521    4.773621    Arkansas\n",
       "2    AZ    RES     5.809163   12.371890     Arizona\n",
       "3    CA    RES     5.258897   15.970264  California\n",
       "4    CO    RES     5.232920   12.979855    Colorado"
      ]
     },
     "execution_count": 157,
     "metadata": {},
     "output_type": "execute_result"
    }
   ],
   "source": [
    "state_stats.head()"
   ]
  },
  {
   "cell_type": "code",
   "execution_count": 158,
   "metadata": {},
   "outputs": [
    {
     "data": {
      "text/plain": [
       "108.23729429673541"
      ]
     },
     "execution_count": 158,
     "metadata": {},
     "output_type": "execute_result"
    }
   ],
   "source": [
    "np.mean(energy_data[energy_data.sector=='RES'].y*energy_data[energy_data.sector=='RES'].num_days*energy_data[energy_data.sector=='RES'].price/100)"
   ]
  },
  {
   "cell_type": "code",
   "execution_count": 159,
   "metadata": {},
   "outputs": [],
   "source": [
    "state_stats = state_stats.merge(energy_data[energy_data.date>'2020-02-01'].groupby(['state','region']).mean()['consumers'].reset_index(),how='left',on='state')"
   ]
  },
  {
   "cell_type": "code",
   "execution_count": 162,
   "metadata": {},
   "outputs": [
    {
     "data": {
      "text/html": [
       "<div>\n",
       "<style scoped>\n",
       "    .dataframe tbody tr th:only-of-type {\n",
       "        vertical-align: middle;\n",
       "    }\n",
       "\n",
       "    .dataframe tbody tr th {\n",
       "        vertical-align: top;\n",
       "    }\n",
       "\n",
       "    .dataframe thead th {\n",
       "        text-align: right;\n",
       "    }\n",
       "</style>\n",
       "<table border=\"1\" class=\"dataframe\">\n",
       "  <thead>\n",
       "    <tr style=\"text-align: right;\">\n",
       "      <th></th>\n",
       "      <th>mean_change</th>\n",
       "      <th>max_change</th>\n",
       "      <th>consumers</th>\n",
       "    </tr>\n",
       "    <tr>\n",
       "      <th>region</th>\n",
       "      <th></th>\n",
       "      <th></th>\n",
       "      <th></th>\n",
       "    </tr>\n",
       "  </thead>\n",
       "  <tbody>\n",
       "    <tr>\n",
       "      <th>ESC</th>\n",
       "      <td>0.243045</td>\n",
       "      <td>6.431157</td>\n",
       "      <td>1.271240e+06</td>\n",
       "    </tr>\n",
       "    <tr>\n",
       "      <th>WSC</th>\n",
       "      <td>0.565206</td>\n",
       "      <td>6.959518</td>\n",
       "      <td>2.374049e+06</td>\n",
       "    </tr>\n",
       "    <tr>\n",
       "      <th>WNC</th>\n",
       "      <td>2.142803</td>\n",
       "      <td>7.449251</td>\n",
       "      <td>8.032823e+05</td>\n",
       "    </tr>\n",
       "    <tr>\n",
       "      <th>SAC</th>\n",
       "      <td>2.568542</td>\n",
       "      <td>11.741856</td>\n",
       "      <td>2.028055e+06</td>\n",
       "    </tr>\n",
       "    <tr>\n",
       "      <th>PAC</th>\n",
       "      <td>2.991841</td>\n",
       "      <td>9.420692</td>\n",
       "      <td>3.535585e+06</td>\n",
       "    </tr>\n",
       "    <tr>\n",
       "      <th>USA</th>\n",
       "      <td>3.481183</td>\n",
       "      <td>8.931848</td>\n",
       "      <td>7.745033e+07</td>\n",
       "    </tr>\n",
       "    <tr>\n",
       "      <th>MTN</th>\n",
       "      <td>4.276451</td>\n",
       "      <td>11.208027</td>\n",
       "      <td>7.242034e+05</td>\n",
       "    </tr>\n",
       "    <tr>\n",
       "      <th>ENC</th>\n",
       "      <td>5.650108</td>\n",
       "      <td>13.009363</td>\n",
       "      <td>2.313611e+06</td>\n",
       "    </tr>\n",
       "    <tr>\n",
       "      <th>MAC</th>\n",
       "      <td>6.940570</td>\n",
       "      <td>11.923559</td>\n",
       "      <td>3.121797e+06</td>\n",
       "    </tr>\n",
       "    <tr>\n",
       "      <th>NEC</th>\n",
       "      <td>7.414690</td>\n",
       "      <td>14.964310</td>\n",
       "      <td>6.146550e+05</td>\n",
       "    </tr>\n",
       "  </tbody>\n",
       "</table>\n",
       "</div>"
      ],
      "text/plain": [
       "        mean_change  max_change     consumers\n",
       "region                                       \n",
       "ESC        0.243045    6.431157  1.271240e+06\n",
       "WSC        0.565206    6.959518  2.374049e+06\n",
       "WNC        2.142803    7.449251  8.032823e+05\n",
       "SAC        2.568542   11.741856  2.028055e+06\n",
       "PAC        2.991841    9.420692  3.535585e+06\n",
       "USA        3.481183    8.931848  7.745033e+07\n",
       "MTN        4.276451   11.208027  7.242034e+05\n",
       "ENC        5.650108   13.009363  2.313611e+06\n",
       "MAC        6.940570   11.923559  3.121797e+06\n",
       "NEC        7.414690   14.964310  6.146550e+05"
      ]
     },
     "execution_count": 162,
     "metadata": {},
     "output_type": "execute_result"
    }
   ],
   "source": [
    "state_stats.groupby('region').mean().sort_values('mean_change')"
   ]
  },
  {
   "cell_type": "code",
   "execution_count": 160,
   "metadata": {},
   "outputs": [
    {
     "data": {
      "text/html": [
       "<div>\n",
       "<style scoped>\n",
       "    .dataframe tbody tr th:only-of-type {\n",
       "        vertical-align: middle;\n",
       "    }\n",
       "\n",
       "    .dataframe tbody tr th {\n",
       "        vertical-align: top;\n",
       "    }\n",
       "\n",
       "    .dataframe thead th {\n",
       "        text-align: right;\n",
       "    }\n",
       "</style>\n",
       "<table border=\"1\" class=\"dataframe\">\n",
       "  <thead>\n",
       "    <tr style=\"text-align: right;\">\n",
       "      <th></th>\n",
       "      <th>state</th>\n",
       "      <th>sector</th>\n",
       "      <th>mean_change</th>\n",
       "      <th>max_change</th>\n",
       "      <th>state_name</th>\n",
       "      <th>region</th>\n",
       "      <th>consumers</th>\n",
       "    </tr>\n",
       "  </thead>\n",
       "  <tbody>\n",
       "    <tr>\n",
       "      <th>19</th>\n",
       "      <td>MI</td>\n",
       "      <td>RES</td>\n",
       "      <td>10.379891</td>\n",
       "      <td>18.217173</td>\n",
       "      <td>Michigan</td>\n",
       "      <td>ENC</td>\n",
       "      <td>2507411.20</td>\n",
       "    </tr>\n",
       "    <tr>\n",
       "      <th>30</th>\n",
       "      <td>NV</td>\n",
       "      <td>RES</td>\n",
       "      <td>9.690459</td>\n",
       "      <td>20.447971</td>\n",
       "      <td>Nevada</td>\n",
       "      <td>MTN</td>\n",
       "      <td>697792.25</td>\n",
       "    </tr>\n",
       "    <tr>\n",
       "      <th>16</th>\n",
       "      <td>MA</td>\n",
       "      <td>RES</td>\n",
       "      <td>9.208953</td>\n",
       "      <td>13.935072</td>\n",
       "      <td>Massachusetts</td>\n",
       "      <td>NEC</td>\n",
       "      <td>1627766.80</td>\n",
       "    </tr>\n",
       "    <tr>\n",
       "      <th>31</th>\n",
       "      <td>NY</td>\n",
       "      <td>RES</td>\n",
       "      <td>8.810486</td>\n",
       "      <td>12.289374</td>\n",
       "      <td>New York</td>\n",
       "      <td>MAC</td>\n",
       "      <td>4194269.85</td>\n",
       "    </tr>\n",
       "    <tr>\n",
       "      <th>27</th>\n",
       "      <td>NH</td>\n",
       "      <td>RES</td>\n",
       "      <td>8.630757</td>\n",
       "      <td>16.232729</td>\n",
       "      <td>New Hampshire</td>\n",
       "      <td>NEC</td>\n",
       "      <td>371918.95</td>\n",
       "    </tr>\n",
       "    <tr>\n",
       "      <th>36</th>\n",
       "      <td>RI</td>\n",
       "      <td>RES</td>\n",
       "      <td>8.305739</td>\n",
       "      <td>19.224532</td>\n",
       "      <td>Rhode Island</td>\n",
       "      <td>NEC</td>\n",
       "      <td>250485.00</td>\n",
       "    </tr>\n",
       "    <tr>\n",
       "      <th>46</th>\n",
       "      <td>WI</td>\n",
       "      <td>RES</td>\n",
       "      <td>7.126879</td>\n",
       "      <td>12.082035</td>\n",
       "      <td>Wisconsin</td>\n",
       "      <td>ENC</td>\n",
       "      <td>1567156.70</td>\n",
       "    </tr>\n",
       "    <tr>\n",
       "      <th>28</th>\n",
       "      <td>NJ</td>\n",
       "      <td>RES</td>\n",
       "      <td>6.772640</td>\n",
       "      <td>12.766474</td>\n",
       "      <td>New Jersey</td>\n",
       "      <td>MAC</td>\n",
       "      <td>2076429.50</td>\n",
       "    </tr>\n",
       "    <tr>\n",
       "      <th>5</th>\n",
       "      <td>CT</td>\n",
       "      <td>RES</td>\n",
       "      <td>6.673223</td>\n",
       "      <td>16.352585</td>\n",
       "      <td>Connecticut</td>\n",
       "      <td>NEC</td>\n",
       "      <td>839361.20</td>\n",
       "    </tr>\n",
       "    <tr>\n",
       "      <th>20</th>\n",
       "      <td>MN</td>\n",
       "      <td>RES</td>\n",
       "      <td>6.433727</td>\n",
       "      <td>10.372165</td>\n",
       "      <td>Minnesota</td>\n",
       "      <td>WNC</td>\n",
       "      <td>1383926.05</td>\n",
       "    </tr>\n",
       "    <tr>\n",
       "      <th>44</th>\n",
       "      <td>VT</td>\n",
       "      <td>RES</td>\n",
       "      <td>5.987574</td>\n",
       "      <td>9.483693</td>\n",
       "      <td>Vermont</td>\n",
       "      <td>NEC</td>\n",
       "      <td>189078.95</td>\n",
       "    </tr>\n",
       "    <tr>\n",
       "      <th>2</th>\n",
       "      <td>AZ</td>\n",
       "      <td>RES</td>\n",
       "      <td>5.809163</td>\n",
       "      <td>12.371890</td>\n",
       "      <td>Arizona</td>\n",
       "      <td>MTN</td>\n",
       "      <td>1613553.65</td>\n",
       "    </tr>\n",
       "    <tr>\n",
       "      <th>18</th>\n",
       "      <td>ME</td>\n",
       "      <td>RES</td>\n",
       "      <td>5.681893</td>\n",
       "      <td>14.557250</td>\n",
       "      <td>Maine</td>\n",
       "      <td>NEC</td>\n",
       "      <td>409319.30</td>\n",
       "    </tr>\n",
       "    <tr>\n",
       "      <th>11</th>\n",
       "      <td>IL</td>\n",
       "      <td>RES</td>\n",
       "      <td>5.546181</td>\n",
       "      <td>15.638976</td>\n",
       "      <td>Illinois</td>\n",
       "      <td>ENC</td>\n",
       "      <td>3001331.00</td>\n",
       "    </tr>\n",
       "    <tr>\n",
       "      <th>3</th>\n",
       "      <td>CA</td>\n",
       "      <td>RES</td>\n",
       "      <td>5.258897</td>\n",
       "      <td>15.970264</td>\n",
       "      <td>California</td>\n",
       "      <td>PAC</td>\n",
       "      <td>7798532.10</td>\n",
       "    </tr>\n",
       "    <tr>\n",
       "      <th>35</th>\n",
       "      <td>PA</td>\n",
       "      <td>RES</td>\n",
       "      <td>5.238583</td>\n",
       "      <td>10.714830</td>\n",
       "      <td>Pennsylvania</td>\n",
       "      <td>MAC</td>\n",
       "      <td>3094690.25</td>\n",
       "    </tr>\n",
       "    <tr>\n",
       "      <th>4</th>\n",
       "      <td>CO</td>\n",
       "      <td>RES</td>\n",
       "      <td>5.232920</td>\n",
       "      <td>12.979855</td>\n",
       "      <td>Colorado</td>\n",
       "      <td>MTN</td>\n",
       "      <td>1388073.50</td>\n",
       "    </tr>\n",
       "    <tr>\n",
       "      <th>42</th>\n",
       "      <td>UT</td>\n",
       "      <td>RES</td>\n",
       "      <td>5.205706</td>\n",
       "      <td>10.711350</td>\n",
       "      <td>Utah</td>\n",
       "      <td>MTN</td>\n",
       "      <td>624713.75</td>\n",
       "    </tr>\n",
       "    <tr>\n",
       "      <th>17</th>\n",
       "      <td>MD</td>\n",
       "      <td>RES</td>\n",
       "      <td>5.057405</td>\n",
       "      <td>11.937073</td>\n",
       "      <td>Maryland</td>\n",
       "      <td>SAC</td>\n",
       "      <td>1319344.60</td>\n",
       "    </tr>\n",
       "    <tr>\n",
       "      <th>7</th>\n",
       "      <td>FL</td>\n",
       "      <td>RES</td>\n",
       "      <td>4.341407</td>\n",
       "      <td>9.996818</td>\n",
       "      <td>Florida</td>\n",
       "      <td>SAC</td>\n",
       "      <td>5483126.90</td>\n",
       "    </tr>\n",
       "    <tr>\n",
       "      <th>6</th>\n",
       "      <td>DE</td>\n",
       "      <td>RES</td>\n",
       "      <td>3.858726</td>\n",
       "      <td>15.447411</td>\n",
       "      <td>Delaware</td>\n",
       "      <td>SAC</td>\n",
       "      <td>249686.70</td>\n",
       "    </tr>\n",
       "    <tr>\n",
       "      <th>10</th>\n",
       "      <td>ID</td>\n",
       "      <td>RES</td>\n",
       "      <td>3.761966</td>\n",
       "      <td>9.235869</td>\n",
       "      <td>Idaho</td>\n",
       "      <td>MTN</td>\n",
       "      <td>448342.75</td>\n",
       "    </tr>\n",
       "    <tr>\n",
       "      <th>32</th>\n",
       "      <td>OH</td>\n",
       "      <td>RES</td>\n",
       "      <td>3.727782</td>\n",
       "      <td>11.864016</td>\n",
       "      <td>Ohio</td>\n",
       "      <td>ENC</td>\n",
       "      <td>2846028.90</td>\n",
       "    </tr>\n",
       "    <tr>\n",
       "      <th>41</th>\n",
       "      <td>USA</td>\n",
       "      <td>RES</td>\n",
       "      <td>3.481183</td>\n",
       "      <td>8.931848</td>\n",
       "      <td>USA</td>\n",
       "      <td>USA</td>\n",
       "      <td>77450330.30</td>\n",
       "    </tr>\n",
       "    <tr>\n",
       "      <th>47</th>\n",
       "      <td>WV</td>\n",
       "      <td>RES</td>\n",
       "      <td>3.032954</td>\n",
       "      <td>18.166854</td>\n",
       "      <td>West Virginia</td>\n",
       "      <td>SAC</td>\n",
       "      <td>504821.85</td>\n",
       "    </tr>\n",
       "    <tr>\n",
       "      <th>23</th>\n",
       "      <td>MT</td>\n",
       "      <td>RES</td>\n",
       "      <td>3.000961</td>\n",
       "      <td>9.993586</td>\n",
       "      <td>Montana</td>\n",
       "      <td>MTN</td>\n",
       "      <td>320604.50</td>\n",
       "    </tr>\n",
       "    <tr>\n",
       "      <th>29</th>\n",
       "      <td>NM</td>\n",
       "      <td>RES</td>\n",
       "      <td>2.949661</td>\n",
       "      <td>9.649239</td>\n",
       "      <td>New Mexico</td>\n",
       "      <td>MTN</td>\n",
       "      <td>531267.15</td>\n",
       "    </tr>\n",
       "    <tr>\n",
       "      <th>9</th>\n",
       "      <td>IA</td>\n",
       "      <td>RES</td>\n",
       "      <td>2.887519</td>\n",
       "      <td>8.004778</td>\n",
       "      <td>Iowa</td>\n",
       "      <td>WNC</td>\n",
       "      <td>837823.80</td>\n",
       "    </tr>\n",
       "    <tr>\n",
       "      <th>34</th>\n",
       "      <td>OR</td>\n",
       "      <td>RES</td>\n",
       "      <td>2.792998</td>\n",
       "      <td>6.956767</td>\n",
       "      <td>Oregon</td>\n",
       "      <td>PAC</td>\n",
       "      <td>1025674.25</td>\n",
       "    </tr>\n",
       "    <tr>\n",
       "      <th>13</th>\n",
       "      <td>KS</td>\n",
       "      <td>RES</td>\n",
       "      <td>2.688784</td>\n",
       "      <td>6.846934</td>\n",
       "      <td>Kansas</td>\n",
       "      <td>WNC</td>\n",
       "      <td>770208.05</td>\n",
       "    </tr>\n",
       "    <tr>\n",
       "      <th>43</th>\n",
       "      <td>VA</td>\n",
       "      <td>RES</td>\n",
       "      <td>2.158234</td>\n",
       "      <td>10.113127</td>\n",
       "      <td>Virginia</td>\n",
       "      <td>SAC</td>\n",
       "      <td>1982914.90</td>\n",
       "    </tr>\n",
       "    <tr>\n",
       "      <th>37</th>\n",
       "      <td>SC</td>\n",
       "      <td>RES</td>\n",
       "      <td>1.959407</td>\n",
       "      <td>8.626650</td>\n",
       "      <td>South Carolina</td>\n",
       "      <td>SAC</td>\n",
       "      <td>1385692.15</td>\n",
       "    </tr>\n",
       "    <tr>\n",
       "      <th>15</th>\n",
       "      <td>LA</td>\n",
       "      <td>RES</td>\n",
       "      <td>1.888301</td>\n",
       "      <td>8.934239</td>\n",
       "      <td>Louisiana</td>\n",
       "      <td>WSC</td>\n",
       "      <td>1221121.80</td>\n",
       "    </tr>\n",
       "    <tr>\n",
       "      <th>40</th>\n",
       "      <td>TX</td>\n",
       "      <td>RES</td>\n",
       "      <td>1.842461</td>\n",
       "      <td>5.831709</td>\n",
       "      <td>Texas</td>\n",
       "      <td>WSC</td>\n",
       "      <td>6400620.25</td>\n",
       "    </tr>\n",
       "    <tr>\n",
       "      <th>14</th>\n",
       "      <td>KY</td>\n",
       "      <td>RES</td>\n",
       "      <td>1.778297</td>\n",
       "      <td>8.223164</td>\n",
       "      <td>Kentucky</td>\n",
       "      <td>ESC</td>\n",
       "      <td>1179372.35</td>\n",
       "    </tr>\n",
       "    <tr>\n",
       "      <th>12</th>\n",
       "      <td>IN</td>\n",
       "      <td>RES</td>\n",
       "      <td>1.469809</td>\n",
       "      <td>7.244613</td>\n",
       "      <td>Indiana</td>\n",
       "      <td>ENC</td>\n",
       "      <td>1646129.50</td>\n",
       "    </tr>\n",
       "    <tr>\n",
       "      <th>24</th>\n",
       "      <td>NC</td>\n",
       "      <td>RES</td>\n",
       "      <td>1.401922</td>\n",
       "      <td>10.927323</td>\n",
       "      <td>North Carolina</td>\n",
       "      <td>SAC</td>\n",
       "      <td>2728888.25</td>\n",
       "    </tr>\n",
       "    <tr>\n",
       "      <th>25</th>\n",
       "      <td>ND</td>\n",
       "      <td>RES</td>\n",
       "      <td>1.358459</td>\n",
       "      <td>8.245347</td>\n",
       "      <td>North Dakota</td>\n",
       "      <td>WNC</td>\n",
       "      <td>230640.30</td>\n",
       "    </tr>\n",
       "    <tr>\n",
       "      <th>26</th>\n",
       "      <td>NE</td>\n",
       "      <td>RES</td>\n",
       "      <td>1.005767</td>\n",
       "      <td>7.392965</td>\n",
       "      <td>Nebraska</td>\n",
       "      <td>WNC</td>\n",
       "      <td>521932.00</td>\n",
       "    </tr>\n",
       "    <tr>\n",
       "      <th>45</th>\n",
       "      <td>WA</td>\n",
       "      <td>RES</td>\n",
       "      <td>0.923629</td>\n",
       "      <td>5.335045</td>\n",
       "      <td>Washington</td>\n",
       "      <td>PAC</td>\n",
       "      <td>1782548.30</td>\n",
       "    </tr>\n",
       "    <tr>\n",
       "      <th>38</th>\n",
       "      <td>SD</td>\n",
       "      <td>RES</td>\n",
       "      <td>0.813319</td>\n",
       "      <td>6.350989</td>\n",
       "      <td>South Dakota</td>\n",
       "      <td>WNC</td>\n",
       "      <td>244405.00</td>\n",
       "    </tr>\n",
       "    <tr>\n",
       "      <th>39</th>\n",
       "      <td>TN</td>\n",
       "      <td>RES</td>\n",
       "      <td>0.598405</td>\n",
       "      <td>8.469162</td>\n",
       "      <td>Tennessee</td>\n",
       "      <td>ESC</td>\n",
       "      <td>1764890.95</td>\n",
       "    </tr>\n",
       "    <tr>\n",
       "      <th>33</th>\n",
       "      <td>OK</td>\n",
       "      <td>RES</td>\n",
       "      <td>0.256585</td>\n",
       "      <td>8.298504</td>\n",
       "      <td>Oklahoma</td>\n",
       "      <td>WSC</td>\n",
       "      <td>1061005.40</td>\n",
       "    </tr>\n",
       "    <tr>\n",
       "      <th>0</th>\n",
       "      <td>AL</td>\n",
       "      <td>RES</td>\n",
       "      <td>-0.177665</td>\n",
       "      <td>5.017012</td>\n",
       "      <td>Alabama</td>\n",
       "      <td>ESC</td>\n",
       "      <td>1345061.00</td>\n",
       "    </tr>\n",
       "    <tr>\n",
       "      <th>21</th>\n",
       "      <td>MO</td>\n",
       "      <td>RES</td>\n",
       "      <td>-0.187956</td>\n",
       "      <td>4.931578</td>\n",
       "      <td>Missouri</td>\n",
       "      <td>WNC</td>\n",
       "      <td>1634041.15</td>\n",
       "    </tr>\n",
       "    <tr>\n",
       "      <th>22</th>\n",
       "      <td>MS</td>\n",
       "      <td>RES</td>\n",
       "      <td>-1.226857</td>\n",
       "      <td>4.015292</td>\n",
       "      <td>Mississippi</td>\n",
       "      <td>ESC</td>\n",
       "      <td>795637.10</td>\n",
       "    </tr>\n",
       "    <tr>\n",
       "      <th>8</th>\n",
       "      <td>GA</td>\n",
       "      <td>RES</td>\n",
       "      <td>-1.261722</td>\n",
       "      <td>8.719589</td>\n",
       "      <td>Georgia</td>\n",
       "      <td>SAC</td>\n",
       "      <td>2569963.35</td>\n",
       "    </tr>\n",
       "    <tr>\n",
       "      <th>48</th>\n",
       "      <td>WY</td>\n",
       "      <td>RES</td>\n",
       "      <td>-1.439228</td>\n",
       "      <td>4.274454</td>\n",
       "      <td>Wyoming</td>\n",
       "      <td>MTN</td>\n",
       "      <td>169279.55</td>\n",
       "    </tr>\n",
       "    <tr>\n",
       "      <th>1</th>\n",
       "      <td>AR</td>\n",
       "      <td>RES</td>\n",
       "      <td>-1.726521</td>\n",
       "      <td>4.773621</td>\n",
       "      <td>Arkansas</td>\n",
       "      <td>WSC</td>\n",
       "      <td>813447.55</td>\n",
       "    </tr>\n",
       "  </tbody>\n",
       "</table>\n",
       "</div>"
      ],
      "text/plain": [
       "   state sector  mean_change  max_change      state_name region    consumers\n",
       "19    MI    RES    10.379891   18.217173        Michigan    ENC   2507411.20\n",
       "30    NV    RES     9.690459   20.447971          Nevada    MTN    697792.25\n",
       "16    MA    RES     9.208953   13.935072   Massachusetts    NEC   1627766.80\n",
       "31    NY    RES     8.810486   12.289374        New York    MAC   4194269.85\n",
       "27    NH    RES     8.630757   16.232729   New Hampshire    NEC    371918.95\n",
       "36    RI    RES     8.305739   19.224532    Rhode Island    NEC    250485.00\n",
       "46    WI    RES     7.126879   12.082035       Wisconsin    ENC   1567156.70\n",
       "28    NJ    RES     6.772640   12.766474      New Jersey    MAC   2076429.50\n",
       "5     CT    RES     6.673223   16.352585     Connecticut    NEC    839361.20\n",
       "20    MN    RES     6.433727   10.372165       Minnesota    WNC   1383926.05\n",
       "44    VT    RES     5.987574    9.483693         Vermont    NEC    189078.95\n",
       "2     AZ    RES     5.809163   12.371890         Arizona    MTN   1613553.65\n",
       "18    ME    RES     5.681893   14.557250           Maine    NEC    409319.30\n",
       "11    IL    RES     5.546181   15.638976        Illinois    ENC   3001331.00\n",
       "3     CA    RES     5.258897   15.970264      California    PAC   7798532.10\n",
       "35    PA    RES     5.238583   10.714830    Pennsylvania    MAC   3094690.25\n",
       "4     CO    RES     5.232920   12.979855        Colorado    MTN   1388073.50\n",
       "42    UT    RES     5.205706   10.711350            Utah    MTN    624713.75\n",
       "17    MD    RES     5.057405   11.937073        Maryland    SAC   1319344.60\n",
       "7     FL    RES     4.341407    9.996818         Florida    SAC   5483126.90\n",
       "6     DE    RES     3.858726   15.447411        Delaware    SAC    249686.70\n",
       "10    ID    RES     3.761966    9.235869           Idaho    MTN    448342.75\n",
       "32    OH    RES     3.727782   11.864016            Ohio    ENC   2846028.90\n",
       "41   USA    RES     3.481183    8.931848             USA    USA  77450330.30\n",
       "47    WV    RES     3.032954   18.166854   West Virginia    SAC    504821.85\n",
       "23    MT    RES     3.000961    9.993586         Montana    MTN    320604.50\n",
       "29    NM    RES     2.949661    9.649239      New Mexico    MTN    531267.15\n",
       "9     IA    RES     2.887519    8.004778            Iowa    WNC    837823.80\n",
       "34    OR    RES     2.792998    6.956767          Oregon    PAC   1025674.25\n",
       "13    KS    RES     2.688784    6.846934          Kansas    WNC    770208.05\n",
       "43    VA    RES     2.158234   10.113127        Virginia    SAC   1982914.90\n",
       "37    SC    RES     1.959407    8.626650  South Carolina    SAC   1385692.15\n",
       "15    LA    RES     1.888301    8.934239       Louisiana    WSC   1221121.80\n",
       "40    TX    RES     1.842461    5.831709           Texas    WSC   6400620.25\n",
       "14    KY    RES     1.778297    8.223164        Kentucky    ESC   1179372.35\n",
       "12    IN    RES     1.469809    7.244613         Indiana    ENC   1646129.50\n",
       "24    NC    RES     1.401922   10.927323  North Carolina    SAC   2728888.25\n",
       "25    ND    RES     1.358459    8.245347    North Dakota    WNC    230640.30\n",
       "26    NE    RES     1.005767    7.392965        Nebraska    WNC    521932.00\n",
       "45    WA    RES     0.923629    5.335045      Washington    PAC   1782548.30\n",
       "38    SD    RES     0.813319    6.350989    South Dakota    WNC    244405.00\n",
       "39    TN    RES     0.598405    8.469162       Tennessee    ESC   1764890.95\n",
       "33    OK    RES     0.256585    8.298504        Oklahoma    WSC   1061005.40\n",
       "0     AL    RES    -0.177665    5.017012         Alabama    ESC   1345061.00\n",
       "21    MO    RES    -0.187956    4.931578        Missouri    WNC   1634041.15\n",
       "22    MS    RES    -1.226857    4.015292     Mississippi    ESC    795637.10\n",
       "8     GA    RES    -1.261722    8.719589         Georgia    SAC   2569963.35\n",
       "48    WY    RES    -1.439228    4.274454         Wyoming    MTN    169279.55\n",
       "1     AR    RES    -1.726521    4.773621        Arkansas    WSC    813447.55"
      ]
     },
     "execution_count": 160,
     "metadata": {},
     "output_type": "execute_result"
    }
   ],
   "source": [
    "state_stats.sort_values('mean_change',ascending=False)"
   ]
  },
  {
   "cell_type": "code",
   "execution_count": 144,
   "metadata": {},
   "outputs": [],
   "source": [
    "state_stats = state_stats[state_stats.state!='USA']"
   ]
  },
  {
   "cell_type": "code",
   "execution_count": 147,
   "metadata": {},
   "outputs": [
    {
     "data": {
      "text/plain": [
       "3.9917490254115617"
      ]
     },
     "execution_count": 147,
     "metadata": {},
     "output_type": "execute_result"
    }
   ],
   "source": [
    "sum(state_stats.mean_change*state_stats.consumers)/sum(state_stats.consumers)"
   ]
  },
  {
   "cell_type": "code",
   "execution_count": 114,
   "metadata": {},
   "outputs": [
    {
     "data": {
      "text/plain": [
       "31.49778204968343"
      ]
     },
     "execution_count": 114,
     "metadata": {},
     "output_type": "execute_result"
    }
   ],
   "source": [
    "cost_increase = energy_data[(energy_data.date>'2020-02-01')&(energy_data.sector=='RES')][['date','state','price','pct_error','num_days','yhat','y','consumers']].copy()\n",
    "cost_increase['cost_increase'] = (cost_increase.y-cost_increase.yhat)*cost_increase.num_days*cost_increase.price/100\n",
    "cost_increase = cost_increase.groupby(['state']).sum()\n",
    "cost_increase.consumers = cost_increase.consumers/10\n",
    "sum(cost_increase.consumers*cost_increase.cost_increase)/sum(cost_increase.consumers)\n",
    "# cost_increase.head()"
   ]
  },
  {
   "cell_type": "code",
   "execution_count": 142,
   "metadata": {},
   "outputs": [],
   "source": [
    "state_stats['text'] = [s + '<br>' + \n",
    "                       'Avg. change: ' + str(np.round(c,2)) + '%' + '<br>' +\n",
    "                       'Peak change: ' + str(np.round(m,2)) + '%' + '<br>' \n",
    "                       for s,c,m in zip(state_stats['state_name'],state_stats['mean_change'],state_stats['max_change'])]"
   ]
  },
  {
   "cell_type": "code",
   "execution_count": 106,
   "metadata": {},
   "outputs": [
    {
     "data": {
      "application/vnd.plotly.v1+json": {
       "config": {
        "plotlyServerURL": "https://plotly.com"
       },
       "data": [
        {
         "colorbar": {
          "title": {
           "text": "Avg. % deviation"
          }
         },
         "colorscale": [
          [
           0,
           "#440154"
          ],
          [
           0.1111111111111111,
           "#482878"
          ],
          [
           0.2222222222222222,
           "#3e4989"
          ],
          [
           0.3333333333333333,
           "#31688e"
          ],
          [
           0.4444444444444444,
           "#26828e"
          ],
          [
           0.5555555555555556,
           "#1f9e89"
          ],
          [
           0.6666666666666666,
           "#35b779"
          ],
          [
           0.7777777777777778,
           "#6ece58"
          ],
          [
           0.8888888888888888,
           "#b5de2b"
          ],
          [
           1,
           "#fde725"
          ]
         ],
         "hoverinfo": "text",
         "locationmode": "USA-states",
         "locations": [
          "AL",
          "AR",
          "AZ",
          "CA",
          "CO",
          "CT",
          "DE",
          "FL",
          "GA",
          "IA",
          "ID",
          "IL",
          "IN",
          "KS",
          "KY",
          "LA",
          "MA",
          "MD",
          "ME",
          "MI",
          "MN",
          "MO",
          "MS",
          "MT",
          "NC",
          "ND",
          "NE",
          "NH",
          "NJ",
          "NM",
          "NV",
          "NY",
          "OH",
          "OK",
          "OR",
          "PA",
          "RI",
          "SC",
          "SD",
          "TN",
          "TX",
          "USA",
          "UT",
          "VA",
          "VT",
          "WA",
          "WI",
          "WV",
          "WY"
         ],
         "marker": {
          "line": {
           "color": "white"
          }
         },
         "text": [
          "Alabama<br>Avg. change: -0.18%<br>Peak change: 5.02%<br>",
          "Arkansas<br>Avg. change: -1.73%<br>Peak change: 4.77%<br>",
          "Arizona<br>Avg. change: 5.81%<br>Peak change: 12.37%<br>",
          "California<br>Avg. change: 5.26%<br>Peak change: 15.97%<br>",
          "Colorado<br>Avg. change: 5.23%<br>Peak change: 12.98%<br>",
          "Connecticut<br>Avg. change: 6.67%<br>Peak change: 16.35%<br>",
          "Delaware<br>Avg. change: 3.86%<br>Peak change: 15.45%<br>",
          "Florida<br>Avg. change: 4.34%<br>Peak change: 10.0%<br>",
          "Georgia<br>Avg. change: -1.26%<br>Peak change: 8.72%<br>",
          "Iowa<br>Avg. change: 2.89%<br>Peak change: 8.0%<br>",
          "Idaho<br>Avg. change: 3.76%<br>Peak change: 9.24%<br>",
          "Illinois<br>Avg. change: 5.55%<br>Peak change: 15.64%<br>",
          "Indiana<br>Avg. change: 1.47%<br>Peak change: 7.24%<br>",
          "Kansas<br>Avg. change: 2.69%<br>Peak change: 6.85%<br>",
          "Kentucky<br>Avg. change: 1.78%<br>Peak change: 8.22%<br>",
          "Louisiana<br>Avg. change: 1.89%<br>Peak change: 8.93%<br>",
          "Massachusetts<br>Avg. change: 9.21%<br>Peak change: 13.94%<br>",
          "Maryland<br>Avg. change: 5.06%<br>Peak change: 11.94%<br>",
          "Maine<br>Avg. change: 5.68%<br>Peak change: 14.56%<br>",
          "Michigan<br>Avg. change: 10.38%<br>Peak change: 18.22%<br>",
          "Minnesota<br>Avg. change: 6.43%<br>Peak change: 10.37%<br>",
          "Missouri<br>Avg. change: -0.19%<br>Peak change: 4.93%<br>",
          "Mississippi<br>Avg. change: -1.23%<br>Peak change: 4.02%<br>",
          "Montana<br>Avg. change: 3.0%<br>Peak change: 9.99%<br>",
          "North Carolina<br>Avg. change: 1.4%<br>Peak change: 10.93%<br>",
          "North Dakota<br>Avg. change: 1.36%<br>Peak change: 8.25%<br>",
          "Nebraska<br>Avg. change: 1.01%<br>Peak change: 7.39%<br>",
          "New Hampshire<br>Avg. change: 8.63%<br>Peak change: 16.23%<br>",
          "New Jersey<br>Avg. change: 6.77%<br>Peak change: 12.77%<br>",
          "New Mexico<br>Avg. change: 2.95%<br>Peak change: 9.65%<br>",
          "Nevada<br>Avg. change: 9.69%<br>Peak change: 20.45%<br>",
          "New York<br>Avg. change: 8.81%<br>Peak change: 12.29%<br>",
          "Ohio<br>Avg. change: 3.73%<br>Peak change: 11.86%<br>",
          "Oklahoma<br>Avg. change: 0.26%<br>Peak change: 8.3%<br>",
          "Oregon<br>Avg. change: 2.79%<br>Peak change: 6.96%<br>",
          "Pennsylvania<br>Avg. change: 5.24%<br>Peak change: 10.71%<br>",
          "Rhode Island<br>Avg. change: 8.31%<br>Peak change: 19.22%<br>",
          "South Carolina<br>Avg. change: 1.96%<br>Peak change: 8.63%<br>",
          "South Dakota<br>Avg. change: 0.81%<br>Peak change: 6.35%<br>",
          "Tennessee<br>Avg. change: 0.6%<br>Peak change: 8.47%<br>",
          "Texas<br>Avg. change: 1.84%<br>Peak change: 5.83%<br>",
          "USA<br>Avg. change: 3.48%<br>Peak change: 8.93%<br>",
          "Utah<br>Avg. change: 5.21%<br>Peak change: 10.71%<br>",
          "Virginia<br>Avg. change: 2.16%<br>Peak change: 10.11%<br>",
          "Vermont<br>Avg. change: 5.99%<br>Peak change: 9.48%<br>",
          "Washington<br>Avg. change: 0.92%<br>Peak change: 5.34%<br>",
          "Wisconsin<br>Avg. change: 7.13%<br>Peak change: 12.08%<br>",
          "West Virginia<br>Avg. change: 3.03%<br>Peak change: 18.17%<br>",
          "Wyoming<br>Avg. change: -1.44%<br>Peak change: 4.27%<br>"
         ],
         "type": "choropleth",
         "z": [
          -0.1776652165776551,
          -1.7265210559756339,
          5.809162785477872,
          5.258897093219543,
          5.232919762561755,
          6.673223441310354,
          3.858726431939487,
          4.341407428550207,
          -1.2617215595913358,
          2.8875186460118085,
          3.7619659439667967,
          5.5461806934368,
          1.469808857850688,
          2.6887840583270277,
          1.7782969608281722,
          1.8883006381672345,
          9.20895318465089,
          5.057405350184277,
          5.6818925568534855,
          10.379890578884527,
          6.433726714199551,
          -0.18795557144404218,
          -1.2268573062886374,
          3.0009606206973625,
          1.401921987887114,
          1.358458741417419,
          1.0057670040335482,
          8.630757036886337,
          6.772639955367998,
          2.9496607558290027,
          9.69045912558187,
          8.810485966540137,
          3.727781720997765,
          0.2565845167581075,
          2.7929980434185837,
          5.238582833933146,
          8.305738819509708,
          1.9594065101396332,
          0.813318968815306,
          0.5984052155813417,
          1.8424608145935637,
          3.4811830716183025,
          5.205705630900397,
          2.1582337252625923,
          5.987573810567442,
          0.9236292981607015,
          7.126878790457136,
          3.0329541487343947,
          -1.439228151420602
         ]
        }
       ],
       "layout": {
        "autosize": true,
        "geo": {
         "projection": {
          "type": "albers usa"
         },
         "scope": "usa"
        },
        "template": {
         "data": {
          "bar": [
           {
            "error_x": {
             "color": "#2a3f5f"
            },
            "error_y": {
             "color": "#2a3f5f"
            },
            "marker": {
             "line": {
              "color": "#E5ECF6",
              "width": 0.5
             }
            },
            "type": "bar"
           }
          ],
          "barpolar": [
           {
            "marker": {
             "line": {
              "color": "#E5ECF6",
              "width": 0.5
             }
            },
            "type": "barpolar"
           }
          ],
          "carpet": [
           {
            "aaxis": {
             "endlinecolor": "#2a3f5f",
             "gridcolor": "white",
             "linecolor": "white",
             "minorgridcolor": "white",
             "startlinecolor": "#2a3f5f"
            },
            "baxis": {
             "endlinecolor": "#2a3f5f",
             "gridcolor": "white",
             "linecolor": "white",
             "minorgridcolor": "white",
             "startlinecolor": "#2a3f5f"
            },
            "type": "carpet"
           }
          ],
          "choropleth": [
           {
            "colorbar": {
             "outlinewidth": 0,
             "ticks": ""
            },
            "type": "choropleth"
           }
          ],
          "contour": [
           {
            "colorbar": {
             "outlinewidth": 0,
             "ticks": ""
            },
            "colorscale": [
             [
              0,
              "#0d0887"
             ],
             [
              0.1111111111111111,
              "#46039f"
             ],
             [
              0.2222222222222222,
              "#7201a8"
             ],
             [
              0.3333333333333333,
              "#9c179e"
             ],
             [
              0.4444444444444444,
              "#bd3786"
             ],
             [
              0.5555555555555556,
              "#d8576b"
             ],
             [
              0.6666666666666666,
              "#ed7953"
             ],
             [
              0.7777777777777778,
              "#fb9f3a"
             ],
             [
              0.8888888888888888,
              "#fdca26"
             ],
             [
              1,
              "#f0f921"
             ]
            ],
            "type": "contour"
           }
          ],
          "contourcarpet": [
           {
            "colorbar": {
             "outlinewidth": 0,
             "ticks": ""
            },
            "type": "contourcarpet"
           }
          ],
          "heatmap": [
           {
            "colorbar": {
             "outlinewidth": 0,
             "ticks": ""
            },
            "colorscale": [
             [
              0,
              "#0d0887"
             ],
             [
              0.1111111111111111,
              "#46039f"
             ],
             [
              0.2222222222222222,
              "#7201a8"
             ],
             [
              0.3333333333333333,
              "#9c179e"
             ],
             [
              0.4444444444444444,
              "#bd3786"
             ],
             [
              0.5555555555555556,
              "#d8576b"
             ],
             [
              0.6666666666666666,
              "#ed7953"
             ],
             [
              0.7777777777777778,
              "#fb9f3a"
             ],
             [
              0.8888888888888888,
              "#fdca26"
             ],
             [
              1,
              "#f0f921"
             ]
            ],
            "type": "heatmap"
           }
          ],
          "heatmapgl": [
           {
            "colorbar": {
             "outlinewidth": 0,
             "ticks": ""
            },
            "colorscale": [
             [
              0,
              "#0d0887"
             ],
             [
              0.1111111111111111,
              "#46039f"
             ],
             [
              0.2222222222222222,
              "#7201a8"
             ],
             [
              0.3333333333333333,
              "#9c179e"
             ],
             [
              0.4444444444444444,
              "#bd3786"
             ],
             [
              0.5555555555555556,
              "#d8576b"
             ],
             [
              0.6666666666666666,
              "#ed7953"
             ],
             [
              0.7777777777777778,
              "#fb9f3a"
             ],
             [
              0.8888888888888888,
              "#fdca26"
             ],
             [
              1,
              "#f0f921"
             ]
            ],
            "type": "heatmapgl"
           }
          ],
          "histogram": [
           {
            "marker": {
             "colorbar": {
              "outlinewidth": 0,
              "ticks": ""
             }
            },
            "type": "histogram"
           }
          ],
          "histogram2d": [
           {
            "colorbar": {
             "outlinewidth": 0,
             "ticks": ""
            },
            "colorscale": [
             [
              0,
              "#0d0887"
             ],
             [
              0.1111111111111111,
              "#46039f"
             ],
             [
              0.2222222222222222,
              "#7201a8"
             ],
             [
              0.3333333333333333,
              "#9c179e"
             ],
             [
              0.4444444444444444,
              "#bd3786"
             ],
             [
              0.5555555555555556,
              "#d8576b"
             ],
             [
              0.6666666666666666,
              "#ed7953"
             ],
             [
              0.7777777777777778,
              "#fb9f3a"
             ],
             [
              0.8888888888888888,
              "#fdca26"
             ],
             [
              1,
              "#f0f921"
             ]
            ],
            "type": "histogram2d"
           }
          ],
          "histogram2dcontour": [
           {
            "colorbar": {
             "outlinewidth": 0,
             "ticks": ""
            },
            "colorscale": [
             [
              0,
              "#0d0887"
             ],
             [
              0.1111111111111111,
              "#46039f"
             ],
             [
              0.2222222222222222,
              "#7201a8"
             ],
             [
              0.3333333333333333,
              "#9c179e"
             ],
             [
              0.4444444444444444,
              "#bd3786"
             ],
             [
              0.5555555555555556,
              "#d8576b"
             ],
             [
              0.6666666666666666,
              "#ed7953"
             ],
             [
              0.7777777777777778,
              "#fb9f3a"
             ],
             [
              0.8888888888888888,
              "#fdca26"
             ],
             [
              1,
              "#f0f921"
             ]
            ],
            "type": "histogram2dcontour"
           }
          ],
          "mesh3d": [
           {
            "colorbar": {
             "outlinewidth": 0,
             "ticks": ""
            },
            "type": "mesh3d"
           }
          ],
          "parcoords": [
           {
            "line": {
             "colorbar": {
              "outlinewidth": 0,
              "ticks": ""
             }
            },
            "type": "parcoords"
           }
          ],
          "pie": [
           {
            "automargin": true,
            "type": "pie"
           }
          ],
          "scatter": [
           {
            "marker": {
             "colorbar": {
              "outlinewidth": 0,
              "ticks": ""
             }
            },
            "type": "scatter"
           }
          ],
          "scatter3d": [
           {
            "line": {
             "colorbar": {
              "outlinewidth": 0,
              "ticks": ""
             }
            },
            "marker": {
             "colorbar": {
              "outlinewidth": 0,
              "ticks": ""
             }
            },
            "type": "scatter3d"
           }
          ],
          "scattercarpet": [
           {
            "marker": {
             "colorbar": {
              "outlinewidth": 0,
              "ticks": ""
             }
            },
            "type": "scattercarpet"
           }
          ],
          "scattergeo": [
           {
            "marker": {
             "colorbar": {
              "outlinewidth": 0,
              "ticks": ""
             }
            },
            "type": "scattergeo"
           }
          ],
          "scattergl": [
           {
            "marker": {
             "colorbar": {
              "outlinewidth": 0,
              "ticks": ""
             }
            },
            "type": "scattergl"
           }
          ],
          "scattermapbox": [
           {
            "marker": {
             "colorbar": {
              "outlinewidth": 0,
              "ticks": ""
             }
            },
            "type": "scattermapbox"
           }
          ],
          "scatterpolar": [
           {
            "marker": {
             "colorbar": {
              "outlinewidth": 0,
              "ticks": ""
             }
            },
            "type": "scatterpolar"
           }
          ],
          "scatterpolargl": [
           {
            "marker": {
             "colorbar": {
              "outlinewidth": 0,
              "ticks": ""
             }
            },
            "type": "scatterpolargl"
           }
          ],
          "scatterternary": [
           {
            "marker": {
             "colorbar": {
              "outlinewidth": 0,
              "ticks": ""
             }
            },
            "type": "scatterternary"
           }
          ],
          "surface": [
           {
            "colorbar": {
             "outlinewidth": 0,
             "ticks": ""
            },
            "colorscale": [
             [
              0,
              "#0d0887"
             ],
             [
              0.1111111111111111,
              "#46039f"
             ],
             [
              0.2222222222222222,
              "#7201a8"
             ],
             [
              0.3333333333333333,
              "#9c179e"
             ],
             [
              0.4444444444444444,
              "#bd3786"
             ],
             [
              0.5555555555555556,
              "#d8576b"
             ],
             [
              0.6666666666666666,
              "#ed7953"
             ],
             [
              0.7777777777777778,
              "#fb9f3a"
             ],
             [
              0.8888888888888888,
              "#fdca26"
             ],
             [
              1,
              "#f0f921"
             ]
            ],
            "type": "surface"
           }
          ],
          "table": [
           {
            "cells": {
             "fill": {
              "color": "#EBF0F8"
             },
             "line": {
              "color": "white"
             }
            },
            "header": {
             "fill": {
              "color": "#C8D4E3"
             },
             "line": {
              "color": "white"
             }
            },
            "type": "table"
           }
          ]
         },
         "layout": {
          "annotationdefaults": {
           "arrowcolor": "#2a3f5f",
           "arrowhead": 0,
           "arrowwidth": 1
          },
          "coloraxis": {
           "colorbar": {
            "outlinewidth": 0,
            "ticks": ""
           }
          },
          "colorscale": {
           "diverging": [
            [
             0,
             "#8e0152"
            ],
            [
             0.1,
             "#c51b7d"
            ],
            [
             0.2,
             "#de77ae"
            ],
            [
             0.3,
             "#f1b6da"
            ],
            [
             0.4,
             "#fde0ef"
            ],
            [
             0.5,
             "#f7f7f7"
            ],
            [
             0.6,
             "#e6f5d0"
            ],
            [
             0.7,
             "#b8e186"
            ],
            [
             0.8,
             "#7fbc41"
            ],
            [
             0.9,
             "#4d9221"
            ],
            [
             1,
             "#276419"
            ]
           ],
           "sequential": [
            [
             0,
             "#0d0887"
            ],
            [
             0.1111111111111111,
             "#46039f"
            ],
            [
             0.2222222222222222,
             "#7201a8"
            ],
            [
             0.3333333333333333,
             "#9c179e"
            ],
            [
             0.4444444444444444,
             "#bd3786"
            ],
            [
             0.5555555555555556,
             "#d8576b"
            ],
            [
             0.6666666666666666,
             "#ed7953"
            ],
            [
             0.7777777777777778,
             "#fb9f3a"
            ],
            [
             0.8888888888888888,
             "#fdca26"
            ],
            [
             1,
             "#f0f921"
            ]
           ],
           "sequentialminus": [
            [
             0,
             "#0d0887"
            ],
            [
             0.1111111111111111,
             "#46039f"
            ],
            [
             0.2222222222222222,
             "#7201a8"
            ],
            [
             0.3333333333333333,
             "#9c179e"
            ],
            [
             0.4444444444444444,
             "#bd3786"
            ],
            [
             0.5555555555555556,
             "#d8576b"
            ],
            [
             0.6666666666666666,
             "#ed7953"
            ],
            [
             0.7777777777777778,
             "#fb9f3a"
            ],
            [
             0.8888888888888888,
             "#fdca26"
            ],
            [
             1,
             "#f0f921"
            ]
           ]
          },
          "colorway": [
           "#636efa",
           "#EF553B",
           "#00cc96",
           "#ab63fa",
           "#FFA15A",
           "#19d3f3",
           "#FF6692",
           "#B6E880",
           "#FF97FF",
           "#FECB52"
          ],
          "font": {
           "color": "#2a3f5f"
          },
          "geo": {
           "bgcolor": "white",
           "lakecolor": "white",
           "landcolor": "#E5ECF6",
           "showlakes": true,
           "showland": true,
           "subunitcolor": "white"
          },
          "hoverlabel": {
           "align": "left"
          },
          "hovermode": "closest",
          "mapbox": {
           "style": "light"
          },
          "paper_bgcolor": "white",
          "plot_bgcolor": "#E5ECF6",
          "polar": {
           "angularaxis": {
            "gridcolor": "white",
            "linecolor": "white",
            "ticks": ""
           },
           "bgcolor": "#E5ECF6",
           "radialaxis": {
            "gridcolor": "white",
            "linecolor": "white",
            "ticks": ""
           }
          },
          "scene": {
           "xaxis": {
            "backgroundcolor": "#E5ECF6",
            "gridcolor": "white",
            "gridwidth": 2,
            "linecolor": "white",
            "showbackground": true,
            "ticks": "",
            "zerolinecolor": "white"
           },
           "yaxis": {
            "backgroundcolor": "#E5ECF6",
            "gridcolor": "white",
            "gridwidth": 2,
            "linecolor": "white",
            "showbackground": true,
            "ticks": "",
            "zerolinecolor": "white"
           },
           "zaxis": {
            "backgroundcolor": "#E5ECF6",
            "gridcolor": "white",
            "gridwidth": 2,
            "linecolor": "white",
            "showbackground": true,
            "ticks": "",
            "zerolinecolor": "white"
           }
          },
          "shapedefaults": {
           "line": {
            "color": "#2a3f5f"
           }
          },
          "ternary": {
           "aaxis": {
            "gridcolor": "white",
            "linecolor": "white",
            "ticks": ""
           },
           "baxis": {
            "gridcolor": "white",
            "linecolor": "white",
            "ticks": ""
           },
           "bgcolor": "#E5ECF6",
           "caxis": {
            "gridcolor": "white",
            "linecolor": "white",
            "ticks": ""
           }
          },
          "title": {
           "x": 0.05
          },
          "xaxis": {
           "automargin": true,
           "gridcolor": "white",
           "linecolor": "white",
           "ticks": "",
           "title": {
            "standoff": 15
           },
           "zerolinecolor": "white",
           "zerolinewidth": 2
          },
          "yaxis": {
           "automargin": true,
           "gridcolor": "white",
           "linecolor": "white",
           "ticks": "",
           "title": {
            "standoff": 15
           },
           "zerolinecolor": "white",
           "zerolinewidth": 2
          }
         }
        },
        "title": {
         "text": "Average pandemic-related change in residential energy consumption"
        }
       }
      },
      "image/png": "[encoded data removed]",
      "text/html": [
       "<div>\n",
       "        \n",
       "        \n",
       "            <div id=\"928078c2-6372-4303-91be-bc88c24f672a\" class=\"plotly-graph-div\" style=\"height:525px; width:100%;\"></div>\n",
       "            <script type=\"text/javascript\">\n",
       "                require([\"plotly\"], function(Plotly) {\n",
       "                    window.PLOTLYENV=window.PLOTLYENV || {};\n",
       "                    \n",
       "                if (document.getElementById(\"928078c2-6372-4303-91be-bc88c24f672a\")) {\n",
       "                    Plotly.newPlot(\n",
       "                        '928078c2-6372-4303-91be-bc88c24f672a',\n",
       "                        [{\"colorbar\": {\"title\": {\"text\": \"Avg. % deviation\"}}, \"colorscale\": [[0.0, \"#440154\"], [0.1111111111111111, \"#482878\"], [0.2222222222222222, \"#3e4989\"], [0.3333333333333333, \"#31688e\"], [0.4444444444444444, \"#26828e\"], [0.5555555555555556, \"#1f9e89\"], [0.6666666666666666, \"#35b779\"], [0.7777777777777778, \"#6ece58\"], [0.8888888888888888, \"#b5de2b\"], [1.0, \"#fde725\"]], \"hoverinfo\": \"text\", \"locationmode\": \"USA-states\", \"locations\": [\"AL\", \"AR\", \"AZ\", \"CA\", \"CO\", \"CT\", \"DE\", \"FL\", \"GA\", \"IA\", \"ID\", \"IL\", \"IN\", \"KS\", \"KY\", \"LA\", \"MA\", \"MD\", \"ME\", \"MI\", \"MN\", \"MO\", \"MS\", \"MT\", \"NC\", \"ND\", \"NE\", \"NH\", \"NJ\", \"NM\", \"NV\", \"NY\", \"OH\", \"OK\", \"OR\", \"PA\", \"RI\", \"SC\", \"SD\", \"TN\", \"TX\", \"USA\", \"UT\", \"VA\", \"VT\", \"WA\", \"WI\", \"WV\", \"WY\"], \"marker\": {\"line\": {\"color\": \"white\"}}, \"text\": [\"Alabama<br>Avg. change: -0.18%<br>Peak change: 5.02%<br>\", \"Arkansas<br>Avg. change: -1.73%<br>Peak change: 4.77%<br>\", \"Arizona<br>Avg. change: 5.81%<br>Peak change: 12.37%<br>\", \"California<br>Avg. change: 5.26%<br>Peak change: 15.97%<br>\", \"Colorado<br>Avg. change: 5.23%<br>Peak change: 12.98%<br>\", \"Connecticut<br>Avg. change: 6.67%<br>Peak change: 16.35%<br>\", \"Delaware<br>Avg. change: 3.86%<br>Peak change: 15.45%<br>\", \"Florida<br>Avg. change: 4.34%<br>Peak change: 10.0%<br>\", \"Georgia<br>Avg. change: -1.26%<br>Peak change: 8.72%<br>\", \"Iowa<br>Avg. change: 2.89%<br>Peak change: 8.0%<br>\", \"Idaho<br>Avg. change: 3.76%<br>Peak change: 9.24%<br>\", \"Illinois<br>Avg. change: 5.55%<br>Peak change: 15.64%<br>\", \"Indiana<br>Avg. change: 1.47%<br>Peak change: 7.24%<br>\", \"Kansas<br>Avg. change: 2.69%<br>Peak change: 6.85%<br>\", \"Kentucky<br>Avg. change: 1.78%<br>Peak change: 8.22%<br>\", \"Louisiana<br>Avg. change: 1.89%<br>Peak change: 8.93%<br>\", \"Massachusetts<br>Avg. change: 9.21%<br>Peak change: 13.94%<br>\", \"Maryland<br>Avg. change: 5.06%<br>Peak change: 11.94%<br>\", \"Maine<br>Avg. change: 5.68%<br>Peak change: 14.56%<br>\", \"Michigan<br>Avg. change: 10.38%<br>Peak change: 18.22%<br>\", \"Minnesota<br>Avg. change: 6.43%<br>Peak change: 10.37%<br>\", \"Missouri<br>Avg. change: -0.19%<br>Peak change: 4.93%<br>\", \"Mississippi<br>Avg. change: -1.23%<br>Peak change: 4.02%<br>\", \"Montana<br>Avg. change: 3.0%<br>Peak change: 9.99%<br>\", \"North Carolina<br>Avg. change: 1.4%<br>Peak change: 10.93%<br>\", \"North Dakota<br>Avg. change: 1.36%<br>Peak change: 8.25%<br>\", \"Nebraska<br>Avg. change: 1.01%<br>Peak change: 7.39%<br>\", \"New Hampshire<br>Avg. change: 8.63%<br>Peak change: 16.23%<br>\", \"New Jersey<br>Avg. change: 6.77%<br>Peak change: 12.77%<br>\", \"New Mexico<br>Avg. change: 2.95%<br>Peak change: 9.65%<br>\", \"Nevada<br>Avg. change: 9.69%<br>Peak change: 20.45%<br>\", \"New York<br>Avg. change: 8.81%<br>Peak change: 12.29%<br>\", \"Ohio<br>Avg. change: 3.73%<br>Peak change: 11.86%<br>\", \"Oklahoma<br>Avg. change: 0.26%<br>Peak change: 8.3%<br>\", \"Oregon<br>Avg. change: 2.79%<br>Peak change: 6.96%<br>\", \"Pennsylvania<br>Avg. change: 5.24%<br>Peak change: 10.71%<br>\", \"Rhode Island<br>Avg. change: 8.31%<br>Peak change: 19.22%<br>\", \"South Carolina<br>Avg. change: 1.96%<br>Peak change: 8.63%<br>\", \"South Dakota<br>Avg. change: 0.81%<br>Peak change: 6.35%<br>\", \"Tennessee<br>Avg. change: 0.6%<br>Peak change: 8.47%<br>\", \"Texas<br>Avg. change: 1.84%<br>Peak change: 5.83%<br>\", \"USA<br>Avg. change: 3.48%<br>Peak change: 8.93%<br>\", \"Utah<br>Avg. change: 5.21%<br>Peak change: 10.71%<br>\", \"Virginia<br>Avg. change: 2.16%<br>Peak change: 10.11%<br>\", \"Vermont<br>Avg. change: 5.99%<br>Peak change: 9.48%<br>\", \"Washington<br>Avg. change: 0.92%<br>Peak change: 5.34%<br>\", \"Wisconsin<br>Avg. change: 7.13%<br>Peak change: 12.08%<br>\", \"West Virginia<br>Avg. change: 3.03%<br>Peak change: 18.17%<br>\", \"Wyoming<br>Avg. change: -1.44%<br>Peak change: 4.27%<br>\"], \"type\": \"choropleth\", \"z\": [-0.1776652165776551, -1.7265210559756339, 5.809162785477872, 5.258897093219543, 5.232919762561755, 6.673223441310354, 3.858726431939487, 4.341407428550207, -1.2617215595913358, 2.8875186460118085, 3.7619659439667967, 5.5461806934368, 1.469808857850688, 2.6887840583270277, 1.7782969608281722, 1.8883006381672345, 9.20895318465089, 5.057405350184277, 5.6818925568534855, 10.379890578884527, 6.433726714199551, -0.18795557144404218, -1.2268573062886374, 3.0009606206973625, 1.401921987887114, 1.358458741417419, 1.0057670040335482, 8.630757036886337, 6.772639955367998, 2.9496607558290027, 9.69045912558187, 8.810485966540137, 3.727781720997765, 0.2565845167581075, 2.7929980434185837, 5.238582833933146, 8.305738819509708, 1.9594065101396332, 0.813318968815306, 0.5984052155813417, 1.8424608145935637, 3.4811830716183025, 5.205705630900397, 2.1582337252625923, 5.987573810567442, 0.9236292981607015, 7.126878790457136, 3.0329541487343947, -1.439228151420602]}],\n",
       "                        {\"geo\": {\"projection\": {\"type\": \"albers usa\"}, \"scope\": \"usa\"}, \"template\": {\"data\": {\"bar\": [{\"error_x\": {\"color\": \"#2a3f5f\"}, \"error_y\": {\"color\": \"#2a3f5f\"}, \"marker\": {\"line\": {\"color\": \"#E5ECF6\", \"width\": 0.5}}, \"type\": \"bar\"}], \"barpolar\": [{\"marker\": {\"line\": {\"color\": \"#E5ECF6\", \"width\": 0.5}}, \"type\": \"barpolar\"}], \"carpet\": [{\"aaxis\": {\"endlinecolor\": \"#2a3f5f\", \"gridcolor\": \"white\", \"linecolor\": \"white\", \"minorgridcolor\": \"white\", \"startlinecolor\": \"#2a3f5f\"}, \"baxis\": {\"endlinecolor\": \"#2a3f5f\", \"gridcolor\": \"white\", \"linecolor\": \"white\", \"minorgridcolor\": \"white\", \"startlinecolor\": \"#2a3f5f\"}, \"type\": \"carpet\"}], \"choropleth\": [{\"colorbar\": {\"outlinewidth\": 0, \"ticks\": \"\"}, \"type\": \"choropleth\"}], \"contour\": [{\"colorbar\": {\"outlinewidth\": 0, \"ticks\": \"\"}, \"colorscale\": [[0.0, \"#0d0887\"], [0.1111111111111111, \"#46039f\"], [0.2222222222222222, \"#7201a8\"], [0.3333333333333333, \"#9c179e\"], [0.4444444444444444, \"#bd3786\"], [0.5555555555555556, \"#d8576b\"], [0.6666666666666666, \"#ed7953\"], [0.7777777777777778, \"#fb9f3a\"], [0.8888888888888888, \"#fdca26\"], [1.0, \"#f0f921\"]], \"type\": \"contour\"}], \"contourcarpet\": [{\"colorbar\": {\"outlinewidth\": 0, \"ticks\": \"\"}, \"type\": \"contourcarpet\"}], \"heatmap\": [{\"colorbar\": {\"outlinewidth\": 0, \"ticks\": \"\"}, \"colorscale\": [[0.0, \"#0d0887\"], [0.1111111111111111, \"#46039f\"], [0.2222222222222222, \"#7201a8\"], [0.3333333333333333, \"#9c179e\"], [0.4444444444444444, \"#bd3786\"], [0.5555555555555556, \"#d8576b\"], [0.6666666666666666, \"#ed7953\"], [0.7777777777777778, \"#fb9f3a\"], [0.8888888888888888, \"#fdca26\"], [1.0, \"#f0f921\"]], \"type\": \"heatmap\"}], \"heatmapgl\": [{\"colorbar\": {\"outlinewidth\": 0, \"ticks\": \"\"}, \"colorscale\": [[0.0, \"#0d0887\"], [0.1111111111111111, \"#46039f\"], [0.2222222222222222, \"#7201a8\"], [0.3333333333333333, \"#9c179e\"], [0.4444444444444444, \"#bd3786\"], [0.5555555555555556, \"#d8576b\"], [0.6666666666666666, \"#ed7953\"], [0.7777777777777778, \"#fb9f3a\"], [0.8888888888888888, \"#fdca26\"], [1.0, \"#f0f921\"]], \"type\": \"heatmapgl\"}], \"histogram\": [{\"marker\": {\"colorbar\": {\"outlinewidth\": 0, \"ticks\": \"\"}}, \"type\": \"histogram\"}], \"histogram2d\": [{\"colorbar\": {\"outlinewidth\": 0, \"ticks\": \"\"}, \"colorscale\": [[0.0, \"#0d0887\"], [0.1111111111111111, \"#46039f\"], [0.2222222222222222, \"#7201a8\"], [0.3333333333333333, \"#9c179e\"], [0.4444444444444444, \"#bd3786\"], [0.5555555555555556, \"#d8576b\"], [0.6666666666666666, \"#ed7953\"], [0.7777777777777778, \"#fb9f3a\"], [0.8888888888888888, \"#fdca26\"], [1.0, \"#f0f921\"]], \"type\": \"histogram2d\"}], \"histogram2dcontour\": [{\"colorbar\": {\"outlinewidth\": 0, \"ticks\": \"\"}, \"colorscale\": [[0.0, \"#0d0887\"], [0.1111111111111111, \"#46039f\"], [0.2222222222222222, \"#7201a8\"], [0.3333333333333333, \"#9c179e\"], [0.4444444444444444, \"#bd3786\"], [0.5555555555555556, \"#d8576b\"], [0.6666666666666666, \"#ed7953\"], [0.7777777777777778, \"#fb9f3a\"], [0.8888888888888888, \"#fdca26\"], [1.0, \"#f0f921\"]], \"type\": \"histogram2dcontour\"}], \"mesh3d\": [{\"colorbar\": {\"outlinewidth\": 0, \"ticks\": \"\"}, \"type\": \"mesh3d\"}], \"parcoords\": [{\"line\": {\"colorbar\": {\"outlinewidth\": 0, \"ticks\": \"\"}}, \"type\": \"parcoords\"}], \"pie\": [{\"automargin\": true, \"type\": \"pie\"}], \"scatter\": [{\"marker\": {\"colorbar\": {\"outlinewidth\": 0, \"ticks\": \"\"}}, \"type\": \"scatter\"}], \"scatter3d\": [{\"line\": {\"colorbar\": {\"outlinewidth\": 0, \"ticks\": \"\"}}, \"marker\": {\"colorbar\": {\"outlinewidth\": 0, \"ticks\": \"\"}}, \"type\": \"scatter3d\"}], \"scattercarpet\": [{\"marker\": {\"colorbar\": {\"outlinewidth\": 0, \"ticks\": \"\"}}, \"type\": \"scattercarpet\"}], \"scattergeo\": [{\"marker\": {\"colorbar\": {\"outlinewidth\": 0, \"ticks\": \"\"}}, \"type\": \"scattergeo\"}], \"scattergl\": [{\"marker\": {\"colorbar\": {\"outlinewidth\": 0, \"ticks\": \"\"}}, \"type\": \"scattergl\"}], \"scattermapbox\": [{\"marker\": {\"colorbar\": {\"outlinewidth\": 0, \"ticks\": \"\"}}, \"type\": \"scattermapbox\"}], \"scatterpolar\": [{\"marker\": {\"colorbar\": {\"outlinewidth\": 0, \"ticks\": \"\"}}, \"type\": \"scatterpolar\"}], \"scatterpolargl\": [{\"marker\": {\"colorbar\": {\"outlinewidth\": 0, \"ticks\": \"\"}}, \"type\": \"scatterpolargl\"}], \"scatterternary\": [{\"marker\": {\"colorbar\": {\"outlinewidth\": 0, \"ticks\": \"\"}}, \"type\": \"scatterternary\"}], \"surface\": [{\"colorbar\": {\"outlinewidth\": 0, \"ticks\": \"\"}, \"colorscale\": [[0.0, \"#0d0887\"], [0.1111111111111111, \"#46039f\"], [0.2222222222222222, \"#7201a8\"], [0.3333333333333333, \"#9c179e\"], [0.4444444444444444, \"#bd3786\"], [0.5555555555555556, \"#d8576b\"], [0.6666666666666666, \"#ed7953\"], [0.7777777777777778, \"#fb9f3a\"], [0.8888888888888888, \"#fdca26\"], [1.0, \"#f0f921\"]], \"type\": \"surface\"}], \"table\": [{\"cells\": {\"fill\": {\"color\": \"#EBF0F8\"}, \"line\": {\"color\": \"white\"}}, \"header\": {\"fill\": {\"color\": \"#C8D4E3\"}, \"line\": {\"color\": \"white\"}}, \"type\": \"table\"}]}, \"layout\": {\"annotationdefaults\": {\"arrowcolor\": \"#2a3f5f\", \"arrowhead\": 0, \"arrowwidth\": 1}, \"coloraxis\": {\"colorbar\": {\"outlinewidth\": 0, \"ticks\": \"\"}}, \"colorscale\": {\"diverging\": [[0, \"#8e0152\"], [0.1, \"#c51b7d\"], [0.2, \"#de77ae\"], [0.3, \"#f1b6da\"], [0.4, \"#fde0ef\"], [0.5, \"#f7f7f7\"], [0.6, \"#e6f5d0\"], [0.7, \"#b8e186\"], [0.8, \"#7fbc41\"], [0.9, \"#4d9221\"], [1, \"#276419\"]], \"sequential\": [[0.0, \"#0d0887\"], [0.1111111111111111, \"#46039f\"], [0.2222222222222222, \"#7201a8\"], [0.3333333333333333, \"#9c179e\"], [0.4444444444444444, \"#bd3786\"], [0.5555555555555556, \"#d8576b\"], [0.6666666666666666, \"#ed7953\"], [0.7777777777777778, \"#fb9f3a\"], [0.8888888888888888, \"#fdca26\"], [1.0, \"#f0f921\"]], \"sequentialminus\": [[0.0, \"#0d0887\"], [0.1111111111111111, \"#46039f\"], [0.2222222222222222, \"#7201a8\"], [0.3333333333333333, \"#9c179e\"], [0.4444444444444444, \"#bd3786\"], [0.5555555555555556, \"#d8576b\"], [0.6666666666666666, \"#ed7953\"], [0.7777777777777778, \"#fb9f3a\"], [0.8888888888888888, \"#fdca26\"], [1.0, \"#f0f921\"]]}, \"colorway\": [\"#636efa\", \"#EF553B\", \"#00cc96\", \"#ab63fa\", \"#FFA15A\", \"#19d3f3\", \"#FF6692\", \"#B6E880\", \"#FF97FF\", \"#FECB52\"], \"font\": {\"color\": \"#2a3f5f\"}, \"geo\": {\"bgcolor\": \"white\", \"lakecolor\": \"white\", \"landcolor\": \"#E5ECF6\", \"showlakes\": true, \"showland\": true, \"subunitcolor\": \"white\"}, \"hoverlabel\": {\"align\": \"left\"}, \"hovermode\": \"closest\", \"mapbox\": {\"style\": \"light\"}, \"paper_bgcolor\": \"white\", \"plot_bgcolor\": \"#E5ECF6\", \"polar\": {\"angularaxis\": {\"gridcolor\": \"white\", \"linecolor\": \"white\", \"ticks\": \"\"}, \"bgcolor\": \"#E5ECF6\", \"radialaxis\": {\"gridcolor\": \"white\", \"linecolor\": \"white\", \"ticks\": \"\"}}, \"scene\": {\"xaxis\": {\"backgroundcolor\": \"#E5ECF6\", \"gridcolor\": \"white\", \"gridwidth\": 2, \"linecolor\": \"white\", \"showbackground\": true, \"ticks\": \"\", \"zerolinecolor\": \"white\"}, \"yaxis\": {\"backgroundcolor\": \"#E5ECF6\", \"gridcolor\": \"white\", \"gridwidth\": 2, \"linecolor\": \"white\", \"showbackground\": true, \"ticks\": \"\", \"zerolinecolor\": \"white\"}, \"zaxis\": {\"backgroundcolor\": \"#E5ECF6\", \"gridcolor\": \"white\", \"gridwidth\": 2, \"linecolor\": \"white\", \"showbackground\": true, \"ticks\": \"\", \"zerolinecolor\": \"white\"}}, \"shapedefaults\": {\"line\": {\"color\": \"#2a3f5f\"}}, \"ternary\": {\"aaxis\": {\"gridcolor\": \"white\", \"linecolor\": \"white\", \"ticks\": \"\"}, \"baxis\": {\"gridcolor\": \"white\", \"linecolor\": \"white\", \"ticks\": \"\"}, \"bgcolor\": \"#E5ECF6\", \"caxis\": {\"gridcolor\": \"white\", \"linecolor\": \"white\", \"ticks\": \"\"}}, \"title\": {\"x\": 0.05}, \"xaxis\": {\"automargin\": true, \"gridcolor\": \"white\", \"linecolor\": \"white\", \"ticks\": \"\", \"title\": {\"standoff\": 15}, \"zerolinecolor\": \"white\", \"zerolinewidth\": 2}, \"yaxis\": {\"automargin\": true, \"gridcolor\": \"white\", \"linecolor\": \"white\", \"ticks\": \"\", \"title\": {\"standoff\": 15}, \"zerolinecolor\": \"white\", \"zerolinewidth\": 2}}}, \"title\": {\"text\": \"Average pandemic-related change in residential energy consumption\"}},\n",
       "                        {\"responsive\": true}\n",
       "                    ).then(function(){\n",
       "                            \n",
       "var gd = document.getElementById('928078c2-6372-4303-91be-bc88c24f672a');\n",
       "var x = new MutationObserver(function (mutations, observer) {{\n",
       "        var display = window.getComputedStyle(gd).display;\n",
       "        if (!display || display === 'none') {{\n",
       "            console.log([gd, 'removed!']);\n",
       "            Plotly.purge(gd);\n",
       "            observer.disconnect();\n",
       "        }}\n",
       "}});\n",
       "\n",
       "// Listen for the removal of the full notebook cells\n",
       "var notebookContainer = gd.closest('#notebook-container');\n",
       "if (notebookContainer) {{\n",
       "    x.observe(notebookContainer, {childList: true});\n",
       "}}\n",
       "\n",
       "// Listen for the clearing of the current output cell\n",
       "var outputEl = gd.closest('.output');\n",
       "if (outputEl) {{\n",
       "    x.observe(outputEl, {childList: true});\n",
       "}}\n",
       "\n",
       "                        })\n",
       "                };\n",
       "                });\n",
       "            </script>\n",
       "        </div>"
      ]
     },
     "metadata": {},
     "output_type": "display_data"
    },
    {
     "data": {
      "text/plain": [
       "'https://plotly.com/~kmohan_ts/1/'"
      ]
     },
     "execution_count": 106,
     "metadata": {},
     "output_type": "execute_result"
    }
   ],
   "source": [
    "fig = go.Figure(data=go.Choropleth(\n",
    "    locations=state_stats['state'], # Spatial coordinates\n",
    "    z = state_stats['mean_change'].astype(float), # Data to be color-coded\n",
    "    locationmode = 'USA-states', # set of locations match entries in `locations`\n",
    "    colorscale = 'viridis',\n",
    "    text=state_stats['text'],\n",
    "    colorbar_title = \"Avg. % deviation\",\n",
    "    marker_line_color='white', # line markers between states\n",
    "    hoverinfo = \"text\"\n",
    "))\n",
    "\n",
    "fig.update_layout(\n",
    "    title_text = 'Average pandemic-related change in residential energy consumption',\n",
    "    geo_scope='usa', # limit map scope to USA\n",
    "    geo= dict(projection=go.layout.geo.Projection(type = 'albers usa'))\n",
    ")\n",
    "\n",
    "fig.show()\n",
    "\n",
    "py.plot(fig, filename = 'res-energy-geo', auto_open=False)"
   ]
  },
  {
   "cell_type": "code",
   "execution_count": null,
   "metadata": {},
   "outputs": [],
   "source": []
  }
 ],
 "metadata": {
  "kernelspec": {
   "display_name": "Python 3",
   "language": "python",
   "name": "python3"
  },
  "language_info": {
   "codemirror_mode": {
    "name": "ipython",
    "version": 3
   },
   "file_extension": ".py",
   "mimetype": "text/x-python",
   "name": "python",
   "nbconvert_exporter": "python",
   "pygments_lexer": "ipython3",
   "version": "3.8.2"
  }
 },
 "nbformat": 4,
 "nbformat_minor": 4
}
