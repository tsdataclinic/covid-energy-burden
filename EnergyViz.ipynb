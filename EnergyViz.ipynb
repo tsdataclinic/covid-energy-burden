{
 "cells": [
  {
   "cell_type": "code",
   "execution_count": 50,
   "metadata": {},
   "outputs": [],
   "source": [
    "import pandas as pd\n",
    "import numpy as np\n",
    "import seaborn as sns\n",
    "import matplotlib.pyplot as plt\n",
    "import plotly.graph_objects as go\n",
    "import plotly.express as px\n",
    "import chart_studio.plotly as py"
   ]
  },
  {
   "cell_type": "code",
   "execution_count": 51,
   "metadata": {},
   "outputs": [],
   "source": [
    "import chart_studio\n",
    "chart_studio.tools.set_credentials_file(username='kmohan_ts', api_key='DQQyWqXWsC1Cma8ld4Ud')"
   ]
  },
  {
   "cell_type": "code",
   "execution_count": 6,
   "metadata": {},
   "outputs": [],
   "source": [
    "energy_data = pd.read_csv('~/Documents/Projects/covid-energy-burden/energy_data_with_predictions.csv')"
   ]
  },
  {
   "cell_type": "code",
   "execution_count": 12,
   "metadata": {},
   "outputs": [
    {
     "data": {
      "text/plain": [
       "Index(['date', 'month', 'sales_mkwh', 'state', 'sector', 'consumers', 'price',\n",
       "       'revenue', 'use_per_capita', 'region', 'cooling_days', 'heating_days',\n",
       "       'COM', 'RES', 'time', 'year', 'mon', 'season', 'num_days', 'num_hols',\n",
       "       'pct_weekdays', 'y', 'yhat_20', 'pred_year', 'pct_error_20'],\n",
       "      dtype='object')"
      ]
     },
     "execution_count": 12,
     "metadata": {},
     "output_type": "execute_result"
    }
   ],
   "source": [
    "energy_data.columns"
   ]
  },
  {
   "cell_type": "code",
   "execution_count": 7,
   "metadata": {},
   "outputs": [
    {
     "data": {
      "text/html": [
       "<div>\n",
       "<style scoped>\n",
       "    .dataframe tbody tr th:only-of-type {\n",
       "        vertical-align: middle;\n",
       "    }\n",
       "\n",
       "    .dataframe tbody tr th {\n",
       "        vertical-align: top;\n",
       "    }\n",
       "\n",
       "    .dataframe thead th {\n",
       "        text-align: right;\n",
       "    }\n",
       "</style>\n",
       "<table border=\"1\" class=\"dataframe\">\n",
       "  <thead>\n",
       "    <tr style=\"text-align: right;\">\n",
       "      <th></th>\n",
       "      <th>date</th>\n",
       "      <th>month</th>\n",
       "      <th>sales_mkwh</th>\n",
       "      <th>state</th>\n",
       "      <th>sector</th>\n",
       "      <th>consumers</th>\n",
       "      <th>price</th>\n",
       "      <th>revenue</th>\n",
       "      <th>use_per_capita</th>\n",
       "      <th>region</th>\n",
       "      <th>...</th>\n",
       "      <th>year</th>\n",
       "      <th>mon</th>\n",
       "      <th>season</th>\n",
       "      <th>num_days</th>\n",
       "      <th>num_hols</th>\n",
       "      <th>pct_weekdays</th>\n",
       "      <th>y</th>\n",
       "      <th>yhat_20</th>\n",
       "      <th>pred_year</th>\n",
       "      <th>pct_error_20</th>\n",
       "    </tr>\n",
       "  </thead>\n",
       "  <tbody>\n",
       "    <tr>\n",
       "      <th>0</th>\n",
       "      <td>2020-10-01</td>\n",
       "      <td>202010</td>\n",
       "      <td>2137.29371</td>\n",
       "      <td>AL</td>\n",
       "      <td>RES</td>\n",
       "      <td>2286425.0</td>\n",
       "      <td>13.07</td>\n",
       "      <td>27934.428790</td>\n",
       "      <td>934.775341</td>\n",
       "      <td>ESC</td>\n",
       "      <td>...</td>\n",
       "      <td>2020</td>\n",
       "      <td>10</td>\n",
       "      <td>fall</td>\n",
       "      <td>31</td>\n",
       "      <td>10</td>\n",
       "      <td>0.677419</td>\n",
       "      <td>30.154043</td>\n",
       "      <td>31.097894</td>\n",
       "      <td>2020</td>\n",
       "      <td>-3.130098</td>\n",
       "    </tr>\n",
       "    <tr>\n",
       "      <th>1</th>\n",
       "      <td>2020-09-01</td>\n",
       "      <td>202009</td>\n",
       "      <td>2875.42861</td>\n",
       "      <td>AL</td>\n",
       "      <td>RES</td>\n",
       "      <td>2325509.0</td>\n",
       "      <td>13.18</td>\n",
       "      <td>37898.149080</td>\n",
       "      <td>1236.472794</td>\n",
       "      <td>ESC</td>\n",
       "      <td>...</td>\n",
       "      <td>2020</td>\n",
       "      <td>9</td>\n",
       "      <td>fall</td>\n",
       "      <td>30</td>\n",
       "      <td>9</td>\n",
       "      <td>0.700000</td>\n",
       "      <td>41.215760</td>\n",
       "      <td>43.135998</td>\n",
       "      <td>2020</td>\n",
       "      <td>-4.658990</td>\n",
       "    </tr>\n",
       "    <tr>\n",
       "      <th>2</th>\n",
       "      <td>2020-08-01</td>\n",
       "      <td>202008</td>\n",
       "      <td>3569.57496</td>\n",
       "      <td>AL</td>\n",
       "      <td>RES</td>\n",
       "      <td>2322835.0</td>\n",
       "      <td>12.76</td>\n",
       "      <td>45547.776490</td>\n",
       "      <td>1536.732036</td>\n",
       "      <td>ESC</td>\n",
       "      <td>...</td>\n",
       "      <td>2020</td>\n",
       "      <td>8</td>\n",
       "      <td>summer</td>\n",
       "      <td>31</td>\n",
       "      <td>10</td>\n",
       "      <td>0.677419</td>\n",
       "      <td>49.572001</td>\n",
       "      <td>49.720861</td>\n",
       "      <td>2020</td>\n",
       "      <td>-0.300289</td>\n",
       "    </tr>\n",
       "    <tr>\n",
       "      <th>3</th>\n",
       "      <td>2020-07-01</td>\n",
       "      <td>202007</td>\n",
       "      <td>3587.72858</td>\n",
       "      <td>AL</td>\n",
       "      <td>RES</td>\n",
       "      <td>2319406.0</td>\n",
       "      <td>12.69</td>\n",
       "      <td>45528.275680</td>\n",
       "      <td>1546.830775</td>\n",
       "      <td>ESC</td>\n",
       "      <td>...</td>\n",
       "      <td>2020</td>\n",
       "      <td>7</td>\n",
       "      <td>summer</td>\n",
       "      <td>31</td>\n",
       "      <td>9</td>\n",
       "      <td>0.709677</td>\n",
       "      <td>49.897767</td>\n",
       "      <td>53.677423</td>\n",
       "      <td>2020</td>\n",
       "      <td>-7.574801</td>\n",
       "    </tr>\n",
       "    <tr>\n",
       "      <th>4</th>\n",
       "      <td>2020-06-01</td>\n",
       "      <td>202006</td>\n",
       "      <td>2912.11315</td>\n",
       "      <td>AL</td>\n",
       "      <td>RES</td>\n",
       "      <td>2314926.0</td>\n",
       "      <td>12.93</td>\n",
       "      <td>37653.623029</td>\n",
       "      <td>1257.972458</td>\n",
       "      <td>ESC</td>\n",
       "      <td>...</td>\n",
       "      <td>2020</td>\n",
       "      <td>6</td>\n",
       "      <td>summer</td>\n",
       "      <td>30</td>\n",
       "      <td>8</td>\n",
       "      <td>0.733333</td>\n",
       "      <td>41.932415</td>\n",
       "      <td>43.495995</td>\n",
       "      <td>2020</td>\n",
       "      <td>-3.728809</td>\n",
       "    </tr>\n",
       "  </tbody>\n",
       "</table>\n",
       "<p>5 rows × 25 columns</p>\n",
       "</div>"
      ],
      "text/plain": [
       "         date   month  sales_mkwh state sector  consumers  price  \\\n",
       "0  2020-10-01  202010  2137.29371    AL    RES  2286425.0  13.07   \n",
       "1  2020-09-01  202009  2875.42861    AL    RES  2325509.0  13.18   \n",
       "2  2020-08-01  202008  3569.57496    AL    RES  2322835.0  12.76   \n",
       "3  2020-07-01  202007  3587.72858    AL    RES  2319406.0  12.69   \n",
       "4  2020-06-01  202006  2912.11315    AL    RES  2314926.0  12.93   \n",
       "\n",
       "        revenue  use_per_capita region  ...  year  mon  season  num_days  \\\n",
       "0  27934.428790      934.775341    ESC  ...  2020   10    fall        31   \n",
       "1  37898.149080     1236.472794    ESC  ...  2020    9    fall        30   \n",
       "2  45547.776490     1536.732036    ESC  ...  2020    8  summer        31   \n",
       "3  45528.275680     1546.830775    ESC  ...  2020    7  summer        31   \n",
       "4  37653.623029     1257.972458    ESC  ...  2020    6  summer        30   \n",
       "\n",
       "   num_hols  pct_weekdays          y    yhat_20  pred_year  pct_error_20  \n",
       "0        10      0.677419  30.154043  31.097894       2020     -3.130098  \n",
       "1         9      0.700000  41.215760  43.135998       2020     -4.658990  \n",
       "2        10      0.677419  49.572001  49.720861       2020     -0.300289  \n",
       "3         9      0.709677  49.897767  53.677423       2020     -7.574801  \n",
       "4         8      0.733333  41.932415  43.495995       2020     -3.728809  \n",
       "\n",
       "[5 rows x 25 columns]"
      ]
     },
     "execution_count": 7,
     "metadata": {},
     "output_type": "execute_result"
    }
   ],
   "source": [
    "energy_data.head()"
   ]
  },
  {
   "cell_type": "code",
   "execution_count": 108,
   "metadata": {},
   "outputs": [],
   "source": [
    "pre_covid_error = energy_data.groupby(['state','sector']).apply(get_pre_covid_errors).reset_index().rename(columns={0:'pre_covid_error'})\n",
    "post_covid_error = energy_data.groupby(['state','sector']).apply(get_post_covid_errors).reset_index().rename(columns={0:'post_covid_error'})"
   ]
  },
  {
   "cell_type": "code",
   "execution_count": 110,
   "metadata": {},
   "outputs": [],
   "source": [
    "pre_post_error = pre_covid_error.merge(post_covid_error,on=['state','sector'])"
   ]
  },
  {
   "cell_type": "code",
   "execution_count": 112,
   "metadata": {},
   "outputs": [],
   "source": [
    "energy_data = energy_data.merge(pre_post_error,on=['state','sector'])"
   ]
  },
  {
   "cell_type": "code",
   "execution_count": 115,
   "metadata": {},
   "outputs": [],
   "source": [
    "energy_data['pre_post_diff'] = energy_data['post_covid_error'] - energy_data['pre_covid_error']"
   ]
  },
  {
   "cell_type": "code",
   "execution_count": 143,
   "metadata": {},
   "outputs": [],
   "source": [
    "energy_data['anno_text'] = ['<b>+'+str(np.round(x,2))+'%</b>' if x>0 else '<b>'+str(np.round(x,2))+'%</b>' for x in energy_data['pre_post_diff']]\n",
    "energy_data['anno_color'] = ['green' if x>0 else 'red' for x in energy_data['pre_post_diff']]"
   ]
  },
  {
   "cell_type": "code",
   "execution_count": 182,
   "metadata": {},
   "outputs": [
    {
     "data": {
      "text/plain": [
       "'green'"
      ]
     },
     "execution_count": 182,
     "metadata": {},
     "output_type": "execute_result"
    }
   ],
   "source": [
    "list(energy_data[(energy_data.state=='AZ')&(energy_data.sector==\"RES\")].anno_color)[0]"
   ]
  },
  {
   "cell_type": "code",
   "execution_count": 184,
   "metadata": {},
   "outputs": [],
   "source": [
    "states = energy_data[~(energy_data.state =='USA')].state.unique()"
   ]
  },
  {
   "cell_type": "code",
   "execution_count": 190,
   "metadata": {},
   "outputs": [],
   "source": [
    "states = ['USA']"
   ]
  },
  {
   "cell_type": "code",
   "execution_count": 192,
   "metadata": {},
   "outputs": [],
   "source": [
    "states.extend(energy_data[~(energy_data.state =='USA')].state.unique())"
   ]
  },
  {
   "cell_type": "code",
   "execution_count": 195,
   "metadata": {},
   "outputs": [],
   "source": [
    "energy_data['state_name'] = [abbrev_us_state[s] for s in energy_data['state']]"
   ]
  },
  {
   "cell_type": "code",
   "execution_count": 197,
   "metadata": {},
   "outputs": [
    {
     "data": {
      "application/vnd.plotly.v1+json": {
       "config": {
        "plotlyServerURL": "https://plotly.com"
       },
       "data": [
        {
         "marker": {
          "color": "#27a3aa"
         },
         "mode": "lines+markers",
         "type": "scatter",
         "visible": true,
         "x": [
          "2019-01-01",
          "2019-02-01",
          "2019-03-01",
          "2019-04-01",
          "2019-05-01",
          "2019-06-01",
          "2019-07-01",
          "2019-08-01",
          "2019-09-01",
          "2019-10-01",
          "2019-11-01",
          "2019-12-01",
          "2020-01-01",
          "2020-02-01",
          "2020-03-01",
          "2020-04-01",
          "2020-05-01",
          "2020-06-01",
          "2020-07-01",
          "2020-08-01",
          "2020-09-01",
          "2020-10-01"
         ],
         "y": [
          -4.85,
          -1.03,
          -0.35,
          0.35,
          -1.92,
          1.79,
          -1.44,
          -0.68,
          -1.04,
          3.73,
          -0.51,
          0.83,
          -6.56,
          -4.95,
          -3.81,
          0.53,
          8.19,
          4.84,
          2.14,
          1.88,
          1.58,
          1.21
         ]
        }
       ],
       "layout": {
        "annotations": [
         {
          "font": {
           "color": "green",
           "family": "Arial",
           "size": 14
          },
          "showarrow": false,
          "text": "<b>+3.26%</b>",
          "x": "2020-01-20",
          "y": 2.069174442205272
         }
        ],
        "autosize": true,
        "shapes": [
         {
          "line": {
           "color": "#f76d23",
           "dash": "dot",
           "width": 3
          },
          "type": "line",
          "x0": "2020-02-15",
          "x1": "2020-02-15",
          "y0": -7.875528533767571,
          "y1": 9.829698910988357
         },
         {
          "line": {
           "color": "red",
           "dash": "dash",
           "width": 2
          },
          "type": "line",
          "x0": "2019-01-01",
          "x1": "2020-02-15",
          "y0": -1.1877076309671304,
          "y1": -1.1877076309671304
         },
         {
          "line": {
           "color": "green",
           "dash": "dash",
           "width": 2
          },
          "type": "line",
          "x0": "2020-02-15",
          "x1": "2020-10-01",
          "y0": 2.069174442205272,
          "y1": 2.069174442205272
         }
        ],
        "showlegend": false,
        "template": {
         "data": {
          "bar": [
           {
            "error_x": {
             "color": "#2a3f5f"
            },
            "error_y": {
             "color": "#2a3f5f"
            },
            "marker": {
             "line": {
              "color": "#E5ECF6",
              "width": 0.5
             }
            },
            "type": "bar"
           }
          ],
          "barpolar": [
           {
            "marker": {
             "line": {
              "color": "#E5ECF6",
              "width": 0.5
             }
            },
            "type": "barpolar"
           }
          ],
          "carpet": [
           {
            "aaxis": {
             "endlinecolor": "#2a3f5f",
             "gridcolor": "white",
             "linecolor": "white",
             "minorgridcolor": "white",
             "startlinecolor": "#2a3f5f"
            },
            "baxis": {
             "endlinecolor": "#2a3f5f",
             "gridcolor": "white",
             "linecolor": "white",
             "minorgridcolor": "white",
             "startlinecolor": "#2a3f5f"
            },
            "type": "carpet"
           }
          ],
          "choropleth": [
           {
            "colorbar": {
             "outlinewidth": 0,
             "ticks": ""
            },
            "type": "choropleth"
           }
          ],
          "contour": [
           {
            "colorbar": {
             "outlinewidth": 0,
             "ticks": ""
            },
            "colorscale": [
             [
              0,
              "#0d0887"
             ],
             [
              0.1111111111111111,
              "#46039f"
             ],
             [
              0.2222222222222222,
              "#7201a8"
             ],
             [
              0.3333333333333333,
              "#9c179e"
             ],
             [
              0.4444444444444444,
              "#bd3786"
             ],
             [
              0.5555555555555556,
              "#d8576b"
             ],
             [
              0.6666666666666666,
              "#ed7953"
             ],
             [
              0.7777777777777778,
              "#fb9f3a"
             ],
             [
              0.8888888888888888,
              "#fdca26"
             ],
             [
              1,
              "#f0f921"
             ]
            ],
            "type": "contour"
           }
          ],
          "contourcarpet": [
           {
            "colorbar": {
             "outlinewidth": 0,
             "ticks": ""
            },
            "type": "contourcarpet"
           }
          ],
          "heatmap": [
           {
            "colorbar": {
             "outlinewidth": 0,
             "ticks": ""
            },
            "colorscale": [
             [
              0,
              "#0d0887"
             ],
             [
              0.1111111111111111,
              "#46039f"
             ],
             [
              0.2222222222222222,
              "#7201a8"
             ],
             [
              0.3333333333333333,
              "#9c179e"
             ],
             [
              0.4444444444444444,
              "#bd3786"
             ],
             [
              0.5555555555555556,
              "#d8576b"
             ],
             [
              0.6666666666666666,
              "#ed7953"
             ],
             [
              0.7777777777777778,
              "#fb9f3a"
             ],
             [
              0.8888888888888888,
              "#fdca26"
             ],
             [
              1,
              "#f0f921"
             ]
            ],
            "type": "heatmap"
           }
          ],
          "heatmapgl": [
           {
            "colorbar": {
             "outlinewidth": 0,
             "ticks": ""
            },
            "colorscale": [
             [
              0,
              "#0d0887"
             ],
             [
              0.1111111111111111,
              "#46039f"
             ],
             [
              0.2222222222222222,
              "#7201a8"
             ],
             [
              0.3333333333333333,
              "#9c179e"
             ],
             [
              0.4444444444444444,
              "#bd3786"
             ],
             [
              0.5555555555555556,
              "#d8576b"
             ],
             [
              0.6666666666666666,
              "#ed7953"
             ],
             [
              0.7777777777777778,
              "#fb9f3a"
             ],
             [
              0.8888888888888888,
              "#fdca26"
             ],
             [
              1,
              "#f0f921"
             ]
            ],
            "type": "heatmapgl"
           }
          ],
          "histogram": [
           {
            "marker": {
             "colorbar": {
              "outlinewidth": 0,
              "ticks": ""
             }
            },
            "type": "histogram"
           }
          ],
          "histogram2d": [
           {
            "colorbar": {
             "outlinewidth": 0,
             "ticks": ""
            },
            "colorscale": [
             [
              0,
              "#0d0887"
             ],
             [
              0.1111111111111111,
              "#46039f"
             ],
             [
              0.2222222222222222,
              "#7201a8"
             ],
             [
              0.3333333333333333,
              "#9c179e"
             ],
             [
              0.4444444444444444,
              "#bd3786"
             ],
             [
              0.5555555555555556,
              "#d8576b"
             ],
             [
              0.6666666666666666,
              "#ed7953"
             ],
             [
              0.7777777777777778,
              "#fb9f3a"
             ],
             [
              0.8888888888888888,
              "#fdca26"
             ],
             [
              1,
              "#f0f921"
             ]
            ],
            "type": "histogram2d"
           }
          ],
          "histogram2dcontour": [
           {
            "colorbar": {
             "outlinewidth": 0,
             "ticks": ""
            },
            "colorscale": [
             [
              0,
              "#0d0887"
             ],
             [
              0.1111111111111111,
              "#46039f"
             ],
             [
              0.2222222222222222,
              "#7201a8"
             ],
             [
              0.3333333333333333,
              "#9c179e"
             ],
             [
              0.4444444444444444,
              "#bd3786"
             ],
             [
              0.5555555555555556,
              "#d8576b"
             ],
             [
              0.6666666666666666,
              "#ed7953"
             ],
             [
              0.7777777777777778,
              "#fb9f3a"
             ],
             [
              0.8888888888888888,
              "#fdca26"
             ],
             [
              1,
              "#f0f921"
             ]
            ],
            "type": "histogram2dcontour"
           }
          ],
          "mesh3d": [
           {
            "colorbar": {
             "outlinewidth": 0,
             "ticks": ""
            },
            "type": "mesh3d"
           }
          ],
          "parcoords": [
           {
            "line": {
             "colorbar": {
              "outlinewidth": 0,
              "ticks": ""
             }
            },
            "type": "parcoords"
           }
          ],
          "pie": [
           {
            "automargin": true,
            "type": "pie"
           }
          ],
          "scatter": [
           {
            "marker": {
             "colorbar": {
              "outlinewidth": 0,
              "ticks": ""
             }
            },
            "type": "scatter"
           }
          ],
          "scatter3d": [
           {
            "line": {
             "colorbar": {
              "outlinewidth": 0,
              "ticks": ""
             }
            },
            "marker": {
             "colorbar": {
              "outlinewidth": 0,
              "ticks": ""
             }
            },
            "type": "scatter3d"
           }
          ],
          "scattercarpet": [
           {
            "marker": {
             "colorbar": {
              "outlinewidth": 0,
              "ticks": ""
             }
            },
            "type": "scattercarpet"
           }
          ],
          "scattergeo": [
           {
            "marker": {
             "colorbar": {
              "outlinewidth": 0,
              "ticks": ""
             }
            },
            "type": "scattergeo"
           }
          ],
          "scattergl": [
           {
            "marker": {
             "colorbar": {
              "outlinewidth": 0,
              "ticks": ""
             }
            },
            "type": "scattergl"
           }
          ],
          "scattermapbox": [
           {
            "marker": {
             "colorbar": {
              "outlinewidth": 0,
              "ticks": ""
             }
            },
            "type": "scattermapbox"
           }
          ],
          "scatterpolar": [
           {
            "marker": {
             "colorbar": {
              "outlinewidth": 0,
              "ticks": ""
             }
            },
            "type": "scatterpolar"
           }
          ],
          "scatterpolargl": [
           {
            "marker": {
             "colorbar": {
              "outlinewidth": 0,
              "ticks": ""
             }
            },
            "type": "scatterpolargl"
           }
          ],
          "scatterternary": [
           {
            "marker": {
             "colorbar": {
              "outlinewidth": 0,
              "ticks": ""
             }
            },
            "type": "scatterternary"
           }
          ],
          "surface": [
           {
            "colorbar": {
             "outlinewidth": 0,
             "ticks": ""
            },
            "colorscale": [
             [
              0,
              "#0d0887"
             ],
             [
              0.1111111111111111,
              "#46039f"
             ],
             [
              0.2222222222222222,
              "#7201a8"
             ],
             [
              0.3333333333333333,
              "#9c179e"
             ],
             [
              0.4444444444444444,
              "#bd3786"
             ],
             [
              0.5555555555555556,
              "#d8576b"
             ],
             [
              0.6666666666666666,
              "#ed7953"
             ],
             [
              0.7777777777777778,
              "#fb9f3a"
             ],
             [
              0.8888888888888888,
              "#fdca26"
             ],
             [
              1,
              "#f0f921"
             ]
            ],
            "type": "surface"
           }
          ],
          "table": [
           {
            "cells": {
             "fill": {
              "color": "#EBF0F8"
             },
             "line": {
              "color": "white"
             }
            },
            "header": {
             "fill": {
              "color": "#C8D4E3"
             },
             "line": {
              "color": "white"
             }
            },
            "type": "table"
           }
          ]
         },
         "layout": {
          "annotationdefaults": {
           "arrowcolor": "#2a3f5f",
           "arrowhead": 0,
           "arrowwidth": 1
          },
          "coloraxis": {
           "colorbar": {
            "outlinewidth": 0,
            "ticks": ""
           }
          },
          "colorscale": {
           "diverging": [
            [
             0,
             "#8e0152"
            ],
            [
             0.1,
             "#c51b7d"
            ],
            [
             0.2,
             "#de77ae"
            ],
            [
             0.3,
             "#f1b6da"
            ],
            [
             0.4,
             "#fde0ef"
            ],
            [
             0.5,
             "#f7f7f7"
            ],
            [
             0.6,
             "#e6f5d0"
            ],
            [
             0.7,
             "#b8e186"
            ],
            [
             0.8,
             "#7fbc41"
            ],
            [
             0.9,
             "#4d9221"
            ],
            [
             1,
             "#276419"
            ]
           ],
           "sequential": [
            [
             0,
             "#0d0887"
            ],
            [
             0.1111111111111111,
             "#46039f"
            ],
            [
             0.2222222222222222,
             "#7201a8"
            ],
            [
             0.3333333333333333,
             "#9c179e"
            ],
            [
             0.4444444444444444,
             "#bd3786"
            ],
            [
             0.5555555555555556,
             "#d8576b"
            ],
            [
             0.6666666666666666,
             "#ed7953"
            ],
            [
             0.7777777777777778,
             "#fb9f3a"
            ],
            [
             0.8888888888888888,
             "#fdca26"
            ],
            [
             1,
             "#f0f921"
            ]
           ],
           "sequentialminus": [
            [
             0,
             "#0d0887"
            ],
            [
             0.1111111111111111,
             "#46039f"
            ],
            [
             0.2222222222222222,
             "#7201a8"
            ],
            [
             0.3333333333333333,
             "#9c179e"
            ],
            [
             0.4444444444444444,
             "#bd3786"
            ],
            [
             0.5555555555555556,
             "#d8576b"
            ],
            [
             0.6666666666666666,
             "#ed7953"
            ],
            [
             0.7777777777777778,
             "#fb9f3a"
            ],
            [
             0.8888888888888888,
             "#fdca26"
            ],
            [
             1,
             "#f0f921"
            ]
           ]
          },
          "colorway": [
           "#636efa",
           "#EF553B",
           "#00cc96",
           "#ab63fa",
           "#FFA15A",
           "#19d3f3",
           "#FF6692",
           "#B6E880",
           "#FF97FF",
           "#FECB52"
          ],
          "font": {
           "color": "#2a3f5f"
          },
          "geo": {
           "bgcolor": "white",
           "lakecolor": "white",
           "landcolor": "#E5ECF6",
           "showlakes": true,
           "showland": true,
           "subunitcolor": "white"
          },
          "hoverlabel": {
           "align": "left"
          },
          "hovermode": "closest",
          "mapbox": {
           "style": "light"
          },
          "paper_bgcolor": "white",
          "plot_bgcolor": "#E5ECF6",
          "polar": {
           "angularaxis": {
            "gridcolor": "white",
            "linecolor": "white",
            "ticks": ""
           },
           "bgcolor": "#E5ECF6",
           "radialaxis": {
            "gridcolor": "white",
            "linecolor": "white",
            "ticks": ""
           }
          },
          "scene": {
           "xaxis": {
            "backgroundcolor": "#E5ECF6",
            "gridcolor": "white",
            "gridwidth": 2,
            "linecolor": "white",
            "showbackground": true,
            "ticks": "",
            "zerolinecolor": "white"
           },
           "yaxis": {
            "backgroundcolor": "#E5ECF6",
            "gridcolor": "white",
            "gridwidth": 2,
            "linecolor": "white",
            "showbackground": true,
            "ticks": "",
            "zerolinecolor": "white"
           },
           "zaxis": {
            "backgroundcolor": "#E5ECF6",
            "gridcolor": "white",
            "gridwidth": 2,
            "linecolor": "white",
            "showbackground": true,
            "ticks": "",
            "zerolinecolor": "white"
           }
          },
          "shapedefaults": {
           "line": {
            "color": "#2a3f5f"
           }
          },
          "ternary": {
           "aaxis": {
            "gridcolor": "white",
            "linecolor": "white",
            "ticks": ""
           },
           "baxis": {
            "gridcolor": "white",
            "linecolor": "white",
            "ticks": ""
           },
           "bgcolor": "#E5ECF6",
           "caxis": {
            "gridcolor": "white",
            "linecolor": "white",
            "ticks": ""
           }
          },
          "title": {
           "x": 0.05
          },
          "xaxis": {
           "automargin": true,
           "gridcolor": "white",
           "linecolor": "white",
           "ticks": "",
           "title": {
            "standoff": 15
           },
           "zerolinecolor": "white",
           "zerolinewidth": 2
          },
          "yaxis": {
           "automargin": true,
           "gridcolor": "white",
           "linecolor": "white",
           "ticks": "",
           "title": {
            "standoff": 15
           },
           "zerolinecolor": "white",
           "zerolinewidth": 2
          }
         }
        },
        "updatemenus": [
         {
          "buttons": [
           {
            "args": [
             {
              "type": "scatter",
              "x": [
               [
                "2019-01-01",
                "2019-02-01",
                "2019-03-01",
                "2019-04-01",
                "2019-05-01",
                "2019-06-01",
                "2019-07-01",
                "2019-08-01",
                "2019-09-01",
                "2019-10-01",
                "2019-11-01",
                "2019-12-01",
                "2020-01-01",
                "2020-02-01",
                "2020-03-01",
                "2020-04-01",
                "2020-05-01",
                "2020-06-01",
                "2020-07-01",
                "2020-08-01",
                "2020-09-01",
                "2020-10-01"
               ]
              ],
              "y": [
               [
                -4.85,
                -1.03,
                -0.35,
                0.35,
                -1.92,
                1.79,
                -1.44,
                -0.68,
                -1.04,
                3.73,
                -0.51,
                0.83,
                -6.56,
                -4.95,
                -3.81,
                0.53,
                8.19,
                4.84,
                2.14,
                1.88,
                1.58,
                1.21
               ]
              ]
             },
             {
              "annotations": [
               {
                "font_color": "green",
                "font_family": "Arial",
                "font_size": 14,
                "showarrow": false,
                "text": "<b>+3.26%</b>",
                "x": "2020-01-20",
                "y": 2.069174442205272
               }
              ],
              "shapes": [
               {
                "line": {
                 "color": "red",
                 "dash": "dash",
                 "width": 2
                },
                "type": "line",
                "x0": "2019-01-01",
                "x1": "2020-02-15",
                "y0": -1.1877076309671304,
                "y1": -1.1877076309671304
               },
               {
                "line": {
                 "color": "green",
                 "dash": "dash",
                 "width": 2
                },
                "type": "line",
                "x0": "2020-02-15",
                "x1": "2020-10-01",
                "y0": 2.069174442205272,
                "y1": 2.069174442205272
               },
               {
                "line": {
                 "color": "#f76d23",
                 "dash": "dot",
                 "width": 3
                },
                "type": "line",
                "x0": "2020-02-15",
                "x1": "2020-02-15",
                "y0": -7.875528533767571,
                "y1": 9.829698910988357
               }
              ],
              "title": "% Prediction error in residential consumption for USA"
             },
             [
              0
             ]
            ],
            "label": "USA",
            "method": "update",
            "visible": true
           },
           {
            "args": [
             {
              "type": "scatter",
              "x": [
               [
                "2020-10-01",
                "2020-09-01",
                "2020-08-01",
                "2020-07-01",
                "2020-06-01",
                "2020-05-01",
                "2020-04-01",
                "2020-03-01",
                "2020-02-01",
                "2020-01-01",
                "2019-12-01",
                "2019-11-01",
                "2019-10-01",
                "2019-09-01",
                "2019-08-01",
                "2019-07-01",
                "2019-06-01",
                "2019-05-01",
                "2019-04-01",
                "2019-03-01",
                "2019-02-01",
                "2019-01-01"
               ]
              ],
              "y": [
               [
                -3.13,
                -4.66,
                -0.3,
                -7.57,
                -3.73,
                1.77,
                -6.42,
                1.21,
                -7.49,
                -11.13,
                0.55,
                -3.29,
                9.71,
                0.32,
                -1.8,
                -5.67,
                3.34,
                1.06,
                2.56,
                -4.77,
                -2.36,
                -4.06
               ]
              ]
             },
             {
              "annotations": [
               {
                "font_color": "red",
                "font_family": "Arial",
                "font_size": 14,
                "showarrow": false,
                "text": "<b>-1.21%</b>",
                "x": "2020-01-20",
                "y": -2.854182682117769
               }
              ],
              "shapes": [
               {
                "line": {
                 "color": "red",
                 "dash": "dash",
                 "width": 2
                },
                "type": "line",
                "x0": "2019-01-01",
                "x1": "2020-02-15",
                "y0": -1.645095901773678,
                "y1": -1.645095901773678
               },
               {
                "line": {
                 "color": "green",
                 "dash": "dash",
                 "width": 2
                },
                "type": "line",
                "x0": "2020-02-15",
                "x1": "2020-10-01",
                "y0": -2.854182682117769,
                "y1": -2.854182682117769
               },
               {
                "line": {
                 "color": "#f76d23",
                 "dash": "dot",
                 "width": 3
                },
                "type": "line",
                "x0": "2020-02-15",
                "x1": "2020-02-15",
                "y0": -13.360393609376324,
                "y1": 11.6535872858124
               }
              ],
              "title": "% Prediction error in residential consumption for Alabama"
             },
             [
              0
             ]
            ],
            "label": "Alabama",
            "method": "update",
            "visible": true
           },
           {
            "args": [
             {
              "type": "scatter",
              "x": [
               [
                "2020-10-01",
                "2020-09-01",
                "2020-08-01",
                "2020-07-01",
                "2020-06-01",
                "2020-05-01",
                "2020-04-01",
                "2020-03-01",
                "2020-02-01",
                "2020-01-01",
                "2019-12-01",
                "2019-11-01",
                "2019-10-01",
                "2019-09-01",
                "2019-08-01",
                "2019-07-01",
                "2019-06-01",
                "2019-05-01",
                "2019-04-01",
                "2019-03-01",
                "2019-02-01",
                "2019-01-01"
               ]
              ],
              "y": [
               [
                10.72,
                3.46,
                2.5,
                6.95,
                7.52,
                14.04,
                11.41,
                1,
                0.46,
                -0.6,
                2.15,
                -0.85,
                -5.57,
                -0.31,
                -0.62,
                0.24,
                2.41,
                0.52,
                3.41,
                -0.7,
                5.55,
                -1.21
               ]
              ]
             },
             {
              "annotations": [
               {
                "font_color": "green",
                "font_family": "Arial",
                "font_size": 14,
                "showarrow": false,
                "text": "<b>+6.85%</b>",
                "x": "2020-01-20",
                "y": 7.201548663461471
               }
              ],
              "shapes": [
               {
                "line": {
                 "color": "red",
                 "dash": "dash",
                 "width": 2
                },
                "type": "line",
                "x0": "2019-01-01",
                "x1": "2020-02-15",
                "y0": 0.3489891320795015,
                "y1": 0.3489891320795015
               },
               {
                "line": {
                 "color": "green",
                 "dash": "dash",
                 "width": 2
                },
                "type": "line",
                "x0": "2020-02-15",
                "x1": "2020-10-01",
                "y0": 7.201548663461471,
                "y1": 7.201548663461471
               },
               {
                "line": {
                 "color": "#f76d23",
                 "dash": "dot",
                 "width": 3
                },
                "type": "line",
                "x0": "2020-02-15",
                "x1": "2020-02-15",
                "y0": -6.680715176299402,
                "y1": 16.85269322454332
               }
              ],
              "title": "% Prediction error in residential consumption for Arizona"
             },
             [
              0
             ]
            ],
            "label": "Arizona",
            "method": "update",
            "visible": true
           },
           {
            "args": [
             {
              "type": "scatter",
              "x": [
               [
                "2020-10-01",
                "2020-09-01",
                "2020-08-01",
                "2020-07-01",
                "2020-06-01",
                "2020-05-01",
                "2020-04-01",
                "2020-03-01",
                "2020-02-01",
                "2020-01-01",
                "2019-12-01",
                "2019-11-01",
                "2019-10-01",
                "2019-09-01",
                "2019-08-01",
                "2019-07-01",
                "2019-06-01",
                "2019-05-01",
                "2019-04-01",
                "2019-03-01",
                "2019-02-01",
                "2019-01-01"
               ]
              ],
              "y": [
               [
                -9.84,
                -2.99,
                -5.52,
                -7.65,
                -5.03,
                -1.97,
                -5.39,
                -5.03,
                -13.56,
                -6.17,
                6.64,
                0.66,
                9.59,
                -2.92,
                -5.12,
                -7.89,
                2.3,
                -6.26,
                3.22,
                1.1,
                1.08,
                -7.94
               ]
              ]
             },
             {
              "annotations": [
               {
                "font_color": "red",
                "font_family": "Arial",
                "font_size": 14,
                "showarrow": false,
                "text": "<b>-3.62%</b>",
                "x": "2020-01-20",
                "y": -5.429377667690617
               }
              ],
              "shapes": [
               {
                "line": {
                 "color": "red",
                 "dash": "dash",
                 "width": 2
                },
                "type": "line",
                "x0": "2019-01-01",
                "x1": "2020-02-15",
                "y0": -1.806448442393794,
                "y1": -1.806448442393794
               },
               {
                "line": {
                 "color": "green",
                 "dash": "dash",
                 "width": 2
                },
                "type": "line",
                "x0": "2020-02-15",
                "x1": "2020-10-01",
                "y0": -5.429377667690617,
                "y1": -5.429377667690617
               },
               {
                "line": {
                 "color": "#f76d23",
                 "dash": "dot",
                 "width": 3
                },
                "type": "line",
                "x0": "2020-02-15",
                "x1": "2020-02-15",
                "y0": -16.268793194957112,
                "y1": 11.504662102164902
               }
              ],
              "title": "% Prediction error in residential consumption for Arkansas"
             },
             [
              0
             ]
            ],
            "label": "Arkansas",
            "method": "update",
            "visible": true
           },
           {
            "args": [
             {
              "type": "scatter",
              "x": [
               [
                "2020-10-01",
                "2020-09-01",
                "2020-08-01",
                "2020-07-01",
                "2020-06-01",
                "2020-05-01",
                "2020-04-01",
                "2020-03-01",
                "2020-02-01",
                "2020-01-01",
                "2019-12-01",
                "2019-11-01",
                "2019-10-01",
                "2019-09-01",
                "2019-08-01",
                "2019-07-01",
                "2019-06-01",
                "2019-05-01",
                "2019-04-01",
                "2019-03-01",
                "2019-02-01",
                "2019-01-01"
               ]
              ],
              "y": [
               [
                13.05,
                3.31,
                3.56,
                13.09,
                10.17,
                15.88,
                -9.16,
                -9.22,
                -17.51,
                -2.25,
                4.02,
                -4.95,
                -6.05,
                2.17,
                6.06,
                3,
                -4.58,
                6.06,
                -12.87,
                2.72,
                -0.57,
                4.93
               ]
              ]
             },
             {
              "annotations": [
               {
                "font_color": "green",
                "font_family": "Arial",
                "font_size": 14,
                "showarrow": false,
                "text": "<b>+6.5%</b>",
                "x": "2020-01-20",
                "y": 5.086162506238081
               }
              ],
              "shapes": [
               {
                "line": {
                 "color": "red",
                 "dash": "dash",
                 "width": 2
                },
                "type": "line",
                "x0": "2019-01-01",
                "x1": "2020-02-15",
                "y0": -1.4154681483741303,
                "y1": -1.4154681483741303
               },
               {
                "line": {
                 "color": "green",
                 "dash": "dash",
                 "width": 2
                },
                "type": "line",
                "x0": "2020-02-15",
                "x1": "2020-10-01",
                "y0": 5.086162506238081,
                "y1": 5.086162506238081
               },
               {
                "line": {
                 "color": "#f76d23",
                 "dash": "dot",
                 "width": 3
                },
                "type": "line",
                "x0": "2020-02-15",
                "x1": "2020-02-15",
                "y0": -21.014892525123102,
                "y1": 19.06147235755068
               }
              ],
              "title": "% Prediction error in residential consumption for California"
             },
             [
              0
             ]
            ],
            "label": "California",
            "method": "update",
            "visible": true
           },
           {
            "args": [
             {
              "type": "scatter",
              "x": [
               [
                "2020-10-01",
                "2020-09-01",
                "2020-08-01",
                "2020-07-01",
                "2020-06-01",
                "2020-05-01",
                "2020-04-01",
                "2020-03-01",
                "2020-02-01",
                "2020-01-01",
                "2019-12-01",
                "2019-11-01",
                "2019-10-01",
                "2019-09-01",
                "2019-08-01",
                "2019-07-01",
                "2019-06-01",
                "2019-05-01",
                "2019-04-01",
                "2019-03-01",
                "2019-02-01",
                "2019-01-01"
               ]
              ],
              "y": [
               [
                4.59,
                4.17,
                4.31,
                7.63,
                12.89,
                4.84,
                1.04,
                -1.81,
                -3.87,
                -4.67,
                -2.63,
                0.21,
                -1.82,
                2.98,
                3.92,
                0.26,
                -2.37,
                3.6,
                -1.55,
                1.71,
                -4.58,
                -4.44
               ]
              ]
             },
             {
              "annotations": [
               {
                "font_color": "green",
                "font_family": "Arial",
                "font_size": 14,
                "showarrow": false,
                "text": "<b>+5.65%</b>",
                "x": "2020-01-20",
                "y": 4.707764519095917
               }
              ],
              "shapes": [
               {
                "line": {
                 "color": "red",
                 "dash": "dash",
                 "width": 2
                },
                "type": "line",
                "x0": "2019-01-01",
                "x1": "2020-02-15",
                "y0": -0.9454520013730575,
                "y1": -0.9454520013730575
               },
               {
                "line": {
                 "color": "green",
                 "dash": "dash",
                 "width": 2
                },
                "type": "line",
                "x0": "2020-02-15",
                "x1": "2020-10-01",
                "y0": 4.707764519095917,
                "y1": 4.707764519095917
               },
               {
                "line": {
                 "color": "#f76d23",
                 "dash": "dot",
                 "width": 3
                },
                "type": "line",
                "x0": "2020-02-15",
                "x1": "2020-02-15",
                "y0": -5.599270455224186,
                "y1": 15.470059013240373
               }
              ],
              "title": "% Prediction error in residential consumption for Colorado"
             },
             [
              0
             ]
            ],
            "label": "Colorado",
            "method": "update",
            "visible": true
           },
           {
            "args": [
             {
              "type": "scatter",
              "x": [
               [
                "2020-10-01",
                "2020-09-01",
                "2020-08-01",
                "2020-07-01",
                "2020-06-01",
                "2020-05-01",
                "2020-04-01",
                "2020-03-01",
                "2020-02-01",
                "2020-01-01",
                "2019-12-01",
                "2019-11-01",
                "2019-10-01",
                "2019-09-01",
                "2019-08-01",
                "2019-07-01",
                "2019-06-01",
                "2019-05-01",
                "2019-04-01",
                "2019-03-01",
                "2019-02-01",
                "2019-01-01"
               ]
              ],
              "y": [
               [
                4.62,
                -7.62,
                5.71,
                8.97,
                13.94,
                9.82,
                -1.14,
                -6.17,
                -9.54,
                -4,
                12.09,
                -9.49,
                -1.56,
                -16.69,
                2.88,
                6.12,
                2.7,
                -0.57,
                -8.74,
                -2.78,
                -4.26,
                -2.66
               ]
              ]
             },
             {
              "annotations": [
               {
                "font_color": "green",
                "font_family": "Arial",
                "font_size": 14,
                "showarrow": false,
                "text": "<b>+6.12%</b>",
                "x": "2020-01-20",
                "y": 3.5147524118888662
               }
              ],
              "shapes": [
               {
                "line": {
                 "color": "red",
                 "dash": "dash",
                 "width": 2
                },
                "type": "line",
                "x0": "2019-01-01",
                "x1": "2020-02-15",
                "y0": -2.605855093808646,
                "y1": -2.605855093808646
               },
               {
                "line": {
                 "color": "green",
                 "dash": "dash",
                 "width": 2
                },
                "type": "line",
                "x0": "2020-02-15",
                "x1": "2020-10-01",
                "y0": 3.5147524118888662,
                "y1": 3.5147524118888662
               },
               {
                "line": {
                 "color": "#f76d23",
                 "dash": "dot",
                 "width": 3
                },
                "type": "line",
                "x0": "2020-02-15",
                "x1": "2020-02-15",
                "y0": -20.022039339483666,
                "y1": 16.732600400402955
               }
              ],
              "title": "% Prediction error in residential consumption for Connecticut"
             },
             [
              0
             ]
            ],
            "label": "Connecticut",
            "method": "update",
            "visible": true
           },
           {
            "args": [
             {
              "type": "scatter",
              "x": [
               [
                "2020-10-01",
                "2020-09-01",
                "2020-08-01",
                "2020-07-01",
                "2020-06-01",
                "2020-05-01",
                "2020-04-01",
                "2020-03-01",
                "2020-02-01",
                "2020-01-01",
                "2019-12-01",
                "2019-11-01",
                "2019-10-01",
                "2019-09-01",
                "2019-08-01",
                "2019-07-01",
                "2019-06-01",
                "2019-05-01",
                "2019-04-01",
                "2019-03-01",
                "2019-02-01",
                "2019-01-01"
               ]
              ],
              "y": [
               [
                0.61,
                8.53,
                -3.67,
                -5.23,
                -7.46,
                29.84,
                -1.06,
                -13.4,
                -8.31,
                3.45,
                -1.29,
                4.13,
                2.79,
                -5.43,
                -3.42,
                -3.6,
                -2.25,
                -2.91,
                -1.07,
                6.92,
                6.79,
                -2.98
               ]
              ]
             },
             {
              "annotations": [
               {
                "font_color": "green",
                "font_family": "Arial",
                "font_size": 14,
                "showarrow": false,
                "text": "<b>+1.53%</b>",
                "x": "2020-01-20",
                "y": 1.020865645017106
               }
              ],
              "shapes": [
               {
                "line": {
                 "color": "red",
                 "dash": "dash",
                 "width": 2
                },
                "type": "line",
                "x0": "2019-01-01",
                "x1": "2020-02-15",
                "y0": -0.512868509591627,
                "y1": -0.512868509591627
               },
               {
                "line": {
                 "color": "green",
                 "dash": "dash",
                 "width": 2
                },
                "type": "line",
                "x0": "2020-02-15",
                "x1": "2020-10-01",
                "y0": 1.020865645017106,
                "y1": 1.020865645017106
               },
               {
                "line": {
                 "color": "#f76d23",
                 "dash": "dot",
                 "width": 3
                },
                "type": "line",
                "x0": "2020-02-15",
                "x1": "2020-02-15",
                "y0": -16.07997793602979,
                "y1": 35.81256704107117
               }
              ],
              "title": "% Prediction error in residential consumption for District of Columbia"
             },
             [
              0
             ]
            ],
            "label": "District of Columbia",
            "method": "update",
            "visible": true
           },
           {
            "args": [
             {
              "type": "scatter",
              "x": [
               [
                "2020-10-01",
                "2020-09-01",
                "2020-08-01",
                "2020-07-01",
                "2020-06-01",
                "2020-05-01",
                "2020-04-01",
                "2020-03-01",
                "2020-02-01",
                "2020-01-01",
                "2019-12-01",
                "2019-11-01",
                "2019-10-01",
                "2019-09-01",
                "2019-08-01",
                "2019-07-01",
                "2019-06-01",
                "2019-05-01",
                "2019-04-01",
                "2019-03-01",
                "2019-02-01",
                "2019-01-01"
               ]
              ],
              "y": [
               [
                -1.43,
                13.07,
                3.1,
                1.89,
                7.45,
                17.77,
                -3.64,
                -7.03,
                -14.03,
                -13.74,
                7.2,
                -0.42,
                -3.77,
                -8.05,
                2.32,
                -2.5,
                5.56,
                -7.94,
                -2.83,
                0.55,
                3.08,
                -5.43
               ]
              ]
             },
             {
              "annotations": [
               {
                "font_color": "green",
                "font_family": "Arial",
                "font_size": 14,
                "showarrow": false,
                "text": "<b>+6.75%</b>",
                "x": "2020-01-20",
                "y": 3.8970662193783454
               }
              ],
              "shapes": [
               {
                "line": {
                 "color": "red",
                 "dash": "dash",
                 "width": 2
                },
                "type": "line",
                "x0": "2019-01-01",
                "x1": "2020-02-15",
                "y0": -2.856290046323761,
                "y1": -2.856290046323761
               },
               {
                "line": {
                 "color": "green",
                 "dash": "dash",
                 "width": 2
                },
                "type": "line",
                "x0": "2020-02-15",
                "x1": "2020-10-01",
                "y0": 3.8970662193783454,
                "y1": 3.8970662193783454
               },
               {
                "line": {
                 "color": "#f76d23",
                 "dash": "dot",
                 "width": 3
                },
                "type": "line",
                "x0": "2020-02-15",
                "x1": "2020-02-15",
                "y0": -16.837757666064686,
                "y1": 21.319221593280904
               }
              ],
              "title": "% Prediction error in residential consumption for Delaware"
             },
             [
              0
             ]
            ],
            "label": "Delaware",
            "method": "update",
            "visible": true
           },
           {
            "args": [
             {
              "type": "scatter",
              "x": [
               [
                "2020-10-01",
                "2020-09-01",
                "2020-08-01",
                "2020-07-01",
                "2020-06-01",
                "2020-05-01",
                "2020-04-01",
                "2020-03-01",
                "2020-02-01",
                "2020-01-01",
                "2019-12-01",
                "2019-11-01",
                "2019-10-01",
                "2019-09-01",
                "2019-08-01",
                "2019-07-01",
                "2019-06-01",
                "2019-05-01",
                "2019-04-01",
                "2019-03-01",
                "2019-02-01",
                "2019-01-01"
               ]
              ],
              "y": [
               [
                2.26,
                0.41,
                2.61,
                0.41,
                3.78,
                7.98,
                9.36,
                3.36,
                -7.64,
                -11.23,
                -2.51,
                1.81,
                3.54,
                -1.58,
                -3.47,
                -1.76,
                5.29,
                1.44,
                2.13,
                0.12,
                0.29,
                -8.04
               ]
              ]
             },
             {
              "annotations": [
               {
                "font_color": "green",
                "font_family": "Arial",
                "font_size": 14,
                "showarrow": false,
                "text": "<b>+5.32%</b>",
                "x": "2020-01-20",
                "y": 3.7720918535561956
               }
              ],
              "shapes": [
               {
                "line": {
                 "color": "red",
                 "dash": "dash",
                 "width": 2
                },
                "type": "line",
                "x0": "2019-01-01",
                "x1": "2020-02-15",
                "y0": -1.543584829145227,
                "y1": -1.543584829145227
               },
               {
                "line": {
                 "color": "green",
                 "dash": "dash",
                 "width": 2
                },
                "type": "line",
                "x0": "2020-02-15",
                "x1": "2020-10-01",
                "y0": 3.7720918535561956,
                "y1": 3.7720918535561956
               },
               {
                "line": {
                 "color": "#f76d23",
                 "dash": "dot",
                 "width": 3
                },
                "type": "line",
                "x0": "2020-02-15",
                "x1": "2020-02-15",
                "y0": -13.475739347481467,
                "y1": 11.236150611511919
               }
              ],
              "title": "% Prediction error in residential consumption for Florida"
             },
             [
              0
             ]
            ],
            "label": "Florida",
            "method": "update",
            "visible": true
           },
           {
            "args": [
             {
              "type": "scatter",
              "x": [
               [
                "2020-10-01",
                "2020-09-01",
                "2020-08-01",
                "2020-07-01",
                "2020-06-01",
                "2020-05-01",
                "2020-04-01",
                "2020-03-01",
                "2020-02-01",
                "2020-01-01",
                "2019-12-01",
                "2019-11-01",
                "2019-10-01",
                "2019-09-01",
                "2019-08-01",
                "2019-07-01",
                "2019-06-01",
                "2019-05-01",
                "2019-04-01",
                "2019-03-01",
                "2019-02-01",
                "2019-01-01"
               ]
              ],
              "y": [
               [
                -5.98,
                -4.72,
                -3.87,
                -4.56,
                -2.38,
                5.7,
                -8.31,
                1.49,
                -2.43,
                -8.32,
                1,
                0.31,
                3.76,
                2.09,
                -1.11,
                -5.66,
                -0.49,
                2.24,
                3.77,
                -2.99,
                -2.3,
                -3.99
               ]
              ]
             },
             {
              "annotations": [
               {
                "font_color": "red",
                "font_family": "Arial",
                "font_size": 14,
                "showarrow": false,
                "text": "<b>-1.82%</b>",
                "x": "2020-01-20",
                "y": -2.8288865970601536
               }
              ],
              "shapes": [
               {
                "line": {
                 "color": "red",
                 "dash": "dash",
                 "width": 2
                },
                "type": "line",
                "x0": "2019-01-01",
                "x1": "2020-02-15",
                "y0": -1.010134998379198,
                "y1": -1.010134998379198
               },
               {
                "line": {
                 "color": "green",
                 "dash": "dash",
                 "width": 2
                },
                "type": "line",
                "x0": "2020-02-15",
                "x1": "2020-10-01",
                "y0": -2.8288865970601536,
                "y1": -2.8288865970601536
               },
               {
                "line": {
                 "color": "#f76d23",
                 "dash": "dot",
                 "width": 3
                },
                "type": "line",
                "x0": "2020-02-15",
                "x1": "2020-02-15",
                "y0": -9.980081062943201,
                "y1": 6.8435321010065016
               }
              ],
              "title": "% Prediction error in residential consumption for Georgia"
             },
             [
              0
             ]
            ],
            "label": "Georgia",
            "method": "update",
            "visible": true
           },
           {
            "args": [
             {
              "type": "scatter",
              "x": [
               [
                "2020-10-01",
                "2020-09-01",
                "2020-08-01",
                "2020-07-01",
                "2020-06-01",
                "2020-05-01",
                "2020-04-01",
                "2020-03-01",
                "2020-02-01",
                "2020-01-01",
                "2019-12-01",
                "2019-11-01",
                "2019-10-01",
                "2019-09-01",
                "2019-08-01",
                "2019-07-01",
                "2019-06-01",
                "2019-05-01",
                "2019-04-01",
                "2019-03-01",
                "2019-02-01",
                "2019-01-01"
               ]
              ],
              "y": [
               [
                1.03,
                1.83,
                -1.02,
                1.96,
                6.41,
                3.43,
                3.88,
                -1.27,
                -2.5,
                -7.11,
                -4.8,
                3.15,
                4.85,
                3.38,
                0.95,
                -0.69,
                5.49,
                -1.17,
                -1.06,
                1.97,
                0.24,
                -5.22
               ]
              ]
             },
             {
              "annotations": [
               {
                "font_color": "green",
                "font_family": "Arial",
                "font_size": 14,
                "showarrow": false,
                "text": "<b>+2.21%</b>",
                "x": "2020-01-20",
                "y": 2.031607298132212
               }
              ],
              "shapes": [
               {
                "line": {
                 "color": "red",
                 "dash": "dash",
                 "width": 2
                },
                "type": "line",
                "x0": "2019-01-01",
                "x1": "2020-02-15",
                "y0": -0.18191526937183244,
                "y1": -0.18191526937183244
               },
               {
                "line": {
                 "color": "green",
                 "dash": "dash",
                 "width": 2
                },
                "type": "line",
                "x0": "2020-02-15",
                "x1": "2020-10-01",
                "y0": 2.031607298132212,
                "y1": 2.031607298132212
               },
               {
                "line": {
                 "color": "#f76d23",
                 "dash": "dot",
                 "width": 3
                },
                "type": "line",
                "x0": "2020-02-15",
                "x1": "2020-02-15",
                "y0": -8.526747987741754,
                "y1": 7.696897482889176
               }
              ],
              "title": "% Prediction error in residential consumption for Idaho"
             },
             [
              0
             ]
            ],
            "label": "Idaho",
            "method": "update",
            "visible": true
           },
           {
            "args": [
             {
              "type": "scatter",
              "x": [
               [
                "2020-10-01",
                "2020-09-01",
                "2020-08-01",
                "2020-07-01",
                "2020-06-01",
                "2020-05-01",
                "2020-04-01",
                "2020-03-01",
                "2020-02-01",
                "2020-01-01",
                "2019-12-01",
                "2019-11-01",
                "2019-10-01",
                "2019-09-01",
                "2019-08-01",
                "2019-07-01",
                "2019-06-01",
                "2019-05-01",
                "2019-04-01",
                "2019-03-01",
                "2019-02-01",
                "2019-01-01"
               ]
              ],
              "y": [
               [
                5.76,
                1.11,
                8.49,
                4.08,
                10.46,
                15.93,
                1.28,
                0.93,
                0.09,
                -2.71,
                -0.04,
                0.13,
                5.36,
                -1.82,
                -1.65,
                -0.66,
                0.2,
                -0.91,
                -0.94,
                2.57,
                -0.3,
                -2.97
               ]
              ]
             },
             {
              "annotations": [
               {
                "font_color": "green",
                "font_family": "Arial",
                "font_size": 14,
                "showarrow": false,
                "text": "<b>+6.26%</b>",
                "x": "2020-01-20",
                "y": 6.0037322025617765
               }
              ],
              "shapes": [
               {
                "line": {
                 "color": "red",
                 "dash": "dash",
                 "width": 2
                },
                "type": "line",
                "x0": "2019-01-01",
                "x1": "2020-02-15",
                "y0": -0.26069970090095274,
                "y1": -0.26069970090095274
               },
               {
                "line": {
                 "color": "green",
                 "dash": "dash",
                 "width": 2
                },
                "type": "line",
                "x0": "2020-02-15",
                "x1": "2020-10-01",
                "y0": 6.0037322025617765,
                "y1": 6.0037322025617765
               },
               {
                "line": {
                 "color": "#f76d23",
                 "dash": "dot",
                 "width": 3
                },
                "type": "line",
                "x0": "2020-02-15",
                "x1": "2020-02-15",
                "y0": -3.5612696504505466,
                "y1": 19.11783531892254
               }
              ],
              "title": "% Prediction error in residential consumption for Illinois"
             },
             [
              0
             ]
            ],
            "label": "Illinois",
            "method": "update",
            "visible": true
           },
           {
            "args": [
             {
              "type": "scatter",
              "x": [
               [
                "2020-10-01",
                "2020-09-01",
                "2020-08-01",
                "2020-07-01",
                "2020-06-01",
                "2020-05-01",
                "2020-04-01",
                "2020-03-01",
                "2020-02-01",
                "2020-01-01",
                "2019-12-01",
                "2019-11-01",
                "2019-10-01",
                "2019-09-01",
                "2019-08-01",
                "2019-07-01",
                "2019-06-01",
                "2019-05-01",
                "2019-04-01",
                "2019-03-01",
                "2019-02-01",
                "2019-01-01"
               ]
              ],
              "y": [
               [
                1.45,
                4.15,
                1.05,
                -5.01,
                1.64,
                6.22,
                0.92,
                -1.99,
                -6,
                -9.83,
                -1.61,
                -3.09,
                5.65,
                2.99,
                3.15,
                -5.91,
                0.7,
                -0.35,
                2.58,
                0.14,
                -0.36,
                -8.23
               ]
              ]
             },
             {
              "annotations": [
               {
                "font_color": "green",
                "font_family": "Arial",
                "font_size": 14,
                "showarrow": false,
                "text": "<b>+2.49%</b>",
                "x": "2020-01-20",
                "y": 1.0551966322652202
               }
              ],
              "shapes": [
               {
                "line": {
                 "color": "red",
                 "dash": "dash",
                 "width": 2
                },
                "type": "line",
                "x0": "2019-01-01",
                "x1": "2020-02-15",
                "y0": -1.4397313493482073,
                "y1": -1.4397313493482073
               },
               {
                "line": {
                 "color": "green",
                 "dash": "dash",
                 "width": 2
                },
                "type": "line",
                "x0": "2020-02-15",
                "x1": "2020-10-01",
                "y0": 1.0551966322652202,
                "y1": 1.0551966322652202
               },
               {
                "line": {
                 "color": "#f76d23",
                 "dash": "dot",
                 "width": 3
                },
                "type": "line",
                "x0": "2020-02-15",
                "x1": "2020-02-15",
                "y0": -11.797484936067441,
                "y1": 7.4694215558741455
               }
              ],
              "title": "% Prediction error in residential consumption for Indiana"
             },
             [
              0
             ]
            ],
            "label": "Indiana",
            "method": "update",
            "visible": true
           },
           {
            "args": [
             {
              "type": "scatter",
              "x": [
               [
                "2020-10-01",
                "2020-09-01",
                "2020-08-01",
                "2020-07-01",
                "2020-06-01",
                "2020-05-01",
                "2020-04-01",
                "2020-03-01",
                "2020-02-01",
                "2020-01-01",
                "2019-12-01",
                "2019-11-01",
                "2019-10-01",
                "2019-09-01",
                "2019-08-01",
                "2019-07-01",
                "2019-06-01",
                "2019-05-01",
                "2019-04-01",
                "2019-03-01",
                "2019-02-01",
                "2019-01-01"
               ]
              ],
              "y": [
               [
                0.02,
                6.87,
                4.35,
                0.71,
                2.9,
                3.88,
                2.19,
                -4.51,
                -3.97,
                -4.6,
                -0.62,
                -3.49,
                6.93,
                -6.15,
                1.25,
                1.23,
                -1.58,
                1.01,
                -9.08,
                7.39,
                5.1,
                -4.59
               ]
              ]
             },
             {
              "annotations": [
               {
                "font_color": "green",
                "font_family": "Arial",
                "font_size": 14,
                "showarrow": false,
                "text": "<b>+2.85%</b>",
                "x": "2020-01-20",
                "y": 2.053414934418601
               }
              ],
              "shapes": [
               {
                "line": {
                 "color": "red",
                 "dash": "dash",
                 "width": 2
                },
                "type": "line",
                "x0": "2019-01-01",
                "x1": "2020-02-15",
                "y0": -0.7973864531455899,
                "y1": -0.7973864531455899
               },
               {
                "line": {
                 "color": "green",
                 "dash": "dash",
                 "width": 2
                },
                "type": "line",
                "x0": "2020-02-15",
                "x1": "2020-10-01",
                "y0": 2.053414934418601,
                "y1": 2.053414934418601
               },
               {
                "line": {
                 "color": "#f76d23",
                 "dash": "dot",
                 "width": 3
                },
                "type": "line",
                "x0": "2020-02-15",
                "x1": "2020-02-15",
                "y0": -10.899872924425997,
                "y1": 8.867041282767753
               }
              ],
              "title": "% Prediction error in residential consumption for Iowa"
             },
             [
              0
             ]
            ],
            "label": "Iowa",
            "method": "update",
            "visible": true
           },
           {
            "args": [
             {
              "type": "scatter",
              "x": [
               [
                "2020-10-01",
                "2020-09-01",
                "2020-08-01",
                "2020-07-01",
                "2020-06-01",
                "2020-05-01",
                "2020-04-01",
                "2020-03-01",
                "2020-02-01",
                "2020-01-01",
                "2019-12-01",
                "2019-11-01",
                "2019-10-01",
                "2019-09-01",
                "2019-08-01",
                "2019-07-01",
                "2019-06-01",
                "2019-05-01",
                "2019-04-01",
                "2019-03-01",
                "2019-02-01",
                "2019-01-01"
               ]
              ],
              "y": [
               [
                6.92,
                1.29,
                -1.84,
                -2.94,
                0.46,
                1.19,
                4.61,
                -1.77,
                -3.47,
                -11.67,
                -1.7,
                -0.72,
                5.59,
                5.3,
                -0.12,
                -5.9,
                -1.19,
                1.46,
                1.64,
                -1.56,
                1.77,
                -7.55
               ]
              ]
             },
             {
              "annotations": [
               {
                "font_color": "green",
                "font_family": "Arial",
                "font_size": 14,
                "showarrow": false,
                "text": "<b>+2.28%</b>",
                "x": "2020-01-20",
                "y": 0.9889068760007282
               }
              ],
              "shapes": [
               {
                "line": {
                 "color": "red",
                 "dash": "dash",
                 "width": 2
                },
                "type": "line",
                "x0": "2019-01-01",
                "x1": "2020-02-15",
                "y0": -1.2933435234181805,
                "y1": -1.2933435234181805
               },
               {
                "line": {
                 "color": "green",
                 "dash": "dash",
                 "width": 2
                },
                "type": "line",
                "x0": "2020-02-15",
                "x1": "2020-10-01",
                "y0": 0.9889068760007282,
                "y1": 0.9889068760007282
               },
               {
                "line": {
                 "color": "#f76d23",
                 "dash": "dot",
                 "width": 3
                },
                "type": "line",
                "x0": "2020-02-15",
                "x1": "2020-02-15",
                "y0": -14.000545059562706,
                "y1": 8.303979939233447
               }
              ],
              "title": "% Prediction error in residential consumption for Kansas"
             },
             [
              0
             ]
            ],
            "label": "Kansas",
            "method": "update",
            "visible": true
           },
           {
            "args": [
             {
              "type": "scatter",
              "x": [
               [
                "2020-10-01",
                "2020-09-01",
                "2020-08-01",
                "2020-07-01",
                "2020-06-01",
                "2020-05-01",
                "2020-04-01",
                "2020-03-01",
                "2020-02-01",
                "2020-01-01",
                "2019-12-01",
                "2019-11-01",
                "2019-10-01",
                "2019-09-01",
                "2019-08-01",
                "2019-07-01",
                "2019-06-01",
                "2019-05-01",
                "2019-04-01",
                "2019-03-01",
                "2019-02-01",
                "2019-01-01"
               ]
              ],
              "y": [
               [
                3.64,
                0.48,
                1.32,
                1.21,
                4.73,
                8.83,
                -5.26,
                -2,
                -6.61,
                -9.83,
                1.63,
                -2.61,
                5.5,
                -4.01,
                0,
                0.61,
                3.25,
                -5.47,
                -0.37,
                0.61,
                0.03,
                -4.57
               ]
              ]
             },
             {
              "annotations": [
               {
                "font_color": "green",
                "font_family": "Arial",
                "font_size": 14,
                "showarrow": false,
                "text": "<b>+3.18%</b>",
                "x": "2020-01-20",
                "y": 1.617105212378532
               }
              ],
              "shapes": [
               {
                "line": {
                 "color": "red",
                 "dash": "dash",
                 "width": 2
                },
                "type": "line",
                "x0": "2019-01-01",
                "x1": "2020-02-15",
                "y0": -1.5611084001621645,
                "y1": -1.5611084001621645
               },
               {
                "line": {
                 "color": "green",
                 "dash": "dash",
                 "width": 2
                },
                "type": "line",
                "x0": "2020-02-15",
                "x1": "2020-10-01",
                "y0": 1.617105212378532,
                "y1": 1.617105212378532
               },
               {
                "line": {
                 "color": "#f76d23",
                 "dash": "dot",
                 "width": 3
                },
                "type": "line",
                "x0": "2020-02-15",
                "x1": "2020-02-15",
                "y0": -11.793532364937816,
                "y1": 10.59737008967367
               }
              ],
              "title": "% Prediction error in residential consumption for Kentucky"
             },
             [
              0
             ]
            ],
            "label": "Kentucky",
            "method": "update",
            "visible": true
           },
           {
            "args": [
             {
              "type": "scatter",
              "x": [
               [
                "2020-10-01",
                "2020-09-01",
                "2020-08-01",
                "2020-07-01",
                "2020-06-01",
                "2020-05-01",
                "2020-04-01",
                "2020-03-01",
                "2020-02-01",
                "2020-01-01",
                "2019-12-01",
                "2019-11-01",
                "2019-10-01",
                "2019-09-01",
                "2019-08-01",
                "2019-07-01",
                "2019-06-01",
                "2019-05-01",
                "2019-04-01",
                "2019-03-01",
                "2019-02-01",
                "2019-01-01"
               ]
              ],
              "y": [
               [
                -9.52,
                -0.02,
                -0.65,
                -3.34,
                0.7,
                4.06,
                7.58,
                0.94,
                -14.05,
                -6.21,
                4.97,
                -2.32,
                6.42,
                -1.3,
                -5.07,
                -1.78,
                6.48,
                -2.28,
                1.21,
                -5.74,
                -2.84,
                -8
               ]
              ]
             },
             {
              "annotations": [
               {
                "font_color": "green",
                "font_family": "Arial",
                "font_size": 14,
                "showarrow": false,
                "text": "<b>+2.15%</b>",
                "x": "2020-01-20",
                "y": -0.03188652126883529
               }
              ],
              "shapes": [
               {
                "line": {
                 "color": "red",
                 "dash": "dash",
                 "width": 2
                },
                "type": "line",
                "x0": "2019-01-01",
                "x1": "2020-02-15",
                "y0": -2.177641653134585,
                "y1": -2.177641653134585
               },
               {
                "line": {
                 "color": "green",
                 "dash": "dash",
                 "width": 2
                },
                "type": "line",
                "x0": "2020-02-15",
                "x1": "2020-10-01",
                "y0": -0.03188652126883529,
                "y1": -0.03188652126883529
               },
               {
                "line": {
                 "color": "#f76d23",
                 "dash": "dot",
                 "width": 3
                },
                "type": "line",
                "x0": "2020-02-15",
                "x1": "2020-02-15",
                "y0": -16.861892386285337,
                "y1": 9.0926184178834
               }
              ],
              "title": "% Prediction error in residential consumption for Louisiana"
             },
             [
              0
             ]
            ],
            "label": "Louisiana",
            "method": "update",
            "visible": true
           },
           {
            "args": [
             {
              "type": "scatter",
              "x": [
               [
                "2020-10-01",
                "2020-09-01",
                "2020-08-01",
                "2020-07-01",
                "2020-06-01",
                "2020-05-01",
                "2020-04-01",
                "2020-03-01",
                "2020-02-01",
                "2020-01-01",
                "2019-12-01",
                "2019-11-01",
                "2019-10-01",
                "2019-09-01",
                "2019-08-01",
                "2019-07-01",
                "2019-06-01",
                "2019-05-01",
                "2019-04-01",
                "2019-03-01",
                "2019-02-01",
                "2019-01-01"
               ]
              ],
              "y": [
               [
                4.15,
                4.72,
                13.03,
                5.11,
                2.12,
                8.99,
                7.52,
                2.25,
                4.37,
                -2.47,
                -2.92,
                3.93,
                -2.98,
                0.32,
                -0.69,
                -9.38,
                -3.8,
                2.71,
                2.79,
                1.3,
                11.42,
                -3.62
               ]
              ]
             },
             {
              "annotations": [
               {
                "font_color": "green",
                "font_family": "Arial",
                "font_size": 14,
                "showarrow": false,
                "text": "<b>+5.92%</b>",
                "x": "2020-01-20",
                "y": 5.986242872035467
               }
              ],
              "shapes": [
               {
                "line": {
                 "color": "red",
                 "dash": "dash",
                 "width": 2
                },
                "type": "line",
                "x0": "2019-01-01",
                "x1": "2020-02-15",
                "y0": 0.0699111156758047,
                "y1": 0.0699111156758047
               },
               {
                "line": {
                 "color": "green",
                 "dash": "dash",
                 "width": 2
                },
                "type": "line",
                "x0": "2020-02-15",
                "x1": "2020-10-01",
                "y0": 5.986242872035467,
                "y1": 5.986242872035467
               },
               {
                "line": {
                 "color": "#f76d23",
                 "dash": "dot",
                 "width": 3
                },
                "type": "line",
                "x0": "2020-02-15",
                "x1": "2020-02-15",
                "y0": -11.252118472307712,
                "y1": 15.641655843818082
               }
              ],
              "title": "% Prediction error in residential consumption for Maine"
             },
             [
              0
             ]
            ],
            "label": "Maine",
            "method": "update",
            "visible": true
           },
           {
            "args": [
             {
              "type": "scatter",
              "x": [
               [
                "2020-10-01",
                "2020-09-01",
                "2020-08-01",
                "2020-07-01",
                "2020-06-01",
                "2020-05-01",
                "2020-04-01",
                "2020-03-01",
                "2020-02-01",
                "2020-01-01",
                "2019-12-01",
                "2019-11-01",
                "2019-10-01",
                "2019-09-01",
                "2019-08-01",
                "2019-07-01",
                "2019-06-01",
                "2019-05-01",
                "2019-04-01",
                "2019-03-01",
                "2019-02-01",
                "2019-01-01"
               ]
              ],
              "y": [
               [
                -5.44,
                2.99,
                5.01,
                7.22,
                9.94,
                12.05,
                -1.83,
                -6.88,
                -6.31,
                -4.22,
                6.5,
                0.72,
                -8.81,
                -7.37,
                -0.68,
                1.51,
                2.34,
                -6.51,
                -6.29,
                0.84,
                3.57,
                2.7
               ]
              ]
             },
             {
              "annotations": [
               {
                "font_color": "green",
                "font_family": "Arial",
                "font_size": 14,
                "showarrow": false,
                "text": "<b>+4.45%</b>",
                "x": "2020-01-20",
                "y": 2.8815511456968146
               }
              ],
              "shapes": [
               {
                "line": {
                 "color": "red",
                 "dash": "dash",
                 "width": 2
                },
                "type": "line",
                "x0": "2019-01-01",
                "x1": "2020-02-15",
                "y0": -1.572059135128028,
                "y1": -1.572059135128028
               },
               {
                "line": {
                 "color": "green",
                 "dash": "dash",
                 "width": 2
                },
                "type": "line",
                "x0": "2020-02-15",
                "x1": "2020-10-01",
                "y0": 2.8815511456968146,
                "y1": 2.8815511456968146
               },
               {
                "line": {
                 "color": "#f76d23",
                 "dash": "dot",
                 "width": 3
                },
                "type": "line",
                "x0": "2020-02-15",
                "x1": "2020-02-15",
                "y0": -10.574728441396603,
                "y1": 14.454243917406881
               }
              ],
              "title": "% Prediction error in residential consumption for Maryland"
             },
             [
              0
             ]
            ],
            "label": "Maryland",
            "method": "update",
            "visible": true
           },
           {
            "args": [
             {
              "type": "scatter",
              "x": [
               [
                "2020-10-01",
                "2020-09-01",
                "2020-08-01",
                "2020-07-01",
                "2020-06-01",
                "2020-05-01",
                "2020-04-01",
                "2020-03-01",
                "2020-02-01",
                "2020-01-01",
                "2019-12-01",
                "2019-11-01",
                "2019-10-01",
                "2019-09-01",
                "2019-08-01",
                "2019-07-01",
                "2019-06-01",
                "2019-05-01",
                "2019-04-01",
                "2019-03-01",
                "2019-02-01",
                "2019-01-01"
               ]
              ],
              "y": [
               [
                10.42,
                11.93,
                13.17,
                4.85,
                7.66,
                12.15,
                4.99,
                -1.54,
                -5.02,
                -1.2,
                0.28,
                -2.15,
                2.89,
                -1.83,
                4.91,
                -3.48,
                -3.02,
                -0.41,
                -0.65,
                -2.74,
                0.67,
                -2.65
               ]
              ]
             },
             {
              "annotations": [
               {
                "font_color": "green",
                "font_family": "Arial",
                "font_size": 14,
                "showarrow": false,
                "text": "<b>+8.98%</b>",
                "x": "2020-01-20",
                "y": 7.953999548963575
               }
              ],
              "shapes": [
               {
                "line": {
                 "color": "red",
                 "dash": "dash",
                 "width": 2
                },
                "type": "line",
                "x0": "2019-01-01",
                "x1": "2020-02-15",
                "y0": -1.0288967061546967,
                "y1": -1.0288967061546967
               },
               {
                "line": {
                 "color": "green",
                 "dash": "dash",
                 "width": 2
                },
                "type": "line",
                "x0": "2020-02-15",
                "x1": "2020-10-01",
                "y0": 7.953999548963575,
                "y1": 7.953999548963575
               },
               {
                "line": {
                 "color": "#f76d23",
                 "dash": "dot",
                 "width": 3
                },
                "type": "line",
                "x0": "2020-02-15",
                "x1": "2020-02-15",
                "y0": -6.022388302561715,
                "y1": 15.800913009711023
               }
              ],
              "title": "% Prediction error in residential consumption for Massachusetts"
             },
             [
              0
             ]
            ],
            "label": "Massachusetts",
            "method": "update",
            "visible": true
           },
           {
            "args": [
             {
              "type": "scatter",
              "x": [
               [
                "2020-10-01",
                "2020-09-01",
                "2020-08-01",
                "2020-07-01",
                "2020-06-01",
                "2020-05-01",
                "2020-04-01",
                "2020-03-01",
                "2020-02-01",
                "2020-01-01",
                "2019-12-01",
                "2019-11-01",
                "2019-10-01",
                "2019-09-01",
                "2019-08-01",
                "2019-07-01",
                "2019-06-01",
                "2019-05-01",
                "2019-04-01",
                "2019-03-01",
                "2019-02-01",
                "2019-01-01"
               ]
              ],
              "y": [
               [
                12.49,
                7.43,
                9.06,
                10.52,
                15.1,
                18.28,
                9.05,
                2.71,
                1.37,
                -4.78,
                -0.24,
                4.38,
                2.38,
                -9.46,
                0.44,
                0.36,
                -1.17,
                -1.62,
                -1.46,
                0.93,
                3.43,
                -3.23
               ]
              ]
             },
             {
              "annotations": [
               {
                "font_color": "green",
                "font_family": "Arial",
                "font_size": 14,
                "showarrow": false,
                "text": "<b>+11.2%</b>",
                "x": "2020-01-20",
                "y": 10.579886430901665
               }
              ],
              "shapes": [
               {
                "line": {
                 "color": "red",
                 "dash": "dash",
                 "width": 2
                },
                "type": "line",
                "x0": "2019-01-01",
                "x1": "2020-02-15",
                "y0": -0.6208914334778193,
                "y1": -0.6208914334778193
               },
               {
                "line": {
                 "color": "green",
                 "dash": "dash",
                 "width": 2
                },
                "type": "line",
                "x0": "2020-02-15",
                "x1": "2020-10-01",
                "y0": 10.579886430901665,
                "y1": 10.579886430901665
               },
               {
                "line": {
                 "color": "#f76d23",
                 "dash": "dot",
                 "width": 3
                },
                "type": "line",
                "x0": "2020-02-15",
                "x1": "2020-02-15",
                "y0": -11.353376518794724,
                "y1": 21.93144934194264
               }
              ],
              "title": "% Prediction error in residential consumption for Michigan"
             },
             [
              0
             ]
            ],
            "label": "Michigan",
            "method": "update",
            "visible": true
           },
           {
            "args": [
             {
              "type": "scatter",
              "x": [
               [
                "2020-10-01",
                "2020-09-01",
                "2020-08-01",
                "2020-07-01",
                "2020-06-01",
                "2020-05-01",
                "2020-04-01",
                "2020-03-01",
                "2020-02-01",
                "2020-01-01",
                "2019-12-01",
                "2019-11-01",
                "2019-10-01",
                "2019-09-01",
                "2019-08-01",
                "2019-07-01",
                "2019-06-01",
                "2019-05-01",
                "2019-04-01",
                "2019-03-01",
                "2019-02-01",
                "2019-01-01"
               ]
              ],
              "y": [
               [
                6.55,
                5.6,
                8.53,
                9.6,
                8.57,
                7.93,
                4.58,
                0.16,
                -4.51,
                -3.24,
                1.61,
                1.03,
                3.46,
                -7.45,
                -2.83,
                -1.48,
                2.79,
                -0.14,
                0.35,
                3.06,
                0.56,
                -2.88
               ]
              ]
             },
             {
              "annotations": [
               {
                "font_color": "green",
                "font_family": "Arial",
                "font_size": 14,
                "showarrow": false,
                "text": "<b>+7.13%</b>",
                "x": "2020-01-20",
                "y": 6.440588095188659
               }
              ],
              "shapes": [
               {
                "line": {
                 "color": "red",
                 "dash": "dash",
                 "width": 2
                },
                "type": "line",
                "x0": "2019-01-01",
                "x1": "2020-02-15",
                "y0": -0.6897823125505216,
                "y1": -0.6897823125505216
               },
               {
                "line": {
                 "color": "green",
                 "dash": "dash",
                 "width": 2
                },
                "type": "line",
                "x0": "2020-02-15",
                "x1": "2020-10-01",
                "y0": 6.440588095188659,
                "y1": 6.440588095188659
               },
               {
                "line": {
                 "color": "#f76d23",
                 "dash": "dot",
                 "width": 3
                },
                "type": "line",
                "x0": "2020-02-15",
                "x1": "2020-02-15",
                "y0": -8.937484166074611,
                "y1": 11.52118143797547
               }
              ],
              "title": "% Prediction error in residential consumption for Minnesota"
             },
             [
              0
             ]
            ],
            "label": "Minnesota",
            "method": "update",
            "visible": true
           },
           {
            "args": [
             {
              "type": "scatter",
              "x": [
               [
                "2020-10-01",
                "2020-09-01",
                "2020-08-01",
                "2020-07-01",
                "2020-06-01",
                "2020-05-01",
                "2020-04-01",
                "2020-03-01",
                "2020-02-01",
                "2020-01-01",
                "2019-12-01",
                "2019-11-01",
                "2019-10-01",
                "2019-09-01",
                "2019-08-01",
                "2019-07-01",
                "2019-06-01",
                "2019-05-01",
                "2019-04-01",
                "2019-03-01",
                "2019-02-01",
                "2019-01-01"
               ]
              ],
              "y": [
               [
                -9.3,
                -4.56,
                -1.78,
                -6.98,
                -2.65,
                -0.57,
                -4.17,
                -2.67,
                -14,
                -13.65,
                3.48,
                0.52,
                10.57,
                -0.95,
                -4.4,
                -6.55,
                4.96,
                -2.67,
                0.48,
                -5.99,
                -2.1,
                -6.27
               ]
              ]
             },
             {
              "annotations": [
               {
                "font_color": "red",
                "font_family": "Arial",
                "font_size": 14,
                "showarrow": false,
                "text": "<b>-1.47%</b>",
                "x": "2020-01-20",
                "y": -4.084948576049094
               }
              ],
              "shapes": [
               {
                "line": {
                 "color": "red",
                 "dash": "dash",
                 "width": 2
                },
                "type": "line",
                "x0": "2019-01-01",
                "x1": "2020-02-15",
                "y0": -2.612994708203982,
                "y1": -2.612994708203982
               },
               {
                "line": {
                 "color": "green",
                 "dash": "dash",
                 "width": 2
                },
                "type": "line",
                "x0": "2020-02-15",
                "x1": "2020-10-01",
                "y0": -4.084948576049094,
                "y1": -4.084948576049094
               },
               {
                "line": {
                 "color": "#f76d23",
                 "dash": "dot",
                 "width": 3
                },
                "type": "line",
                "x0": "2020-02-15",
                "x1": "2020-02-15",
                "y0": -16.80541867988971,
                "y1": 12.685760917192184
               }
              ],
              "title": "% Prediction error in residential consumption for Mississippi"
             },
             [
              0
             ]
            ],
            "label": "Mississippi",
            "method": "update",
            "visible": true
           },
           {
            "args": [
             {
              "type": "scatter",
              "x": [
               [
                "2020-10-01",
                "2020-09-01",
                "2020-08-01",
                "2020-07-01",
                "2020-06-01",
                "2020-05-01",
                "2020-04-01",
                "2020-03-01",
                "2020-02-01",
                "2020-01-01",
                "2019-12-01",
                "2019-11-01",
                "2019-10-01",
                "2019-09-01",
                "2019-08-01",
                "2019-07-01",
                "2019-06-01",
                "2019-05-01",
                "2019-04-01",
                "2019-03-01",
                "2019-02-01",
                "2019-01-01"
               ]
              ],
              "y": [
               [
                -0.61,
                -0.33,
                -5.45,
                -2.26,
                -4.27,
                3.6,
                0.03,
                -5.16,
                -5.92,
                -8.48,
                -0.74,
                0.92,
                4.24,
                1.46,
                0.76,
                -5.03,
                0.41,
                1.04,
                0.72,
                -3.68,
                -4.13,
                -5.71
               ]
              ]
             },
             {
              "annotations": [
               {
                "font_color": "red",
                "font_family": "Arial",
                "font_size": 14,
                "showarrow": false,
                "text": "<b>-0.08%</b>",
                "x": "2020-01-20",
                "y": -1.8076458417890586
               }
              ],
              "shapes": [
               {
                "line": {
                 "color": "red",
                 "dash": "dash",
                 "width": 2
                },
                "type": "line",
                "x0": "2019-01-01",
                "x1": "2020-02-15",
                "y0": -1.7243450930578634,
                "y1": -1.7243450930578634
               },
               {
                "line": {
                 "color": "green",
                 "dash": "dash",
                 "width": 2
                },
                "type": "line",
                "x0": "2020-02-15",
                "x1": "2020-10-01",
                "y0": -1.8076458417890586,
                "y1": -1.8076458417890586
               },
               {
                "line": {
                 "color": "#f76d23",
                 "dash": "dot",
                 "width": 3
                },
                "type": "line",
                "x0": "2020-02-15",
                "x1": "2020-02-15",
                "y0": -10.17728991036615,
                "y1": 5.093292857801882
               }
              ],
              "title": "% Prediction error in residential consumption for Missouri"
             },
             [
              0
             ]
            ],
            "label": "Missouri",
            "method": "update",
            "visible": true
           },
           {
            "args": [
             {
              "type": "scatter",
              "x": [
               [
                "2020-10-01",
                "2020-09-01",
                "2020-08-01",
                "2020-07-01",
                "2020-06-01",
                "2020-05-01",
                "2020-04-01",
                "2020-03-01",
                "2020-02-01",
                "2020-01-01",
                "2019-12-01",
                "2019-11-01",
                "2019-10-01",
                "2019-09-01",
                "2019-08-01",
                "2019-07-01",
                "2019-06-01",
                "2019-05-01",
                "2019-04-01",
                "2019-03-01",
                "2019-02-01",
                "2019-01-01"
               ]
              ],
              "y": [
               [
                2.57,
                5.24,
                4.07,
                -0.83,
                4.35,
                0.84,
                8.7,
                -3.81,
                -9.58,
                -7.08,
                -2.09,
                7.29,
                2.17,
                -3.11,
                -3.2,
                -8.25,
                -2.55,
                -5.91,
                1.01,
                13.4,
                5.61,
                -7.45
               ]
              ]
             },
             {
              "annotations": [
               {
                "font_color": "green",
                "font_family": "Arial",
                "font_size": 14,
                "showarrow": false,
                "text": "<b>+4.05%</b>",
                "x": "2020-01-20",
                "y": 2.64031135605257
               }
              ],
              "shapes": [
               {
                "line": {
                 "color": "red",
                 "dash": "dash",
                 "width": 2
                },
                "type": "line",
                "x0": "2019-01-01",
                "x1": "2020-02-15",
                "y0": -1.4093955034363062,
                "y1": -1.4093955034363062
               },
               {
                "line": {
                 "color": "green",
                 "dash": "dash",
                 "width": 2
                },
                "type": "line",
                "x0": "2020-02-15",
                "x1": "2020-10-01",
                "y0": 2.64031135605257,
                "y1": 2.64031135605257
               },
               {
                "line": {
                 "color": "#f76d23",
                 "dash": "dot",
                 "width": 3
                },
                "type": "line",
                "x0": "2020-02-15",
                "x1": "2020-02-15",
                "y0": -11.492718860726383,
                "y1": 16.08507013594092
               }
              ],
              "title": "% Prediction error in residential consumption for Montana"
             },
             [
              0
             ]
            ],
            "label": "Montana",
            "method": "update",
            "visible": true
           },
           {
            "args": [
             {
              "type": "scatter",
              "x": [
               [
                "2020-10-01",
                "2020-09-01",
                "2020-08-01",
                "2020-07-01",
                "2020-06-01",
                "2020-05-01",
                "2020-04-01",
                "2020-03-01",
                "2020-02-01",
                "2020-01-01",
                "2019-12-01",
                "2019-11-01",
                "2019-10-01",
                "2019-09-01",
                "2019-08-01",
                "2019-07-01",
                "2019-06-01",
                "2019-05-01",
                "2019-04-01",
                "2019-03-01",
                "2019-02-01",
                "2019-01-01"
               ]
              ],
              "y": [
               [
                -0.56,
                4.32,
                -2.94,
                3.3,
                5.93,
                0.38,
                -2.12,
                -5.28,
                -7.17,
                -6.52,
                -0.54,
                1.79,
                5.76,
                -4.86,
                -1.28,
                -0.74,
                -0.19,
                -3.73,
                -3.37,
                8.53,
                3.17,
                -5.6
               ]
              ]
             },
             {
              "annotations": [
               {
                "font_color": "green",
                "font_family": "Arial",
                "font_size": 14,
                "showarrow": false,
                "text": "<b>+1.43%</b>",
                "x": "2020-01-20",
                "y": 0.37819139813055
               }
              ],
              "shapes": [
               {
                "line": {
                 "color": "red",
                 "dash": "dash",
                 "width": 2
                },
                "type": "line",
                "x0": "2019-01-01",
                "x1": "2020-02-15",
                "y0": -1.053658097903491,
                "y1": -1.053658097903491
               },
               {
                "line": {
                 "color": "green",
                 "dash": "dash",
                 "width": 2
                },
                "type": "line",
                "x0": "2020-02-15",
                "x1": "2020-10-01",
                "y0": 0.37819139813055,
                "y1": 0.37819139813055
               },
               {
                "line": {
                 "color": "#f76d23",
                 "dash": "dot",
                 "width": 3
                },
                "type": "line",
                "x0": "2020-02-15",
                "x1": "2020-02-15",
                "y0": -8.60721035943313,
                "y1": 10.235712494599305
               }
              ],
              "title": "% Prediction error in residential consumption for Nebraska"
             },
             [
              0
             ]
            ],
            "label": "Nebraska",
            "method": "update",
            "visible": true
           },
           {
            "args": [
             {
              "type": "scatter",
              "x": [
               [
                "2020-10-01",
                "2020-09-01",
                "2020-08-01",
                "2020-07-01",
                "2020-06-01",
                "2020-05-01",
                "2020-04-01",
                "2020-03-01",
                "2020-02-01",
                "2020-01-01",
                "2019-12-01",
                "2019-11-01",
                "2019-10-01",
                "2019-09-01",
                "2019-08-01",
                "2019-07-01",
                "2019-06-01",
                "2019-05-01",
                "2019-04-01",
                "2019-03-01",
                "2019-02-01",
                "2019-01-01"
               ]
              ],
              "y": [
               [
                11.93,
                7.16,
                2.61,
                1.55,
                6.1,
                14.27,
                12.92,
                6.43,
                1.95,
                -8.81,
                2.18,
                13.15,
                -5.02,
                -2.03,
                -3.6,
                -6.34,
                1.53,
                -0.51,
                5.19,
                0.68,
                10,
                -8.27
               ]
              ]
             },
             {
              "annotations": [
               {
                "font_color": "green",
                "font_family": "Arial",
                "font_size": 14,
                "showarrow": false,
                "text": "<b>+7.86%</b>",
                "x": "2020-01-20",
                "y": 7.872234474606799
               }
              ],
              "shapes": [
               {
                "line": {
                 "color": "red",
                 "dash": "dash",
                 "width": 2
                },
                "type": "line",
                "x0": "2019-01-01",
                "x1": "2020-02-15",
                "y0": 0.008323969360791368,
                "y1": 0.008323969360791368
               },
               {
                "line": {
                 "color": "green",
                 "dash": "dash",
                 "width": 2
                },
                "type": "line",
                "x0": "2020-02-15",
                "x1": "2020-10-01",
                "y0": 7.872234474606799,
                "y1": 7.872234474606799
               },
               {
                "line": {
                 "color": "#f76d23",
                 "dash": "dot",
                 "width": 3
                },
                "type": "line",
                "x0": "2020-02-15",
                "x1": "2020-02-15",
                "y0": -10.57376524783342,
                "y1": 17.127130153053884
               }
              ],
              "title": "% Prediction error in residential consumption for Nevada"
             },
             [
              0
             ]
            ],
            "label": "Nevada",
            "method": "update",
            "visible": true
           },
           {
            "args": [
             {
              "type": "scatter",
              "x": [
               [
                "2020-10-01",
                "2020-09-01",
                "2020-08-01",
                "2020-07-01",
                "2020-06-01",
                "2020-05-01",
                "2020-04-01",
                "2020-03-01",
                "2020-02-01",
                "2020-01-01",
                "2019-12-01",
                "2019-11-01",
                "2019-10-01",
                "2019-09-01",
                "2019-08-01",
                "2019-07-01",
                "2019-06-01",
                "2019-05-01",
                "2019-04-01",
                "2019-03-01",
                "2019-02-01",
                "2019-01-01"
               ]
              ],
              "y": [
               [
                4.16,
                -6.48,
                11.54,
                13.92,
                14.56,
                14.35,
                -0.48,
                0.28,
                -8.22,
                0,
                7.91,
                -1.95,
                -3.3,
                -14.11,
                4.33,
                4.22,
                -0.07,
                -3.18,
                -4.87,
                -1.79,
                -2.28,
                -0.07
               ]
              ]
             },
             {
              "annotations": [
               {
                "font_color": "green",
                "font_family": "Arial",
                "font_size": 14,
                "showarrow": false,
                "text": "<b>+8.15%</b>",
                "x": "2020-01-20",
                "y": 6.482383435110247
               }
              ],
              "shapes": [
               {
                "line": {
                 "color": "red",
                 "dash": "dash",
                 "width": 2
                },
                "type": "line",
                "x0": "2019-01-01",
                "x1": "2020-02-15",
                "y0": -1.670253933148454,
                "y1": -1.670253933148454
               },
               {
                "line": {
                 "color": "green",
                 "dash": "dash",
                 "width": 2
                },
                "type": "line",
                "x0": "2020-02-15",
                "x1": "2020-10-01",
                "y0": 6.482383435110247,
                "y1": 6.482383435110247
               },
               {
                "line": {
                 "color": "#f76d23",
                 "dash": "dot",
                 "width": 3
                },
                "type": "line",
                "x0": "2020-02-15",
                "x1": "2020-02-15",
                "y0": -16.92990766173485,
                "y1": 17.47255266060276
               }
              ],
              "title": "% Prediction error in residential consumption for New Hampshire"
             },
             [
              0
             ]
            ],
            "label": "New Hampshire",
            "method": "update",
            "visible": true
           },
           {
            "args": [
             {
              "type": "scatter",
              "x": [
               [
                "2020-10-01",
                "2020-09-01",
                "2020-08-01",
                "2020-07-01",
                "2020-06-01",
                "2020-05-01",
                "2020-04-01",
                "2020-03-01",
                "2020-02-01",
                "2020-01-01",
                "2019-12-01",
                "2019-11-01",
                "2019-10-01",
                "2019-09-01",
                "2019-08-01",
                "2019-07-01",
                "2019-06-01",
                "2019-05-01",
                "2019-04-01",
                "2019-03-01",
                "2019-02-01",
                "2019-01-01"
               ]
              ],
              "y": [
               [
                -2.35,
                8,
                4.54,
                5.45,
                5.93,
                10.67,
                7.49,
                -5.34,
                -5.78,
                -6.2,
                0.39,
                -3.95,
                -1.27,
                -0.21,
                1.47,
                1.73,
                3.64,
                -1.88,
                -5.18,
                -1.51,
                -0.18,
                -4.86
               ]
              ]
             },
             {
              "annotations": [
               {
                "font_color": "green",
                "font_family": "Arial",
                "font_size": 14,
                "showarrow": false,
                "text": "<b>+6.0%</b>",
                "x": "2020-01-20",
                "y": 4.29757547491593
               }
              ],
              "shapes": [
               {
                "line": {
                 "color": "red",
                 "dash": "dash",
                 "width": 2
                },
                "type": "line",
                "x0": "2019-01-01",
                "x1": "2020-02-15",
                "y0": -1.6993357733633927,
                "y1": -1.6993357733633927
               },
               {
                "line": {
                 "color": "green",
                 "dash": "dash",
                 "width": 2
                },
                "type": "line",
                "x0": "2020-02-15",
                "x1": "2020-10-01",
                "y0": 4.29757547491593,
                "y1": 4.29757547491593
               },
               {
                "line": {
                 "color": "#f76d23",
                 "dash": "dot",
                 "width": 3
                },
                "type": "line",
                "x0": "2020-02-15",
                "x1": "2020-02-15",
                "y0": -7.436563195818112,
                "y1": 12.801643720098685
               }
              ],
              "title": "% Prediction error in residential consumption for New Jersey"
             },
             [
              0
             ]
            ],
            "label": "New Jersey",
            "method": "update",
            "visible": true
           },
           {
            "args": [
             {
              "type": "scatter",
              "x": [
               [
                "2020-10-01",
                "2020-09-01",
                "2020-08-01",
                "2020-07-01",
                "2020-06-01",
                "2020-05-01",
                "2020-04-01",
                "2020-03-01",
                "2020-02-01",
                "2020-01-01",
                "2019-12-01",
                "2019-11-01",
                "2019-10-01",
                "2019-09-01",
                "2019-08-01",
                "2019-07-01",
                "2019-06-01",
                "2019-05-01",
                "2019-04-01",
                "2019-03-01",
                "2019-02-01",
                "2019-01-01"
               ]
              ],
              "y": [
               [
                2.8,
                -4.34,
                1.22,
                6,
                7.05,
                7.13,
                -2.84,
                -10.77,
                -11.48,
                -5.22,
                -1.89,
                0.52,
                -2.55,
                4.52,
                2.9,
                0.89,
                -2.7,
                -0.77,
                -2.69,
                -2.78,
                -7.49,
                0.62
               ]
              ]
             },
             {
              "annotations": [
               {
                "font_color": "green",
                "font_family": "Arial",
                "font_size": 14,
                "showarrow": false,
                "text": "<b>+2.79%</b>",
                "x": "2020-01-20",
                "y": 0.7807156331907448
               }
              ],
              "shapes": [
               {
                "line": {
                 "color": "red",
                 "dash": "dash",
                 "width": 2
                },
                "type": "line",
                "x0": "2019-01-01",
                "x1": "2020-02-15",
                "y0": -2.0087406272993147,
                "y1": -2.0087406272993147
               },
               {
                "line": {
                 "color": "green",
                 "dash": "dash",
                 "width": 2
                },
                "type": "line",
                "x0": "2020-02-15",
                "x1": "2020-10-01",
                "y0": 0.7807156331907448,
                "y1": 0.7807156331907448
               },
               {
                "line": {
                 "color": "#f76d23",
                 "dash": "dot",
                 "width": 3
                },
                "type": "line",
                "x0": "2020-02-15",
                "x1": "2020-02-15",
                "y0": -13.781381668150859,
                "y1": 8.553578887695902
               }
              ],
              "title": "% Prediction error in residential consumption for New Mexico"
             },
             [
              0
             ]
            ],
            "label": "New Mexico",
            "method": "update",
            "visible": true
           },
           {
            "args": [
             {
              "type": "scatter",
              "x": [
               [
                "2020-10-01",
                "2020-09-01",
                "2020-08-01",
                "2020-07-01",
                "2020-06-01",
                "2020-05-01",
                "2020-04-01",
                "2020-03-01",
                "2020-02-01",
                "2020-01-01",
                "2019-12-01",
                "2019-11-01",
                "2019-10-01",
                "2019-09-01",
                "2019-08-01",
                "2019-07-01",
                "2019-06-01",
                "2019-05-01",
                "2019-04-01",
                "2019-03-01",
                "2019-02-01",
                "2019-01-01"
               ]
              ],
              "y": [
               [
                10.1,
                11.48,
                10.34,
                8.93,
                9.9,
                8.82,
                1.85,
                -0.14,
                -3.84,
                -0.64,
                2.45,
                -3.12,
                -2.67,
                -4.43,
                5.48,
                -0.23,
                0.26,
                -1.81,
                -2.27,
                -1.69,
                1.15,
                -4.3
               ]
              ]
             },
             {
              "annotations": [
               {
                "font_color": "green",
                "font_family": "Arial",
                "font_size": 14,
                "showarrow": false,
                "text": "<b>+8.78%</b>",
                "x": "2020-01-20",
                "y": 7.659579519936722
               }
              ],
              "shapes": [
               {
                "line": {
                 "color": "red",
                 "dash": "dash",
                 "width": 2
                },
                "type": "line",
                "x0": "2019-01-01",
                "x1": "2020-02-15",
                "y0": -1.1181714062459285,
                "y1": -1.1181714062459285
               },
               {
                "line": {
                 "color": "green",
                 "dash": "dash",
                 "width": 2
                },
                "type": "line",
                "x0": "2020-02-15",
                "x1": "2020-10-01",
                "y0": 7.659579519936722,
                "y1": 7.659579519936722
               },
               {
                "line": {
                 "color": "#f76d23",
                 "dash": "dot",
                 "width": 3
                },
                "type": "line",
                "x0": "2020-02-15",
                "x1": "2020-02-15",
                "y0": -5.315470682815443,
                "y1": 13.774019342233963
               }
              ],
              "title": "% Prediction error in residential consumption for New York"
             },
             [
              0
             ]
            ],
            "label": "New York",
            "method": "update",
            "visible": true
           },
           {
            "args": [
             {
              "type": "scatter",
              "x": [
               [
                "2020-10-01",
                "2020-09-01",
                "2020-08-01",
                "2020-07-01",
                "2020-06-01",
                "2020-05-01",
                "2020-04-01",
                "2020-03-01",
                "2020-02-01",
                "2020-01-01",
                "2019-12-01",
                "2019-11-01",
                "2019-10-01",
                "2019-09-01",
                "2019-08-01",
                "2019-07-01",
                "2019-06-01",
                "2019-05-01",
                "2019-04-01",
                "2019-03-01",
                "2019-02-01",
                "2019-01-01"
               ]
              ],
              "y": [
               [
                0.33,
                -1.87,
                -1.07,
                -1.94,
                -0.36,
                9.65,
                -3.57,
                -5.85,
                -2.74,
                -9.38,
                0.31,
                2.48,
                4.63,
                0.95,
                -3.25,
                -5.04,
                0.97,
                2.34,
                4.51,
                -3.44,
                -1.43,
                -7.02
               ]
              ]
             },
             {
              "annotations": [
               {
                "font_color": "green",
                "font_family": "Arial",
                "font_size": 14,
                "showarrow": false,
                "text": "<b>+0.57%</b>",
                "x": "2020-01-20",
                "y": -0.5835096268566302
               }
              ],
              "shapes": [
               {
                "line": {
                 "color": "red",
                 "dash": "dash",
                 "width": 2
                },
                "type": "line",
                "x0": "2019-01-01",
                "x1": "2020-02-15",
                "y0": -1.149944557145678,
                "y1": -1.149944557145678
               },
               {
                "line": {
                 "color": "green",
                 "dash": "dash",
                 "width": 2
                },
                "type": "line",
                "x0": "2020-02-15",
                "x1": "2020-10-01",
                "y0": -0.5835096268566302,
                "y1": -0.5835096268566302
               },
               {
                "line": {
                 "color": "#f76d23",
                 "dash": "dot",
                 "width": 3
                },
                "type": "line",
                "x0": "2020-02-15",
                "x1": "2020-02-15",
                "y0": -11.258477923937347,
                "y1": 11.585155627652405
               }
              ],
              "title": "% Prediction error in residential consumption for North Carolina"
             },
             [
              0
             ]
            ],
            "label": "North Carolina",
            "method": "update",
            "visible": true
           },
           {
            "args": [
             {
              "type": "scatter",
              "x": [
               [
                "2020-10-01",
                "2020-09-01",
                "2020-08-01",
                "2020-07-01",
                "2020-06-01",
                "2020-05-01",
                "2020-04-01",
                "2020-03-01",
                "2020-02-01",
                "2020-01-01",
                "2019-12-01",
                "2019-11-01",
                "2019-10-01",
                "2019-09-01",
                "2019-08-01",
                "2019-07-01",
                "2019-06-01",
                "2019-05-01",
                "2019-04-01",
                "2019-03-01",
                "2019-02-01",
                "2019-01-01"
               ]
              ],
              "y": [
               [
                -1.29,
                -0.07,
                6.99,
                4.56,
                7.28,
                4.81,
                1.75,
                -5.4,
                -11.52,
                -2.88,
                0.94,
                -0.45,
                6.83,
                -6.11,
                -1.93,
                -1.97,
                6.23,
                -5.24,
                -5.84,
                0.32,
                4.67,
                -1.72
               ]
              ]
             },
             {
              "annotations": [
               {
                "font_color": "green",
                "font_family": "Arial",
                "font_size": 14,
                "showarrow": false,
                "text": "<b>+3.66%</b>",
                "x": "2020-01-20",
                "y": 2.3288171277580476
               }
              ],
              "shapes": [
               {
                "line": {
                 "color": "red",
                 "dash": "dash",
                 "width": 2
                },
                "type": "line",
                "x0": "2019-01-01",
                "x1": "2020-02-15",
                "y0": -1.3325728810024242,
                "y1": -1.3325728810024242
               },
               {
                "line": {
                 "color": "green",
                 "dash": "dash",
                 "width": 2
                },
                "type": "line",
                "x0": "2020-02-15",
                "x1": "2020-10-01",
                "y0": 2.3288171277580476,
                "y1": 2.3288171277580476
               },
               {
                "line": {
                 "color": "#f76d23",
                 "dash": "dot",
                 "width": 3
                },
                "type": "line",
                "x0": "2020-02-15",
                "x1": "2020-02-15",
                "y0": -13.81955175016512,
                "y1": 8.740861731813432
               }
              ],
              "title": "% Prediction error in residential consumption for North Dakota"
             },
             [
              0
             ]
            ],
            "label": "North Dakota",
            "method": "update",
            "visible": true
           },
           {
            "args": [
             {
              "type": "scatter",
              "x": [
               [
                "2020-10-01",
                "2020-09-01",
                "2020-08-01",
                "2020-07-01",
                "2020-06-01",
                "2020-05-01",
                "2020-04-01",
                "2020-03-01",
                "2020-02-01",
                "2020-01-01",
                "2019-12-01",
                "2019-11-01",
                "2019-10-01",
                "2019-09-01",
                "2019-08-01",
                "2019-07-01",
                "2019-06-01",
                "2019-05-01",
                "2019-04-01",
                "2019-03-01",
                "2019-02-01",
                "2019-01-01"
               ]
              ],
              "y": [
               [
                2.12,
                4.91,
                2.84,
                3.6,
                4.32,
                9.95,
                2.93,
                -7.96,
                -1.12,
                -6.89,
                -1.26,
                -3.91,
                3.15,
                2.12,
                1.81,
                1.02,
                -0.05,
                -3.18,
                -1.31,
                -0.04,
                -1.68,
                -7.56
               ]
              ]
             },
             {
              "annotations": [
               {
                "font_color": "green",
                "font_family": "Arial",
                "font_size": 14,
                "showarrow": false,
                "text": "<b>+4.19%</b>",
                "x": "2020-01-20",
                "y": 2.8386606142256348
               }
              ],
              "shapes": [
               {
                "line": {
                 "color": "red",
                 "dash": "dash",
                 "width": 2
                },
                "type": "line",
                "x0": "2019-01-01",
                "x1": "2020-02-15",
                "y0": -1.3512326324308623,
                "y1": -1.3512326324308623
               },
               {
                "line": {
                 "color": "green",
                 "dash": "dash",
                 "width": 2
                },
                "type": "line",
                "x0": "2020-02-15",
                "x1": "2020-10-01",
                "y0": 2.8386606142256348,
                "y1": 2.8386606142256348
               },
               {
                "line": {
                 "color": "#f76d23",
                 "dash": "dot",
                 "width": 3
                },
                "type": "line",
                "x0": "2020-02-15",
                "x1": "2020-02-15",
                "y0": -9.5517567618418,
                "y1": 11.93547302224115
               }
              ],
              "title": "% Prediction error in residential consumption for Ohio"
             },
             [
              0
             ]
            ],
            "label": "Ohio",
            "method": "update",
            "visible": true
           },
           {
            "args": [
             {
              "type": "scatter",
              "x": [
               [
                "2020-10-01",
                "2020-09-01",
                "2020-08-01",
                "2020-07-01",
                "2020-06-01",
                "2020-05-01",
                "2020-04-01",
                "2020-03-01",
                "2020-02-01",
                "2020-01-01",
                "2019-12-01",
                "2019-11-01",
                "2019-10-01",
                "2019-09-01",
                "2019-08-01",
                "2019-07-01",
                "2019-06-01",
                "2019-05-01",
                "2019-04-01",
                "2019-03-01",
                "2019-02-01",
                "2019-01-01"
               ]
              ],
              "y": [
               [
                1.18,
                -0.6,
                -3.07,
                -5.27,
                3.71,
                2.31,
                5.88,
                -4.02,
                -2.37,
                -4.44,
                1.35,
                4.21,
                5.88,
                0.12,
                -5.83,
                -4.11,
                -0.41,
                -7.03,
                1.82,
                6.34,
                8.95,
                -1.99
               ]
              ]
             },
             {
              "annotations": [
               {
                "font_color": "red",
                "font_family": "Arial",
                "font_size": 14,
                "showarrow": false,
                "text": "<b>-0.16%</b>",
                "x": "2020-01-20",
                "y": 0.014519954525568202
               }
              ],
              "shapes": [
               {
                "line": {
                 "color": "red",
                 "dash": "dash",
                 "width": 2
                },
                "type": "line",
                "x0": "2019-01-01",
                "x1": "2020-02-15",
                "y0": 0.17737431727894673,
                "y1": 0.17737431727894673
               },
               {
                "line": {
                 "color": "green",
                 "dash": "dash",
                 "width": 2
                },
                "type": "line",
                "x0": "2020-02-15",
                "x1": "2020-10-01",
                "y0": 0.014519954525568202,
                "y1": 0.014519954525568202
               },
               {
                "line": {
                 "color": "#f76d23",
                 "dash": "dot",
                 "width": 3
                },
                "type": "line",
                "x0": "2020-02-15",
                "x1": "2020-02-15",
                "y0": -8.431543210156798,
                "y1": 10.744356787339273
               }
              ],
              "title": "% Prediction error in residential consumption for Oklahoma"
             },
             [
              0
             ]
            ],
            "label": "Oklahoma",
            "method": "update",
            "visible": true
           },
           {
            "args": [
             {
              "type": "scatter",
              "x": [
               [
                "2020-10-01",
                "2020-09-01",
                "2020-08-01",
                "2020-07-01",
                "2020-06-01",
                "2020-05-01",
                "2020-04-01",
                "2020-03-01",
                "2020-02-01",
                "2020-01-01",
                "2019-12-01",
                "2019-11-01",
                "2019-10-01",
                "2019-09-01",
                "2019-08-01",
                "2019-07-01",
                "2019-06-01",
                "2019-05-01",
                "2019-04-01",
                "2019-03-01",
                "2019-02-01",
                "2019-01-01"
               ]
              ],
              "y": [
               [
                4.41,
                0.23,
                2.12,
                5.18,
                4.06,
                4.86,
                -1.32,
                -5.48,
                -1.97,
                -12.66,
                -4.41,
                6.68,
                4.66,
                3.18,
                1.55,
                -2.36,
                4.41,
                -7.95,
                -4.4,
                4.52,
                1.41,
                -4.82
               ]
              ]
             },
             {
              "annotations": [
               {
                "font_color": "green",
                "font_family": "Arial",
                "font_size": 14,
                "showarrow": false,
                "text": "<b>+2.63%</b>",
                "x": "2020-01-20",
                "y": 1.7582636650029295
               }
              ],
              "shapes": [
               {
                "line": {
                 "color": "red",
                 "dash": "dash",
                 "width": 2
                },
                "type": "line",
                "x0": "2019-01-01",
                "x1": "2020-02-15",
                "y0": -0.8675068450277637,
                "y1": -0.8675068450277637
               },
               {
                "line": {
                 "color": "green",
                 "dash": "dash",
                 "width": 2
                },
                "type": "line",
                "x0": "2020-02-15",
                "x1": "2020-10-01",
                "y0": 1.7582636650029295,
                "y1": 1.7582636650029295
               },
               {
                "line": {
                 "color": "#f76d23",
                 "dash": "dot",
                 "width": 3
                },
                "type": "line",
                "x0": "2020-02-15",
                "x1": "2020-02-15",
                "y0": -15.192337513781364,
                "y1": 8.017420873361662
               }
              ],
              "title": "% Prediction error in residential consumption for Oregon"
             },
             [
              0
             ]
            ],
            "label": "Oregon",
            "method": "update",
            "visible": true
           },
           {
            "args": [
             {
              "type": "scatter",
              "x": [
               [
                "2020-10-01",
                "2020-09-01",
                "2020-08-01",
                "2020-07-01",
                "2020-06-01",
                "2020-05-01",
                "2020-04-01",
                "2020-03-01",
                "2020-02-01",
                "2020-01-01",
                "2019-12-01",
                "2019-11-01",
                "2019-10-01",
                "2019-09-01",
                "2019-08-01",
                "2019-07-01",
                "2019-06-01",
                "2019-05-01",
                "2019-04-01",
                "2019-03-01",
                "2019-02-01",
                "2019-01-01"
               ]
              ],
              "y": [
               [
                3.31,
                3.27,
                8.27,
                5.83,
                4.03,
                8.16,
                1.2,
                -12.6,
                -7.27,
                -5.29,
                -0.7,
                -4.29,
                2.12,
                0.78,
                5.15,
                -0.96,
                -1.15,
                -5.51,
                -2.37,
                -1.23,
                3.64,
                -4.17
               ]
              ]
             },
             {
              "annotations": [
               {
                "font_color": "green",
                "font_family": "Arial",
                "font_size": 14,
                "showarrow": false,
                "text": "<b>+4.2%</b>",
                "x": "2020-01-20",
                "y": 2.6834973148722154
               }
              ],
              "shapes": [
               {
                "line": {
                 "color": "red",
                 "dash": "dash",
                 "width": 2
                },
                "type": "line",
                "x0": "2019-01-01",
                "x1": "2020-02-15",
                "y0": -1.5178622782338302,
                "y1": -1.5178622782338302
               },
               {
                "line": {
                 "color": "green",
                 "dash": "dash",
                 "width": 2
                },
                "type": "line",
                "x0": "2020-02-15",
                "x1": "2020-10-01",
                "y0": 2.6834973148722154,
                "y1": 2.6834973148722154
               },
               {
                "line": {
                 "color": "#f76d23",
                 "dash": "dot",
                 "width": 3
                },
                "type": "line",
                "x0": "2020-02-15",
                "x1": "2020-02-15",
                "y0": -15.117704123280598,
                "y1": 9.926458347901049
               }
              ],
              "title": "% Prediction error in residential consumption for Pennsylvania"
             },
             [
              0
             ]
            ],
            "label": "Pennsylvania",
            "method": "update",
            "visible": true
           },
           {
            "args": [
             {
              "type": "scatter",
              "x": [
               [
                "2020-10-01",
                "2020-09-01",
                "2020-08-01",
                "2020-07-01",
                "2020-06-01",
                "2020-05-01",
                "2020-04-01",
                "2020-03-01",
                "2020-02-01",
                "2020-01-01",
                "2019-12-01",
                "2019-11-01",
                "2019-10-01",
                "2019-09-01",
                "2019-08-01",
                "2019-07-01",
                "2019-06-01",
                "2019-05-01",
                "2019-04-01",
                "2019-03-01",
                "2019-02-01",
                "2019-01-01"
               ]
              ],
              "y": [
               [
                10.73,
                19.15,
                10.67,
                9.19,
                9.06,
                10.52,
                2.5,
                -4.08,
                0.72,
                -0.49,
                1.75,
                -7.31,
                -0.56,
                3.6,
                6.13,
                -2.87,
                -3.91,
                3.46,
                -1.21,
                -6.74,
                1.24,
                0.72
               ]
              ]
             },
             {
              "annotations": [
               {
                "font_color": "green",
                "font_family": "Arial",
                "font_size": 14,
                "showarrow": false,
                "text": "<b>+8.86%</b>",
                "x": "2020-01-20",
                "y": 8.468388058310703
               }
              ],
              "shapes": [
               {
                "line": {
                 "color": "red",
                 "dash": "dash",
                 "width": 2
                },
                "type": "line",
                "x0": "2019-01-01",
                "x1": "2020-02-15",
                "y0": -0.3906163241154607,
                "y1": -0.3906163241154607
               },
               {
                "line": {
                 "color": "green",
                 "dash": "dash",
                 "width": 2
                },
                "type": "line",
                "x0": "2020-02-15",
                "x1": "2020-10-01",
                "y0": 8.468388058310703,
                "y1": 8.468388058310703
               },
               {
                "line": {
                 "color": "#f76d23",
                 "dash": "dot",
                 "width": 3
                },
                "type": "line",
                "x0": "2020-02-15",
                "x1": "2020-02-15",
                "y0": -8.767551261504709,
                "y1": 22.98101053441339
               }
              ],
              "title": "% Prediction error in residential consumption for Rhode Island"
             },
             [
              0
             ]
            ],
            "label": "Rhode Island",
            "method": "update",
            "visible": true
           },
           {
            "args": [
             {
              "type": "scatter",
              "x": [
               [
                "2020-10-01",
                "2020-09-01",
                "2020-08-01",
                "2020-07-01",
                "2020-06-01",
                "2020-05-01",
                "2020-04-01",
                "2020-03-01",
                "2020-02-01",
                "2020-01-01",
                "2019-12-01",
                "2019-11-01",
                "2019-10-01",
                "2019-09-01",
                "2019-08-01",
                "2019-07-01",
                "2019-06-01",
                "2019-05-01",
                "2019-04-01",
                "2019-03-01",
                "2019-02-01",
                "2019-01-01"
               ]
              ],
              "y": [
               [
                1.34,
                0.29,
                1.38,
                -2.73,
                2.26,
                7.5,
                -6.96,
                2.44,
                1.64,
                -7.74,
                0.81,
                -0.66,
                7.12,
                0.22,
                -0.54,
                -5.35,
                2.56,
                3.69,
                4.44,
                -6.45,
                -2.8,
                -8.25
               ]
              ]
             },
             {
              "annotations": [
               {
                "font_color": "green",
                "font_family": "Arial",
                "font_size": 14,
                "showarrow": false,
                "text": "<b>+1.5%</b>",
                "x": "2020-01-20",
                "y": 0.6892471038611978
               }
              ],
              "shapes": [
               {
                "line": {
                 "color": "red",
                 "dash": "dash",
                 "width": 2
                },
                "type": "line",
                "x0": "2019-01-01",
                "x1": "2020-02-15",
                "y0": -0.8091409192245669,
                "y1": -0.8091409192245669
               },
               {
                "line": {
                 "color": "green",
                 "dash": "dash",
                 "width": 2
                },
                "type": "line",
                "x0": "2020-02-15",
                "x1": "2020-10-01",
                "y0": 0.6892471038611978,
                "y1": 0.6892471038611978
               },
               {
                "line": {
                 "color": "#f76d23",
                 "dash": "dot",
                 "width": 3
                },
                "type": "line",
                "x0": "2020-02-15",
                "x1": "2020-02-15",
                "y0": -9.895871283298822,
                "y1": 8.99519924307465
               }
              ],
              "title": "% Prediction error in residential consumption for South Carolina"
             },
             [
              0
             ]
            ],
            "label": "South Carolina",
            "method": "update",
            "visible": true
           },
           {
            "args": [
             {
              "type": "scatter",
              "x": [
               [
                "2020-10-01",
                "2020-09-01",
                "2020-08-01",
                "2020-07-01",
                "2020-06-01",
                "2020-05-01",
                "2020-04-01",
                "2020-03-01",
                "2020-02-01",
                "2020-01-01",
                "2019-12-01",
                "2019-11-01",
                "2019-10-01",
                "2019-09-01",
                "2019-08-01",
                "2019-07-01",
                "2019-06-01",
                "2019-05-01",
                "2019-04-01",
                "2019-03-01",
                "2019-02-01",
                "2019-01-01"
               ]
              ],
              "y": [
               [
                0.25,
                -0.06,
                4.89,
                3.4,
                4.57,
                -1.31,
                -2.71,
                -5.81,
                -11.95,
                -5.85,
                0.96,
                0.38,
                4.1,
                -8.1,
                -3.8,
                -1.91,
                4.44,
                -1.38,
                0.81,
                5.21,
                4.69,
                -6.99
               ]
              ]
             },
             {
              "annotations": [
               {
                "font_color": "green",
                "font_family": "Arial",
                "font_size": 14,
                "showarrow": false,
                "text": "<b>+1.79%</b>",
                "x": "2020-01-20",
                "y": 0.4035378359735611
               }
              ],
              "shapes": [
               {
                "line": {
                 "color": "red",
                 "dash": "dash",
                 "width": 2
                },
                "type": "line",
                "x0": "2019-01-01",
                "x1": "2020-02-15",
                "y0": -1.3839649658986766,
                "y1": -1.3839649658986766
               },
               {
                "line": {
                 "color": "green",
                 "dash": "dash",
                 "width": 2
                },
                "type": "line",
                "x0": "2020-02-15",
                "x1": "2020-10-01",
                "y0": 0.4035378359735611,
                "y1": 0.4035378359735611
               },
               {
                "line": {
                 "color": "#f76d23",
                 "dash": "dot",
                 "width": 3
                },
                "type": "line",
                "x0": "2020-02-15",
                "x1": "2020-02-15",
                "y0": -14.336519770608206,
                "y1": 6.246628510800687
               }
              ],
              "title": "% Prediction error in residential consumption for South Dakota"
             },
             [
              0
             ]
            ],
            "label": "South Dakota",
            "method": "update",
            "visible": true
           },
           {
            "args": [
             {
              "type": "scatter",
              "x": [
               [
                "2020-10-01",
                "2020-09-01",
                "2020-08-01",
                "2020-07-01",
                "2020-06-01",
                "2020-05-01",
                "2020-04-01",
                "2020-03-01",
                "2020-02-01",
                "2020-01-01",
                "2019-12-01",
                "2019-11-01",
                "2019-10-01",
                "2019-09-01",
                "2019-08-01",
                "2019-07-01",
                "2019-06-01",
                "2019-05-01",
                "2019-04-01",
                "2019-03-01",
                "2019-02-01",
                "2019-01-01"
               ]
              ],
              "y": [
               [
                -6.51,
                -0.86,
                2.67,
                -6.69,
                0.56,
                6.1,
                -6.56,
                -3.55,
                -11.59,
                -15.87,
                4.12,
                -1.55,
                13.69,
                -4.03,
                -3.6,
                -5.54,
                8.03,
                -6.28,
                -0.5,
                -5.27,
                1.59,
                -12.24
               ]
              ]
             },
             {
              "annotations": [
               {
                "font_color": "green",
                "font_family": "Arial",
                "font_size": 14,
                "showarrow": false,
                "text": "<b>+0.93%</b>",
                "x": "2020-01-20",
                "y": -1.855553900907435
               }
              ],
              "shapes": [
               {
                "line": {
                 "color": "red",
                 "dash": "dash",
                 "width": 2
                },
                "type": "line",
                "x0": "2019-01-01",
                "x1": "2020-02-15",
                "y0": -2.7866150968952224,
                "y1": -2.7866150968952224
               },
               {
                "line": {
                 "color": "green",
                 "dash": "dash",
                 "width": 2
                },
                "type": "line",
                "x0": "2020-02-15",
                "x1": "2020-10-01",
                "y0": -1.855553900907435,
                "y1": -1.855553900907435
               },
               {
                "line": {
                 "color": "#f76d23",
                 "dash": "dot",
                 "width": 3
                },
                "type": "line",
                "x0": "2020-02-15",
                "x1": "2020-02-15",
                "y0": -19.043201383911512,
                "y1": 16.427899378231945
               }
              ],
              "title": "% Prediction error in residential consumption for Tennessee"
             },
             [
              0
             ]
            ],
            "label": "Tennessee",
            "method": "update",
            "visible": true
           },
           {
            "args": [
             {
              "type": "scatter",
              "x": [
               [
                "2020-10-01",
                "2020-09-01",
                "2020-08-01",
                "2020-07-01",
                "2020-06-01",
                "2020-05-01",
                "2020-04-01",
                "2020-03-01",
                "2020-02-01",
                "2020-01-01",
                "2019-12-01",
                "2019-11-01",
                "2019-10-01",
                "2019-09-01",
                "2019-08-01",
                "2019-07-01",
                "2019-06-01",
                "2019-05-01",
                "2019-04-01",
                "2019-03-01",
                "2019-02-01",
                "2019-01-01"
               ]
              ],
              "y": [
               [
                -2.73,
                2.25,
                0.63,
                -0.59,
                1.43,
                5.92,
                4.55,
                -0.51,
                -6.87,
                -9.24,
                2.69,
                -1.48,
                12.26,
                -2.51,
                -3.39,
                -3.47,
                1.6,
                -3.14,
                -0.49,
                1.97,
                1.68,
                -7.08
               ]
              ]
             },
             {
              "annotations": [
               {
                "font_color": "green",
                "font_family": "Arial",
                "font_size": 14,
                "showarrow": false,
                "text": "<b>+2.62%</b>",
                "x": "2020-01-20",
                "y": 1.369242706242141
               }
              ],
              "shapes": [
               {
                "line": {
                 "color": "red",
                 "dash": "dash",
                 "width": 2
                },
                "type": "line",
                "x0": "2019-01-01",
                "x1": "2020-02-15",
                "y0": -1.2484692153310468,
                "y1": -1.2484692153310468
               },
               {
                "line": {
                 "color": "green",
                 "dash": "dash",
                 "width": 2
                },
                "type": "line",
                "x0": "2020-02-15",
                "x1": "2020-10-01",
                "y0": 1.369242706242141,
                "y1": 1.369242706242141
               },
               {
                "line": {
                 "color": "#f76d23",
                 "dash": "dot",
                 "width": 3
                },
                "type": "line",
                "x0": "2020-02-15",
                "x1": "2020-02-15",
                "y0": -11.086928084353234,
                "y1": 14.715701323212228
               }
              ],
              "title": "% Prediction error in residential consumption for Texas"
             },
             [
              0
             ]
            ],
            "label": "Texas",
            "method": "update",
            "visible": true
           },
           {
            "args": [
             {
              "type": "scatter",
              "x": [
               [
                "2020-10-01",
                "2020-09-01",
                "2020-08-01",
                "2020-07-01",
                "2020-06-01",
                "2020-05-01",
                "2020-04-01",
                "2020-03-01",
                "2020-02-01",
                "2020-01-01",
                "2019-12-01",
                "2019-11-01",
                "2019-10-01",
                "2019-09-01",
                "2019-08-01",
                "2019-07-01",
                "2019-06-01",
                "2019-05-01",
                "2019-04-01",
                "2019-03-01",
                "2019-02-01",
                "2019-01-01"
               ]
              ],
              "y": [
               [
                3.06,
                5.97,
                7.08,
                0.88,
                6.51,
                8.99,
                4.05,
                4.17,
                2.82,
                -2.73,
                -0.23,
                1.16,
                0.25,
                2.49,
                -1.51,
                -2.5,
                0.1,
                6.07,
                -2.79,
                -0.47,
                1.41,
                -2.68
               ]
              ]
             },
             {
              "annotations": [
               {
                "font_color": "green",
                "font_family": "Arial",
                "font_size": 14,
                "showarrow": false,
                "text": "<b>+4.99%</b>",
                "x": "2020-01-20",
                "y": 5.089567821595995
               }
              ],
              "shapes": [
               {
                "line": {
                 "color": "red",
                 "dash": "dash",
                 "width": 2
                },
                "type": "line",
                "x0": "2019-01-01",
                "x1": "2020-02-15",
                "y0": 0.09904918413625032,
                "y1": 0.09904918413625032
               },
               {
                "line": {
                 "color": "green",
                 "dash": "dash",
                 "width": 2
                },
                "type": "line",
                "x0": "2020-02-15",
                "x1": "2020-10-01",
                "y0": 5.089567821595995,
                "y1": 5.089567821595995
               },
               {
                "line": {
                 "color": "#f76d23",
                 "dash": "dot",
                 "width": 3
                },
                "type": "line",
                "x0": "2020-02-15",
                "x1": "2020-02-15",
                "y0": -3.3513655242590508,
                "y1": 10.792283298831384
               }
              ],
              "title": "% Prediction error in residential consumption for Utah"
             },
             [
              0
             ]
            ],
            "label": "Utah",
            "method": "update",
            "visible": true
           },
           {
            "args": [
             {
              "type": "scatter",
              "x": [
               [
                "2020-10-01",
                "2020-09-01",
                "2020-08-01",
                "2020-07-01",
                "2020-06-01",
                "2020-05-01",
                "2020-04-01",
                "2020-03-01",
                "2020-02-01",
                "2020-01-01",
                "2019-12-01",
                "2019-11-01",
                "2019-10-01",
                "2019-09-01",
                "2019-08-01",
                "2019-07-01",
                "2019-06-01",
                "2019-05-01",
                "2019-04-01",
                "2019-03-01",
                "2019-02-01",
                "2019-01-01"
               ]
              ],
              "y": [
               [
                6.69,
                3.59,
                3.98,
                9.48,
                9.66,
                6.76,
                4.06,
                0.75,
                0.89,
                -5.48,
                0.39,
                3.56,
                -2.77,
                -2.1,
                2.55,
                -2.9,
                -1.25,
                -4.31,
                1.62,
                -3.68,
                5.41,
                -0.49
               ]
              ]
             },
             {
              "annotations": [
               {
                "font_color": "green",
                "font_family": "Arial",
                "font_size": 14,
                "showarrow": false,
                "text": "<b>+6.23%</b>",
                "x": "2020-01-20",
                "y": 5.621523224124915
               }
              ],
              "shapes": [
               {
                "line": {
                 "color": "red",
                 "dash": "dash",
                 "width": 2
                },
                "type": "line",
                "x0": "2019-01-01",
                "x1": "2020-02-15",
                "y0": -0.6117164257365635,
                "y1": -0.6117164257365635
               },
               {
                "line": {
                 "color": "green",
                 "dash": "dash",
                 "width": 2
                },
                "type": "line",
                "x0": "2020-02-15",
                "x1": "2020-10-01",
                "y0": 5.621523224124915,
                "y1": 5.621523224124915
               },
               {
                "line": {
                 "color": "#f76d23",
                 "dash": "dot",
                 "width": 3
                },
                "type": "line",
                "x0": "2020-02-15",
                "x1": "2020-02-15",
                "y0": -6.576415245064376,
                "y1": 11.597182828689181
               }
              ],
              "title": "% Prediction error in residential consumption for Vermont"
             },
             [
              0
             ]
            ],
            "label": "Vermont",
            "method": "update",
            "visible": true
           },
           {
            "args": [
             {
              "type": "scatter",
              "x": [
               [
                "2020-10-01",
                "2020-09-01",
                "2020-08-01",
                "2020-07-01",
                "2020-06-01",
                "2020-05-01",
                "2020-04-01",
                "2020-03-01",
                "2020-02-01",
                "2020-01-01",
                "2019-12-01",
                "2019-11-01",
                "2019-10-01",
                "2019-09-01",
                "2019-08-01",
                "2019-07-01",
                "2019-06-01",
                "2019-05-01",
                "2019-04-01",
                "2019-03-01",
                "2019-02-01",
                "2019-01-01"
               ]
              ],
              "y": [
               [
                -21.56,
                1.09,
                6.21,
                4.85,
                7.48,
                7.54,
                -9.64,
                -8.4,
                -11.12,
                -1.69,
                3.94,
                0.64,
                -2.23,
                -4.44,
                -3.38,
                2.15,
                1.44,
                -6.78,
                1.2,
                -1.06,
                1.13,
                -1.33
               ]
              ]
             },
             {
              "annotations": [
               {
                "font_color": "red",
                "font_family": "Arial",
                "font_size": 14,
                "showarrow": false,
                "text": "<b>-0.01%</b>",
                "x": "2020-01-20",
                "y": -1.5520350187672134
               }
              ],
              "shapes": [
               {
                "line": {
                 "color": "red",
                 "dash": "dash",
                 "width": 2
                },
                "type": "line",
                "x0": "2019-01-01",
                "x1": "2020-02-15",
                "y0": -1.5378450067797478,
                "y1": -1.5378450067797478
               },
               {
                "line": {
                 "color": "green",
                 "dash": "dash",
                 "width": 2
                },
                "type": "line",
                "x0": "2020-02-15",
                "x1": "2020-10-01",
                "y0": -1.5520350187672134,
                "y1": -1.5520350187672134
               },
               {
                "line": {
                 "color": "#f76d23",
                 "dash": "dot",
                 "width": 3
                },
                "type": "line",
                "x0": "2020-02-15",
                "x1": "2020-02-15",
                "y0": -25.867948285207873,
                "y1": 9.04502653505864
               }
              ],
              "title": "% Prediction error in residential consumption for Virginia"
             },
             [
              0
             ]
            ],
            "label": "Virginia",
            "method": "update",
            "visible": true
           },
           {
            "args": [
             {
              "type": "scatter",
              "x": [
               [
                "2020-10-01",
                "2020-09-01",
                "2020-08-01",
                "2020-07-01",
                "2020-06-01",
                "2020-05-01",
                "2020-04-01",
                "2020-03-01",
                "2020-02-01",
                "2020-01-01",
                "2019-12-01",
                "2019-11-01",
                "2019-10-01",
                "2019-09-01",
                "2019-08-01",
                "2019-07-01",
                "2019-06-01",
                "2019-05-01",
                "2019-04-01",
                "2019-03-01",
                "2019-02-01",
                "2019-01-01"
               ]
              ],
              "y": [
               [
                4.96,
                -1.38,
                0.47,
                5.12,
                2.54,
                -2.6,
                -3.64,
                -5.43,
                -6.8,
                -8.95,
                -2.05,
                3.75,
                9.76,
                -0.93,
                1.6,
                -1.89,
                -1.39,
                -10.28,
                -2.51,
                4.55,
                -0.26,
                -4.37
               ]
              ]
             },
             {
              "annotations": [
               {
                "font_color": "green",
                "font_family": "Arial",
                "font_size": 14,
                "showarrow": false,
                "text": "<b>+1.42%</b>",
                "x": "2020-01-20",
                "y": 0.005626593279047798
               }
              ],
              "shapes": [
               {
                "line": {
                 "color": "red",
                 "dash": "dash",
                 "width": 2
                },
                "type": "line",
                "x0": "2019-01-01",
                "x1": "2020-02-15",
                "y0": -1.4122961990491834,
                "y1": -1.4122961990491834
               },
               {
                "line": {
                 "color": "green",
                 "dash": "dash",
                 "width": 2
                },
                "type": "line",
                "x0": "2020-02-15",
                "x1": "2020-10-01",
                "y0": 0.005626593279047798,
                "y1": 0.005626593279047798
               },
               {
                "line": {
                 "color": "#f76d23",
                 "dash": "dot",
                 "width": 3
                },
                "type": "line",
                "x0": "2020-02-15",
                "x1": "2020-02-15",
                "y0": -12.330083311864358,
                "y1": 11.708924162538421
               }
              ],
              "title": "% Prediction error in residential consumption for Washington"
             },
             [
              0
             ]
            ],
            "label": "Washington",
            "method": "update",
            "visible": true
           },
           {
            "args": [
             {
              "type": "scatter",
              "x": [
               [
                "2020-10-01",
                "2020-09-01",
                "2020-08-01",
                "2020-07-01",
                "2020-06-01",
                "2020-05-01",
                "2020-04-01",
                "2020-03-01",
                "2020-02-01",
                "2020-01-01",
                "2019-12-01",
                "2019-11-01",
                "2019-10-01",
                "2019-09-01",
                "2019-08-01",
                "2019-07-01",
                "2019-06-01",
                "2019-05-01",
                "2019-04-01",
                "2019-03-01",
                "2019-02-01",
                "2019-01-01"
               ]
              ],
              "y": [
               [
                -5.71,
                4.06,
                2.46,
                6.17,
                5.04,
                16.24,
                -3.6,
                -9.44,
                -3.42,
                -8.41,
                2.7,
                -1.32,
                -1.23,
                -2.31,
                1.36,
                3.97,
                -0.93,
                -13.89,
                -2.97,
                0.59,
                3.08,
                -3.05
               ]
              ]
             },
             {
              "annotations": [
               {
                "font_color": "green",
                "font_family": "Arial",
                "font_size": 14,
                "showarrow": false,
                "text": "<b>+3.75%</b>",
                "x": "2020-01-20",
                "y": 1.9031881802791482
               }
              ],
              "shapes": [
               {
                "line": {
                 "color": "red",
                 "dash": "dash",
                 "width": 2
                },
                "type": "line",
                "x0": "2019-01-01",
                "x1": "2020-02-15",
                "y0": -1.8447962298516463,
                "y1": -1.8447962298516463
               },
               {
                "line": {
                 "color": "green",
                 "dash": "dash",
                 "width": 2
                },
                "type": "line",
                "x0": "2020-02-15",
                "x1": "2020-10-01",
                "y0": 1.9031881802791482,
                "y1": 1.9031881802791482
               },
               {
                "line": {
                 "color": "#f76d23",
                 "dash": "dot",
                 "width": 3
                },
                "type": "line",
                "x0": "2020-02-15",
                "x1": "2020-02-15",
                "y0": -16.67100280377729,
                "y1": 19.484428501992266
               }
              ],
              "title": "% Prediction error in residential consumption for West Virginia"
             },
             [
              0
             ]
            ],
            "label": "West Virginia",
            "method": "update",
            "visible": true
           },
           {
            "args": [
             {
              "type": "scatter",
              "x": [
               [
                "2020-10-01",
                "2020-09-01",
                "2020-08-01",
                "2020-07-01",
                "2020-06-01",
                "2020-05-01",
                "2020-04-01",
                "2020-03-01",
                "2020-02-01",
                "2020-01-01",
                "2019-12-01",
                "2019-11-01",
                "2019-10-01",
                "2019-09-01",
                "2019-08-01",
                "2019-07-01",
                "2019-06-01",
                "2019-05-01",
                "2019-04-01",
                "2019-03-01",
                "2019-02-01",
                "2019-01-01"
               ]
              ],
              "y": [
               [
                6.74,
                2.39,
                7.39,
                7.96,
                11.93,
                11.61,
                4.55,
                2.83,
                -4.52,
                0.15,
                -0.27,
                1.52,
                3.95,
                -3.92,
                -3.32,
                -0.21,
                -1.63,
                -0.01,
                0.47,
                1.84,
                4.36,
                -1.83
               ]
              ]
             },
             {
              "annotations": [
               {
                "font_color": "green",
                "font_family": "Arial",
                "font_size": 14,
                "showarrow": false,
                "text": "<b>+7.17%</b>",
                "x": "2020-01-20",
                "y": 6.92524887545615
               }
              ],
              "shapes": [
               {
                "line": {
                 "color": "red",
                 "dash": "dash",
                 "width": 2
                },
                "type": "line",
                "x0": "2019-01-01",
                "x1": "2020-02-15",
                "y0": -0.24375562883165536,
                "y1": -0.24375562883165536
               },
               {
                "line": {
                 "color": "green",
                 "dash": "dash",
                 "width": 2
                },
                "type": "line",
                "x0": "2020-02-15",
                "x1": "2020-10-01",
                "y0": 6.92524887545615,
                "y1": 6.92524887545615
               },
               {
                "line": {
                 "color": "#f76d23",
                 "dash": "dot",
                 "width": 3
                },
                "type": "line",
                "x0": "2020-02-15",
                "x1": "2020-02-15",
                "y0": -5.419041337765585,
                "y1": 14.311000065342574
               }
              ],
              "title": "% Prediction error in residential consumption for Wisconsin"
             },
             [
              0
             ]
            ],
            "label": "Wisconsin",
            "method": "update",
            "visible": true
           },
           {
            "args": [
             {
              "type": "scatter",
              "x": [
               [
                "2020-10-01",
                "2020-09-01",
                "2020-08-01",
                "2020-07-01",
                "2020-06-01",
                "2020-05-01",
                "2020-04-01",
                "2020-03-01",
                "2020-02-01",
                "2020-01-01",
                "2019-12-01",
                "2019-11-01",
                "2019-10-01",
                "2019-09-01",
                "2019-08-01",
                "2019-07-01",
                "2019-06-01",
                "2019-05-01",
                "2019-04-01",
                "2019-03-01",
                "2019-02-01",
                "2019-01-01"
               ]
              ],
              "y": [
               [
                -4.14,
                -4.84,
                1.14,
                2.66,
                4.04,
                -7.44,
                0.47,
                -3.11,
                -6.11,
                -11.76,
                -2.39,
                3.57,
                6.08,
                -3.48,
                -4.83,
                3.86,
                8.69,
                -2.56,
                -4.27,
                3.6,
                -2.93,
                -1.66
               ]
              ]
             },
             {
              "annotations": [
               {
                "font_color": "red",
                "font_family": "Arial",
                "font_size": 14,
                "showarrow": false,
                "text": "<b>-0.39%</b>",
                "x": "2020-01-20",
                "y": -1.4049533806998125
               }
              ],
              "shapes": [
               {
                "line": {
                 "color": "red",
                 "dash": "dash",
                 "width": 2
                },
                "type": "line",
                "x0": "2019-01-01",
                "x1": "2020-02-15",
                "y0": -1.0135887813139612,
                "y1": -1.0135887813139612
               },
               {
                "line": {
                 "color": "green",
                 "dash": "dash",
                 "width": 2
                },
                "type": "line",
                "x0": "2020-02-15",
                "x1": "2020-10-01",
                "y0": -1.4049533806998125,
                "y1": -1.4049533806998125
               },
               {
                "line": {
                 "color": "#f76d23",
                 "dash": "dot",
                 "width": 3
                },
                "type": "line",
                "x0": "2020-02-15",
                "x1": "2020-02-15",
                "y0": -14.106385068468917,
                "y1": 10.430818537167289
               }
              ],
              "title": "% Prediction error in residential consumption for Wyoming"
             },
             [
              0
             ]
            ],
            "label": "Wyoming",
            "method": "update",
            "visible": true
           }
          ],
          "direction": "down",
          "showactive": true
         }
        ],
        "xaxis": {
         "autorange": true,
         "range": [
          "2018-11-23 11:31:34.9302",
          "2020-11-08 12:28:25.0698"
         ],
         "type": "date"
        },
        "yaxis": {
         "autorange": true,
         "range": [
          -7.97499610368193,
          9.929166480902717
         ],
         "type": "linear"
        }
       }
      },
      "image/png": "[encoded data removed]",
      "text/html": [
       "<div>\n",
       "        \n",
       "        \n",
       "            <div id=\"0d4f517f-3c07-4685-8890-c2fd7605955c\" class=\"plotly-graph-div\" style=\"height:525px; width:100%;\"></div>\n",
       "            <script type=\"text/javascript\">\n",
       "                require([\"plotly\"], function(Plotly) {\n",
       "                    window.PLOTLYENV=window.PLOTLYENV || {};\n",
       "                    \n",
       "                if (document.getElementById(\"0d4f517f-3c07-4685-8890-c2fd7605955c\")) {\n",
       "                    Plotly.newPlot(\n",
       "                        '0d4f517f-3c07-4685-8890-c2fd7605955c',\n",
       "                        [{\"marker\": {\"color\": \"#27a3aa\"}, \"mode\": \"lines+markers\", \"type\": \"scatter\", \"visible\": true, \"x\": [\"2019-01-01\", \"2019-02-01\", \"2019-03-01\", \"2019-04-01\", \"2019-05-01\", \"2019-06-01\", \"2019-07-01\", \"2019-08-01\", \"2019-09-01\", \"2019-10-01\", \"2019-11-01\", \"2019-12-01\", \"2020-01-01\", \"2020-02-01\", \"2020-03-01\", \"2020-04-01\", \"2020-05-01\", \"2020-06-01\", \"2020-07-01\", \"2020-08-01\", \"2020-09-01\", \"2020-10-01\"], \"y\": [-4.85, -1.03, -0.35, 0.35, -1.92, 1.79, -1.44, -0.68, -1.04, 3.73, -0.51, 0.83, -6.56, -4.95, -3.81, 0.53, 8.19, 4.84, 2.14, 1.88, 1.58, 1.21]}],\n",
       "                        {\"annotations\": [{\"font\": {\"color\": \"green\", \"family\": \"Arial\", \"size\": 14}, \"showarrow\": false, \"text\": \"<b>+3.26%</b>\", \"x\": \"2020-01-20\", \"y\": 2.069174442205272}], \"shapes\": [{\"line\": {\"color\": \"#f76d23\", \"dash\": \"dot\", \"width\": 3}, \"type\": \"line\", \"x0\": \"2020-02-15\", \"x1\": \"2020-02-15\", \"y0\": -7.875528533767571, \"y1\": 9.829698910988357}, {\"line\": {\"color\": \"red\", \"dash\": \"dash\", \"width\": 2}, \"type\": \"line\", \"x0\": \"2019-01-01\", \"x1\": \"2020-02-15\", \"y0\": -1.1877076309671304, \"y1\": -1.1877076309671304}, {\"line\": {\"color\": \"green\", \"dash\": \"dash\", \"width\": 2}, \"type\": \"line\", \"x0\": \"2020-02-15\", \"x1\": \"2020-10-01\", \"y0\": 2.069174442205272, \"y1\": 2.069174442205272}], \"showlegend\": false, \"template\": {\"data\": {\"bar\": [{\"error_x\": {\"color\": \"#2a3f5f\"}, \"error_y\": {\"color\": \"#2a3f5f\"}, \"marker\": {\"line\": {\"color\": \"#E5ECF6\", \"width\": 0.5}}, \"type\": \"bar\"}], \"barpolar\": [{\"marker\": {\"line\": {\"color\": \"#E5ECF6\", \"width\": 0.5}}, \"type\": \"barpolar\"}], \"carpet\": [{\"aaxis\": {\"endlinecolor\": \"#2a3f5f\", \"gridcolor\": \"white\", \"linecolor\": \"white\", \"minorgridcolor\": \"white\", \"startlinecolor\": \"#2a3f5f\"}, \"baxis\": {\"endlinecolor\": \"#2a3f5f\", \"gridcolor\": \"white\", \"linecolor\": \"white\", \"minorgridcolor\": \"white\", \"startlinecolor\": \"#2a3f5f\"}, \"type\": \"carpet\"}], \"choropleth\": [{\"colorbar\": {\"outlinewidth\": 0, \"ticks\": \"\"}, \"type\": \"choropleth\"}], \"contour\": [{\"colorbar\": {\"outlinewidth\": 0, \"ticks\": \"\"}, \"colorscale\": [[0.0, \"#0d0887\"], [0.1111111111111111, \"#46039f\"], [0.2222222222222222, \"#7201a8\"], [0.3333333333333333, \"#9c179e\"], [0.4444444444444444, \"#bd3786\"], [0.5555555555555556, \"#d8576b\"], [0.6666666666666666, \"#ed7953\"], [0.7777777777777778, \"#fb9f3a\"], [0.8888888888888888, \"#fdca26\"], [1.0, \"#f0f921\"]], \"type\": \"contour\"}], \"contourcarpet\": [{\"colorbar\": {\"outlinewidth\": 0, \"ticks\": \"\"}, \"type\": \"contourcarpet\"}], \"heatmap\": [{\"colorbar\": {\"outlinewidth\": 0, \"ticks\": \"\"}, \"colorscale\": [[0.0, \"#0d0887\"], [0.1111111111111111, \"#46039f\"], [0.2222222222222222, \"#7201a8\"], [0.3333333333333333, \"#9c179e\"], [0.4444444444444444, \"#bd3786\"], [0.5555555555555556, \"#d8576b\"], [0.6666666666666666, \"#ed7953\"], [0.7777777777777778, \"#fb9f3a\"], [0.8888888888888888, \"#fdca26\"], [1.0, \"#f0f921\"]], \"type\": \"heatmap\"}], \"heatmapgl\": [{\"colorbar\": {\"outlinewidth\": 0, \"ticks\": \"\"}, \"colorscale\": [[0.0, \"#0d0887\"], [0.1111111111111111, \"#46039f\"], [0.2222222222222222, \"#7201a8\"], [0.3333333333333333, \"#9c179e\"], [0.4444444444444444, \"#bd3786\"], [0.5555555555555556, \"#d8576b\"], [0.6666666666666666, \"#ed7953\"], [0.7777777777777778, \"#fb9f3a\"], [0.8888888888888888, \"#fdca26\"], [1.0, \"#f0f921\"]], \"type\": \"heatmapgl\"}], \"histogram\": [{\"marker\": {\"colorbar\": {\"outlinewidth\": 0, \"ticks\": \"\"}}, \"type\": \"histogram\"}], \"histogram2d\": [{\"colorbar\": {\"outlinewidth\": 0, \"ticks\": \"\"}, \"colorscale\": [[0.0, \"#0d0887\"], [0.1111111111111111, \"#46039f\"], [0.2222222222222222, \"#7201a8\"], [0.3333333333333333, \"#9c179e\"], [0.4444444444444444, \"#bd3786\"], [0.5555555555555556, \"#d8576b\"], [0.6666666666666666, \"#ed7953\"], [0.7777777777777778, \"#fb9f3a\"], [0.8888888888888888, \"#fdca26\"], [1.0, \"#f0f921\"]], \"type\": \"histogram2d\"}], \"histogram2dcontour\": [{\"colorbar\": {\"outlinewidth\": 0, \"ticks\": \"\"}, \"colorscale\": [[0.0, \"#0d0887\"], [0.1111111111111111, \"#46039f\"], [0.2222222222222222, \"#7201a8\"], [0.3333333333333333, \"#9c179e\"], [0.4444444444444444, \"#bd3786\"], [0.5555555555555556, \"#d8576b\"], [0.6666666666666666, \"#ed7953\"], [0.7777777777777778, \"#fb9f3a\"], [0.8888888888888888, \"#fdca26\"], [1.0, \"#f0f921\"]], \"type\": \"histogram2dcontour\"}], \"mesh3d\": [{\"colorbar\": {\"outlinewidth\": 0, \"ticks\": \"\"}, \"type\": \"mesh3d\"}], \"parcoords\": [{\"line\": {\"colorbar\": {\"outlinewidth\": 0, \"ticks\": \"\"}}, \"type\": \"parcoords\"}], \"pie\": [{\"automargin\": true, \"type\": \"pie\"}], \"scatter\": [{\"marker\": {\"colorbar\": {\"outlinewidth\": 0, \"ticks\": \"\"}}, \"type\": \"scatter\"}], \"scatter3d\": [{\"line\": {\"colorbar\": {\"outlinewidth\": 0, \"ticks\": \"\"}}, \"marker\": {\"colorbar\": {\"outlinewidth\": 0, \"ticks\": \"\"}}, \"type\": \"scatter3d\"}], \"scattercarpet\": [{\"marker\": {\"colorbar\": {\"outlinewidth\": 0, \"ticks\": \"\"}}, \"type\": \"scattercarpet\"}], \"scattergeo\": [{\"marker\": {\"colorbar\": {\"outlinewidth\": 0, \"ticks\": \"\"}}, \"type\": \"scattergeo\"}], \"scattergl\": [{\"marker\": {\"colorbar\": {\"outlinewidth\": 0, \"ticks\": \"\"}}, \"type\": \"scattergl\"}], \"scattermapbox\": [{\"marker\": {\"colorbar\": {\"outlinewidth\": 0, \"ticks\": \"\"}}, \"type\": \"scattermapbox\"}], \"scatterpolar\": [{\"marker\": {\"colorbar\": {\"outlinewidth\": 0, \"ticks\": \"\"}}, \"type\": \"scatterpolar\"}], \"scatterpolargl\": [{\"marker\": {\"colorbar\": {\"outlinewidth\": 0, \"ticks\": \"\"}}, \"type\": \"scatterpolargl\"}], \"scatterternary\": [{\"marker\": {\"colorbar\": {\"outlinewidth\": 0, \"ticks\": \"\"}}, \"type\": \"scatterternary\"}], \"surface\": [{\"colorbar\": {\"outlinewidth\": 0, \"ticks\": \"\"}, \"colorscale\": [[0.0, \"#0d0887\"], [0.1111111111111111, \"#46039f\"], [0.2222222222222222, \"#7201a8\"], [0.3333333333333333, \"#9c179e\"], [0.4444444444444444, \"#bd3786\"], [0.5555555555555556, \"#d8576b\"], [0.6666666666666666, \"#ed7953\"], [0.7777777777777778, \"#fb9f3a\"], [0.8888888888888888, \"#fdca26\"], [1.0, \"#f0f921\"]], \"type\": \"surface\"}], \"table\": [{\"cells\": {\"fill\": {\"color\": \"#EBF0F8\"}, \"line\": {\"color\": \"white\"}}, \"header\": {\"fill\": {\"color\": \"#C8D4E3\"}, \"line\": {\"color\": \"white\"}}, \"type\": \"table\"}]}, \"layout\": {\"annotationdefaults\": {\"arrowcolor\": \"#2a3f5f\", \"arrowhead\": 0, \"arrowwidth\": 1}, \"coloraxis\": {\"colorbar\": {\"outlinewidth\": 0, \"ticks\": \"\"}}, \"colorscale\": {\"diverging\": [[0, \"#8e0152\"], [0.1, \"#c51b7d\"], [0.2, \"#de77ae\"], [0.3, \"#f1b6da\"], [0.4, \"#fde0ef\"], [0.5, \"#f7f7f7\"], [0.6, \"#e6f5d0\"], [0.7, \"#b8e186\"], [0.8, \"#7fbc41\"], [0.9, \"#4d9221\"], [1, \"#276419\"]], \"sequential\": [[0.0, \"#0d0887\"], [0.1111111111111111, \"#46039f\"], [0.2222222222222222, \"#7201a8\"], [0.3333333333333333, \"#9c179e\"], [0.4444444444444444, \"#bd3786\"], [0.5555555555555556, \"#d8576b\"], [0.6666666666666666, \"#ed7953\"], [0.7777777777777778, \"#fb9f3a\"], [0.8888888888888888, \"#fdca26\"], [1.0, \"#f0f921\"]], \"sequentialminus\": [[0.0, \"#0d0887\"], [0.1111111111111111, \"#46039f\"], [0.2222222222222222, \"#7201a8\"], [0.3333333333333333, \"#9c179e\"], [0.4444444444444444, \"#bd3786\"], [0.5555555555555556, \"#d8576b\"], [0.6666666666666666, \"#ed7953\"], [0.7777777777777778, \"#fb9f3a\"], [0.8888888888888888, \"#fdca26\"], [1.0, \"#f0f921\"]]}, \"colorway\": [\"#636efa\", \"#EF553B\", \"#00cc96\", \"#ab63fa\", \"#FFA15A\", \"#19d3f3\", \"#FF6692\", \"#B6E880\", \"#FF97FF\", \"#FECB52\"], \"font\": {\"color\": \"#2a3f5f\"}, \"geo\": {\"bgcolor\": \"white\", \"lakecolor\": \"white\", \"landcolor\": \"#E5ECF6\", \"showlakes\": true, \"showland\": true, \"subunitcolor\": \"white\"}, \"hoverlabel\": {\"align\": \"left\"}, \"hovermode\": \"closest\", \"mapbox\": {\"style\": \"light\"}, \"paper_bgcolor\": \"white\", \"plot_bgcolor\": \"#E5ECF6\", \"polar\": {\"angularaxis\": {\"gridcolor\": \"white\", \"linecolor\": \"white\", \"ticks\": \"\"}, \"bgcolor\": \"#E5ECF6\", \"radialaxis\": {\"gridcolor\": \"white\", \"linecolor\": \"white\", \"ticks\": \"\"}}, \"scene\": {\"xaxis\": {\"backgroundcolor\": \"#E5ECF6\", \"gridcolor\": \"white\", \"gridwidth\": 2, \"linecolor\": \"white\", \"showbackground\": true, \"ticks\": \"\", \"zerolinecolor\": \"white\"}, \"yaxis\": {\"backgroundcolor\": \"#E5ECF6\", \"gridcolor\": \"white\", \"gridwidth\": 2, \"linecolor\": \"white\", \"showbackground\": true, \"ticks\": \"\", \"zerolinecolor\": \"white\"}, \"zaxis\": {\"backgroundcolor\": \"#E5ECF6\", \"gridcolor\": \"white\", \"gridwidth\": 2, \"linecolor\": \"white\", \"showbackground\": true, \"ticks\": \"\", \"zerolinecolor\": \"white\"}}, \"shapedefaults\": {\"line\": {\"color\": \"#2a3f5f\"}}, \"ternary\": {\"aaxis\": {\"gridcolor\": \"white\", \"linecolor\": \"white\", \"ticks\": \"\"}, \"baxis\": {\"gridcolor\": \"white\", \"linecolor\": \"white\", \"ticks\": \"\"}, \"bgcolor\": \"#E5ECF6\", \"caxis\": {\"gridcolor\": \"white\", \"linecolor\": \"white\", \"ticks\": \"\"}}, \"title\": {\"x\": 0.05}, \"xaxis\": {\"automargin\": true, \"gridcolor\": \"white\", \"linecolor\": \"white\", \"ticks\": \"\", \"title\": {\"standoff\": 15}, \"zerolinecolor\": \"white\", \"zerolinewidth\": 2}, \"yaxis\": {\"automargin\": true, \"gridcolor\": \"white\", \"linecolor\": \"white\", \"ticks\": \"\", \"title\": {\"standoff\": 15}, \"zerolinecolor\": \"white\", \"zerolinewidth\": 2}}}, \"updatemenus\": [{\"buttons\": [{\"args\": [{\"type\": \"scatter\", \"x\": [[\"2019-01-01\", \"2019-02-01\", \"2019-03-01\", \"2019-04-01\", \"2019-05-01\", \"2019-06-01\", \"2019-07-01\", \"2019-08-01\", \"2019-09-01\", \"2019-10-01\", \"2019-11-01\", \"2019-12-01\", \"2020-01-01\", \"2020-02-01\", \"2020-03-01\", \"2020-04-01\", \"2020-05-01\", \"2020-06-01\", \"2020-07-01\", \"2020-08-01\", \"2020-09-01\", \"2020-10-01\"]], \"y\": [[-4.85, -1.03, -0.35, 0.35, -1.92, 1.79, -1.44, -0.68, -1.04, 3.73, -0.51, 0.83, -6.56, -4.95, -3.81, 0.53, 8.19, 4.84, 2.14, 1.88, 1.58, 1.21]]}, {\"annotations\": [{\"font_color\": \"green\", \"font_family\": \"Arial\", \"font_size\": 14, \"showarrow\": false, \"text\": \"<b>+3.26%</b>\", \"x\": \"2020-01-20\", \"y\": 2.069174442205272}], \"shapes\": [{\"line\": {\"color\": \"red\", \"dash\": \"dash\", \"width\": 2}, \"type\": \"line\", \"x0\": \"2019-01-01\", \"x1\": \"2020-02-15\", \"y0\": -1.1877076309671304, \"y1\": -1.1877076309671304}, {\"line\": {\"color\": \"green\", \"dash\": \"dash\", \"width\": 2}, \"type\": \"line\", \"x0\": \"2020-02-15\", \"x1\": \"2020-10-01\", \"y0\": 2.069174442205272, \"y1\": 2.069174442205272}, {\"line\": {\"color\": \"#f76d23\", \"dash\": \"dot\", \"width\": 3}, \"type\": \"line\", \"x0\": \"2020-02-15\", \"x1\": \"2020-02-15\", \"y0\": -7.875528533767571, \"y1\": 9.829698910988357}], \"title\": \"% Prediction error in residential consumption for USA\"}, [0]], \"label\": \"USA\", \"method\": \"update\", \"visible\": true}, {\"args\": [{\"type\": \"scatter\", \"x\": [[\"2020-10-01\", \"2020-09-01\", \"2020-08-01\", \"2020-07-01\", \"2020-06-01\", \"2020-05-01\", \"2020-04-01\", \"2020-03-01\", \"2020-02-01\", \"2020-01-01\", \"2019-12-01\", \"2019-11-01\", \"2019-10-01\", \"2019-09-01\", \"2019-08-01\", \"2019-07-01\", \"2019-06-01\", \"2019-05-01\", \"2019-04-01\", \"2019-03-01\", \"2019-02-01\", \"2019-01-01\"]], \"y\": [[-3.13, -4.66, -0.3, -7.57, -3.73, 1.77, -6.42, 1.21, -7.49, -11.13, 0.55, -3.29, 9.71, 0.32, -1.8, -5.67, 3.34, 1.06, 2.56, -4.77, -2.36, -4.06]]}, {\"annotations\": [{\"font_color\": \"red\", \"font_family\": \"Arial\", \"font_size\": 14, \"showarrow\": false, \"text\": \"<b>-1.21%</b>\", \"x\": \"2020-01-20\", \"y\": -2.854182682117769}], \"shapes\": [{\"line\": {\"color\": \"red\", \"dash\": \"dash\", \"width\": 2}, \"type\": \"line\", \"x0\": \"2019-01-01\", \"x1\": \"2020-02-15\", \"y0\": -1.645095901773678, \"y1\": -1.645095901773678}, {\"line\": {\"color\": \"green\", \"dash\": \"dash\", \"width\": 2}, \"type\": \"line\", \"x0\": \"2020-02-15\", \"x1\": \"2020-10-01\", \"y0\": -2.854182682117769, \"y1\": -2.854182682117769}, {\"line\": {\"color\": \"#f76d23\", \"dash\": \"dot\", \"width\": 3}, \"type\": \"line\", \"x0\": \"2020-02-15\", \"x1\": \"2020-02-15\", \"y0\": -13.360393609376324, \"y1\": 11.6535872858124}], \"title\": \"% Prediction error in residential consumption for Alabama\"}, [0]], \"label\": \"Alabama\", \"method\": \"update\", \"visible\": true}, {\"args\": [{\"type\": \"scatter\", \"x\": [[\"2020-10-01\", \"2020-09-01\", \"2020-08-01\", \"2020-07-01\", \"2020-06-01\", \"2020-05-01\", \"2020-04-01\", \"2020-03-01\", \"2020-02-01\", \"2020-01-01\", \"2019-12-01\", \"2019-11-01\", \"2019-10-01\", \"2019-09-01\", \"2019-08-01\", \"2019-07-01\", \"2019-06-01\", \"2019-05-01\", \"2019-04-01\", \"2019-03-01\", \"2019-02-01\", \"2019-01-01\"]], \"y\": [[10.72, 3.46, 2.5, 6.95, 7.52, 14.04, 11.41, 1.0, 0.46, -0.6, 2.15, -0.85, -5.57, -0.31, -0.62, 0.24, 2.41, 0.52, 3.41, -0.7, 5.55, -1.21]]}, {\"annotations\": [{\"font_color\": \"green\", \"font_family\": \"Arial\", \"font_size\": 14, \"showarrow\": false, \"text\": \"<b>+6.85%</b>\", \"x\": \"2020-01-20\", \"y\": 7.201548663461471}], \"shapes\": [{\"line\": {\"color\": \"red\", \"dash\": \"dash\", \"width\": 2}, \"type\": \"line\", \"x0\": \"2019-01-01\", \"x1\": \"2020-02-15\", \"y0\": 0.3489891320795015, \"y1\": 0.3489891320795015}, {\"line\": {\"color\": \"green\", \"dash\": \"dash\", \"width\": 2}, \"type\": \"line\", \"x0\": \"2020-02-15\", \"x1\": \"2020-10-01\", \"y0\": 7.201548663461471, \"y1\": 7.201548663461471}, {\"line\": {\"color\": \"#f76d23\", \"dash\": \"dot\", \"width\": 3}, \"type\": \"line\", \"x0\": \"2020-02-15\", \"x1\": \"2020-02-15\", \"y0\": -6.680715176299402, \"y1\": 16.85269322454332}], \"title\": \"% Prediction error in residential consumption for Arizona\"}, [0]], \"label\": \"Arizona\", \"method\": \"update\", \"visible\": true}, {\"args\": [{\"type\": \"scatter\", \"x\": [[\"2020-10-01\", \"2020-09-01\", \"2020-08-01\", \"2020-07-01\", \"2020-06-01\", \"2020-05-01\", \"2020-04-01\", \"2020-03-01\", \"2020-02-01\", \"2020-01-01\", \"2019-12-01\", \"2019-11-01\", \"2019-10-01\", \"2019-09-01\", \"2019-08-01\", \"2019-07-01\", \"2019-06-01\", \"2019-05-01\", \"2019-04-01\", \"2019-03-01\", \"2019-02-01\", \"2019-01-01\"]], \"y\": [[-9.84, -2.99, -5.52, -7.65, -5.03, -1.97, -5.39, -5.03, -13.56, -6.17, 6.64, 0.66, 9.59, -2.92, -5.12, -7.89, 2.3, -6.26, 3.22, 1.1, 1.08, -7.94]]}, {\"annotations\": [{\"font_color\": \"red\", \"font_family\": \"Arial\", \"font_size\": 14, \"showarrow\": false, \"text\": \"<b>-3.62%</b>\", \"x\": \"2020-01-20\", \"y\": -5.429377667690617}], \"shapes\": [{\"line\": {\"color\": \"red\", \"dash\": \"dash\", \"width\": 2}, \"type\": \"line\", \"x0\": \"2019-01-01\", \"x1\": \"2020-02-15\", \"y0\": -1.806448442393794, \"y1\": -1.806448442393794}, {\"line\": {\"color\": \"green\", \"dash\": \"dash\", \"width\": 2}, \"type\": \"line\", \"x0\": \"2020-02-15\", \"x1\": \"2020-10-01\", \"y0\": -5.429377667690617, \"y1\": -5.429377667690617}, {\"line\": {\"color\": \"#f76d23\", \"dash\": \"dot\", \"width\": 3}, \"type\": \"line\", \"x0\": \"2020-02-15\", \"x1\": \"2020-02-15\", \"y0\": -16.268793194957112, \"y1\": 11.504662102164902}], \"title\": \"% Prediction error in residential consumption for Arkansas\"}, [0]], \"label\": \"Arkansas\", \"method\": \"update\", \"visible\": true}, {\"args\": [{\"type\": \"scatter\", \"x\": [[\"2020-10-01\", \"2020-09-01\", \"2020-08-01\", \"2020-07-01\", \"2020-06-01\", \"2020-05-01\", \"2020-04-01\", \"2020-03-01\", \"2020-02-01\", \"2020-01-01\", \"2019-12-01\", \"2019-11-01\", \"2019-10-01\", \"2019-09-01\", \"2019-08-01\", \"2019-07-01\", \"2019-06-01\", \"2019-05-01\", \"2019-04-01\", \"2019-03-01\", \"2019-02-01\", \"2019-01-01\"]], \"y\": [[13.05, 3.31, 3.56, 13.09, 10.17, 15.88, -9.16, -9.22, -17.51, -2.25, 4.02, -4.95, -6.05, 2.17, 6.06, 3.0, -4.58, 6.06, -12.87, 2.72, -0.57, 4.93]]}, {\"annotations\": [{\"font_color\": \"green\", \"font_family\": \"Arial\", \"font_size\": 14, \"showarrow\": false, \"text\": \"<b>+6.5%</b>\", \"x\": \"2020-01-20\", \"y\": 5.086162506238081}], \"shapes\": [{\"line\": {\"color\": \"red\", \"dash\": \"dash\", \"width\": 2}, \"type\": \"line\", \"x0\": \"2019-01-01\", \"x1\": \"2020-02-15\", \"y0\": -1.4154681483741303, \"y1\": -1.4154681483741303}, {\"line\": {\"color\": \"green\", \"dash\": \"dash\", \"width\": 2}, \"type\": \"line\", \"x0\": \"2020-02-15\", \"x1\": \"2020-10-01\", \"y0\": 5.086162506238081, \"y1\": 5.086162506238081}, {\"line\": {\"color\": \"#f76d23\", \"dash\": \"dot\", \"width\": 3}, \"type\": \"line\", \"x0\": \"2020-02-15\", \"x1\": \"2020-02-15\", \"y0\": -21.014892525123102, \"y1\": 19.06147235755068}], \"title\": \"% Prediction error in residential consumption for California\"}, [0]], \"label\": \"California\", \"method\": \"update\", \"visible\": true}, {\"args\": [{\"type\": \"scatter\", \"x\": [[\"2020-10-01\", \"2020-09-01\", \"2020-08-01\", \"2020-07-01\", \"2020-06-01\", \"2020-05-01\", \"2020-04-01\", \"2020-03-01\", \"2020-02-01\", \"2020-01-01\", \"2019-12-01\", \"2019-11-01\", \"2019-10-01\", \"2019-09-01\", \"2019-08-01\", \"2019-07-01\", \"2019-06-01\", \"2019-05-01\", \"2019-04-01\", \"2019-03-01\", \"2019-02-01\", \"2019-01-01\"]], \"y\": [[4.59, 4.17, 4.31, 7.63, 12.89, 4.84, 1.04, -1.81, -3.87, -4.67, -2.63, 0.21, -1.82, 2.98, 3.92, 0.26, -2.37, 3.6, -1.55, 1.71, -4.58, -4.44]]}, {\"annotations\": [{\"font_color\": \"green\", \"font_family\": \"Arial\", \"font_size\": 14, \"showarrow\": false, \"text\": \"<b>+5.65%</b>\", \"x\": \"2020-01-20\", \"y\": 4.707764519095917}], \"shapes\": [{\"line\": {\"color\": \"red\", \"dash\": \"dash\", \"width\": 2}, \"type\": \"line\", \"x0\": \"2019-01-01\", \"x1\": \"2020-02-15\", \"y0\": -0.9454520013730575, \"y1\": -0.9454520013730575}, {\"line\": {\"color\": \"green\", \"dash\": \"dash\", \"width\": 2}, \"type\": \"line\", \"x0\": \"2020-02-15\", \"x1\": \"2020-10-01\", \"y0\": 4.707764519095917, \"y1\": 4.707764519095917}, {\"line\": {\"color\": \"#f76d23\", \"dash\": \"dot\", \"width\": 3}, \"type\": \"line\", \"x0\": \"2020-02-15\", \"x1\": \"2020-02-15\", \"y0\": -5.599270455224186, \"y1\": 15.470059013240373}], \"title\": \"% Prediction error in residential consumption for Colorado\"}, [0]], \"label\": \"Colorado\", \"method\": \"update\", \"visible\": true}, {\"args\": [{\"type\": \"scatter\", \"x\": [[\"2020-10-01\", \"2020-09-01\", \"2020-08-01\", \"2020-07-01\", \"2020-06-01\", \"2020-05-01\", \"2020-04-01\", \"2020-03-01\", \"2020-02-01\", \"2020-01-01\", \"2019-12-01\", \"2019-11-01\", \"2019-10-01\", \"2019-09-01\", \"2019-08-01\", \"2019-07-01\", \"2019-06-01\", \"2019-05-01\", \"2019-04-01\", \"2019-03-01\", \"2019-02-01\", \"2019-01-01\"]], \"y\": [[4.62, -7.62, 5.71, 8.97, 13.94, 9.82, -1.14, -6.17, -9.54, -4.0, 12.09, -9.49, -1.56, -16.69, 2.88, 6.12, 2.7, -0.57, -8.74, -2.78, -4.26, -2.66]]}, {\"annotations\": [{\"font_color\": \"green\", \"font_family\": \"Arial\", \"font_size\": 14, \"showarrow\": false, \"text\": \"<b>+6.12%</b>\", \"x\": \"2020-01-20\", \"y\": 3.5147524118888662}], \"shapes\": [{\"line\": {\"color\": \"red\", \"dash\": \"dash\", \"width\": 2}, \"type\": \"line\", \"x0\": \"2019-01-01\", \"x1\": \"2020-02-15\", \"y0\": -2.605855093808646, \"y1\": -2.605855093808646}, {\"line\": {\"color\": \"green\", \"dash\": \"dash\", \"width\": 2}, \"type\": \"line\", \"x0\": \"2020-02-15\", \"x1\": \"2020-10-01\", \"y0\": 3.5147524118888662, \"y1\": 3.5147524118888662}, {\"line\": {\"color\": \"#f76d23\", \"dash\": \"dot\", \"width\": 3}, \"type\": \"line\", \"x0\": \"2020-02-15\", \"x1\": \"2020-02-15\", \"y0\": -20.022039339483666, \"y1\": 16.732600400402955}], \"title\": \"% Prediction error in residential consumption for Connecticut\"}, [0]], \"label\": \"Connecticut\", \"method\": \"update\", \"visible\": true}, {\"args\": [{\"type\": \"scatter\", \"x\": [[\"2020-10-01\", \"2020-09-01\", \"2020-08-01\", \"2020-07-01\", \"2020-06-01\", \"2020-05-01\", \"2020-04-01\", \"2020-03-01\", \"2020-02-01\", \"2020-01-01\", \"2019-12-01\", \"2019-11-01\", \"2019-10-01\", \"2019-09-01\", \"2019-08-01\", \"2019-07-01\", \"2019-06-01\", \"2019-05-01\", \"2019-04-01\", \"2019-03-01\", \"2019-02-01\", \"2019-01-01\"]], \"y\": [[0.61, 8.53, -3.67, -5.23, -7.46, 29.84, -1.06, -13.4, -8.31, 3.45, -1.29, 4.13, 2.79, -5.43, -3.42, -3.6, -2.25, -2.91, -1.07, 6.92, 6.79, -2.98]]}, {\"annotations\": [{\"font_color\": \"green\", \"font_family\": \"Arial\", \"font_size\": 14, \"showarrow\": false, \"text\": \"<b>+1.53%</b>\", \"x\": \"2020-01-20\", \"y\": 1.020865645017106}], \"shapes\": [{\"line\": {\"color\": \"red\", \"dash\": \"dash\", \"width\": 2}, \"type\": \"line\", \"x0\": \"2019-01-01\", \"x1\": \"2020-02-15\", \"y0\": -0.512868509591627, \"y1\": -0.512868509591627}, {\"line\": {\"color\": \"green\", \"dash\": \"dash\", \"width\": 2}, \"type\": \"line\", \"x0\": \"2020-02-15\", \"x1\": \"2020-10-01\", \"y0\": 1.020865645017106, \"y1\": 1.020865645017106}, {\"line\": {\"color\": \"#f76d23\", \"dash\": \"dot\", \"width\": 3}, \"type\": \"line\", \"x0\": \"2020-02-15\", \"x1\": \"2020-02-15\", \"y0\": -16.07997793602979, \"y1\": 35.81256704107117}], \"title\": \"% Prediction error in residential consumption for District of Columbia\"}, [0]], \"label\": \"District of Columbia\", \"method\": \"update\", \"visible\": true}, {\"args\": [{\"type\": \"scatter\", \"x\": [[\"2020-10-01\", \"2020-09-01\", \"2020-08-01\", \"2020-07-01\", \"2020-06-01\", \"2020-05-01\", \"2020-04-01\", \"2020-03-01\", \"2020-02-01\", \"2020-01-01\", \"2019-12-01\", \"2019-11-01\", \"2019-10-01\", \"2019-09-01\", \"2019-08-01\", \"2019-07-01\", \"2019-06-01\", \"2019-05-01\", \"2019-04-01\", \"2019-03-01\", \"2019-02-01\", \"2019-01-01\"]], \"y\": [[-1.43, 13.07, 3.1, 1.89, 7.45, 17.77, -3.64, -7.03, -14.03, -13.74, 7.2, -0.42, -3.77, -8.05, 2.32, -2.5, 5.56, -7.94, -2.83, 0.55, 3.08, -5.43]]}, {\"annotations\": [{\"font_color\": \"green\", \"font_family\": \"Arial\", \"font_size\": 14, \"showarrow\": false, \"text\": \"<b>+6.75%</b>\", \"x\": \"2020-01-20\", \"y\": 3.8970662193783454}], \"shapes\": [{\"line\": {\"color\": \"red\", \"dash\": \"dash\", \"width\": 2}, \"type\": \"line\", \"x0\": \"2019-01-01\", \"x1\": \"2020-02-15\", \"y0\": -2.856290046323761, \"y1\": -2.856290046323761}, {\"line\": {\"color\": \"green\", \"dash\": \"dash\", \"width\": 2}, \"type\": \"line\", \"x0\": \"2020-02-15\", \"x1\": \"2020-10-01\", \"y0\": 3.8970662193783454, \"y1\": 3.8970662193783454}, {\"line\": {\"color\": \"#f76d23\", \"dash\": \"dot\", \"width\": 3}, \"type\": \"line\", \"x0\": \"2020-02-15\", \"x1\": \"2020-02-15\", \"y0\": -16.837757666064686, \"y1\": 21.319221593280904}], \"title\": \"% Prediction error in residential consumption for Delaware\"}, [0]], \"label\": \"Delaware\", \"method\": \"update\", \"visible\": true}, {\"args\": [{\"type\": \"scatter\", \"x\": [[\"2020-10-01\", \"2020-09-01\", \"2020-08-01\", \"2020-07-01\", \"2020-06-01\", \"2020-05-01\", \"2020-04-01\", \"2020-03-01\", \"2020-02-01\", \"2020-01-01\", \"2019-12-01\", \"2019-11-01\", \"2019-10-01\", \"2019-09-01\", \"2019-08-01\", \"2019-07-01\", \"2019-06-01\", \"2019-05-01\", \"2019-04-01\", \"2019-03-01\", \"2019-02-01\", \"2019-01-01\"]], \"y\": [[2.26, 0.41, 2.61, 0.41, 3.78, 7.98, 9.36, 3.36, -7.64, -11.23, -2.51, 1.81, 3.54, -1.58, -3.47, -1.76, 5.29, 1.44, 2.13, 0.12, 0.29, -8.04]]}, {\"annotations\": [{\"font_color\": \"green\", \"font_family\": \"Arial\", \"font_size\": 14, \"showarrow\": false, \"text\": \"<b>+5.32%</b>\", \"x\": \"2020-01-20\", \"y\": 3.7720918535561956}], \"shapes\": [{\"line\": {\"color\": \"red\", \"dash\": \"dash\", \"width\": 2}, \"type\": \"line\", \"x0\": \"2019-01-01\", \"x1\": \"2020-02-15\", \"y0\": -1.543584829145227, \"y1\": -1.543584829145227}, {\"line\": {\"color\": \"green\", \"dash\": \"dash\", \"width\": 2}, \"type\": \"line\", \"x0\": \"2020-02-15\", \"x1\": \"2020-10-01\", \"y0\": 3.7720918535561956, \"y1\": 3.7720918535561956}, {\"line\": {\"color\": \"#f76d23\", \"dash\": \"dot\", \"width\": 3}, \"type\": \"line\", \"x0\": \"2020-02-15\", \"x1\": \"2020-02-15\", \"y0\": -13.475739347481467, \"y1\": 11.236150611511919}], \"title\": \"% Prediction error in residential consumption for Florida\"}, [0]], \"label\": \"Florida\", \"method\": \"update\", \"visible\": true}, {\"args\": [{\"type\": \"scatter\", \"x\": [[\"2020-10-01\", \"2020-09-01\", \"2020-08-01\", \"2020-07-01\", \"2020-06-01\", \"2020-05-01\", \"2020-04-01\", \"2020-03-01\", \"2020-02-01\", \"2020-01-01\", \"2019-12-01\", \"2019-11-01\", \"2019-10-01\", \"2019-09-01\", \"2019-08-01\", \"2019-07-01\", \"2019-06-01\", \"2019-05-01\", \"2019-04-01\", \"2019-03-01\", \"2019-02-01\", \"2019-01-01\"]], \"y\": [[-5.98, -4.72, -3.87, -4.56, -2.38, 5.7, -8.31, 1.49, -2.43, -8.32, 1.0, 0.31, 3.76, 2.09, -1.11, -5.66, -0.49, 2.24, 3.77, -2.99, -2.3, -3.99]]}, {\"annotations\": [{\"font_color\": \"red\", \"font_family\": \"Arial\", \"font_size\": 14, \"showarrow\": false, \"text\": \"<b>-1.82%</b>\", \"x\": \"2020-01-20\", \"y\": -2.8288865970601536}], \"shapes\": [{\"line\": {\"color\": \"red\", \"dash\": \"dash\", \"width\": 2}, \"type\": \"line\", \"x0\": \"2019-01-01\", \"x1\": \"2020-02-15\", \"y0\": -1.010134998379198, \"y1\": -1.010134998379198}, {\"line\": {\"color\": \"green\", \"dash\": \"dash\", \"width\": 2}, \"type\": \"line\", \"x0\": \"2020-02-15\", \"x1\": \"2020-10-01\", \"y0\": -2.8288865970601536, \"y1\": -2.8288865970601536}, {\"line\": {\"color\": \"#f76d23\", \"dash\": \"dot\", \"width\": 3}, \"type\": \"line\", \"x0\": \"2020-02-15\", \"x1\": \"2020-02-15\", \"y0\": -9.980081062943201, \"y1\": 6.8435321010065016}], \"title\": \"% Prediction error in residential consumption for Georgia\"}, [0]], \"label\": \"Georgia\", \"method\": \"update\", \"visible\": true}, {\"args\": [{\"type\": \"scatter\", \"x\": [[\"2020-10-01\", \"2020-09-01\", \"2020-08-01\", \"2020-07-01\", \"2020-06-01\", \"2020-05-01\", \"2020-04-01\", \"2020-03-01\", \"2020-02-01\", \"2020-01-01\", \"2019-12-01\", \"2019-11-01\", \"2019-10-01\", \"2019-09-01\", \"2019-08-01\", \"2019-07-01\", \"2019-06-01\", \"2019-05-01\", \"2019-04-01\", \"2019-03-01\", \"2019-02-01\", \"2019-01-01\"]], \"y\": [[1.03, 1.83, -1.02, 1.96, 6.41, 3.43, 3.88, -1.27, -2.5, -7.11, -4.8, 3.15, 4.85, 3.38, 0.95, -0.69, 5.49, -1.17, -1.06, 1.97, 0.24, -5.22]]}, {\"annotations\": [{\"font_color\": \"green\", \"font_family\": \"Arial\", \"font_size\": 14, \"showarrow\": false, \"text\": \"<b>+2.21%</b>\", \"x\": \"2020-01-20\", \"y\": 2.031607298132212}], \"shapes\": [{\"line\": {\"color\": \"red\", \"dash\": \"dash\", \"width\": 2}, \"type\": \"line\", \"x0\": \"2019-01-01\", \"x1\": \"2020-02-15\", \"y0\": -0.18191526937183244, \"y1\": -0.18191526937183244}, {\"line\": {\"color\": \"green\", \"dash\": \"dash\", \"width\": 2}, \"type\": \"line\", \"x0\": \"2020-02-15\", \"x1\": \"2020-10-01\", \"y0\": 2.031607298132212, \"y1\": 2.031607298132212}, {\"line\": {\"color\": \"#f76d23\", \"dash\": \"dot\", \"width\": 3}, \"type\": \"line\", \"x0\": \"2020-02-15\", \"x1\": \"2020-02-15\", \"y0\": -8.526747987741754, \"y1\": 7.696897482889176}], \"title\": \"% Prediction error in residential consumption for Idaho\"}, [0]], \"label\": \"Idaho\", \"method\": \"update\", \"visible\": true}, {\"args\": [{\"type\": \"scatter\", \"x\": [[\"2020-10-01\", \"2020-09-01\", \"2020-08-01\", \"2020-07-01\", \"2020-06-01\", \"2020-05-01\", \"2020-04-01\", \"2020-03-01\", \"2020-02-01\", \"2020-01-01\", \"2019-12-01\", \"2019-11-01\", \"2019-10-01\", \"2019-09-01\", \"2019-08-01\", \"2019-07-01\", \"2019-06-01\", \"2019-05-01\", \"2019-04-01\", \"2019-03-01\", \"2019-02-01\", \"2019-01-01\"]], \"y\": [[5.76, 1.11, 8.49, 4.08, 10.46, 15.93, 1.28, 0.93, 0.09, -2.71, -0.04, 0.13, 5.36, -1.82, -1.65, -0.66, 0.2, -0.91, -0.94, 2.57, -0.3, -2.97]]}, {\"annotations\": [{\"font_color\": \"green\", \"font_family\": \"Arial\", \"font_size\": 14, \"showarrow\": false, \"text\": \"<b>+6.26%</b>\", \"x\": \"2020-01-20\", \"y\": 6.0037322025617765}], \"shapes\": [{\"line\": {\"color\": \"red\", \"dash\": \"dash\", \"width\": 2}, \"type\": \"line\", \"x0\": \"2019-01-01\", \"x1\": \"2020-02-15\", \"y0\": -0.26069970090095274, \"y1\": -0.26069970090095274}, {\"line\": {\"color\": \"green\", \"dash\": \"dash\", \"width\": 2}, \"type\": \"line\", \"x0\": \"2020-02-15\", \"x1\": \"2020-10-01\", \"y0\": 6.0037322025617765, \"y1\": 6.0037322025617765}, {\"line\": {\"color\": \"#f76d23\", \"dash\": \"dot\", \"width\": 3}, \"type\": \"line\", \"x0\": \"2020-02-15\", \"x1\": \"2020-02-15\", \"y0\": -3.5612696504505466, \"y1\": 19.11783531892254}], \"title\": \"% Prediction error in residential consumption for Illinois\"}, [0]], \"label\": \"Illinois\", \"method\": \"update\", \"visible\": true}, {\"args\": [{\"type\": \"scatter\", \"x\": [[\"2020-10-01\", \"2020-09-01\", \"2020-08-01\", \"2020-07-01\", \"2020-06-01\", \"2020-05-01\", \"2020-04-01\", \"2020-03-01\", \"2020-02-01\", \"2020-01-01\", \"2019-12-01\", \"2019-11-01\", \"2019-10-01\", \"2019-09-01\", \"2019-08-01\", \"2019-07-01\", \"2019-06-01\", \"2019-05-01\", \"2019-04-01\", \"2019-03-01\", \"2019-02-01\", \"2019-01-01\"]], \"y\": [[1.45, 4.15, 1.05, -5.01, 1.64, 6.22, 0.92, -1.99, -6.0, -9.83, -1.61, -3.09, 5.65, 2.99, 3.15, -5.91, 0.7, -0.35, 2.58, 0.14, -0.36, -8.23]]}, {\"annotations\": [{\"font_color\": \"green\", \"font_family\": \"Arial\", \"font_size\": 14, \"showarrow\": false, \"text\": \"<b>+2.49%</b>\", \"x\": \"2020-01-20\", \"y\": 1.0551966322652202}], \"shapes\": [{\"line\": {\"color\": \"red\", \"dash\": \"dash\", \"width\": 2}, \"type\": \"line\", \"x0\": \"2019-01-01\", \"x1\": \"2020-02-15\", \"y0\": -1.4397313493482073, \"y1\": -1.4397313493482073}, {\"line\": {\"color\": \"green\", \"dash\": \"dash\", \"width\": 2}, \"type\": \"line\", \"x0\": \"2020-02-15\", \"x1\": \"2020-10-01\", \"y0\": 1.0551966322652202, \"y1\": 1.0551966322652202}, {\"line\": {\"color\": \"#f76d23\", \"dash\": \"dot\", \"width\": 3}, \"type\": \"line\", \"x0\": \"2020-02-15\", \"x1\": \"2020-02-15\", \"y0\": -11.797484936067441, \"y1\": 7.4694215558741455}], \"title\": \"% Prediction error in residential consumption for Indiana\"}, [0]], \"label\": \"Indiana\", \"method\": \"update\", \"visible\": true}, {\"args\": [{\"type\": \"scatter\", \"x\": [[\"2020-10-01\", \"2020-09-01\", \"2020-08-01\", \"2020-07-01\", \"2020-06-01\", \"2020-05-01\", \"2020-04-01\", \"2020-03-01\", \"2020-02-01\", \"2020-01-01\", \"2019-12-01\", \"2019-11-01\", \"2019-10-01\", \"2019-09-01\", \"2019-08-01\", \"2019-07-01\", \"2019-06-01\", \"2019-05-01\", \"2019-04-01\", \"2019-03-01\", \"2019-02-01\", \"2019-01-01\"]], \"y\": [[0.02, 6.87, 4.35, 0.71, 2.9, 3.88, 2.19, -4.51, -3.97, -4.6, -0.62, -3.49, 6.93, -6.15, 1.25, 1.23, -1.58, 1.01, -9.08, 7.39, 5.1, -4.59]]}, {\"annotations\": [{\"font_color\": \"green\", \"font_family\": \"Arial\", \"font_size\": 14, \"showarrow\": false, \"text\": \"<b>+2.85%</b>\", \"x\": \"2020-01-20\", \"y\": 2.053414934418601}], \"shapes\": [{\"line\": {\"color\": \"red\", \"dash\": \"dash\", \"width\": 2}, \"type\": \"line\", \"x0\": \"2019-01-01\", \"x1\": \"2020-02-15\", \"y0\": -0.7973864531455899, \"y1\": -0.7973864531455899}, {\"line\": {\"color\": \"green\", \"dash\": \"dash\", \"width\": 2}, \"type\": \"line\", \"x0\": \"2020-02-15\", \"x1\": \"2020-10-01\", \"y0\": 2.053414934418601, \"y1\": 2.053414934418601}, {\"line\": {\"color\": \"#f76d23\", \"dash\": \"dot\", \"width\": 3}, \"type\": \"line\", \"x0\": \"2020-02-15\", \"x1\": \"2020-02-15\", \"y0\": -10.899872924425997, \"y1\": 8.867041282767753}], \"title\": \"% Prediction error in residential consumption for Iowa\"}, [0]], \"label\": \"Iowa\", \"method\": \"update\", \"visible\": true}, {\"args\": [{\"type\": \"scatter\", \"x\": [[\"2020-10-01\", \"2020-09-01\", \"2020-08-01\", \"2020-07-01\", \"2020-06-01\", \"2020-05-01\", \"2020-04-01\", \"2020-03-01\", \"2020-02-01\", \"2020-01-01\", \"2019-12-01\", \"2019-11-01\", \"2019-10-01\", \"2019-09-01\", \"2019-08-01\", \"2019-07-01\", \"2019-06-01\", \"2019-05-01\", \"2019-04-01\", \"2019-03-01\", \"2019-02-01\", \"2019-01-01\"]], \"y\": [[6.92, 1.29, -1.84, -2.94, 0.46, 1.19, 4.61, -1.77, -3.47, -11.67, -1.7, -0.72, 5.59, 5.3, -0.12, -5.9, -1.19, 1.46, 1.64, -1.56, 1.77, -7.55]]}, {\"annotations\": [{\"font_color\": \"green\", \"font_family\": \"Arial\", \"font_size\": 14, \"showarrow\": false, \"text\": \"<b>+2.28%</b>\", \"x\": \"2020-01-20\", \"y\": 0.9889068760007282}], \"shapes\": [{\"line\": {\"color\": \"red\", \"dash\": \"dash\", \"width\": 2}, \"type\": \"line\", \"x0\": \"2019-01-01\", \"x1\": \"2020-02-15\", \"y0\": -1.2933435234181805, \"y1\": -1.2933435234181805}, {\"line\": {\"color\": \"green\", \"dash\": \"dash\", \"width\": 2}, \"type\": \"line\", \"x0\": \"2020-02-15\", \"x1\": \"2020-10-01\", \"y0\": 0.9889068760007282, \"y1\": 0.9889068760007282}, {\"line\": {\"color\": \"#f76d23\", \"dash\": \"dot\", \"width\": 3}, \"type\": \"line\", \"x0\": \"2020-02-15\", \"x1\": \"2020-02-15\", \"y0\": -14.000545059562706, \"y1\": 8.303979939233447}], \"title\": \"% Prediction error in residential consumption for Kansas\"}, [0]], \"label\": \"Kansas\", \"method\": \"update\", \"visible\": true}, {\"args\": [{\"type\": \"scatter\", \"x\": [[\"2020-10-01\", \"2020-09-01\", \"2020-08-01\", \"2020-07-01\", \"2020-06-01\", \"2020-05-01\", \"2020-04-01\", \"2020-03-01\", \"2020-02-01\", \"2020-01-01\", \"2019-12-01\", \"2019-11-01\", \"2019-10-01\", \"2019-09-01\", \"2019-08-01\", \"2019-07-01\", \"2019-06-01\", \"2019-05-01\", \"2019-04-01\", \"2019-03-01\", \"2019-02-01\", \"2019-01-01\"]], \"y\": [[3.64, 0.48, 1.32, 1.21, 4.73, 8.83, -5.26, -2.0, -6.61, -9.83, 1.63, -2.61, 5.5, -4.01, 0.0, 0.61, 3.25, -5.47, -0.37, 0.61, 0.03, -4.57]]}, {\"annotations\": [{\"font_color\": \"green\", \"font_family\": \"Arial\", \"font_size\": 14, \"showarrow\": false, \"text\": \"<b>+3.18%</b>\", \"x\": \"2020-01-20\", \"y\": 1.617105212378532}], \"shapes\": [{\"line\": {\"color\": \"red\", \"dash\": \"dash\", \"width\": 2}, \"type\": \"line\", \"x0\": \"2019-01-01\", \"x1\": \"2020-02-15\", \"y0\": -1.5611084001621645, \"y1\": -1.5611084001621645}, {\"line\": {\"color\": \"green\", \"dash\": \"dash\", \"width\": 2}, \"type\": \"line\", \"x0\": \"2020-02-15\", \"x1\": \"2020-10-01\", \"y0\": 1.617105212378532, \"y1\": 1.617105212378532}, {\"line\": {\"color\": \"#f76d23\", \"dash\": \"dot\", \"width\": 3}, \"type\": \"line\", \"x0\": \"2020-02-15\", \"x1\": \"2020-02-15\", \"y0\": -11.793532364937816, \"y1\": 10.59737008967367}], \"title\": \"% Prediction error in residential consumption for Kentucky\"}, [0]], \"label\": \"Kentucky\", \"method\": \"update\", \"visible\": true}, {\"args\": [{\"type\": \"scatter\", \"x\": [[\"2020-10-01\", \"2020-09-01\", \"2020-08-01\", \"2020-07-01\", \"2020-06-01\", \"2020-05-01\", \"2020-04-01\", \"2020-03-01\", \"2020-02-01\", \"2020-01-01\", \"2019-12-01\", \"2019-11-01\", \"2019-10-01\", \"2019-09-01\", \"2019-08-01\", \"2019-07-01\", \"2019-06-01\", \"2019-05-01\", \"2019-04-01\", \"2019-03-01\", \"2019-02-01\", \"2019-01-01\"]], \"y\": [[-9.52, -0.02, -0.65, -3.34, 0.7, 4.06, 7.58, 0.94, -14.05, -6.21, 4.97, -2.32, 6.42, -1.3, -5.07, -1.78, 6.48, -2.28, 1.21, -5.74, -2.84, -8.0]]}, {\"annotations\": [{\"font_color\": \"green\", \"font_family\": \"Arial\", \"font_size\": 14, \"showarrow\": false, \"text\": \"<b>+2.15%</b>\", \"x\": \"2020-01-20\", \"y\": -0.03188652126883529}], \"shapes\": [{\"line\": {\"color\": \"red\", \"dash\": \"dash\", \"width\": 2}, \"type\": \"line\", \"x0\": \"2019-01-01\", \"x1\": \"2020-02-15\", \"y0\": -2.177641653134585, \"y1\": -2.177641653134585}, {\"line\": {\"color\": \"green\", \"dash\": \"dash\", \"width\": 2}, \"type\": \"line\", \"x0\": \"2020-02-15\", \"x1\": \"2020-10-01\", \"y0\": -0.03188652126883529, \"y1\": -0.03188652126883529}, {\"line\": {\"color\": \"#f76d23\", \"dash\": \"dot\", \"width\": 3}, \"type\": \"line\", \"x0\": \"2020-02-15\", \"x1\": \"2020-02-15\", \"y0\": -16.861892386285337, \"y1\": 9.0926184178834}], \"title\": \"% Prediction error in residential consumption for Louisiana\"}, [0]], \"label\": \"Louisiana\", \"method\": \"update\", \"visible\": true}, {\"args\": [{\"type\": \"scatter\", \"x\": [[\"2020-10-01\", \"2020-09-01\", \"2020-08-01\", \"2020-07-01\", \"2020-06-01\", \"2020-05-01\", \"2020-04-01\", \"2020-03-01\", \"2020-02-01\", \"2020-01-01\", \"2019-12-01\", \"2019-11-01\", \"2019-10-01\", \"2019-09-01\", \"2019-08-01\", \"2019-07-01\", \"2019-06-01\", \"2019-05-01\", \"2019-04-01\", \"2019-03-01\", \"2019-02-01\", \"2019-01-01\"]], \"y\": [[4.15, 4.72, 13.03, 5.11, 2.12, 8.99, 7.52, 2.25, 4.37, -2.47, -2.92, 3.93, -2.98, 0.32, -0.69, -9.38, -3.8, 2.71, 2.79, 1.3, 11.42, -3.62]]}, {\"annotations\": [{\"font_color\": \"green\", \"font_family\": \"Arial\", \"font_size\": 14, \"showarrow\": false, \"text\": \"<b>+5.92%</b>\", \"x\": \"2020-01-20\", \"y\": 5.986242872035467}], \"shapes\": [{\"line\": {\"color\": \"red\", \"dash\": \"dash\", \"width\": 2}, \"type\": \"line\", \"x0\": \"2019-01-01\", \"x1\": \"2020-02-15\", \"y0\": 0.0699111156758047, \"y1\": 0.0699111156758047}, {\"line\": {\"color\": \"green\", \"dash\": \"dash\", \"width\": 2}, \"type\": \"line\", \"x0\": \"2020-02-15\", \"x1\": \"2020-10-01\", \"y0\": 5.986242872035467, \"y1\": 5.986242872035467}, {\"line\": {\"color\": \"#f76d23\", \"dash\": \"dot\", \"width\": 3}, \"type\": \"line\", \"x0\": \"2020-02-15\", \"x1\": \"2020-02-15\", \"y0\": -11.252118472307712, \"y1\": 15.641655843818082}], \"title\": \"% Prediction error in residential consumption for Maine\"}, [0]], \"label\": \"Maine\", \"method\": \"update\", \"visible\": true}, {\"args\": [{\"type\": \"scatter\", \"x\": [[\"2020-10-01\", \"2020-09-01\", \"2020-08-01\", \"2020-07-01\", \"2020-06-01\", \"2020-05-01\", \"2020-04-01\", \"2020-03-01\", \"2020-02-01\", \"2020-01-01\", \"2019-12-01\", \"2019-11-01\", \"2019-10-01\", \"2019-09-01\", \"2019-08-01\", \"2019-07-01\", \"2019-06-01\", \"2019-05-01\", \"2019-04-01\", \"2019-03-01\", \"2019-02-01\", \"2019-01-01\"]], \"y\": [[-5.44, 2.99, 5.01, 7.22, 9.94, 12.05, -1.83, -6.88, -6.31, -4.22, 6.5, 0.72, -8.81, -7.37, -0.68, 1.51, 2.34, -6.51, -6.29, 0.84, 3.57, 2.7]]}, {\"annotations\": [{\"font_color\": \"green\", \"font_family\": \"Arial\", \"font_size\": 14, \"showarrow\": false, \"text\": \"<b>+4.45%</b>\", \"x\": \"2020-01-20\", \"y\": 2.8815511456968146}], \"shapes\": [{\"line\": {\"color\": \"red\", \"dash\": \"dash\", \"width\": 2}, \"type\": \"line\", \"x0\": \"2019-01-01\", \"x1\": \"2020-02-15\", \"y0\": -1.572059135128028, \"y1\": -1.572059135128028}, {\"line\": {\"color\": \"green\", \"dash\": \"dash\", \"width\": 2}, \"type\": \"line\", \"x0\": \"2020-02-15\", \"x1\": \"2020-10-01\", \"y0\": 2.8815511456968146, \"y1\": 2.8815511456968146}, {\"line\": {\"color\": \"#f76d23\", \"dash\": \"dot\", \"width\": 3}, \"type\": \"line\", \"x0\": \"2020-02-15\", \"x1\": \"2020-02-15\", \"y0\": -10.574728441396603, \"y1\": 14.454243917406881}], \"title\": \"% Prediction error in residential consumption for Maryland\"}, [0]], \"label\": \"Maryland\", \"method\": \"update\", \"visible\": true}, {\"args\": [{\"type\": \"scatter\", \"x\": [[\"2020-10-01\", \"2020-09-01\", \"2020-08-01\", \"2020-07-01\", \"2020-06-01\", \"2020-05-01\", \"2020-04-01\", \"2020-03-01\", \"2020-02-01\", \"2020-01-01\", \"2019-12-01\", \"2019-11-01\", \"2019-10-01\", \"2019-09-01\", \"2019-08-01\", \"2019-07-01\", \"2019-06-01\", \"2019-05-01\", \"2019-04-01\", \"2019-03-01\", \"2019-02-01\", \"2019-01-01\"]], \"y\": [[10.42, 11.93, 13.17, 4.85, 7.66, 12.15, 4.99, -1.54, -5.02, -1.2, 0.28, -2.15, 2.89, -1.83, 4.91, -3.48, -3.02, -0.41, -0.65, -2.74, 0.67, -2.65]]}, {\"annotations\": [{\"font_color\": \"green\", \"font_family\": \"Arial\", \"font_size\": 14, \"showarrow\": false, \"text\": \"<b>+8.98%</b>\", \"x\": \"2020-01-20\", \"y\": 7.953999548963575}], \"shapes\": [{\"line\": {\"color\": \"red\", \"dash\": \"dash\", \"width\": 2}, \"type\": \"line\", \"x0\": \"2019-01-01\", \"x1\": \"2020-02-15\", \"y0\": -1.0288967061546967, \"y1\": -1.0288967061546967}, {\"line\": {\"color\": \"green\", \"dash\": \"dash\", \"width\": 2}, \"type\": \"line\", \"x0\": \"2020-02-15\", \"x1\": \"2020-10-01\", \"y0\": 7.953999548963575, \"y1\": 7.953999548963575}, {\"line\": {\"color\": \"#f76d23\", \"dash\": \"dot\", \"width\": 3}, \"type\": \"line\", \"x0\": \"2020-02-15\", \"x1\": \"2020-02-15\", \"y0\": -6.022388302561715, \"y1\": 15.800913009711023}], \"title\": \"% Prediction error in residential consumption for Massachusetts\"}, [0]], \"label\": \"Massachusetts\", \"method\": \"update\", \"visible\": true}, {\"args\": [{\"type\": \"scatter\", \"x\": [[\"2020-10-01\", \"2020-09-01\", \"2020-08-01\", \"2020-07-01\", \"2020-06-01\", \"2020-05-01\", \"2020-04-01\", \"2020-03-01\", \"2020-02-01\", \"2020-01-01\", \"2019-12-01\", \"2019-11-01\", \"2019-10-01\", \"2019-09-01\", \"2019-08-01\", \"2019-07-01\", \"2019-06-01\", \"2019-05-01\", \"2019-04-01\", \"2019-03-01\", \"2019-02-01\", \"2019-01-01\"]], \"y\": [[12.49, 7.43, 9.06, 10.52, 15.1, 18.28, 9.05, 2.71, 1.37, -4.78, -0.24, 4.38, 2.38, -9.46, 0.44, 0.36, -1.17, -1.62, -1.46, 0.93, 3.43, -3.23]]}, {\"annotations\": [{\"font_color\": \"green\", \"font_family\": \"Arial\", \"font_size\": 14, \"showarrow\": false, \"text\": \"<b>+11.2%</b>\", \"x\": \"2020-01-20\", \"y\": 10.579886430901665}], \"shapes\": [{\"line\": {\"color\": \"red\", \"dash\": \"dash\", \"width\": 2}, \"type\": \"line\", \"x0\": \"2019-01-01\", \"x1\": \"2020-02-15\", \"y0\": -0.6208914334778193, \"y1\": -0.6208914334778193}, {\"line\": {\"color\": \"green\", \"dash\": \"dash\", \"width\": 2}, \"type\": \"line\", \"x0\": \"2020-02-15\", \"x1\": \"2020-10-01\", \"y0\": 10.579886430901665, \"y1\": 10.579886430901665}, {\"line\": {\"color\": \"#f76d23\", \"dash\": \"dot\", \"width\": 3}, \"type\": \"line\", \"x0\": \"2020-02-15\", \"x1\": \"2020-02-15\", \"y0\": -11.353376518794724, \"y1\": 21.93144934194264}], \"title\": \"% Prediction error in residential consumption for Michigan\"}, [0]], \"label\": \"Michigan\", \"method\": \"update\", \"visible\": true}, {\"args\": [{\"type\": \"scatter\", \"x\": [[\"2020-10-01\", \"2020-09-01\", \"2020-08-01\", \"2020-07-01\", \"2020-06-01\", \"2020-05-01\", \"2020-04-01\", \"2020-03-01\", \"2020-02-01\", \"2020-01-01\", \"2019-12-01\", \"2019-11-01\", \"2019-10-01\", \"2019-09-01\", \"2019-08-01\", \"2019-07-01\", \"2019-06-01\", \"2019-05-01\", \"2019-04-01\", \"2019-03-01\", \"2019-02-01\", \"2019-01-01\"]], \"y\": [[6.55, 5.6, 8.53, 9.6, 8.57, 7.93, 4.58, 0.16, -4.51, -3.24, 1.61, 1.03, 3.46, -7.45, -2.83, -1.48, 2.79, -0.14, 0.35, 3.06, 0.56, -2.88]]}, {\"annotations\": [{\"font_color\": \"green\", \"font_family\": \"Arial\", \"font_size\": 14, \"showarrow\": false, \"text\": \"<b>+7.13%</b>\", \"x\": \"2020-01-20\", \"y\": 6.440588095188659}], \"shapes\": [{\"line\": {\"color\": \"red\", \"dash\": \"dash\", \"width\": 2}, \"type\": \"line\", \"x0\": \"2019-01-01\", \"x1\": \"2020-02-15\", \"y0\": -0.6897823125505216, \"y1\": -0.6897823125505216}, {\"line\": {\"color\": \"green\", \"dash\": \"dash\", \"width\": 2}, \"type\": \"line\", \"x0\": \"2020-02-15\", \"x1\": \"2020-10-01\", \"y0\": 6.440588095188659, \"y1\": 6.440588095188659}, {\"line\": {\"color\": \"#f76d23\", \"dash\": \"dot\", \"width\": 3}, \"type\": \"line\", \"x0\": \"2020-02-15\", \"x1\": \"2020-02-15\", \"y0\": -8.937484166074611, \"y1\": 11.52118143797547}], \"title\": \"% Prediction error in residential consumption for Minnesota\"}, [0]], \"label\": \"Minnesota\", \"method\": \"update\", \"visible\": true}, {\"args\": [{\"type\": \"scatter\", \"x\": [[\"2020-10-01\", \"2020-09-01\", \"2020-08-01\", \"2020-07-01\", \"2020-06-01\", \"2020-05-01\", \"2020-04-01\", \"2020-03-01\", \"2020-02-01\", \"2020-01-01\", \"2019-12-01\", \"2019-11-01\", \"2019-10-01\", \"2019-09-01\", \"2019-08-01\", \"2019-07-01\", \"2019-06-01\", \"2019-05-01\", \"2019-04-01\", \"2019-03-01\", \"2019-02-01\", \"2019-01-01\"]], \"y\": [[-9.3, -4.56, -1.78, -6.98, -2.65, -0.57, -4.17, -2.67, -14.0, -13.65, 3.48, 0.52, 10.57, -0.95, -4.4, -6.55, 4.96, -2.67, 0.48, -5.99, -2.1, -6.27]]}, {\"annotations\": [{\"font_color\": \"red\", \"font_family\": \"Arial\", \"font_size\": 14, \"showarrow\": false, \"text\": \"<b>-1.47%</b>\", \"x\": \"2020-01-20\", \"y\": -4.084948576049094}], \"shapes\": [{\"line\": {\"color\": \"red\", \"dash\": \"dash\", \"width\": 2}, \"type\": \"line\", \"x0\": \"2019-01-01\", \"x1\": \"2020-02-15\", \"y0\": -2.612994708203982, \"y1\": -2.612994708203982}, {\"line\": {\"color\": \"green\", \"dash\": \"dash\", \"width\": 2}, \"type\": \"line\", \"x0\": \"2020-02-15\", \"x1\": \"2020-10-01\", \"y0\": -4.084948576049094, \"y1\": -4.084948576049094}, {\"line\": {\"color\": \"#f76d23\", \"dash\": \"dot\", \"width\": 3}, \"type\": \"line\", \"x0\": \"2020-02-15\", \"x1\": \"2020-02-15\", \"y0\": -16.80541867988971, \"y1\": 12.685760917192184}], \"title\": \"% Prediction error in residential consumption for Mississippi\"}, [0]], \"label\": \"Mississippi\", \"method\": \"update\", \"visible\": true}, {\"args\": [{\"type\": \"scatter\", \"x\": [[\"2020-10-01\", \"2020-09-01\", \"2020-08-01\", \"2020-07-01\", \"2020-06-01\", \"2020-05-01\", \"2020-04-01\", \"2020-03-01\", \"2020-02-01\", \"2020-01-01\", \"2019-12-01\", \"2019-11-01\", \"2019-10-01\", \"2019-09-01\", \"2019-08-01\", \"2019-07-01\", \"2019-06-01\", \"2019-05-01\", \"2019-04-01\", \"2019-03-01\", \"2019-02-01\", \"2019-01-01\"]], \"y\": [[-0.61, -0.33, -5.45, -2.26, -4.27, 3.6, 0.03, -5.16, -5.92, -8.48, -0.74, 0.92, 4.24, 1.46, 0.76, -5.03, 0.41, 1.04, 0.72, -3.68, -4.13, -5.71]]}, {\"annotations\": [{\"font_color\": \"red\", \"font_family\": \"Arial\", \"font_size\": 14, \"showarrow\": false, \"text\": \"<b>-0.08%</b>\", \"x\": \"2020-01-20\", \"y\": -1.8076458417890586}], \"shapes\": [{\"line\": {\"color\": \"red\", \"dash\": \"dash\", \"width\": 2}, \"type\": \"line\", \"x0\": \"2019-01-01\", \"x1\": \"2020-02-15\", \"y0\": -1.7243450930578634, \"y1\": -1.7243450930578634}, {\"line\": {\"color\": \"green\", \"dash\": \"dash\", \"width\": 2}, \"type\": \"line\", \"x0\": \"2020-02-15\", \"x1\": \"2020-10-01\", \"y0\": -1.8076458417890586, \"y1\": -1.8076458417890586}, {\"line\": {\"color\": \"#f76d23\", \"dash\": \"dot\", \"width\": 3}, \"type\": \"line\", \"x0\": \"2020-02-15\", \"x1\": \"2020-02-15\", \"y0\": -10.17728991036615, \"y1\": 5.093292857801882}], \"title\": \"% Prediction error in residential consumption for Missouri\"}, [0]], \"label\": \"Missouri\", \"method\": \"update\", \"visible\": true}, {\"args\": [{\"type\": \"scatter\", \"x\": [[\"2020-10-01\", \"2020-09-01\", \"2020-08-01\", \"2020-07-01\", \"2020-06-01\", \"2020-05-01\", \"2020-04-01\", \"2020-03-01\", \"2020-02-01\", \"2020-01-01\", \"2019-12-01\", \"2019-11-01\", \"2019-10-01\", \"2019-09-01\", \"2019-08-01\", \"2019-07-01\", \"2019-06-01\", \"2019-05-01\", \"2019-04-01\", \"2019-03-01\", \"2019-02-01\", \"2019-01-01\"]], \"y\": [[2.57, 5.24, 4.07, -0.83, 4.35, 0.84, 8.7, -3.81, -9.58, -7.08, -2.09, 7.29, 2.17, -3.11, -3.2, -8.25, -2.55, -5.91, 1.01, 13.4, 5.61, -7.45]]}, {\"annotations\": [{\"font_color\": \"green\", \"font_family\": \"Arial\", \"font_size\": 14, \"showarrow\": false, \"text\": \"<b>+4.05%</b>\", \"x\": \"2020-01-20\", \"y\": 2.64031135605257}], \"shapes\": [{\"line\": {\"color\": \"red\", \"dash\": \"dash\", \"width\": 2}, \"type\": \"line\", \"x0\": \"2019-01-01\", \"x1\": \"2020-02-15\", \"y0\": -1.4093955034363062, \"y1\": -1.4093955034363062}, {\"line\": {\"color\": \"green\", \"dash\": \"dash\", \"width\": 2}, \"type\": \"line\", \"x0\": \"2020-02-15\", \"x1\": \"2020-10-01\", \"y0\": 2.64031135605257, \"y1\": 2.64031135605257}, {\"line\": {\"color\": \"#f76d23\", \"dash\": \"dot\", \"width\": 3}, \"type\": \"line\", \"x0\": \"2020-02-15\", \"x1\": \"2020-02-15\", \"y0\": -11.492718860726383, \"y1\": 16.08507013594092}], \"title\": \"% Prediction error in residential consumption for Montana\"}, [0]], \"label\": \"Montana\", \"method\": \"update\", \"visible\": true}, {\"args\": [{\"type\": \"scatter\", \"x\": [[\"2020-10-01\", \"2020-09-01\", \"2020-08-01\", \"2020-07-01\", \"2020-06-01\", \"2020-05-01\", \"2020-04-01\", \"2020-03-01\", \"2020-02-01\", \"2020-01-01\", \"2019-12-01\", \"2019-11-01\", \"2019-10-01\", \"2019-09-01\", \"2019-08-01\", \"2019-07-01\", \"2019-06-01\", \"2019-05-01\", \"2019-04-01\", \"2019-03-01\", \"2019-02-01\", \"2019-01-01\"]], \"y\": [[-0.56, 4.32, -2.94, 3.3, 5.93, 0.38, -2.12, -5.28, -7.17, -6.52, -0.54, 1.79, 5.76, -4.86, -1.28, -0.74, -0.19, -3.73, -3.37, 8.53, 3.17, -5.6]]}, {\"annotations\": [{\"font_color\": \"green\", \"font_family\": \"Arial\", \"font_size\": 14, \"showarrow\": false, \"text\": \"<b>+1.43%</b>\", \"x\": \"2020-01-20\", \"y\": 0.37819139813055}], \"shapes\": [{\"line\": {\"color\": \"red\", \"dash\": \"dash\", \"width\": 2}, \"type\": \"line\", \"x0\": \"2019-01-01\", \"x1\": \"2020-02-15\", \"y0\": -1.053658097903491, \"y1\": -1.053658097903491}, {\"line\": {\"color\": \"green\", \"dash\": \"dash\", \"width\": 2}, \"type\": \"line\", \"x0\": \"2020-02-15\", \"x1\": \"2020-10-01\", \"y0\": 0.37819139813055, \"y1\": 0.37819139813055}, {\"line\": {\"color\": \"#f76d23\", \"dash\": \"dot\", \"width\": 3}, \"type\": \"line\", \"x0\": \"2020-02-15\", \"x1\": \"2020-02-15\", \"y0\": -8.60721035943313, \"y1\": 10.235712494599305}], \"title\": \"% Prediction error in residential consumption for Nebraska\"}, [0]], \"label\": \"Nebraska\", \"method\": \"update\", \"visible\": true}, {\"args\": [{\"type\": \"scatter\", \"x\": [[\"2020-10-01\", \"2020-09-01\", \"2020-08-01\", \"2020-07-01\", \"2020-06-01\", \"2020-05-01\", \"2020-04-01\", \"2020-03-01\", \"2020-02-01\", \"2020-01-01\", \"2019-12-01\", \"2019-11-01\", \"2019-10-01\", \"2019-09-01\", \"2019-08-01\", \"2019-07-01\", \"2019-06-01\", \"2019-05-01\", \"2019-04-01\", \"2019-03-01\", \"2019-02-01\", \"2019-01-01\"]], \"y\": [[11.93, 7.16, 2.61, 1.55, 6.1, 14.27, 12.92, 6.43, 1.95, -8.81, 2.18, 13.15, -5.02, -2.03, -3.6, -6.34, 1.53, -0.51, 5.19, 0.68, 10.0, -8.27]]}, {\"annotations\": [{\"font_color\": \"green\", \"font_family\": \"Arial\", \"font_size\": 14, \"showarrow\": false, \"text\": \"<b>+7.86%</b>\", \"x\": \"2020-01-20\", \"y\": 7.872234474606799}], \"shapes\": [{\"line\": {\"color\": \"red\", \"dash\": \"dash\", \"width\": 2}, \"type\": \"line\", \"x0\": \"2019-01-01\", \"x1\": \"2020-02-15\", \"y0\": 0.008323969360791368, \"y1\": 0.008323969360791368}, {\"line\": {\"color\": \"green\", \"dash\": \"dash\", \"width\": 2}, \"type\": \"line\", \"x0\": \"2020-02-15\", \"x1\": \"2020-10-01\", \"y0\": 7.872234474606799, \"y1\": 7.872234474606799}, {\"line\": {\"color\": \"#f76d23\", \"dash\": \"dot\", \"width\": 3}, \"type\": \"line\", \"x0\": \"2020-02-15\", \"x1\": \"2020-02-15\", \"y0\": -10.57376524783342, \"y1\": 17.127130153053884}], \"title\": \"% Prediction error in residential consumption for Nevada\"}, [0]], \"label\": \"Nevada\", \"method\": \"update\", \"visible\": true}, {\"args\": [{\"type\": \"scatter\", \"x\": [[\"2020-10-01\", \"2020-09-01\", \"2020-08-01\", \"2020-07-01\", \"2020-06-01\", \"2020-05-01\", \"2020-04-01\", \"2020-03-01\", \"2020-02-01\", \"2020-01-01\", \"2019-12-01\", \"2019-11-01\", \"2019-10-01\", \"2019-09-01\", \"2019-08-01\", \"2019-07-01\", \"2019-06-01\", \"2019-05-01\", \"2019-04-01\", \"2019-03-01\", \"2019-02-01\", \"2019-01-01\"]], \"y\": [[4.16, -6.48, 11.54, 13.92, 14.56, 14.35, -0.48, 0.28, -8.22, -0.0, 7.91, -1.95, -3.3, -14.11, 4.33, 4.22, -0.07, -3.18, -4.87, -1.79, -2.28, -0.07]]}, {\"annotations\": [{\"font_color\": \"green\", \"font_family\": \"Arial\", \"font_size\": 14, \"showarrow\": false, \"text\": \"<b>+8.15%</b>\", \"x\": \"2020-01-20\", \"y\": 6.482383435110247}], \"shapes\": [{\"line\": {\"color\": \"red\", \"dash\": \"dash\", \"width\": 2}, \"type\": \"line\", \"x0\": \"2019-01-01\", \"x1\": \"2020-02-15\", \"y0\": -1.670253933148454, \"y1\": -1.670253933148454}, {\"line\": {\"color\": \"green\", \"dash\": \"dash\", \"width\": 2}, \"type\": \"line\", \"x0\": \"2020-02-15\", \"x1\": \"2020-10-01\", \"y0\": 6.482383435110247, \"y1\": 6.482383435110247}, {\"line\": {\"color\": \"#f76d23\", \"dash\": \"dot\", \"width\": 3}, \"type\": \"line\", \"x0\": \"2020-02-15\", \"x1\": \"2020-02-15\", \"y0\": -16.92990766173485, \"y1\": 17.47255266060276}], \"title\": \"% Prediction error in residential consumption for New Hampshire\"}, [0]], \"label\": \"New Hampshire\", \"method\": \"update\", \"visible\": true}, {\"args\": [{\"type\": \"scatter\", \"x\": [[\"2020-10-01\", \"2020-09-01\", \"2020-08-01\", \"2020-07-01\", \"2020-06-01\", \"2020-05-01\", \"2020-04-01\", \"2020-03-01\", \"2020-02-01\", \"2020-01-01\", \"2019-12-01\", \"2019-11-01\", \"2019-10-01\", \"2019-09-01\", \"2019-08-01\", \"2019-07-01\", \"2019-06-01\", \"2019-05-01\", \"2019-04-01\", \"2019-03-01\", \"2019-02-01\", \"2019-01-01\"]], \"y\": [[-2.35, 8.0, 4.54, 5.45, 5.93, 10.67, 7.49, -5.34, -5.78, -6.2, 0.39, -3.95, -1.27, -0.21, 1.47, 1.73, 3.64, -1.88, -5.18, -1.51, -0.18, -4.86]]}, {\"annotations\": [{\"font_color\": \"green\", \"font_family\": \"Arial\", \"font_size\": 14, \"showarrow\": false, \"text\": \"<b>+6.0%</b>\", \"x\": \"2020-01-20\", \"y\": 4.29757547491593}], \"shapes\": [{\"line\": {\"color\": \"red\", \"dash\": \"dash\", \"width\": 2}, \"type\": \"line\", \"x0\": \"2019-01-01\", \"x1\": \"2020-02-15\", \"y0\": -1.6993357733633927, \"y1\": -1.6993357733633927}, {\"line\": {\"color\": \"green\", \"dash\": \"dash\", \"width\": 2}, \"type\": \"line\", \"x0\": \"2020-02-15\", \"x1\": \"2020-10-01\", \"y0\": 4.29757547491593, \"y1\": 4.29757547491593}, {\"line\": {\"color\": \"#f76d23\", \"dash\": \"dot\", \"width\": 3}, \"type\": \"line\", \"x0\": \"2020-02-15\", \"x1\": \"2020-02-15\", \"y0\": -7.436563195818112, \"y1\": 12.801643720098685}], \"title\": \"% Prediction error in residential consumption for New Jersey\"}, [0]], \"label\": \"New Jersey\", \"method\": \"update\", \"visible\": true}, {\"args\": [{\"type\": \"scatter\", \"x\": [[\"2020-10-01\", \"2020-09-01\", \"2020-08-01\", \"2020-07-01\", \"2020-06-01\", \"2020-05-01\", \"2020-04-01\", \"2020-03-01\", \"2020-02-01\", \"2020-01-01\", \"2019-12-01\", \"2019-11-01\", \"2019-10-01\", \"2019-09-01\", \"2019-08-01\", \"2019-07-01\", \"2019-06-01\", \"2019-05-01\", \"2019-04-01\", \"2019-03-01\", \"2019-02-01\", \"2019-01-01\"]], \"y\": [[2.8, -4.34, 1.22, 6.0, 7.05, 7.13, -2.84, -10.77, -11.48, -5.22, -1.89, 0.52, -2.55, 4.52, 2.9, 0.89, -2.7, -0.77, -2.69, -2.78, -7.49, 0.62]]}, {\"annotations\": [{\"font_color\": \"green\", \"font_family\": \"Arial\", \"font_size\": 14, \"showarrow\": false, \"text\": \"<b>+2.79%</b>\", \"x\": \"2020-01-20\", \"y\": 0.7807156331907448}], \"shapes\": [{\"line\": {\"color\": \"red\", \"dash\": \"dash\", \"width\": 2}, \"type\": \"line\", \"x0\": \"2019-01-01\", \"x1\": \"2020-02-15\", \"y0\": -2.0087406272993147, \"y1\": -2.0087406272993147}, {\"line\": {\"color\": \"green\", \"dash\": \"dash\", \"width\": 2}, \"type\": \"line\", \"x0\": \"2020-02-15\", \"x1\": \"2020-10-01\", \"y0\": 0.7807156331907448, \"y1\": 0.7807156331907448}, {\"line\": {\"color\": \"#f76d23\", \"dash\": \"dot\", \"width\": 3}, \"type\": \"line\", \"x0\": \"2020-02-15\", \"x1\": \"2020-02-15\", \"y0\": -13.781381668150859, \"y1\": 8.553578887695902}], \"title\": \"% Prediction error in residential consumption for New Mexico\"}, [0]], \"label\": \"New Mexico\", \"method\": \"update\", \"visible\": true}, {\"args\": [{\"type\": \"scatter\", \"x\": [[\"2020-10-01\", \"2020-09-01\", \"2020-08-01\", \"2020-07-01\", \"2020-06-01\", \"2020-05-01\", \"2020-04-01\", \"2020-03-01\", \"2020-02-01\", \"2020-01-01\", \"2019-12-01\", \"2019-11-01\", \"2019-10-01\", \"2019-09-01\", \"2019-08-01\", \"2019-07-01\", \"2019-06-01\", \"2019-05-01\", \"2019-04-01\", \"2019-03-01\", \"2019-02-01\", \"2019-01-01\"]], \"y\": [[10.1, 11.48, 10.34, 8.93, 9.9, 8.82, 1.85, -0.14, -3.84, -0.64, 2.45, -3.12, -2.67, -4.43, 5.48, -0.23, 0.26, -1.81, -2.27, -1.69, 1.15, -4.3]]}, {\"annotations\": [{\"font_color\": \"green\", \"font_family\": \"Arial\", \"font_size\": 14, \"showarrow\": false, \"text\": \"<b>+8.78%</b>\", \"x\": \"2020-01-20\", \"y\": 7.659579519936722}], \"shapes\": [{\"line\": {\"color\": \"red\", \"dash\": \"dash\", \"width\": 2}, \"type\": \"line\", \"x0\": \"2019-01-01\", \"x1\": \"2020-02-15\", \"y0\": -1.1181714062459285, \"y1\": -1.1181714062459285}, {\"line\": {\"color\": \"green\", \"dash\": \"dash\", \"width\": 2}, \"type\": \"line\", \"x0\": \"2020-02-15\", \"x1\": \"2020-10-01\", \"y0\": 7.659579519936722, \"y1\": 7.659579519936722}, {\"line\": {\"color\": \"#f76d23\", \"dash\": \"dot\", \"width\": 3}, \"type\": \"line\", \"x0\": \"2020-02-15\", \"x1\": \"2020-02-15\", \"y0\": -5.315470682815443, \"y1\": 13.774019342233963}], \"title\": \"% Prediction error in residential consumption for New York\"}, [0]], \"label\": \"New York\", \"method\": \"update\", \"visible\": true}, {\"args\": [{\"type\": \"scatter\", \"x\": [[\"2020-10-01\", \"2020-09-01\", \"2020-08-01\", \"2020-07-01\", \"2020-06-01\", \"2020-05-01\", \"2020-04-01\", \"2020-03-01\", \"2020-02-01\", \"2020-01-01\", \"2019-12-01\", \"2019-11-01\", \"2019-10-01\", \"2019-09-01\", \"2019-08-01\", \"2019-07-01\", \"2019-06-01\", \"2019-05-01\", \"2019-04-01\", \"2019-03-01\", \"2019-02-01\", \"2019-01-01\"]], \"y\": [[0.33, -1.87, -1.07, -1.94, -0.36, 9.65, -3.57, -5.85, -2.74, -9.38, 0.31, 2.48, 4.63, 0.95, -3.25, -5.04, 0.97, 2.34, 4.51, -3.44, -1.43, -7.02]]}, {\"annotations\": [{\"font_color\": \"green\", \"font_family\": \"Arial\", \"font_size\": 14, \"showarrow\": false, \"text\": \"<b>+0.57%</b>\", \"x\": \"2020-01-20\", \"y\": -0.5835096268566302}], \"shapes\": [{\"line\": {\"color\": \"red\", \"dash\": \"dash\", \"width\": 2}, \"type\": \"line\", \"x0\": \"2019-01-01\", \"x1\": \"2020-02-15\", \"y0\": -1.149944557145678, \"y1\": -1.149944557145678}, {\"line\": {\"color\": \"green\", \"dash\": \"dash\", \"width\": 2}, \"type\": \"line\", \"x0\": \"2020-02-15\", \"x1\": \"2020-10-01\", \"y0\": -0.5835096268566302, \"y1\": -0.5835096268566302}, {\"line\": {\"color\": \"#f76d23\", \"dash\": \"dot\", \"width\": 3}, \"type\": \"line\", \"x0\": \"2020-02-15\", \"x1\": \"2020-02-15\", \"y0\": -11.258477923937347, \"y1\": 11.585155627652405}], \"title\": \"% Prediction error in residential consumption for North Carolina\"}, [0]], \"label\": \"North Carolina\", \"method\": \"update\", \"visible\": true}, {\"args\": [{\"type\": \"scatter\", \"x\": [[\"2020-10-01\", \"2020-09-01\", \"2020-08-01\", \"2020-07-01\", \"2020-06-01\", \"2020-05-01\", \"2020-04-01\", \"2020-03-01\", \"2020-02-01\", \"2020-01-01\", \"2019-12-01\", \"2019-11-01\", \"2019-10-01\", \"2019-09-01\", \"2019-08-01\", \"2019-07-01\", \"2019-06-01\", \"2019-05-01\", \"2019-04-01\", \"2019-03-01\", \"2019-02-01\", \"2019-01-01\"]], \"y\": [[-1.29, -0.07, 6.99, 4.56, 7.28, 4.81, 1.75, -5.4, -11.52, -2.88, 0.94, -0.45, 6.83, -6.11, -1.93, -1.97, 6.23, -5.24, -5.84, 0.32, 4.67, -1.72]]}, {\"annotations\": [{\"font_color\": \"green\", \"font_family\": \"Arial\", \"font_size\": 14, \"showarrow\": false, \"text\": \"<b>+3.66%</b>\", \"x\": \"2020-01-20\", \"y\": 2.3288171277580476}], \"shapes\": [{\"line\": {\"color\": \"red\", \"dash\": \"dash\", \"width\": 2}, \"type\": \"line\", \"x0\": \"2019-01-01\", \"x1\": \"2020-02-15\", \"y0\": -1.3325728810024242, \"y1\": -1.3325728810024242}, {\"line\": {\"color\": \"green\", \"dash\": \"dash\", \"width\": 2}, \"type\": \"line\", \"x0\": \"2020-02-15\", \"x1\": \"2020-10-01\", \"y0\": 2.3288171277580476, \"y1\": 2.3288171277580476}, {\"line\": {\"color\": \"#f76d23\", \"dash\": \"dot\", \"width\": 3}, \"type\": \"line\", \"x0\": \"2020-02-15\", \"x1\": \"2020-02-15\", \"y0\": -13.81955175016512, \"y1\": 8.740861731813432}], \"title\": \"% Prediction error in residential consumption for North Dakota\"}, [0]], \"label\": \"North Dakota\", \"method\": \"update\", \"visible\": true}, {\"args\": [{\"type\": \"scatter\", \"x\": [[\"2020-10-01\", \"2020-09-01\", \"2020-08-01\", \"2020-07-01\", \"2020-06-01\", \"2020-05-01\", \"2020-04-01\", \"2020-03-01\", \"2020-02-01\", \"2020-01-01\", \"2019-12-01\", \"2019-11-01\", \"2019-10-01\", \"2019-09-01\", \"2019-08-01\", \"2019-07-01\", \"2019-06-01\", \"2019-05-01\", \"2019-04-01\", \"2019-03-01\", \"2019-02-01\", \"2019-01-01\"]], \"y\": [[2.12, 4.91, 2.84, 3.6, 4.32, 9.95, 2.93, -7.96, -1.12, -6.89, -1.26, -3.91, 3.15, 2.12, 1.81, 1.02, -0.05, -3.18, -1.31, -0.04, -1.68, -7.56]]}, {\"annotations\": [{\"font_color\": \"green\", \"font_family\": \"Arial\", \"font_size\": 14, \"showarrow\": false, \"text\": \"<b>+4.19%</b>\", \"x\": \"2020-01-20\", \"y\": 2.8386606142256348}], \"shapes\": [{\"line\": {\"color\": \"red\", \"dash\": \"dash\", \"width\": 2}, \"type\": \"line\", \"x0\": \"2019-01-01\", \"x1\": \"2020-02-15\", \"y0\": -1.3512326324308623, \"y1\": -1.3512326324308623}, {\"line\": {\"color\": \"green\", \"dash\": \"dash\", \"width\": 2}, \"type\": \"line\", \"x0\": \"2020-02-15\", \"x1\": \"2020-10-01\", \"y0\": 2.8386606142256348, \"y1\": 2.8386606142256348}, {\"line\": {\"color\": \"#f76d23\", \"dash\": \"dot\", \"width\": 3}, \"type\": \"line\", \"x0\": \"2020-02-15\", \"x1\": \"2020-02-15\", \"y0\": -9.5517567618418, \"y1\": 11.93547302224115}], \"title\": \"% Prediction error in residential consumption for Ohio\"}, [0]], \"label\": \"Ohio\", \"method\": \"update\", \"visible\": true}, {\"args\": [{\"type\": \"scatter\", \"x\": [[\"2020-10-01\", \"2020-09-01\", \"2020-08-01\", \"2020-07-01\", \"2020-06-01\", \"2020-05-01\", \"2020-04-01\", \"2020-03-01\", \"2020-02-01\", \"2020-01-01\", \"2019-12-01\", \"2019-11-01\", \"2019-10-01\", \"2019-09-01\", \"2019-08-01\", \"2019-07-01\", \"2019-06-01\", \"2019-05-01\", \"2019-04-01\", \"2019-03-01\", \"2019-02-01\", \"2019-01-01\"]], \"y\": [[1.18, -0.6, -3.07, -5.27, 3.71, 2.31, 5.88, -4.02, -2.37, -4.44, 1.35, 4.21, 5.88, 0.12, -5.83, -4.11, -0.41, -7.03, 1.82, 6.34, 8.95, -1.99]]}, {\"annotations\": [{\"font_color\": \"red\", \"font_family\": \"Arial\", \"font_size\": 14, \"showarrow\": false, \"text\": \"<b>-0.16%</b>\", \"x\": \"2020-01-20\", \"y\": 0.014519954525568202}], \"shapes\": [{\"line\": {\"color\": \"red\", \"dash\": \"dash\", \"width\": 2}, \"type\": \"line\", \"x0\": \"2019-01-01\", \"x1\": \"2020-02-15\", \"y0\": 0.17737431727894673, \"y1\": 0.17737431727894673}, {\"line\": {\"color\": \"green\", \"dash\": \"dash\", \"width\": 2}, \"type\": \"line\", \"x0\": \"2020-02-15\", \"x1\": \"2020-10-01\", \"y0\": 0.014519954525568202, \"y1\": 0.014519954525568202}, {\"line\": {\"color\": \"#f76d23\", \"dash\": \"dot\", \"width\": 3}, \"type\": \"line\", \"x0\": \"2020-02-15\", \"x1\": \"2020-02-15\", \"y0\": -8.431543210156798, \"y1\": 10.744356787339273}], \"title\": \"% Prediction error in residential consumption for Oklahoma\"}, [0]], \"label\": \"Oklahoma\", \"method\": \"update\", \"visible\": true}, {\"args\": [{\"type\": \"scatter\", \"x\": [[\"2020-10-01\", \"2020-09-01\", \"2020-08-01\", \"2020-07-01\", \"2020-06-01\", \"2020-05-01\", \"2020-04-01\", \"2020-03-01\", \"2020-02-01\", \"2020-01-01\", \"2019-12-01\", \"2019-11-01\", \"2019-10-01\", \"2019-09-01\", \"2019-08-01\", \"2019-07-01\", \"2019-06-01\", \"2019-05-01\", \"2019-04-01\", \"2019-03-01\", \"2019-02-01\", \"2019-01-01\"]], \"y\": [[4.41, 0.23, 2.12, 5.18, 4.06, 4.86, -1.32, -5.48, -1.97, -12.66, -4.41, 6.68, 4.66, 3.18, 1.55, -2.36, 4.41, -7.95, -4.4, 4.52, 1.41, -4.82]]}, {\"annotations\": [{\"font_color\": \"green\", \"font_family\": \"Arial\", \"font_size\": 14, \"showarrow\": false, \"text\": \"<b>+2.63%</b>\", \"x\": \"2020-01-20\", \"y\": 1.7582636650029295}], \"shapes\": [{\"line\": {\"color\": \"red\", \"dash\": \"dash\", \"width\": 2}, \"type\": \"line\", \"x0\": \"2019-01-01\", \"x1\": \"2020-02-15\", \"y0\": -0.8675068450277637, \"y1\": -0.8675068450277637}, {\"line\": {\"color\": \"green\", \"dash\": \"dash\", \"width\": 2}, \"type\": \"line\", \"x0\": \"2020-02-15\", \"x1\": \"2020-10-01\", \"y0\": 1.7582636650029295, \"y1\": 1.7582636650029295}, {\"line\": {\"color\": \"#f76d23\", \"dash\": \"dot\", \"width\": 3}, \"type\": \"line\", \"x0\": \"2020-02-15\", \"x1\": \"2020-02-15\", \"y0\": -15.192337513781364, \"y1\": 8.017420873361662}], \"title\": \"% Prediction error in residential consumption for Oregon\"}, [0]], \"label\": \"Oregon\", \"method\": \"update\", \"visible\": true}, {\"args\": [{\"type\": \"scatter\", \"x\": [[\"2020-10-01\", \"2020-09-01\", \"2020-08-01\", \"2020-07-01\", \"2020-06-01\", \"2020-05-01\", \"2020-04-01\", \"2020-03-01\", \"2020-02-01\", \"2020-01-01\", \"2019-12-01\", \"2019-11-01\", \"2019-10-01\", \"2019-09-01\", \"2019-08-01\", \"2019-07-01\", \"2019-06-01\", \"2019-05-01\", \"2019-04-01\", \"2019-03-01\", \"2019-02-01\", \"2019-01-01\"]], \"y\": [[3.31, 3.27, 8.27, 5.83, 4.03, 8.16, 1.2, -12.6, -7.27, -5.29, -0.7, -4.29, 2.12, 0.78, 5.15, -0.96, -1.15, -5.51, -2.37, -1.23, 3.64, -4.17]]}, {\"annotations\": [{\"font_color\": \"green\", \"font_family\": \"Arial\", \"font_size\": 14, \"showarrow\": false, \"text\": \"<b>+4.2%</b>\", \"x\": \"2020-01-20\", \"y\": 2.6834973148722154}], \"shapes\": [{\"line\": {\"color\": \"red\", \"dash\": \"dash\", \"width\": 2}, \"type\": \"line\", \"x0\": \"2019-01-01\", \"x1\": \"2020-02-15\", \"y0\": -1.5178622782338302, \"y1\": -1.5178622782338302}, {\"line\": {\"color\": \"green\", \"dash\": \"dash\", \"width\": 2}, \"type\": \"line\", \"x0\": \"2020-02-15\", \"x1\": \"2020-10-01\", \"y0\": 2.6834973148722154, \"y1\": 2.6834973148722154}, {\"line\": {\"color\": \"#f76d23\", \"dash\": \"dot\", \"width\": 3}, \"type\": \"line\", \"x0\": \"2020-02-15\", \"x1\": \"2020-02-15\", \"y0\": -15.117704123280598, \"y1\": 9.926458347901049}], \"title\": \"% Prediction error in residential consumption for Pennsylvania\"}, [0]], \"label\": \"Pennsylvania\", \"method\": \"update\", \"visible\": true}, {\"args\": [{\"type\": \"scatter\", \"x\": [[\"2020-10-01\", \"2020-09-01\", \"2020-08-01\", \"2020-07-01\", \"2020-06-01\", \"2020-05-01\", \"2020-04-01\", \"2020-03-01\", \"2020-02-01\", \"2020-01-01\", \"2019-12-01\", \"2019-11-01\", \"2019-10-01\", \"2019-09-01\", \"2019-08-01\", \"2019-07-01\", \"2019-06-01\", \"2019-05-01\", \"2019-04-01\", \"2019-03-01\", \"2019-02-01\", \"2019-01-01\"]], \"y\": [[10.73, 19.15, 10.67, 9.19, 9.06, 10.52, 2.5, -4.08, 0.72, -0.49, 1.75, -7.31, -0.56, 3.6, 6.13, -2.87, -3.91, 3.46, -1.21, -6.74, 1.24, 0.72]]}, {\"annotations\": [{\"font_color\": \"green\", \"font_family\": \"Arial\", \"font_size\": 14, \"showarrow\": false, \"text\": \"<b>+8.86%</b>\", \"x\": \"2020-01-20\", \"y\": 8.468388058310703}], \"shapes\": [{\"line\": {\"color\": \"red\", \"dash\": \"dash\", \"width\": 2}, \"type\": \"line\", \"x0\": \"2019-01-01\", \"x1\": \"2020-02-15\", \"y0\": -0.3906163241154607, \"y1\": -0.3906163241154607}, {\"line\": {\"color\": \"green\", \"dash\": \"dash\", \"width\": 2}, \"type\": \"line\", \"x0\": \"2020-02-15\", \"x1\": \"2020-10-01\", \"y0\": 8.468388058310703, \"y1\": 8.468388058310703}, {\"line\": {\"color\": \"#f76d23\", \"dash\": \"dot\", \"width\": 3}, \"type\": \"line\", \"x0\": \"2020-02-15\", \"x1\": \"2020-02-15\", \"y0\": -8.767551261504709, \"y1\": 22.98101053441339}], \"title\": \"% Prediction error in residential consumption for Rhode Island\"}, [0]], \"label\": \"Rhode Island\", \"method\": \"update\", \"visible\": true}, {\"args\": [{\"type\": \"scatter\", \"x\": [[\"2020-10-01\", \"2020-09-01\", \"2020-08-01\", \"2020-07-01\", \"2020-06-01\", \"2020-05-01\", \"2020-04-01\", \"2020-03-01\", \"2020-02-01\", \"2020-01-01\", \"2019-12-01\", \"2019-11-01\", \"2019-10-01\", \"2019-09-01\", \"2019-08-01\", \"2019-07-01\", \"2019-06-01\", \"2019-05-01\", \"2019-04-01\", \"2019-03-01\", \"2019-02-01\", \"2019-01-01\"]], \"y\": [[1.34, 0.29, 1.38, -2.73, 2.26, 7.5, -6.96, 2.44, 1.64, -7.74, 0.81, -0.66, 7.12, 0.22, -0.54, -5.35, 2.56, 3.69, 4.44, -6.45, -2.8, -8.25]]}, {\"annotations\": [{\"font_color\": \"green\", \"font_family\": \"Arial\", \"font_size\": 14, \"showarrow\": false, \"text\": \"<b>+1.5%</b>\", \"x\": \"2020-01-20\", \"y\": 0.6892471038611978}], \"shapes\": [{\"line\": {\"color\": \"red\", \"dash\": \"dash\", \"width\": 2}, \"type\": \"line\", \"x0\": \"2019-01-01\", \"x1\": \"2020-02-15\", \"y0\": -0.8091409192245669, \"y1\": -0.8091409192245669}, {\"line\": {\"color\": \"green\", \"dash\": \"dash\", \"width\": 2}, \"type\": \"line\", \"x0\": \"2020-02-15\", \"x1\": \"2020-10-01\", \"y0\": 0.6892471038611978, \"y1\": 0.6892471038611978}, {\"line\": {\"color\": \"#f76d23\", \"dash\": \"dot\", \"width\": 3}, \"type\": \"line\", \"x0\": \"2020-02-15\", \"x1\": \"2020-02-15\", \"y0\": -9.895871283298822, \"y1\": 8.99519924307465}], \"title\": \"% Prediction error in residential consumption for South Carolina\"}, [0]], \"label\": \"South Carolina\", \"method\": \"update\", \"visible\": true}, {\"args\": [{\"type\": \"scatter\", \"x\": [[\"2020-10-01\", \"2020-09-01\", \"2020-08-01\", \"2020-07-01\", \"2020-06-01\", \"2020-05-01\", \"2020-04-01\", \"2020-03-01\", \"2020-02-01\", \"2020-01-01\", \"2019-12-01\", \"2019-11-01\", \"2019-10-01\", \"2019-09-01\", \"2019-08-01\", \"2019-07-01\", \"2019-06-01\", \"2019-05-01\", \"2019-04-01\", \"2019-03-01\", \"2019-02-01\", \"2019-01-01\"]], \"y\": [[0.25, -0.06, 4.89, 3.4, 4.57, -1.31, -2.71, -5.81, -11.95, -5.85, 0.96, 0.38, 4.1, -8.1, -3.8, -1.91, 4.44, -1.38, 0.81, 5.21, 4.69, -6.99]]}, {\"annotations\": [{\"font_color\": \"green\", \"font_family\": \"Arial\", \"font_size\": 14, \"showarrow\": false, \"text\": \"<b>+1.79%</b>\", \"x\": \"2020-01-20\", \"y\": 0.4035378359735611}], \"shapes\": [{\"line\": {\"color\": \"red\", \"dash\": \"dash\", \"width\": 2}, \"type\": \"line\", \"x0\": \"2019-01-01\", \"x1\": \"2020-02-15\", \"y0\": -1.3839649658986766, \"y1\": -1.3839649658986766}, {\"line\": {\"color\": \"green\", \"dash\": \"dash\", \"width\": 2}, \"type\": \"line\", \"x0\": \"2020-02-15\", \"x1\": \"2020-10-01\", \"y0\": 0.4035378359735611, \"y1\": 0.4035378359735611}, {\"line\": {\"color\": \"#f76d23\", \"dash\": \"dot\", \"width\": 3}, \"type\": \"line\", \"x0\": \"2020-02-15\", \"x1\": \"2020-02-15\", \"y0\": -14.336519770608206, \"y1\": 6.246628510800687}], \"title\": \"% Prediction error in residential consumption for South Dakota\"}, [0]], \"label\": \"South Dakota\", \"method\": \"update\", \"visible\": true}, {\"args\": [{\"type\": \"scatter\", \"x\": [[\"2020-10-01\", \"2020-09-01\", \"2020-08-01\", \"2020-07-01\", \"2020-06-01\", \"2020-05-01\", \"2020-04-01\", \"2020-03-01\", \"2020-02-01\", \"2020-01-01\", \"2019-12-01\", \"2019-11-01\", \"2019-10-01\", \"2019-09-01\", \"2019-08-01\", \"2019-07-01\", \"2019-06-01\", \"2019-05-01\", \"2019-04-01\", \"2019-03-01\", \"2019-02-01\", \"2019-01-01\"]], \"y\": [[-6.51, -0.86, 2.67, -6.69, 0.56, 6.1, -6.56, -3.55, -11.59, -15.87, 4.12, -1.55, 13.69, -4.03, -3.6, -5.54, 8.03, -6.28, -0.5, -5.27, 1.59, -12.24]]}, {\"annotations\": [{\"font_color\": \"green\", \"font_family\": \"Arial\", \"font_size\": 14, \"showarrow\": false, \"text\": \"<b>+0.93%</b>\", \"x\": \"2020-01-20\", \"y\": -1.855553900907435}], \"shapes\": [{\"line\": {\"color\": \"red\", \"dash\": \"dash\", \"width\": 2}, \"type\": \"line\", \"x0\": \"2019-01-01\", \"x1\": \"2020-02-15\", \"y0\": -2.7866150968952224, \"y1\": -2.7866150968952224}, {\"line\": {\"color\": \"green\", \"dash\": \"dash\", \"width\": 2}, \"type\": \"line\", \"x0\": \"2020-02-15\", \"x1\": \"2020-10-01\", \"y0\": -1.855553900907435, \"y1\": -1.855553900907435}, {\"line\": {\"color\": \"#f76d23\", \"dash\": \"dot\", \"width\": 3}, \"type\": \"line\", \"x0\": \"2020-02-15\", \"x1\": \"2020-02-15\", \"y0\": -19.043201383911512, \"y1\": 16.427899378231945}], \"title\": \"% Prediction error in residential consumption for Tennessee\"}, [0]], \"label\": \"Tennessee\", \"method\": \"update\", \"visible\": true}, {\"args\": [{\"type\": \"scatter\", \"x\": [[\"2020-10-01\", \"2020-09-01\", \"2020-08-01\", \"2020-07-01\", \"2020-06-01\", \"2020-05-01\", \"2020-04-01\", \"2020-03-01\", \"2020-02-01\", \"2020-01-01\", \"2019-12-01\", \"2019-11-01\", \"2019-10-01\", \"2019-09-01\", \"2019-08-01\", \"2019-07-01\", \"2019-06-01\", \"2019-05-01\", \"2019-04-01\", \"2019-03-01\", \"2019-02-01\", \"2019-01-01\"]], \"y\": [[-2.73, 2.25, 0.63, -0.59, 1.43, 5.92, 4.55, -0.51, -6.87, -9.24, 2.69, -1.48, 12.26, -2.51, -3.39, -3.47, 1.6, -3.14, -0.49, 1.97, 1.68, -7.08]]}, {\"annotations\": [{\"font_color\": \"green\", \"font_family\": \"Arial\", \"font_size\": 14, \"showarrow\": false, \"text\": \"<b>+2.62%</b>\", \"x\": \"2020-01-20\", \"y\": 1.369242706242141}], \"shapes\": [{\"line\": {\"color\": \"red\", \"dash\": \"dash\", \"width\": 2}, \"type\": \"line\", \"x0\": \"2019-01-01\", \"x1\": \"2020-02-15\", \"y0\": -1.2484692153310468, \"y1\": -1.2484692153310468}, {\"line\": {\"color\": \"green\", \"dash\": \"dash\", \"width\": 2}, \"type\": \"line\", \"x0\": \"2020-02-15\", \"x1\": \"2020-10-01\", \"y0\": 1.369242706242141, \"y1\": 1.369242706242141}, {\"line\": {\"color\": \"#f76d23\", \"dash\": \"dot\", \"width\": 3}, \"type\": \"line\", \"x0\": \"2020-02-15\", \"x1\": \"2020-02-15\", \"y0\": -11.086928084353234, \"y1\": 14.715701323212228}], \"title\": \"% Prediction error in residential consumption for Texas\"}, [0]], \"label\": \"Texas\", \"method\": \"update\", \"visible\": true}, {\"args\": [{\"type\": \"scatter\", \"x\": [[\"2020-10-01\", \"2020-09-01\", \"2020-08-01\", \"2020-07-01\", \"2020-06-01\", \"2020-05-01\", \"2020-04-01\", \"2020-03-01\", \"2020-02-01\", \"2020-01-01\", \"2019-12-01\", \"2019-11-01\", \"2019-10-01\", \"2019-09-01\", \"2019-08-01\", \"2019-07-01\", \"2019-06-01\", \"2019-05-01\", \"2019-04-01\", \"2019-03-01\", \"2019-02-01\", \"2019-01-01\"]], \"y\": [[3.06, 5.97, 7.08, 0.88, 6.51, 8.99, 4.05, 4.17, 2.82, -2.73, -0.23, 1.16, 0.25, 2.49, -1.51, -2.5, 0.1, 6.07, -2.79, -0.47, 1.41, -2.68]]}, {\"annotations\": [{\"font_color\": \"green\", \"font_family\": \"Arial\", \"font_size\": 14, \"showarrow\": false, \"text\": \"<b>+4.99%</b>\", \"x\": \"2020-01-20\", \"y\": 5.089567821595995}], \"shapes\": [{\"line\": {\"color\": \"red\", \"dash\": \"dash\", \"width\": 2}, \"type\": \"line\", \"x0\": \"2019-01-01\", \"x1\": \"2020-02-15\", \"y0\": 0.09904918413625032, \"y1\": 0.09904918413625032}, {\"line\": {\"color\": \"green\", \"dash\": \"dash\", \"width\": 2}, \"type\": \"line\", \"x0\": \"2020-02-15\", \"x1\": \"2020-10-01\", \"y0\": 5.089567821595995, \"y1\": 5.089567821595995}, {\"line\": {\"color\": \"#f76d23\", \"dash\": \"dot\", \"width\": 3}, \"type\": \"line\", \"x0\": \"2020-02-15\", \"x1\": \"2020-02-15\", \"y0\": -3.3513655242590508, \"y1\": 10.792283298831384}], \"title\": \"% Prediction error in residential consumption for Utah\"}, [0]], \"label\": \"Utah\", \"method\": \"update\", \"visible\": true}, {\"args\": [{\"type\": \"scatter\", \"x\": [[\"2020-10-01\", \"2020-09-01\", \"2020-08-01\", \"2020-07-01\", \"2020-06-01\", \"2020-05-01\", \"2020-04-01\", \"2020-03-01\", \"2020-02-01\", \"2020-01-01\", \"2019-12-01\", \"2019-11-01\", \"2019-10-01\", \"2019-09-01\", \"2019-08-01\", \"2019-07-01\", \"2019-06-01\", \"2019-05-01\", \"2019-04-01\", \"2019-03-01\", \"2019-02-01\", \"2019-01-01\"]], \"y\": [[6.69, 3.59, 3.98, 9.48, 9.66, 6.76, 4.06, 0.75, 0.89, -5.48, 0.39, 3.56, -2.77, -2.1, 2.55, -2.9, -1.25, -4.31, 1.62, -3.68, 5.41, -0.49]]}, {\"annotations\": [{\"font_color\": \"green\", \"font_family\": \"Arial\", \"font_size\": 14, \"showarrow\": false, \"text\": \"<b>+6.23%</b>\", \"x\": \"2020-01-20\", \"y\": 5.621523224124915}], \"shapes\": [{\"line\": {\"color\": \"red\", \"dash\": \"dash\", \"width\": 2}, \"type\": \"line\", \"x0\": \"2019-01-01\", \"x1\": \"2020-02-15\", \"y0\": -0.6117164257365635, \"y1\": -0.6117164257365635}, {\"line\": {\"color\": \"green\", \"dash\": \"dash\", \"width\": 2}, \"type\": \"line\", \"x0\": \"2020-02-15\", \"x1\": \"2020-10-01\", \"y0\": 5.621523224124915, \"y1\": 5.621523224124915}, {\"line\": {\"color\": \"#f76d23\", \"dash\": \"dot\", \"width\": 3}, \"type\": \"line\", \"x0\": \"2020-02-15\", \"x1\": \"2020-02-15\", \"y0\": -6.576415245064376, \"y1\": 11.597182828689181}], \"title\": \"% Prediction error in residential consumption for Vermont\"}, [0]], \"label\": \"Vermont\", \"method\": \"update\", \"visible\": true}, {\"args\": [{\"type\": \"scatter\", \"x\": [[\"2020-10-01\", \"2020-09-01\", \"2020-08-01\", \"2020-07-01\", \"2020-06-01\", \"2020-05-01\", \"2020-04-01\", \"2020-03-01\", \"2020-02-01\", \"2020-01-01\", \"2019-12-01\", \"2019-11-01\", \"2019-10-01\", \"2019-09-01\", \"2019-08-01\", \"2019-07-01\", \"2019-06-01\", \"2019-05-01\", \"2019-04-01\", \"2019-03-01\", \"2019-02-01\", \"2019-01-01\"]], \"y\": [[-21.56, 1.09, 6.21, 4.85, 7.48, 7.54, -9.64, -8.4, -11.12, -1.69, 3.94, 0.64, -2.23, -4.44, -3.38, 2.15, 1.44, -6.78, 1.2, -1.06, 1.13, -1.33]]}, {\"annotations\": [{\"font_color\": \"red\", \"font_family\": \"Arial\", \"font_size\": 14, \"showarrow\": false, \"text\": \"<b>-0.01%</b>\", \"x\": \"2020-01-20\", \"y\": -1.5520350187672134}], \"shapes\": [{\"line\": {\"color\": \"red\", \"dash\": \"dash\", \"width\": 2}, \"type\": \"line\", \"x0\": \"2019-01-01\", \"x1\": \"2020-02-15\", \"y0\": -1.5378450067797478, \"y1\": -1.5378450067797478}, {\"line\": {\"color\": \"green\", \"dash\": \"dash\", \"width\": 2}, \"type\": \"line\", \"x0\": \"2020-02-15\", \"x1\": \"2020-10-01\", \"y0\": -1.5520350187672134, \"y1\": -1.5520350187672134}, {\"line\": {\"color\": \"#f76d23\", \"dash\": \"dot\", \"width\": 3}, \"type\": \"line\", \"x0\": \"2020-02-15\", \"x1\": \"2020-02-15\", \"y0\": -25.867948285207873, \"y1\": 9.04502653505864}], \"title\": \"% Prediction error in residential consumption for Virginia\"}, [0]], \"label\": \"Virginia\", \"method\": \"update\", \"visible\": true}, {\"args\": [{\"type\": \"scatter\", \"x\": [[\"2020-10-01\", \"2020-09-01\", \"2020-08-01\", \"2020-07-01\", \"2020-06-01\", \"2020-05-01\", \"2020-04-01\", \"2020-03-01\", \"2020-02-01\", \"2020-01-01\", \"2019-12-01\", \"2019-11-01\", \"2019-10-01\", \"2019-09-01\", \"2019-08-01\", \"2019-07-01\", \"2019-06-01\", \"2019-05-01\", \"2019-04-01\", \"2019-03-01\", \"2019-02-01\", \"2019-01-01\"]], \"y\": [[4.96, -1.38, 0.47, 5.12, 2.54, -2.6, -3.64, -5.43, -6.8, -8.95, -2.05, 3.75, 9.76, -0.93, 1.6, -1.89, -1.39, -10.28, -2.51, 4.55, -0.26, -4.37]]}, {\"annotations\": [{\"font_color\": \"green\", \"font_family\": \"Arial\", \"font_size\": 14, \"showarrow\": false, \"text\": \"<b>+1.42%</b>\", \"x\": \"2020-01-20\", \"y\": 0.005626593279047798}], \"shapes\": [{\"line\": {\"color\": \"red\", \"dash\": \"dash\", \"width\": 2}, \"type\": \"line\", \"x0\": \"2019-01-01\", \"x1\": \"2020-02-15\", \"y0\": -1.4122961990491834, \"y1\": -1.4122961990491834}, {\"line\": {\"color\": \"green\", \"dash\": \"dash\", \"width\": 2}, \"type\": \"line\", \"x0\": \"2020-02-15\", \"x1\": \"2020-10-01\", \"y0\": 0.005626593279047798, \"y1\": 0.005626593279047798}, {\"line\": {\"color\": \"#f76d23\", \"dash\": \"dot\", \"width\": 3}, \"type\": \"line\", \"x0\": \"2020-02-15\", \"x1\": \"2020-02-15\", \"y0\": -12.330083311864358, \"y1\": 11.708924162538421}], \"title\": \"% Prediction error in residential consumption for Washington\"}, [0]], \"label\": \"Washington\", \"method\": \"update\", \"visible\": true}, {\"args\": [{\"type\": \"scatter\", \"x\": [[\"2020-10-01\", \"2020-09-01\", \"2020-08-01\", \"2020-07-01\", \"2020-06-01\", \"2020-05-01\", \"2020-04-01\", \"2020-03-01\", \"2020-02-01\", \"2020-01-01\", \"2019-12-01\", \"2019-11-01\", \"2019-10-01\", \"2019-09-01\", \"2019-08-01\", \"2019-07-01\", \"2019-06-01\", \"2019-05-01\", \"2019-04-01\", \"2019-03-01\", \"2019-02-01\", \"2019-01-01\"]], \"y\": [[-5.71, 4.06, 2.46, 6.17, 5.04, 16.24, -3.6, -9.44, -3.42, -8.41, 2.7, -1.32, -1.23, -2.31, 1.36, 3.97, -0.93, -13.89, -2.97, 0.59, 3.08, -3.05]]}, {\"annotations\": [{\"font_color\": \"green\", \"font_family\": \"Arial\", \"font_size\": 14, \"showarrow\": false, \"text\": \"<b>+3.75%</b>\", \"x\": \"2020-01-20\", \"y\": 1.9031881802791482}], \"shapes\": [{\"line\": {\"color\": \"red\", \"dash\": \"dash\", \"width\": 2}, \"type\": \"line\", \"x0\": \"2019-01-01\", \"x1\": \"2020-02-15\", \"y0\": -1.8447962298516463, \"y1\": -1.8447962298516463}, {\"line\": {\"color\": \"green\", \"dash\": \"dash\", \"width\": 2}, \"type\": \"line\", \"x0\": \"2020-02-15\", \"x1\": \"2020-10-01\", \"y0\": 1.9031881802791482, \"y1\": 1.9031881802791482}, {\"line\": {\"color\": \"#f76d23\", \"dash\": \"dot\", \"width\": 3}, \"type\": \"line\", \"x0\": \"2020-02-15\", \"x1\": \"2020-02-15\", \"y0\": -16.67100280377729, \"y1\": 19.484428501992266}], \"title\": \"% Prediction error in residential consumption for West Virginia\"}, [0]], \"label\": \"West Virginia\", \"method\": \"update\", \"visible\": true}, {\"args\": [{\"type\": \"scatter\", \"x\": [[\"2020-10-01\", \"2020-09-01\", \"2020-08-01\", \"2020-07-01\", \"2020-06-01\", \"2020-05-01\", \"2020-04-01\", \"2020-03-01\", \"2020-02-01\", \"2020-01-01\", \"2019-12-01\", \"2019-11-01\", \"2019-10-01\", \"2019-09-01\", \"2019-08-01\", \"2019-07-01\", \"2019-06-01\", \"2019-05-01\", \"2019-04-01\", \"2019-03-01\", \"2019-02-01\", \"2019-01-01\"]], \"y\": [[6.74, 2.39, 7.39, 7.96, 11.93, 11.61, 4.55, 2.83, -4.52, 0.15, -0.27, 1.52, 3.95, -3.92, -3.32, -0.21, -1.63, -0.01, 0.47, 1.84, 4.36, -1.83]]}, {\"annotations\": [{\"font_color\": \"green\", \"font_family\": \"Arial\", \"font_size\": 14, \"showarrow\": false, \"text\": \"<b>+7.17%</b>\", \"x\": \"2020-01-20\", \"y\": 6.92524887545615}], \"shapes\": [{\"line\": {\"color\": \"red\", \"dash\": \"dash\", \"width\": 2}, \"type\": \"line\", \"x0\": \"2019-01-01\", \"x1\": \"2020-02-15\", \"y0\": -0.24375562883165536, \"y1\": -0.24375562883165536}, {\"line\": {\"color\": \"green\", \"dash\": \"dash\", \"width\": 2}, \"type\": \"line\", \"x0\": \"2020-02-15\", \"x1\": \"2020-10-01\", \"y0\": 6.92524887545615, \"y1\": 6.92524887545615}, {\"line\": {\"color\": \"#f76d23\", \"dash\": \"dot\", \"width\": 3}, \"type\": \"line\", \"x0\": \"2020-02-15\", \"x1\": \"2020-02-15\", \"y0\": -5.419041337765585, \"y1\": 14.311000065342574}], \"title\": \"% Prediction error in residential consumption for Wisconsin\"}, [0]], \"label\": \"Wisconsin\", \"method\": \"update\", \"visible\": true}, {\"args\": [{\"type\": \"scatter\", \"x\": [[\"2020-10-01\", \"2020-09-01\", \"2020-08-01\", \"2020-07-01\", \"2020-06-01\", \"2020-05-01\", \"2020-04-01\", \"2020-03-01\", \"2020-02-01\", \"2020-01-01\", \"2019-12-01\", \"2019-11-01\", \"2019-10-01\", \"2019-09-01\", \"2019-08-01\", \"2019-07-01\", \"2019-06-01\", \"2019-05-01\", \"2019-04-01\", \"2019-03-01\", \"2019-02-01\", \"2019-01-01\"]], \"y\": [[-4.14, -4.84, 1.14, 2.66, 4.04, -7.44, 0.47, -3.11, -6.11, -11.76, -2.39, 3.57, 6.08, -3.48, -4.83, 3.86, 8.69, -2.56, -4.27, 3.6, -2.93, -1.66]]}, {\"annotations\": [{\"font_color\": \"red\", \"font_family\": \"Arial\", \"font_size\": 14, \"showarrow\": false, \"text\": \"<b>-0.39%</b>\", \"x\": \"2020-01-20\", \"y\": -1.4049533806998125}], \"shapes\": [{\"line\": {\"color\": \"red\", \"dash\": \"dash\", \"width\": 2}, \"type\": \"line\", \"x0\": \"2019-01-01\", \"x1\": \"2020-02-15\", \"y0\": -1.0135887813139612, \"y1\": -1.0135887813139612}, {\"line\": {\"color\": \"green\", \"dash\": \"dash\", \"width\": 2}, \"type\": \"line\", \"x0\": \"2020-02-15\", \"x1\": \"2020-10-01\", \"y0\": -1.4049533806998125, \"y1\": -1.4049533806998125}, {\"line\": {\"color\": \"#f76d23\", \"dash\": \"dot\", \"width\": 3}, \"type\": \"line\", \"x0\": \"2020-02-15\", \"x1\": \"2020-02-15\", \"y0\": -14.106385068468917, \"y1\": 10.430818537167289}], \"title\": \"% Prediction error in residential consumption for Wyoming\"}, [0]], \"label\": \"Wyoming\", \"method\": \"update\", \"visible\": true}], \"direction\": \"down\", \"showactive\": true}]},\n",
       "                        {\"responsive\": true}\n",
       "                    ).then(function(){\n",
       "                            \n",
       "var gd = document.getElementById('0d4f517f-3c07-4685-8890-c2fd7605955c');\n",
       "var x = new MutationObserver(function (mutations, observer) {{\n",
       "        var display = window.getComputedStyle(gd).display;\n",
       "        if (!display || display === 'none') {{\n",
       "            console.log([gd, 'removed!']);\n",
       "            Plotly.purge(gd);\n",
       "            observer.disconnect();\n",
       "        }}\n",
       "}});\n",
       "\n",
       "// Listen for the removal of the full notebook cells\n",
       "var notebookContainer = gd.closest('#notebook-container');\n",
       "if (notebookContainer) {{\n",
       "    x.observe(notebookContainer, {childList: true});\n",
       "}}\n",
       "\n",
       "// Listen for the clearing of the current output cell\n",
       "var outputEl = gd.closest('.output');\n",
       "if (outputEl) {{\n",
       "    x.observe(outputEl, {childList: true});\n",
       "}}\n",
       "\n",
       "                        })\n",
       "                };\n",
       "                });\n",
       "            </script>\n",
       "        </div>"
      ]
     },
     "metadata": {},
     "output_type": "display_data"
    },
    {
     "data": {
      "text/plain": [
       "'https://plotly.com/~kmohan_ts/3/'"
      ]
     },
     "execution_count": 197,
     "metadata": {},
     "output_type": "execute_result"
    }
   ],
   "source": [
    "# fig = px.line(energy_data[(energy_data.state=='USA')&(energy_data.sector==\"RES\")&(energy_data.year >= 2019)], x=\"date\", y=\"pct_error_20\", title='Error in prediction')\n",
    "# fig.add_shape(type='line',x0='2020-02-15',x1='2020-02-15')\n",
    "\n",
    "# # fig = go.Figure(go.Scatter(x=energy_data[(energy_data.state=='USA')&(energy_data.sector==\"RES\")&(energy_data.year >= 2019)].date,\n",
    "# #                            y=np.round(energy_data[(energy_data.state=='USA')&(energy_data.sector==\"RES\")&(energy_data.year >= 2019)].pct_error_20,2),mode='lines+markers',marker_color='#27a3aa'))\n",
    "fig = go.Figure()\n",
    "fig.add_trace(go.Scatter(x=energy_data[(energy_data.state_name=='USA')&(energy_data.sector==\"RES\")&(energy_data.year >= 2019)].date,\n",
    "                         y=np.round(energy_data[(energy_data.state_name=='USA')&(energy_data.sector==\"RES\")&(energy_data.year >= 2019)].pct_error_20,2),\n",
    "                         mode='lines+markers',marker_color='#27a3aa',visible=True))\n",
    "# fig = px.scatter(energy_data[(energy_data.state=='USA')&(energy_data.sector==\"RES\")&(energy_data.year >= 2019)],\n",
    "#                 x='date',\n",
    "#                 y='pct_error_20'\n",
    "#                 )\n",
    "fig.add_shape(type='line',\n",
    "              x0='2020-02-15',x1='2020-02-15',\n",
    "              y0=energy_data[(energy_data.state_name=='USA')&(energy_data.sector==\"RES\")&(energy_data.year >= 2019)].pct_error_20.min()*1.2,\n",
    "              y1=energy_data[(energy_data.state_name=='USA')&(energy_data.sector==\"RES\")&(energy_data.year >= 2019)].pct_error_20.max()*1.2,\n",
    "              line=dict(color='#f76d23', width=3, dash=\"dot\"))\n",
    "fig.add_shape(type='line',\n",
    "              x0='2019-01-01',x1='2020-02-15',\n",
    "              y0=energy_data[(energy_data.state_name=='USA')&(energy_data.sector==\"RES\")].pre_covid_error.min(),\n",
    "              y1=energy_data[(energy_data.state_name=='USA')&(energy_data.sector==\"RES\")].pre_covid_error.min(),\n",
    "              line=dict(color='red', width=2, dash=\"dash\"))\n",
    "fig.add_shape(type='line',\n",
    "              x0='2020-02-15',x1='2020-10-01',\n",
    "              y0=energy_data[(energy_data.state_name=='USA')&(energy_data.sector==\"RES\")].post_covid_error.min(),\n",
    "              y1=energy_data[(energy_data.state_name=='USA')&(energy_data.sector==\"RES\")].post_covid_error.min(),\n",
    "              line=dict(color='green', width=2, dash=\"dash\"))\n",
    "fig.add_annotation(x='2020-01-20',\n",
    "                  y=energy_data[(energy_data.state_name=='USA')&(energy_data.sector==\"RES\")].post_covid_error.min(),\n",
    "                  text=list(energy_data[(energy_data.state_name=='USA')&(energy_data.sector==\"RES\")].anno_text)[0],\n",
    "                  showarrow=False,\n",
    "                  font_size=14,\n",
    "                  font_family='Arial',\n",
    "                  font_color=list(energy_data[(energy_data.state_name=='USA')&(energy_data.sector==\"RES\")].anno_color)[0] \n",
    "                  )\n",
    "\n",
    "updatemenu = []\n",
    "buttons = []\n",
    "states = ['USA']\n",
    "states.extend(energy_data[~(energy_data.state_name =='USA')].state_name.unique())\n",
    "\n",
    "for state in states:\n",
    "    buttons.append(dict(method='update',\n",
    "                        label=state,\n",
    "                        visible=True,\n",
    "                        args=[#update to trace\n",
    "                            {'y':[np.round(energy_data[(energy_data.state_name==state)&(energy_data.sector==\"RES\")&(energy_data.year >= 2019)].pct_error_20,2)],\n",
    "                               'x':[energy_data[(energy_data.state_name==state)&(energy_data.sector==\"RES\")&(energy_data.year >= 2019)].date],\n",
    "                               'type':'scatter'},\n",
    "                            #update to layout\n",
    "                            {'title':'% Prediction error in residential consumption for '+state,\n",
    "                             'annotations':[{'x':'2020-01-20',\n",
    "                                             'y':energy_data[(energy_data.state_name==state)&(energy_data.sector==\"RES\")].post_covid_error.min(),\n",
    "                                             'text':list(energy_data[(energy_data.state_name==state)&(energy_data.sector==\"RES\")].anno_text)[0],\n",
    "                                             'showarrow':False,'font_size':14,'font_family':'Arial',\n",
    "                                             'font_color':list(energy_data[(energy_data.state_name==state)&(energy_data.sector==\"RES\")].anno_color)[0] }],\n",
    "                            'shapes':[{'type':'line',\n",
    "                                       'x0':'2019-01-01','x1':'2020-02-15',\n",
    "                                       'y0':energy_data[(energy_data.state_name==state)&(energy_data.sector==\"RES\")].pre_covid_error.min(),\n",
    "                                       'y1':energy_data[(energy_data.state_name==state)&(energy_data.sector==\"RES\")].pre_covid_error.min(),\n",
    "                                       'line':dict(color='red', width=2, dash=\"dash\")},\n",
    "                                     {'type':'line',\n",
    "                                       'x0':'2020-02-15','x1':'2020-10-01',\n",
    "                                       'y0':energy_data[(energy_data.state_name==state)&(energy_data.sector==\"RES\")].post_covid_error.min(),\n",
    "                                       'y1':energy_data[(energy_data.state_name==state)&(energy_data.sector==\"RES\")].post_covid_error.min(),\n",
    "                                       'line':dict(color='green', width=2, dash=\"dash\")},\n",
    "                                     {'type':'line',\n",
    "                                       'x0':'2020-02-15','x1':'2020-02-15',\n",
    "                                       'y0':energy_data[(energy_data.state_name==state)&(energy_data.sector==\"RES\")&(energy_data.year >= 2019)].pct_error_20.min()*1.2,\n",
    "                                       'y1':energy_data[(energy_data.state_name==state)&(energy_data.sector==\"RES\")&(energy_data.year >= 2019)].pct_error_20.max()*1.2,\n",
    "                                       'line':dict(color='#f76d23', width=3, dash=\"dot\")}]},\n",
    "                            [0]]))\n",
    "\n",
    "    # some adjustments to the updatemenus\n",
    "updatemenu = []\n",
    "your_menu = dict()\n",
    "updatemenu.append(your_menu)\n",
    "\n",
    "updatemenu[0]['buttons'] = buttons\n",
    "updatemenu[0]['direction'] = 'down'\n",
    "updatemenu[0]['showactive'] = True\n",
    "\n",
    "# add dropdown menus to the figure\n",
    "fig.update_layout(showlegend=False, updatemenus=updatemenu)\n",
    "fig.show()\n",
    "\n",
    "py.plot(fig, filename = 'res-energy-states', auto_open=True)"
   ]
  },
  {
   "cell_type": "code",
   "execution_count": null,
   "metadata": {},
   "outputs": [],
   "source": []
  },
  {
   "cell_type": "markdown",
   "metadata": {},
   "source": [
    "### Geo plot"
   ]
  },
  {
   "cell_type": "code",
   "execution_count": 104,
   "metadata": {},
   "outputs": [],
   "source": [
    "def mean_errors(df, col='pct_error_20'):\n",
    "    pre_covid = df[(df.date<'2020-03-01')&(df.date >= '2019-01-01')][col].mean()\n",
    "    post_covid = df[df.date>='2020-03-01'][col].mean()\n",
    "    diff = post_covid - pre_covid\n",
    "    return diff\n",
    "#     return {'pre_covid':pre_covid, 'post_covid':post_covid}\n",
    "\n",
    "def get_pre_covid_errors(df, col='pct_error_20'):\n",
    "    pre_covid = df[(df.date<'2020-03-01')&(df.date >= '2019-01-01')][col].mean()\n",
    "    return pre_covid\n",
    "\n",
    "def get_post_covid_errors(df, col='pct_error_20'):\n",
    "    post_covid = df[df.date>='2020-03-01'][col].mean()\n",
    "    return post_covid"
   ]
  },
  {
   "cell_type": "code",
   "execution_count": 37,
   "metadata": {},
   "outputs": [],
   "source": [
    "mean_change = pd.DataFrame(energy_data.groupby(['state','sector']).apply(mean_errors).reset_index().rename(columns={0:'change'}))"
   ]
  },
  {
   "cell_type": "code",
   "execution_count": 38,
   "metadata": {},
   "outputs": [],
   "source": [
    "mean_res_change = mean_change[mean_change.sector==\"RES\"]"
   ]
  },
  {
   "cell_type": "code",
   "execution_count": 29,
   "metadata": {},
   "outputs": [
    {
     "data": {
      "text/html": [
       "<div>\n",
       "<style scoped>\n",
       "    .dataframe tbody tr th:only-of-type {\n",
       "        vertical-align: middle;\n",
       "    }\n",
       "\n",
       "    .dataframe tbody tr th {\n",
       "        vertical-align: top;\n",
       "    }\n",
       "\n",
       "    .dataframe thead th {\n",
       "        text-align: right;\n",
       "    }\n",
       "</style>\n",
       "<table border=\"1\" class=\"dataframe\">\n",
       "  <thead>\n",
       "    <tr style=\"text-align: right;\">\n",
       "      <th></th>\n",
       "      <th>state</th>\n",
       "      <th>sector</th>\n",
       "      <th>change</th>\n",
       "      <th>text</th>\n",
       "    </tr>\n",
       "  </thead>\n",
       "  <tbody>\n",
       "    <tr>\n",
       "      <th>1</th>\n",
       "      <td>AL</td>\n",
       "      <td>RES</td>\n",
       "      <td>-1.209087</td>\n",
       "      <td>-1.21%</td>\n",
       "    </tr>\n",
       "    <tr>\n",
       "      <th>3</th>\n",
       "      <td>AR</td>\n",
       "      <td>RES</td>\n",
       "      <td>-3.622929</td>\n",
       "      <td>-3.62%</td>\n",
       "    </tr>\n",
       "    <tr>\n",
       "      <th>5</th>\n",
       "      <td>AZ</td>\n",
       "      <td>RES</td>\n",
       "      <td>6.852560</td>\n",
       "      <td>6.85%</td>\n",
       "    </tr>\n",
       "    <tr>\n",
       "      <th>7</th>\n",
       "      <td>CA</td>\n",
       "      <td>RES</td>\n",
       "      <td>6.501631</td>\n",
       "      <td>6.5%</td>\n",
       "    </tr>\n",
       "    <tr>\n",
       "      <th>9</th>\n",
       "      <td>CO</td>\n",
       "      <td>RES</td>\n",
       "      <td>5.653217</td>\n",
       "      <td>5.65%</td>\n",
       "    </tr>\n",
       "  </tbody>\n",
       "</table>\n",
       "</div>"
      ],
      "text/plain": [
       "  state sector    change    text\n",
       "1    AL    RES -1.209087  -1.21%\n",
       "3    AR    RES -3.622929  -3.62%\n",
       "5    AZ    RES  6.852560   6.85%\n",
       "7    CA    RES  6.501631    6.5%\n",
       "9    CO    RES  5.653217   5.65%"
      ]
     },
     "execution_count": 29,
     "metadata": {},
     "output_type": "execute_result"
    }
   ],
   "source": [
    "mean_res_change.head()"
   ]
  },
  {
   "cell_type": "code",
   "execution_count": 35,
   "metadata": {},
   "outputs": [],
   "source": [
    "us_state_abbrev = {\n",
    "    'Alabama': 'AL',\n",
    "    'Alaska': 'AK',\n",
    "    'American Samoa': 'AS',\n",
    "    'Arizona': 'AZ',\n",
    "    'Arkansas': 'AR',\n",
    "    'California': 'CA',\n",
    "    'Colorado': 'CO',\n",
    "    'Connecticut': 'CT',\n",
    "    'Delaware': 'DE',\n",
    "    'District of Columbia': 'DC',\n",
    "    'Florida': 'FL',\n",
    "    'Georgia': 'GA',\n",
    "    'Guam': 'GU',\n",
    "    'Hawaii': 'HI',\n",
    "    'Idaho': 'ID',\n",
    "    'Illinois': 'IL',\n",
    "    'Indiana': 'IN',\n",
    "    'Iowa': 'IA',\n",
    "    'Kansas': 'KS',\n",
    "    'Kentucky': 'KY',\n",
    "    'Louisiana': 'LA',\n",
    "    'Maine': 'ME',\n",
    "    'Maryland': 'MD',\n",
    "    'Massachusetts': 'MA',\n",
    "    'Michigan': 'MI',\n",
    "    'Minnesota': 'MN',\n",
    "    'Mississippi': 'MS',\n",
    "    'Missouri': 'MO',\n",
    "    'Montana': 'MT',\n",
    "    'Nebraska': 'NE',\n",
    "    'Nevada': 'NV',\n",
    "    'New Hampshire': 'NH',\n",
    "    'New Jersey': 'NJ',\n",
    "    'New Mexico': 'NM',\n",
    "    'New York': 'NY',\n",
    "    'North Carolina': 'NC',\n",
    "    'North Dakota': 'ND',\n",
    "    'Northern Mariana Islands':'MP',\n",
    "    'Ohio': 'OH',\n",
    "    'Oklahoma': 'OK',\n",
    "    'Oregon': 'OR',\n",
    "    'Pennsylvania': 'PA',\n",
    "    'Puerto Rico': 'PR',\n",
    "    'Rhode Island': 'RI',\n",
    "    'South Carolina': 'SC',\n",
    "    'South Dakota': 'SD',\n",
    "    'Tennessee': 'TN',\n",
    "    'Texas': 'TX',\n",
    "    'Utah': 'UT',\n",
    "    'Vermont': 'VT',\n",
    "    'Virgin Islands': 'VI',\n",
    "    'Virginia': 'VA',\n",
    "    'Washington': 'WA',\n",
    "    'West Virginia': 'WV',\n",
    "    'Wisconsin': 'WI',\n",
    "    'Wyoming': 'WY',\n",
    "    'USA':'USA'\n",
    "}\n",
    "\n",
    "# thank you to @kinghelix and @trevormarburger for this idea\n",
    "abbrev_us_state = dict(map(reversed, us_state_abbrev.items()))"
   ]
  },
  {
   "cell_type": "code",
   "execution_count": 41,
   "metadata": {},
   "outputs": [
    {
     "name": "stderr",
     "output_type": "stream",
     "text": [
      "<ipython-input-41-6c49b7cb3697>:1: SettingWithCopyWarning:\n",
      "\n",
      "\n",
      "A value is trying to be set on a copy of a slice from a DataFrame.\n",
      "Try using .loc[row_indexer,col_indexer] = value instead\n",
      "\n",
      "See the caveats in the documentation: https://pandas.pydata.org/pandas-docs/stable/user_guide/indexing.html#returning-a-view-versus-a-copy\n",
      "\n"
     ]
    }
   ],
   "source": [
    "mean_res_change['state_name'] = [abbrev_us_state[s] for s in mean_res_change['state']]"
   ]
  },
  {
   "cell_type": "code",
   "execution_count": 42,
   "metadata": {},
   "outputs": [
    {
     "data": {
      "text/html": [
       "<div>\n",
       "<style scoped>\n",
       "    .dataframe tbody tr th:only-of-type {\n",
       "        vertical-align: middle;\n",
       "    }\n",
       "\n",
       "    .dataframe tbody tr th {\n",
       "        vertical-align: top;\n",
       "    }\n",
       "\n",
       "    .dataframe thead th {\n",
       "        text-align: right;\n",
       "    }\n",
       "</style>\n",
       "<table border=\"1\" class=\"dataframe\">\n",
       "  <thead>\n",
       "    <tr style=\"text-align: right;\">\n",
       "      <th></th>\n",
       "      <th>state</th>\n",
       "      <th>sector</th>\n",
       "      <th>change</th>\n",
       "      <th>state_name</th>\n",
       "    </tr>\n",
       "  </thead>\n",
       "  <tbody>\n",
       "    <tr>\n",
       "      <th>1</th>\n",
       "      <td>AL</td>\n",
       "      <td>RES</td>\n",
       "      <td>-1.209087</td>\n",
       "      <td>Alabama</td>\n",
       "    </tr>\n",
       "    <tr>\n",
       "      <th>3</th>\n",
       "      <td>AR</td>\n",
       "      <td>RES</td>\n",
       "      <td>-3.622929</td>\n",
       "      <td>Arkansas</td>\n",
       "    </tr>\n",
       "    <tr>\n",
       "      <th>5</th>\n",
       "      <td>AZ</td>\n",
       "      <td>RES</td>\n",
       "      <td>6.852560</td>\n",
       "      <td>Arizona</td>\n",
       "    </tr>\n",
       "    <tr>\n",
       "      <th>7</th>\n",
       "      <td>CA</td>\n",
       "      <td>RES</td>\n",
       "      <td>6.501631</td>\n",
       "      <td>California</td>\n",
       "    </tr>\n",
       "    <tr>\n",
       "      <th>9</th>\n",
       "      <td>CO</td>\n",
       "      <td>RES</td>\n",
       "      <td>5.653217</td>\n",
       "      <td>Colorado</td>\n",
       "    </tr>\n",
       "  </tbody>\n",
       "</table>\n",
       "</div>"
      ],
      "text/plain": [
       "  state sector    change  state_name\n",
       "1    AL    RES -1.209087     Alabama\n",
       "3    AR    RES -3.622929    Arkansas\n",
       "5    AZ    RES  6.852560     Arizona\n",
       "7    CA    RES  6.501631  California\n",
       "9    CO    RES  5.653217    Colorado"
      ]
     },
     "execution_count": 42,
     "metadata": {},
     "output_type": "execute_result"
    }
   ],
   "source": [
    "mean_res_change.head()"
   ]
  },
  {
   "cell_type": "code",
   "execution_count": 45,
   "metadata": {},
   "outputs": [
    {
     "name": "stderr",
     "output_type": "stream",
     "text": [
      "<ipython-input-45-a7976fb9e73e>:1: SettingWithCopyWarning:\n",
      "\n",
      "\n",
      "A value is trying to be set on a copy of a slice from a DataFrame.\n",
      "Try using .loc[row_indexer,col_indexer] = value instead\n",
      "\n",
      "See the caveats in the documentation: https://pandas.pydata.org/pandas-docs/stable/user_guide/indexing.html#returning-a-view-versus-a-copy\n",
      "\n"
     ]
    }
   ],
   "source": [
    "mean_res_change['text'] = [s + ': ' + str(np.round(c,2)) + '%' for s,c in zip(mean_res_change['state_name'],mean_res_change['change'])]"
   ]
  },
  {
   "cell_type": "code",
   "execution_count": 52,
   "metadata": {},
   "outputs": [
    {
     "data": {
      "application/vnd.plotly.v1+json": {
       "config": {
        "plotlyServerURL": "https://plotly.com"
       },
       "data": [
        {
         "colorbar": {
          "title": {
           "text": "% change"
          }
         },
         "colorscale": [
          [
           0,
           "#440154"
          ],
          [
           0.1111111111111111,
           "#482878"
          ],
          [
           0.2222222222222222,
           "#3e4989"
          ],
          [
           0.3333333333333333,
           "#31688e"
          ],
          [
           0.4444444444444444,
           "#26828e"
          ],
          [
           0.5555555555555556,
           "#1f9e89"
          ],
          [
           0.6666666666666666,
           "#35b779"
          ],
          [
           0.7777777777777778,
           "#6ece58"
          ],
          [
           0.8888888888888888,
           "#b5de2b"
          ],
          [
           1,
           "#fde725"
          ]
         ],
         "hoverinfo": "text",
         "locationmode": "USA-states",
         "locations": [
          "AL",
          "AR",
          "AZ",
          "CA",
          "CO",
          "CT",
          "DC",
          "DE",
          "FL",
          "GA",
          "IA",
          "ID",
          "IL",
          "IN",
          "KS",
          "KY",
          "LA",
          "MA",
          "MD",
          "ME",
          "MI",
          "MN",
          "MO",
          "MS",
          "MT",
          "NC",
          "ND",
          "NE",
          "NH",
          "NJ",
          "NM",
          "NV",
          "NY",
          "OH",
          "OK",
          "OR",
          "PA",
          "RI",
          "SC",
          "SD",
          "TN",
          "TX",
          "USA",
          "UT",
          "VA",
          "VT",
          "WA",
          "WI",
          "WV",
          "WY"
         ],
         "marker": {
          "line": {
           "color": "white"
          }
         },
         "text": [
          "Alabama: -1.21%",
          "Arkansas: -3.62%",
          "Arizona: 6.85%",
          "California: 6.5%",
          "Colorado: 5.65%",
          "Connecticut: 6.12%",
          "District of Columbia: 1.53%",
          "Delaware: 6.75%",
          "Florida: 5.32%",
          "Georgia: -1.82%",
          "Iowa: 2.85%",
          "Idaho: 2.21%",
          "Illinois: 6.26%",
          "Indiana: 2.49%",
          "Kansas: 2.28%",
          "Kentucky: 3.18%",
          "Louisiana: 2.15%",
          "Massachusetts: 8.98%",
          "Maryland: 4.45%",
          "Maine: 5.92%",
          "Michigan: 11.2%",
          "Minnesota: 7.13%",
          "Missouri: -0.08%",
          "Mississippi: -1.47%",
          "Montana: 4.05%",
          "North Carolina: 0.57%",
          "North Dakota: 3.66%",
          "Nebraska: 1.43%",
          "New Hampshire: 8.15%",
          "New Jersey: 6.0%",
          "New Mexico: 2.79%",
          "Nevada: 7.86%",
          "New York: 8.78%",
          "Ohio: 4.19%",
          "Oklahoma: -0.16%",
          "Oregon: 2.63%",
          "Pennsylvania: 4.2%",
          "Rhode Island: 8.86%",
          "South Carolina: 1.5%",
          "South Dakota: 1.79%",
          "Tennessee: 0.93%",
          "Texas: 2.62%",
          "USA: 3.26%",
          "Utah: 4.99%",
          "Virginia: -0.01%",
          "Vermont: 6.23%",
          "Washington: 1.42%",
          "Wisconsin: 7.17%",
          "West Virginia: 3.75%",
          "Wyoming: -0.39%"
         ],
         "type": "choropleth",
         "z": [
          -1.2090867803440912,
          -3.622929225296823,
          6.85255953138197,
          6.501630654612211,
          5.653216520468975,
          6.120607505697512,
          1.533734154608733,
          6.753356265702106,
          5.315676682701422,
          -1.8187515986809555,
          2.8508013875641907,
          2.2135225675040444,
          6.26443190346273,
          2.4949279816134275,
          2.282250399418909,
          3.178213612540697,
          2.1457551318657497,
          8.982896255118272,
          4.453610280824843,
          5.9163317563596625,
          11.200777864379484,
          7.13037040773918,
          -0.0833007487311952,
          -1.4719538678451114,
          4.049706859488876,
          0.5664349302890477,
          3.661390008760472,
          1.431849496034041,
          8.1526373682587,
          5.996911248279322,
          2.7894562604900592,
          7.863910505246007,
          8.77775092618265,
          4.1898932466564975,
          -0.16285436275337853,
          2.6257705100306934,
          4.201359593106046,
          8.859004382426164,
          1.4983880230857647,
          1.7875028018722376,
          0.9310611959877872,
          2.617711921573188,
          3.2568820731724024,
          4.990518637459745,
          -0.014190011987465612,
          6.233239649861479,
          1.4179227923282312,
          7.1690045042878054,
          3.7479844101307944,
          -0.3913645993858512
         ]
        }
       ],
       "layout": {
        "autosize": true,
        "geo": {
         "projection": {
          "type": "albers usa"
         },
         "scope": "usa"
        },
        "template": {
         "data": {
          "bar": [
           {
            "error_x": {
             "color": "#2a3f5f"
            },
            "error_y": {
             "color": "#2a3f5f"
            },
            "marker": {
             "line": {
              "color": "#E5ECF6",
              "width": 0.5
             }
            },
            "type": "bar"
           }
          ],
          "barpolar": [
           {
            "marker": {
             "line": {
              "color": "#E5ECF6",
              "width": 0.5
             }
            },
            "type": "barpolar"
           }
          ],
          "carpet": [
           {
            "aaxis": {
             "endlinecolor": "#2a3f5f",
             "gridcolor": "white",
             "linecolor": "white",
             "minorgridcolor": "white",
             "startlinecolor": "#2a3f5f"
            },
            "baxis": {
             "endlinecolor": "#2a3f5f",
             "gridcolor": "white",
             "linecolor": "white",
             "minorgridcolor": "white",
             "startlinecolor": "#2a3f5f"
            },
            "type": "carpet"
           }
          ],
          "choropleth": [
           {
            "colorbar": {
             "outlinewidth": 0,
             "ticks": ""
            },
            "type": "choropleth"
           }
          ],
          "contour": [
           {
            "colorbar": {
             "outlinewidth": 0,
             "ticks": ""
            },
            "colorscale": [
             [
              0,
              "#0d0887"
             ],
             [
              0.1111111111111111,
              "#46039f"
             ],
             [
              0.2222222222222222,
              "#7201a8"
             ],
             [
              0.3333333333333333,
              "#9c179e"
             ],
             [
              0.4444444444444444,
              "#bd3786"
             ],
             [
              0.5555555555555556,
              "#d8576b"
             ],
             [
              0.6666666666666666,
              "#ed7953"
             ],
             [
              0.7777777777777778,
              "#fb9f3a"
             ],
             [
              0.8888888888888888,
              "#fdca26"
             ],
             [
              1,
              "#f0f921"
             ]
            ],
            "type": "contour"
           }
          ],
          "contourcarpet": [
           {
            "colorbar": {
             "outlinewidth": 0,
             "ticks": ""
            },
            "type": "contourcarpet"
           }
          ],
          "heatmap": [
           {
            "colorbar": {
             "outlinewidth": 0,
             "ticks": ""
            },
            "colorscale": [
             [
              0,
              "#0d0887"
             ],
             [
              0.1111111111111111,
              "#46039f"
             ],
             [
              0.2222222222222222,
              "#7201a8"
             ],
             [
              0.3333333333333333,
              "#9c179e"
             ],
             [
              0.4444444444444444,
              "#bd3786"
             ],
             [
              0.5555555555555556,
              "#d8576b"
             ],
             [
              0.6666666666666666,
              "#ed7953"
             ],
             [
              0.7777777777777778,
              "#fb9f3a"
             ],
             [
              0.8888888888888888,
              "#fdca26"
             ],
             [
              1,
              "#f0f921"
             ]
            ],
            "type": "heatmap"
           }
          ],
          "heatmapgl": [
           {
            "colorbar": {
             "outlinewidth": 0,
             "ticks": ""
            },
            "colorscale": [
             [
              0,
              "#0d0887"
             ],
             [
              0.1111111111111111,
              "#46039f"
             ],
             [
              0.2222222222222222,
              "#7201a8"
             ],
             [
              0.3333333333333333,
              "#9c179e"
             ],
             [
              0.4444444444444444,
              "#bd3786"
             ],
             [
              0.5555555555555556,
              "#d8576b"
             ],
             [
              0.6666666666666666,
              "#ed7953"
             ],
             [
              0.7777777777777778,
              "#fb9f3a"
             ],
             [
              0.8888888888888888,
              "#fdca26"
             ],
             [
              1,
              "#f0f921"
             ]
            ],
            "type": "heatmapgl"
           }
          ],
          "histogram": [
           {
            "marker": {
             "colorbar": {
              "outlinewidth": 0,
              "ticks": ""
             }
            },
            "type": "histogram"
           }
          ],
          "histogram2d": [
           {
            "colorbar": {
             "outlinewidth": 0,
             "ticks": ""
            },
            "colorscale": [
             [
              0,
              "#0d0887"
             ],
             [
              0.1111111111111111,
              "#46039f"
             ],
             [
              0.2222222222222222,
              "#7201a8"
             ],
             [
              0.3333333333333333,
              "#9c179e"
             ],
             [
              0.4444444444444444,
              "#bd3786"
             ],
             [
              0.5555555555555556,
              "#d8576b"
             ],
             [
              0.6666666666666666,
              "#ed7953"
             ],
             [
              0.7777777777777778,
              "#fb9f3a"
             ],
             [
              0.8888888888888888,
              "#fdca26"
             ],
             [
              1,
              "#f0f921"
             ]
            ],
            "type": "histogram2d"
           }
          ],
          "histogram2dcontour": [
           {
            "colorbar": {
             "outlinewidth": 0,
             "ticks": ""
            },
            "colorscale": [
             [
              0,
              "#0d0887"
             ],
             [
              0.1111111111111111,
              "#46039f"
             ],
             [
              0.2222222222222222,
              "#7201a8"
             ],
             [
              0.3333333333333333,
              "#9c179e"
             ],
             [
              0.4444444444444444,
              "#bd3786"
             ],
             [
              0.5555555555555556,
              "#d8576b"
             ],
             [
              0.6666666666666666,
              "#ed7953"
             ],
             [
              0.7777777777777778,
              "#fb9f3a"
             ],
             [
              0.8888888888888888,
              "#fdca26"
             ],
             [
              1,
              "#f0f921"
             ]
            ],
            "type": "histogram2dcontour"
           }
          ],
          "mesh3d": [
           {
            "colorbar": {
             "outlinewidth": 0,
             "ticks": ""
            },
            "type": "mesh3d"
           }
          ],
          "parcoords": [
           {
            "line": {
             "colorbar": {
              "outlinewidth": 0,
              "ticks": ""
             }
            },
            "type": "parcoords"
           }
          ],
          "pie": [
           {
            "automargin": true,
            "type": "pie"
           }
          ],
          "scatter": [
           {
            "marker": {
             "colorbar": {
              "outlinewidth": 0,
              "ticks": ""
             }
            },
            "type": "scatter"
           }
          ],
          "scatter3d": [
           {
            "line": {
             "colorbar": {
              "outlinewidth": 0,
              "ticks": ""
             }
            },
            "marker": {
             "colorbar": {
              "outlinewidth": 0,
              "ticks": ""
             }
            },
            "type": "scatter3d"
           }
          ],
          "scattercarpet": [
           {
            "marker": {
             "colorbar": {
              "outlinewidth": 0,
              "ticks": ""
             }
            },
            "type": "scattercarpet"
           }
          ],
          "scattergeo": [
           {
            "marker": {
             "colorbar": {
              "outlinewidth": 0,
              "ticks": ""
             }
            },
            "type": "scattergeo"
           }
          ],
          "scattergl": [
           {
            "marker": {
             "colorbar": {
              "outlinewidth": 0,
              "ticks": ""
             }
            },
            "type": "scattergl"
           }
          ],
          "scattermapbox": [
           {
            "marker": {
             "colorbar": {
              "outlinewidth": 0,
              "ticks": ""
             }
            },
            "type": "scattermapbox"
           }
          ],
          "scatterpolar": [
           {
            "marker": {
             "colorbar": {
              "outlinewidth": 0,
              "ticks": ""
             }
            },
            "type": "scatterpolar"
           }
          ],
          "scatterpolargl": [
           {
            "marker": {
             "colorbar": {
              "outlinewidth": 0,
              "ticks": ""
             }
            },
            "type": "scatterpolargl"
           }
          ],
          "scatterternary": [
           {
            "marker": {
             "colorbar": {
              "outlinewidth": 0,
              "ticks": ""
             }
            },
            "type": "scatterternary"
           }
          ],
          "surface": [
           {
            "colorbar": {
             "outlinewidth": 0,
             "ticks": ""
            },
            "colorscale": [
             [
              0,
              "#0d0887"
             ],
             [
              0.1111111111111111,
              "#46039f"
             ],
             [
              0.2222222222222222,
              "#7201a8"
             ],
             [
              0.3333333333333333,
              "#9c179e"
             ],
             [
              0.4444444444444444,
              "#bd3786"
             ],
             [
              0.5555555555555556,
              "#d8576b"
             ],
             [
              0.6666666666666666,
              "#ed7953"
             ],
             [
              0.7777777777777778,
              "#fb9f3a"
             ],
             [
              0.8888888888888888,
              "#fdca26"
             ],
             [
              1,
              "#f0f921"
             ]
            ],
            "type": "surface"
           }
          ],
          "table": [
           {
            "cells": {
             "fill": {
              "color": "#EBF0F8"
             },
             "line": {
              "color": "white"
             }
            },
            "header": {
             "fill": {
              "color": "#C8D4E3"
             },
             "line": {
              "color": "white"
             }
            },
            "type": "table"
           }
          ]
         },
         "layout": {
          "annotationdefaults": {
           "arrowcolor": "#2a3f5f",
           "arrowhead": 0,
           "arrowwidth": 1
          },
          "coloraxis": {
           "colorbar": {
            "outlinewidth": 0,
            "ticks": ""
           }
          },
          "colorscale": {
           "diverging": [
            [
             0,
             "#8e0152"
            ],
            [
             0.1,
             "#c51b7d"
            ],
            [
             0.2,
             "#de77ae"
            ],
            [
             0.3,
             "#f1b6da"
            ],
            [
             0.4,
             "#fde0ef"
            ],
            [
             0.5,
             "#f7f7f7"
            ],
            [
             0.6,
             "#e6f5d0"
            ],
            [
             0.7,
             "#b8e186"
            ],
            [
             0.8,
             "#7fbc41"
            ],
            [
             0.9,
             "#4d9221"
            ],
            [
             1,
             "#276419"
            ]
           ],
           "sequential": [
            [
             0,
             "#0d0887"
            ],
            [
             0.1111111111111111,
             "#46039f"
            ],
            [
             0.2222222222222222,
             "#7201a8"
            ],
            [
             0.3333333333333333,
             "#9c179e"
            ],
            [
             0.4444444444444444,
             "#bd3786"
            ],
            [
             0.5555555555555556,
             "#d8576b"
            ],
            [
             0.6666666666666666,
             "#ed7953"
            ],
            [
             0.7777777777777778,
             "#fb9f3a"
            ],
            [
             0.8888888888888888,
             "#fdca26"
            ],
            [
             1,
             "#f0f921"
            ]
           ],
           "sequentialminus": [
            [
             0,
             "#0d0887"
            ],
            [
             0.1111111111111111,
             "#46039f"
            ],
            [
             0.2222222222222222,
             "#7201a8"
            ],
            [
             0.3333333333333333,
             "#9c179e"
            ],
            [
             0.4444444444444444,
             "#bd3786"
            ],
            [
             0.5555555555555556,
             "#d8576b"
            ],
            [
             0.6666666666666666,
             "#ed7953"
            ],
            [
             0.7777777777777778,
             "#fb9f3a"
            ],
            [
             0.8888888888888888,
             "#fdca26"
            ],
            [
             1,
             "#f0f921"
            ]
           ]
          },
          "colorway": [
           "#636efa",
           "#EF553B",
           "#00cc96",
           "#ab63fa",
           "#FFA15A",
           "#19d3f3",
           "#FF6692",
           "#B6E880",
           "#FF97FF",
           "#FECB52"
          ],
          "font": {
           "color": "#2a3f5f"
          },
          "geo": {
           "bgcolor": "white",
           "lakecolor": "white",
           "landcolor": "#E5ECF6",
           "showlakes": true,
           "showland": true,
           "subunitcolor": "white"
          },
          "hoverlabel": {
           "align": "left"
          },
          "hovermode": "closest",
          "mapbox": {
           "style": "light"
          },
          "paper_bgcolor": "white",
          "plot_bgcolor": "#E5ECF6",
          "polar": {
           "angularaxis": {
            "gridcolor": "white",
            "linecolor": "white",
            "ticks": ""
           },
           "bgcolor": "#E5ECF6",
           "radialaxis": {
            "gridcolor": "white",
            "linecolor": "white",
            "ticks": ""
           }
          },
          "scene": {
           "xaxis": {
            "backgroundcolor": "#E5ECF6",
            "gridcolor": "white",
            "gridwidth": 2,
            "linecolor": "white",
            "showbackground": true,
            "ticks": "",
            "zerolinecolor": "white"
           },
           "yaxis": {
            "backgroundcolor": "#E5ECF6",
            "gridcolor": "white",
            "gridwidth": 2,
            "linecolor": "white",
            "showbackground": true,
            "ticks": "",
            "zerolinecolor": "white"
           },
           "zaxis": {
            "backgroundcolor": "#E5ECF6",
            "gridcolor": "white",
            "gridwidth": 2,
            "linecolor": "white",
            "showbackground": true,
            "ticks": "",
            "zerolinecolor": "white"
           }
          },
          "shapedefaults": {
           "line": {
            "color": "#2a3f5f"
           }
          },
          "ternary": {
           "aaxis": {
            "gridcolor": "white",
            "linecolor": "white",
            "ticks": ""
           },
           "baxis": {
            "gridcolor": "white",
            "linecolor": "white",
            "ticks": ""
           },
           "bgcolor": "#E5ECF6",
           "caxis": {
            "gridcolor": "white",
            "linecolor": "white",
            "ticks": ""
           }
          },
          "title": {
           "x": 0.05
          },
          "xaxis": {
           "automargin": true,
           "gridcolor": "white",
           "linecolor": "white",
           "ticks": "",
           "title": {
            "standoff": 15
           },
           "zerolinecolor": "white",
           "zerolinewidth": 2
          },
          "yaxis": {
           "automargin": true,
           "gridcolor": "white",
           "linecolor": "white",
           "ticks": "",
           "title": {
            "standoff": 15
           },
           "zerolinecolor": "white",
           "zerolinewidth": 2
          }
         }
        },
        "title": {
         "text": "Post-COVID change in residential energy consumption"
        }
       }
      },
      "image/png": "[encoded data removed]",
      "text/html": [
       "<div>\n",
       "        \n",
       "        \n",
       "            <div id=\"2ac0491c-0f67-4c15-8c3a-656628deceb9\" class=\"plotly-graph-div\" style=\"height:525px; width:100%;\"></div>\n",
       "            <script type=\"text/javascript\">\n",
       "                require([\"plotly\"], function(Plotly) {\n",
       "                    window.PLOTLYENV=window.PLOTLYENV || {};\n",
       "                    \n",
       "                if (document.getElementById(\"2ac0491c-0f67-4c15-8c3a-656628deceb9\")) {\n",
       "                    Plotly.newPlot(\n",
       "                        '2ac0491c-0f67-4c15-8c3a-656628deceb9',\n",
       "                        [{\"colorbar\": {\"title\": {\"text\": \"% change\"}}, \"colorscale\": [[0.0, \"#440154\"], [0.1111111111111111, \"#482878\"], [0.2222222222222222, \"#3e4989\"], [0.3333333333333333, \"#31688e\"], [0.4444444444444444, \"#26828e\"], [0.5555555555555556, \"#1f9e89\"], [0.6666666666666666, \"#35b779\"], [0.7777777777777778, \"#6ece58\"], [0.8888888888888888, \"#b5de2b\"], [1.0, \"#fde725\"]], \"hoverinfo\": \"text\", \"locationmode\": \"USA-states\", \"locations\": [\"AL\", \"AR\", \"AZ\", \"CA\", \"CO\", \"CT\", \"DC\", \"DE\", \"FL\", \"GA\", \"IA\", \"ID\", \"IL\", \"IN\", \"KS\", \"KY\", \"LA\", \"MA\", \"MD\", \"ME\", \"MI\", \"MN\", \"MO\", \"MS\", \"MT\", \"NC\", \"ND\", \"NE\", \"NH\", \"NJ\", \"NM\", \"NV\", \"NY\", \"OH\", \"OK\", \"OR\", \"PA\", \"RI\", \"SC\", \"SD\", \"TN\", \"TX\", \"USA\", \"UT\", \"VA\", \"VT\", \"WA\", \"WI\", \"WV\", \"WY\"], \"marker\": {\"line\": {\"color\": \"white\"}}, \"text\": [\"Alabama: -1.21%\", \"Arkansas: -3.62%\", \"Arizona: 6.85%\", \"California: 6.5%\", \"Colorado: 5.65%\", \"Connecticut: 6.12%\", \"District of Columbia: 1.53%\", \"Delaware: 6.75%\", \"Florida: 5.32%\", \"Georgia: -1.82%\", \"Iowa: 2.85%\", \"Idaho: 2.21%\", \"Illinois: 6.26%\", \"Indiana: 2.49%\", \"Kansas: 2.28%\", \"Kentucky: 3.18%\", \"Louisiana: 2.15%\", \"Massachusetts: 8.98%\", \"Maryland: 4.45%\", \"Maine: 5.92%\", \"Michigan: 11.2%\", \"Minnesota: 7.13%\", \"Missouri: -0.08%\", \"Mississippi: -1.47%\", \"Montana: 4.05%\", \"North Carolina: 0.57%\", \"North Dakota: 3.66%\", \"Nebraska: 1.43%\", \"New Hampshire: 8.15%\", \"New Jersey: 6.0%\", \"New Mexico: 2.79%\", \"Nevada: 7.86%\", \"New York: 8.78%\", \"Ohio: 4.19%\", \"Oklahoma: -0.16%\", \"Oregon: 2.63%\", \"Pennsylvania: 4.2%\", \"Rhode Island: 8.86%\", \"South Carolina: 1.5%\", \"South Dakota: 1.79%\", \"Tennessee: 0.93%\", \"Texas: 2.62%\", \"USA: 3.26%\", \"Utah: 4.99%\", \"Virginia: -0.01%\", \"Vermont: 6.23%\", \"Washington: 1.42%\", \"Wisconsin: 7.17%\", \"West Virginia: 3.75%\", \"Wyoming: -0.39%\"], \"type\": \"choropleth\", \"z\": [-1.2090867803440912, -3.622929225296823, 6.85255953138197, 6.501630654612211, 5.653216520468975, 6.120607505697512, 1.533734154608733, 6.753356265702106, 5.315676682701422, -1.8187515986809555, 2.8508013875641907, 2.2135225675040444, 6.26443190346273, 2.4949279816134275, 2.282250399418909, 3.178213612540697, 2.1457551318657497, 8.982896255118272, 4.453610280824843, 5.9163317563596625, 11.200777864379484, 7.13037040773918, -0.0833007487311952, -1.4719538678451114, 4.049706859488876, 0.5664349302890477, 3.661390008760472, 1.431849496034041, 8.1526373682587, 5.996911248279322, 2.7894562604900592, 7.863910505246007, 8.77775092618265, 4.1898932466564975, -0.16285436275337853, 2.6257705100306934, 4.201359593106046, 8.859004382426164, 1.4983880230857647, 1.7875028018722376, 0.9310611959877872, 2.617711921573188, 3.2568820731724024, 4.990518637459745, -0.014190011987465612, 6.233239649861479, 1.4179227923282312, 7.1690045042878054, 3.7479844101307944, -0.3913645993858512]}],\n",
       "                        {\"geo\": {\"projection\": {\"type\": \"albers usa\"}, \"scope\": \"usa\"}, \"template\": {\"data\": {\"bar\": [{\"error_x\": {\"color\": \"#2a3f5f\"}, \"error_y\": {\"color\": \"#2a3f5f\"}, \"marker\": {\"line\": {\"color\": \"#E5ECF6\", \"width\": 0.5}}, \"type\": \"bar\"}], \"barpolar\": [{\"marker\": {\"line\": {\"color\": \"#E5ECF6\", \"width\": 0.5}}, \"type\": \"barpolar\"}], \"carpet\": [{\"aaxis\": {\"endlinecolor\": \"#2a3f5f\", \"gridcolor\": \"white\", \"linecolor\": \"white\", \"minorgridcolor\": \"white\", \"startlinecolor\": \"#2a3f5f\"}, \"baxis\": {\"endlinecolor\": \"#2a3f5f\", \"gridcolor\": \"white\", \"linecolor\": \"white\", \"minorgridcolor\": \"white\", \"startlinecolor\": \"#2a3f5f\"}, \"type\": \"carpet\"}], \"choropleth\": [{\"colorbar\": {\"outlinewidth\": 0, \"ticks\": \"\"}, \"type\": \"choropleth\"}], \"contour\": [{\"colorbar\": {\"outlinewidth\": 0, \"ticks\": \"\"}, \"colorscale\": [[0.0, \"#0d0887\"], [0.1111111111111111, \"#46039f\"], [0.2222222222222222, \"#7201a8\"], [0.3333333333333333, \"#9c179e\"], [0.4444444444444444, \"#bd3786\"], [0.5555555555555556, \"#d8576b\"], [0.6666666666666666, \"#ed7953\"], [0.7777777777777778, \"#fb9f3a\"], [0.8888888888888888, \"#fdca26\"], [1.0, \"#f0f921\"]], \"type\": \"contour\"}], \"contourcarpet\": [{\"colorbar\": {\"outlinewidth\": 0, \"ticks\": \"\"}, \"type\": \"contourcarpet\"}], \"heatmap\": [{\"colorbar\": {\"outlinewidth\": 0, \"ticks\": \"\"}, \"colorscale\": [[0.0, \"#0d0887\"], [0.1111111111111111, \"#46039f\"], [0.2222222222222222, \"#7201a8\"], [0.3333333333333333, \"#9c179e\"], [0.4444444444444444, \"#bd3786\"], [0.5555555555555556, \"#d8576b\"], [0.6666666666666666, \"#ed7953\"], [0.7777777777777778, \"#fb9f3a\"], [0.8888888888888888, \"#fdca26\"], [1.0, \"#f0f921\"]], \"type\": \"heatmap\"}], \"heatmapgl\": [{\"colorbar\": {\"outlinewidth\": 0, \"ticks\": \"\"}, \"colorscale\": [[0.0, \"#0d0887\"], [0.1111111111111111, \"#46039f\"], [0.2222222222222222, \"#7201a8\"], [0.3333333333333333, \"#9c179e\"], [0.4444444444444444, \"#bd3786\"], [0.5555555555555556, \"#d8576b\"], [0.6666666666666666, \"#ed7953\"], [0.7777777777777778, \"#fb9f3a\"], [0.8888888888888888, \"#fdca26\"], [1.0, \"#f0f921\"]], \"type\": \"heatmapgl\"}], \"histogram\": [{\"marker\": {\"colorbar\": {\"outlinewidth\": 0, \"ticks\": \"\"}}, \"type\": \"histogram\"}], \"histogram2d\": [{\"colorbar\": {\"outlinewidth\": 0, \"ticks\": \"\"}, \"colorscale\": [[0.0, \"#0d0887\"], [0.1111111111111111, \"#46039f\"], [0.2222222222222222, \"#7201a8\"], [0.3333333333333333, \"#9c179e\"], [0.4444444444444444, \"#bd3786\"], [0.5555555555555556, \"#d8576b\"], [0.6666666666666666, \"#ed7953\"], [0.7777777777777778, \"#fb9f3a\"], [0.8888888888888888, \"#fdca26\"], [1.0, \"#f0f921\"]], \"type\": \"histogram2d\"}], \"histogram2dcontour\": [{\"colorbar\": {\"outlinewidth\": 0, \"ticks\": \"\"}, \"colorscale\": [[0.0, \"#0d0887\"], [0.1111111111111111, \"#46039f\"], [0.2222222222222222, \"#7201a8\"], [0.3333333333333333, \"#9c179e\"], [0.4444444444444444, \"#bd3786\"], [0.5555555555555556, \"#d8576b\"], [0.6666666666666666, \"#ed7953\"], [0.7777777777777778, \"#fb9f3a\"], [0.8888888888888888, \"#fdca26\"], [1.0, \"#f0f921\"]], \"type\": \"histogram2dcontour\"}], \"mesh3d\": [{\"colorbar\": {\"outlinewidth\": 0, \"ticks\": \"\"}, \"type\": \"mesh3d\"}], \"parcoords\": [{\"line\": {\"colorbar\": {\"outlinewidth\": 0, \"ticks\": \"\"}}, \"type\": \"parcoords\"}], \"pie\": [{\"automargin\": true, \"type\": \"pie\"}], \"scatter\": [{\"marker\": {\"colorbar\": {\"outlinewidth\": 0, \"ticks\": \"\"}}, \"type\": \"scatter\"}], \"scatter3d\": [{\"line\": {\"colorbar\": {\"outlinewidth\": 0, \"ticks\": \"\"}}, \"marker\": {\"colorbar\": {\"outlinewidth\": 0, \"ticks\": \"\"}}, \"type\": \"scatter3d\"}], \"scattercarpet\": [{\"marker\": {\"colorbar\": {\"outlinewidth\": 0, \"ticks\": \"\"}}, \"type\": \"scattercarpet\"}], \"scattergeo\": [{\"marker\": {\"colorbar\": {\"outlinewidth\": 0, \"ticks\": \"\"}}, \"type\": \"scattergeo\"}], \"scattergl\": [{\"marker\": {\"colorbar\": {\"outlinewidth\": 0, \"ticks\": \"\"}}, \"type\": \"scattergl\"}], \"scattermapbox\": [{\"marker\": {\"colorbar\": {\"outlinewidth\": 0, \"ticks\": \"\"}}, \"type\": \"scattermapbox\"}], \"scatterpolar\": [{\"marker\": {\"colorbar\": {\"outlinewidth\": 0, \"ticks\": \"\"}}, \"type\": \"scatterpolar\"}], \"scatterpolargl\": [{\"marker\": {\"colorbar\": {\"outlinewidth\": 0, \"ticks\": \"\"}}, \"type\": \"scatterpolargl\"}], \"scatterternary\": [{\"marker\": {\"colorbar\": {\"outlinewidth\": 0, \"ticks\": \"\"}}, \"type\": \"scatterternary\"}], \"surface\": [{\"colorbar\": {\"outlinewidth\": 0, \"ticks\": \"\"}, \"colorscale\": [[0.0, \"#0d0887\"], [0.1111111111111111, \"#46039f\"], [0.2222222222222222, \"#7201a8\"], [0.3333333333333333, \"#9c179e\"], [0.4444444444444444, \"#bd3786\"], [0.5555555555555556, \"#d8576b\"], [0.6666666666666666, \"#ed7953\"], [0.7777777777777778, \"#fb9f3a\"], [0.8888888888888888, \"#fdca26\"], [1.0, \"#f0f921\"]], \"type\": \"surface\"}], \"table\": [{\"cells\": {\"fill\": {\"color\": \"#EBF0F8\"}, \"line\": {\"color\": \"white\"}}, \"header\": {\"fill\": {\"color\": \"#C8D4E3\"}, \"line\": {\"color\": \"white\"}}, \"type\": \"table\"}]}, \"layout\": {\"annotationdefaults\": {\"arrowcolor\": \"#2a3f5f\", \"arrowhead\": 0, \"arrowwidth\": 1}, \"coloraxis\": {\"colorbar\": {\"outlinewidth\": 0, \"ticks\": \"\"}}, \"colorscale\": {\"diverging\": [[0, \"#8e0152\"], [0.1, \"#c51b7d\"], [0.2, \"#de77ae\"], [0.3, \"#f1b6da\"], [0.4, \"#fde0ef\"], [0.5, \"#f7f7f7\"], [0.6, \"#e6f5d0\"], [0.7, \"#b8e186\"], [0.8, \"#7fbc41\"], [0.9, \"#4d9221\"], [1, \"#276419\"]], \"sequential\": [[0.0, \"#0d0887\"], [0.1111111111111111, \"#46039f\"], [0.2222222222222222, \"#7201a8\"], [0.3333333333333333, \"#9c179e\"], [0.4444444444444444, \"#bd3786\"], [0.5555555555555556, \"#d8576b\"], [0.6666666666666666, \"#ed7953\"], [0.7777777777777778, \"#fb9f3a\"], [0.8888888888888888, \"#fdca26\"], [1.0, \"#f0f921\"]], \"sequentialminus\": [[0.0, \"#0d0887\"], [0.1111111111111111, \"#46039f\"], [0.2222222222222222, \"#7201a8\"], [0.3333333333333333, \"#9c179e\"], [0.4444444444444444, \"#bd3786\"], [0.5555555555555556, \"#d8576b\"], [0.6666666666666666, \"#ed7953\"], [0.7777777777777778, \"#fb9f3a\"], [0.8888888888888888, \"#fdca26\"], [1.0, \"#f0f921\"]]}, \"colorway\": [\"#636efa\", \"#EF553B\", \"#00cc96\", \"#ab63fa\", \"#FFA15A\", \"#19d3f3\", \"#FF6692\", \"#B6E880\", \"#FF97FF\", \"#FECB52\"], \"font\": {\"color\": \"#2a3f5f\"}, \"geo\": {\"bgcolor\": \"white\", \"lakecolor\": \"white\", \"landcolor\": \"#E5ECF6\", \"showlakes\": true, \"showland\": true, \"subunitcolor\": \"white\"}, \"hoverlabel\": {\"align\": \"left\"}, \"hovermode\": \"closest\", \"mapbox\": {\"style\": \"light\"}, \"paper_bgcolor\": \"white\", \"plot_bgcolor\": \"#E5ECF6\", \"polar\": {\"angularaxis\": {\"gridcolor\": \"white\", \"linecolor\": \"white\", \"ticks\": \"\"}, \"bgcolor\": \"#E5ECF6\", \"radialaxis\": {\"gridcolor\": \"white\", \"linecolor\": \"white\", \"ticks\": \"\"}}, \"scene\": {\"xaxis\": {\"backgroundcolor\": \"#E5ECF6\", \"gridcolor\": \"white\", \"gridwidth\": 2, \"linecolor\": \"white\", \"showbackground\": true, \"ticks\": \"\", \"zerolinecolor\": \"white\"}, \"yaxis\": {\"backgroundcolor\": \"#E5ECF6\", \"gridcolor\": \"white\", \"gridwidth\": 2, \"linecolor\": \"white\", \"showbackground\": true, \"ticks\": \"\", \"zerolinecolor\": \"white\"}, \"zaxis\": {\"backgroundcolor\": \"#E5ECF6\", \"gridcolor\": \"white\", \"gridwidth\": 2, \"linecolor\": \"white\", \"showbackground\": true, \"ticks\": \"\", \"zerolinecolor\": \"white\"}}, \"shapedefaults\": {\"line\": {\"color\": \"#2a3f5f\"}}, \"ternary\": {\"aaxis\": {\"gridcolor\": \"white\", \"linecolor\": \"white\", \"ticks\": \"\"}, \"baxis\": {\"gridcolor\": \"white\", \"linecolor\": \"white\", \"ticks\": \"\"}, \"bgcolor\": \"#E5ECF6\", \"caxis\": {\"gridcolor\": \"white\", \"linecolor\": \"white\", \"ticks\": \"\"}}, \"title\": {\"x\": 0.05}, \"xaxis\": {\"automargin\": true, \"gridcolor\": \"white\", \"linecolor\": \"white\", \"ticks\": \"\", \"title\": {\"standoff\": 15}, \"zerolinecolor\": \"white\", \"zerolinewidth\": 2}, \"yaxis\": {\"automargin\": true, \"gridcolor\": \"white\", \"linecolor\": \"white\", \"ticks\": \"\", \"title\": {\"standoff\": 15}, \"zerolinecolor\": \"white\", \"zerolinewidth\": 2}}}, \"title\": {\"text\": \"Post-COVID change in residential energy consumption\"}},\n",
       "                        {\"responsive\": true}\n",
       "                    ).then(function(){\n",
       "                            \n",
       "var gd = document.getElementById('2ac0491c-0f67-4c15-8c3a-656628deceb9');\n",
       "var x = new MutationObserver(function (mutations, observer) {{\n",
       "        var display = window.getComputedStyle(gd).display;\n",
       "        if (!display || display === 'none') {{\n",
       "            console.log([gd, 'removed!']);\n",
       "            Plotly.purge(gd);\n",
       "            observer.disconnect();\n",
       "        }}\n",
       "}});\n",
       "\n",
       "// Listen for the removal of the full notebook cells\n",
       "var notebookContainer = gd.closest('#notebook-container');\n",
       "if (notebookContainer) {{\n",
       "    x.observe(notebookContainer, {childList: true});\n",
       "}}\n",
       "\n",
       "// Listen for the clearing of the current output cell\n",
       "var outputEl = gd.closest('.output');\n",
       "if (outputEl) {{\n",
       "    x.observe(outputEl, {childList: true});\n",
       "}}\n",
       "\n",
       "                        })\n",
       "                };\n",
       "                });\n",
       "            </script>\n",
       "        </div>"
      ]
     },
     "metadata": {},
     "output_type": "display_data"
    },
    {
     "data": {
      "text/plain": [
       "'https://plotly.com/~kmohan_ts/1/'"
      ]
     },
     "execution_count": 52,
     "metadata": {},
     "output_type": "execute_result"
    }
   ],
   "source": [
    "fig = go.Figure(data=go.Choropleth(\n",
    "    locations=mean_res_change['state'], # Spatial coordinates\n",
    "    z = mean_res_change['change'].astype(float), # Data to be color-coded\n",
    "    locationmode = 'USA-states', # set of locations match entries in `locations`\n",
    "    colorscale = 'viridis',\n",
    "    text=mean_res_change['text'],\n",
    "    colorbar_title = \"% change\",\n",
    "    marker_line_color='white', # line markers between states\n",
    "    hoverinfo = \"text\"\n",
    "))\n",
    "\n",
    "fig.update_layout(\n",
    "    title_text = 'Post-COVID change in residential energy consumption',\n",
    "    geo_scope='usa', # limite map scope to USA\n",
    "    geo= dict(projection=go.layout.geo.Projection(type = 'albers usa'))\n",
    ")\n",
    "\n",
    "fig.show()\n",
    "\n",
    "py.plot(fig, filename = 'res-energy-geo', auto_open=True)"
   ]
  },
  {
   "cell_type": "code",
   "execution_count": null,
   "metadata": {},
   "outputs": [],
   "source": []
  }
 ],
 "metadata": {
  "kernelspec": {
   "display_name": "Python 3",
   "language": "python",
   "name": "python3"
  },
  "language_info": {
   "codemirror_mode": {
    "name": "ipython",
    "version": 3
   },
   "file_extension": ".py",
   "mimetype": "text/x-python",
   "name": "python",
   "nbconvert_exporter": "python",
   "pygments_lexer": "ipython3",
   "version": "3.8.5"
  }
 },
 "nbformat": 4,
 "nbformat_minor": 4
}
