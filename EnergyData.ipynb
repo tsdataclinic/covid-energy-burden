{
 "cells": [
  {
   "cell_type": "code",
   "execution_count": 160,
   "metadata": {},
   "outputs": [
    {
     "name": "stdout",
     "output_type": "stream",
     "text": [
      "The autoreload extension is already loaded. To reload it, use:\n",
      "  %reload_ext autoreload\n"
     ]
    }
   ],
   "source": [
    "%load_ext autoreload\n",
    "%autoreload 2"
   ]
  },
  {
   "cell_type": "code",
   "execution_count": 161,
   "metadata": {},
   "outputs": [],
   "source": [
    "import pandas as pd\n",
    "import numpy as np\n",
    "import seaborn as sns\n",
    "import matplotlib.pyplot as plt\n",
    "import requests\n",
    "import re\n",
    "import statsmodels.api as sm\n",
    "import statsmodels.formula.api as smf\n",
    "from fbprophet import Prophet\n",
    "from fbprophet.plot import add_changepoints_to_plot\n",
    "from fbprophet.diagnostics import cross_validation\n",
    "from datetime import datetime, timedelta\n",
    "import calendar\n",
    "import holidays\n",
    "from dateutil.relativedelta import relativedelta\n",
    "\n",
    "%matplotlib inline"
   ]
  },
  {
   "cell_type": "code",
   "execution_count": 162,
   "metadata": {},
   "outputs": [],
   "source": [
    "#viz setup\n",
    "# sns.set(style='whitegrid',font_scale=1.75,rc={\"axes.spines.top\":False,\"axes.spines.right\":False, \"lines.linewidth\": 2.5,'lines.markersize': 10},color_codes=False,palette=sns.color_palette(['#27a3aa','#f76d23','#70d6e3','#ffbb31','#b1c96d','#cce18a','#1c4c5d','#787642']))\n",
    "sns.set(style='whitegrid',font_scale=1.5,rc={\"axes.spines.top\":False,\"axes.spines.right\":False, \"lines.linewidth\": 2.5,'lines.markersize': 10},color_codes=False,palette=sns.color_palette(['#27a3aa','#f76d23','#70d6e3','#ffbb31','#b1c96d','#cce18a','#1c4c5d','#787642']))"
   ]
  },
  {
   "cell_type": "code",
   "execution_count": 163,
   "metadata": {},
   "outputs": [],
   "source": [
    "states = [\"AL\", \"AZ\", \"AR\", \"CA\", \"CO\", \"CT\", \"DC\", \"DE\", \"FL\", \"GA\", \n",
    "          \"ID\", \"IL\", \"IN\", \"IA\", \"KS\", \"KY\", \"LA\", \"ME\", \"MD\", \n",
    "          \"MA\", \"MI\", \"MN\", \"MS\", \"MO\", \"MT\", \"NE\", \"NV\", \"NH\", \"NJ\", \n",
    "          \"NM\", \"NY\", \"NC\", \"ND\", \"OH\", \"OK\", \"OR\", \"PA\", \"RI\", \"SC\", \n",
    "          \"SD\", \"TN\", \"TX\", \"UT\", \"VT\", \"VA\", \"WA\", \"WV\", \"WI\", \"WY\"]\n",
    "regions = [\"_ENC\",\"_MAC\",\"_MTN\",\"_NEC\",\"_PAC\",\"PUS\",\"_WNC\",\"_WSC\",\"_ESC\",\"_SAC\"]\n",
    "sectors = ['RES','COM']"
   ]
  },
  {
   "cell_type": "code",
   "execution_count": 164,
   "metadata": {},
   "outputs": [],
   "source": [
    "idx = 0\n",
    "for state in states:\n",
    "    for sector in sectors:\n",
    "        response_consumption = requests.get(\"http://api.eia.gov/series/?api_key=e45b817b9a5449da30e0b88815d5f119&series_id=ELEC.SALES.{}-{}.M\".format(state,sector))\n",
    "        j_consumption = response_consumption.json()\n",
    "        tmp_consumption = pd.DataFrame(j_consumption['series'][0]['data'],columns=['month','sales_mkwh'])\n",
    "        tmp_consumption['state'] = state\n",
    "        tmp_consumption['sector'] = sector\n",
    "        \n",
    "        response_consumers = requests.get(\"http://api.eia.gov/series/?api_key=e45b817b9a5449da30e0b88815d5f119&series_id=ELEC.CUSTOMERS.{}-{}.M\".format(state,sector))\n",
    "        j_consumers = response_consumers.json()\n",
    "        tmp_consumers = pd.DataFrame(j_consumers['series'][0]['data'],columns=['month','consumers'])\n",
    "        tmp_consumers['state'] = state\n",
    "        tmp_consumers['sector'] = sector\n",
    "        \n",
    "        response_price = requests.get(\"http://api.eia.gov/series/?api_key=e45b817b9a5449da30e0b88815d5f119&series_id=ELEC.PRICE.{}-{}.M\".format(state,sector))\n",
    "        j_price = response_price.json()\n",
    "        tmp_price = pd.DataFrame(j_price['series'][0]['data'],columns=['month','price'])\n",
    "        tmp_price['state'] = state\n",
    "        tmp_price['sector'] = sector\n",
    "        \n",
    "        tmp = tmp_consumption.merge(tmp_consumers,how='left',on=['month','state','sector']).merge(tmp_price,how='left',on=['month','state','sector'])\n",
    "        \n",
    "        if idx == 0:\n",
    "            energy_data = tmp.copy()\n",
    "        else:\n",
    "            energy_data = energy_data.append(tmp)\n",
    "        idx = idx +1"
   ]
  },
  {
   "cell_type": "code",
   "execution_count": 165,
   "metadata": {},
   "outputs": [],
   "source": [
    "idx = 0\n",
    "for region in regions:\n",
    "    response_cool = requests.get(\"http://api.eia.gov/series/?api_key=e45b817b9a5449da30e0b88815d5f119&series_id=STEO.ZWCD{}.M\".format(region))\n",
    "    j_cool = response_cool.json()\n",
    "    tmp_cool = pd.DataFrame(j_cool['series'][0]['data'],columns=['month','cooling_days'])\n",
    "    tmp_cool['region'] = region\n",
    "    \n",
    "    response_heat = requests.get(\"http://api.eia.gov/series/?api_key=e45b817b9a5449da30e0b88815d5f119&series_id=STEO.ZWHD{}.M\".format(region))\n",
    "    j_heat = response_heat.json()\n",
    "    tmp_heat = pd.DataFrame(j_heat['series'][0]['data'],columns=['month','heating_days'])\n",
    "    tmp_heat['region'] = region\n",
    "    \n",
    "    tmp = tmp_cool.merge(tmp_heat,how='left',on=['month','region'])\n",
    "    if idx == 0:\n",
    "        heating_cooling_days = tmp.copy()\n",
    "    else:\n",
    "        heating_cooling_days = heating_cooling_days.append(tmp)\n",
    "    idx = idx +1"
   ]
  },
  {
   "cell_type": "code",
   "execution_count": 166,
   "metadata": {},
   "outputs": [],
   "source": [
    "energy_data['revenue'] = energy_data.sales_mkwh*energy_data.price\n",
    "country = energy_data.groupby(['month','sector']).sum().reset_index()\n",
    "country['state'] = 'USA'\n",
    "country.price = country.revenue/country.sales_mkwh"
   ]
  },
  {
   "cell_type": "code",
   "execution_count": 167,
   "metadata": {},
   "outputs": [],
   "source": [
    "energy_data = energy_data.append(country)"
   ]
  },
  {
   "cell_type": "code",
   "execution_count": 168,
   "metadata": {},
   "outputs": [],
   "source": [
    "energy_data['use_per_capita'] = energy_data.sales_mkwh*1000000/energy_data.consumers"
   ]
  },
  {
   "cell_type": "code",
   "execution_count": 169,
   "metadata": {},
   "outputs": [],
   "source": [
    "heating_cooling_days.region = [re.sub('_','',r) for r in heating_cooling_days.region]"
   ]
  },
  {
   "cell_type": "code",
   "execution_count": 170,
   "metadata": {},
   "outputs": [],
   "source": [
    "states.extend(['USA'])"
   ]
  },
  {
   "cell_type": "code",
   "execution_count": 171,
   "metadata": {},
   "outputs": [],
   "source": [
    "state_region_mapping = pd.DataFrame(data={'state': states})"
   ]
  },
  {
   "cell_type": "code",
   "execution_count": 172,
   "metadata": {},
   "outputs": [],
   "source": [
    "state_region_mapping['region'] = ''"
   ]
  },
  {
   "cell_type": "code",
   "execution_count": 173,
   "metadata": {},
   "outputs": [],
   "source": [
    "state_region_mapping.loc[state_region_mapping.state.isin(['WA','OR','CA']),'region'] = 'PAC'\n",
    "state_region_mapping.loc[state_region_mapping.state.isin(['MT','ID','WY','NV','UT','CO','AZ','NM']),'region'] = 'MTN'\n",
    "state_region_mapping.loc[state_region_mapping.state.isin(['ND','SD','MN','NE','IA','KS','MO']),'region'] = 'WNC'\n",
    "state_region_mapping.loc[state_region_mapping.state.isin(['OK','TX','AR','LA']),'region'] = 'WSC'\n",
    "state_region_mapping.loc[state_region_mapping.state.isin(['WI','IL','IN','MI','OH']),'region'] = 'ENC'\n",
    "state_region_mapping.loc[state_region_mapping.state.isin(['KY','TN','MS','AL']),'region'] = 'ESC'\n",
    "state_region_mapping.loc[state_region_mapping.state.isin(['WV','MD','DE','VA','NC','SC','GA','FL','DC']),'region'] = 'SAC'\n",
    "state_region_mapping.loc[state_region_mapping.state.isin(['NY','PA','NJ']),'region'] = 'MAC'\n",
    "state_region_mapping.loc[state_region_mapping.state.isin(['RI','CT','MA','NH','VT','ME']),'region'] = 'NEC'\n",
    "state_region_mapping.loc[state_region_mapping.state.isin(['USA']),'region'] = 'PUS'"
   ]
  },
  {
   "cell_type": "code",
   "execution_count": 174,
   "metadata": {},
   "outputs": [],
   "source": [
    "energy_data = energy_data.merge(state_region_mapping,how='left',on='state')"
   ]
  },
  {
   "cell_type": "code",
   "execution_count": 175,
   "metadata": {},
   "outputs": [],
   "source": [
    "energy_data= energy_data.merge(heating_cooling_days,how='left',on=['month','region'])"
   ]
  },
  {
   "cell_type": "code",
   "execution_count": 176,
   "metadata": {},
   "outputs": [],
   "source": [
    "energy_data = energy_data.dropna()"
   ]
  },
  {
   "cell_type": "code",
   "execution_count": 177,
   "metadata": {},
   "outputs": [],
   "source": [
    "energy_data = pd.concat([energy_data,pd.get_dummies(energy_data.sector)],axis=1)"
   ]
  },
  {
   "cell_type": "code",
   "execution_count": 178,
   "metadata": {},
   "outputs": [],
   "source": [
    "energy_data['time'] = [12*(int(d[0:4])-2008)+int(d[4:6]) for d in energy_data.month]"
   ]
  },
  {
   "cell_type": "code",
   "execution_count": 179,
   "metadata": {},
   "outputs": [],
   "source": [
    "energy_data['year'] = [int(d[0:4]) for d in energy_data.month]\n",
    "energy_data['mon'] = [int(d[4:6]) for d in energy_data.month]"
   ]
  },
  {
   "cell_type": "code",
   "execution_count": 180,
   "metadata": {},
   "outputs": [],
   "source": [
    "def get_season(m):\n",
    "    if (m == 12)|(m<=2):\n",
    "        return 'winter'\n",
    "    if (m>=3)&(m<=5):\n",
    "        return 'spring'\n",
    "    if(m>=6)&(m<=8):\n",
    "        return 'summer'\n",
    "    if(m>=9)&(m<=11):\n",
    "        return 'fall'"
   ]
  },
  {
   "cell_type": "code",
   "execution_count": 181,
   "metadata": {},
   "outputs": [],
   "source": [
    "energy_data['season'] = energy_data.mon.apply(get_season)"
   ]
  },
  {
   "cell_type": "code",
   "execution_count": 182,
   "metadata": {},
   "outputs": [
    {
     "data": {
      "text/html": [
       "<div>\n",
       "<style scoped>\n",
       "    .dataframe tbody tr th:only-of-type {\n",
       "        vertical-align: middle;\n",
       "    }\n",
       "\n",
       "    .dataframe tbody tr th {\n",
       "        vertical-align: top;\n",
       "    }\n",
       "\n",
       "    .dataframe thead th {\n",
       "        text-align: right;\n",
       "    }\n",
       "</style>\n",
       "<table border=\"1\" class=\"dataframe\">\n",
       "  <thead>\n",
       "    <tr style=\"text-align: right;\">\n",
       "      <th></th>\n",
       "      <th>month</th>\n",
       "      <th>sales_mkwh</th>\n",
       "      <th>state</th>\n",
       "      <th>sector</th>\n",
       "      <th>consumers</th>\n",
       "      <th>price</th>\n",
       "      <th>revenue</th>\n",
       "      <th>use_per_capita</th>\n",
       "      <th>region</th>\n",
       "      <th>cooling_days</th>\n",
       "      <th>heating_days</th>\n",
       "      <th>COM</th>\n",
       "      <th>RES</th>\n",
       "      <th>time</th>\n",
       "      <th>year</th>\n",
       "      <th>mon</th>\n",
       "      <th>season</th>\n",
       "    </tr>\n",
       "  </thead>\n",
       "  <tbody>\n",
       "    <tr>\n",
       "      <th>0</th>\n",
       "      <td>202010</td>\n",
       "      <td>2137.29371</td>\n",
       "      <td>AL</td>\n",
       "      <td>RES</td>\n",
       "      <td>2286425.0</td>\n",
       "      <td>13.07</td>\n",
       "      <td>27934.428790</td>\n",
       "      <td>934.775341</td>\n",
       "      <td>ESC</td>\n",
       "      <td>66.799124</td>\n",
       "      <td>154.607615</td>\n",
       "      <td>0</td>\n",
       "      <td>1</td>\n",
       "      <td>154</td>\n",
       "      <td>2020</td>\n",
       "      <td>10</td>\n",
       "      <td>fall</td>\n",
       "    </tr>\n",
       "    <tr>\n",
       "      <th>1</th>\n",
       "      <td>202009</td>\n",
       "      <td>2875.42861</td>\n",
       "      <td>AL</td>\n",
       "      <td>RES</td>\n",
       "      <td>2325509.0</td>\n",
       "      <td>13.18</td>\n",
       "      <td>37898.149080</td>\n",
       "      <td>1236.472794</td>\n",
       "      <td>ESC</td>\n",
       "      <td>211.894717</td>\n",
       "      <td>19.453204</td>\n",
       "      <td>0</td>\n",
       "      <td>1</td>\n",
       "      <td>153</td>\n",
       "      <td>2020</td>\n",
       "      <td>9</td>\n",
       "      <td>fall</td>\n",
       "    </tr>\n",
       "    <tr>\n",
       "      <th>2</th>\n",
       "      <td>202008</td>\n",
       "      <td>3569.57496</td>\n",
       "      <td>AL</td>\n",
       "      <td>RES</td>\n",
       "      <td>2322835.0</td>\n",
       "      <td>12.76</td>\n",
       "      <td>45547.776490</td>\n",
       "      <td>1536.732036</td>\n",
       "      <td>ESC</td>\n",
       "      <td>388.011338</td>\n",
       "      <td>0.000000</td>\n",
       "      <td>0</td>\n",
       "      <td>1</td>\n",
       "      <td>152</td>\n",
       "      <td>2020</td>\n",
       "      <td>8</td>\n",
       "      <td>summer</td>\n",
       "    </tr>\n",
       "    <tr>\n",
       "      <th>3</th>\n",
       "      <td>202007</td>\n",
       "      <td>3587.72858</td>\n",
       "      <td>AL</td>\n",
       "      <td>RES</td>\n",
       "      <td>2319406.0</td>\n",
       "      <td>12.69</td>\n",
       "      <td>45528.275680</td>\n",
       "      <td>1546.830775</td>\n",
       "      <td>ESC</td>\n",
       "      <td>462.496476</td>\n",
       "      <td>0.000000</td>\n",
       "      <td>0</td>\n",
       "      <td>1</td>\n",
       "      <td>151</td>\n",
       "      <td>2020</td>\n",
       "      <td>7</td>\n",
       "      <td>summer</td>\n",
       "    </tr>\n",
       "    <tr>\n",
       "      <th>4</th>\n",
       "      <td>202006</td>\n",
       "      <td>2912.11315</td>\n",
       "      <td>AL</td>\n",
       "      <td>RES</td>\n",
       "      <td>2314926.0</td>\n",
       "      <td>12.93</td>\n",
       "      <td>37653.623029</td>\n",
       "      <td>1257.972458</td>\n",
       "      <td>ESC</td>\n",
       "      <td>297.090326</td>\n",
       "      <td>2.700401</td>\n",
       "      <td>0</td>\n",
       "      <td>1</td>\n",
       "      <td>150</td>\n",
       "      <td>2020</td>\n",
       "      <td>6</td>\n",
       "      <td>summer</td>\n",
       "    </tr>\n",
       "  </tbody>\n",
       "</table>\n",
       "</div>"
      ],
      "text/plain": [
       "    month  sales_mkwh state sector  consumers  price       revenue  \\\n",
       "0  202010  2137.29371    AL    RES  2286425.0  13.07  27934.428790   \n",
       "1  202009  2875.42861    AL    RES  2325509.0  13.18  37898.149080   \n",
       "2  202008  3569.57496    AL    RES  2322835.0  12.76  45547.776490   \n",
       "3  202007  3587.72858    AL    RES  2319406.0  12.69  45528.275680   \n",
       "4  202006  2912.11315    AL    RES  2314926.0  12.93  37653.623029   \n",
       "\n",
       "   use_per_capita region  cooling_days  heating_days  COM  RES  time  year  \\\n",
       "0      934.775341    ESC     66.799124    154.607615    0    1   154  2020   \n",
       "1     1236.472794    ESC    211.894717     19.453204    0    1   153  2020   \n",
       "2     1536.732036    ESC    388.011338      0.000000    0    1   152  2020   \n",
       "3     1546.830775    ESC    462.496476      0.000000    0    1   151  2020   \n",
       "4     1257.972458    ESC    297.090326      2.700401    0    1   150  2020   \n",
       "\n",
       "   mon  season  \n",
       "0   10    fall  \n",
       "1    9    fall  \n",
       "2    8  summer  \n",
       "3    7  summer  \n",
       "4    6  summer  "
      ]
     },
     "execution_count": 182,
     "metadata": {},
     "output_type": "execute_result"
    }
   ],
   "source": [
    "energy_data.head()"
   ]
  },
  {
   "cell_type": "code",
   "execution_count": 183,
   "metadata": {},
   "outputs": [],
   "source": [
    "energy_data['date'] = [datetime(y,m,1) for y,m in zip(energy_data.year, energy_data.mon)]"
   ]
  },
  {
   "cell_type": "code",
   "execution_count": 184,
   "metadata": {},
   "outputs": [],
   "source": [
    "def get_datetime_features(date):\n",
    "    st = date\n",
    "    en = date + relativedelta(months=1) - relativedelta(days=1)\n",
    "    \n",
    "    ## number of days in month\n",
    "    num_days = len(pd.date_range(st,en))\n",
    "    ## number of weekends in month\n",
    "    num_weekends = pd.date_range(st,en).weekday.isin([5,6]).sum()\n",
    "    ## number of holidays in month\n",
    "    us_holidays = holidays.US(years=date.year)\n",
    "    us_holidays = pd.DataFrame(us_holidays.items(),columns=['date','hol'])\n",
    "    us_holidays['date'] = pd.to_datetime(us_holidays.date)\n",
    "    num_holidays = len(us_holidays[(us_holidays.date.dt.month == date.month) & ~(us_holidays.date.dt.weekday.isin([5,6]))])\n",
    "    \n",
    "    num_weekends_or_holidays = num_holidays+num_weekends\n",
    "    ## % of weekdays in month\n",
    "    pct_weekdays = 1 - (num_holidays+num_weekends)/num_days\n",
    "    \n",
    "    return num_days, num_weekends_or_holidays, pct_weekdays"
   ]
  },
  {
   "cell_type": "code",
   "execution_count": 185,
   "metadata": {},
   "outputs": [],
   "source": [
    "energy_data['num_days'], energy_data['num_hols'], energy_data['pct_weekdays'] = zip(*energy_data.date.apply(get_datetime_features)) "
   ]
  },
  {
   "cell_type": "code",
   "execution_count": 186,
   "metadata": {},
   "outputs": [],
   "source": [
    "energy_data['y'] = energy_data.use_per_capita/energy_data.num_days"
   ]
  },
  {
   "cell_type": "code",
   "execution_count": 187,
   "metadata": {},
   "outputs": [
    {
     "data": {
      "text/html": [
       "<div>\n",
       "<style scoped>\n",
       "    .dataframe tbody tr th:only-of-type {\n",
       "        vertical-align: middle;\n",
       "    }\n",
       "\n",
       "    .dataframe tbody tr th {\n",
       "        vertical-align: top;\n",
       "    }\n",
       "\n",
       "    .dataframe thead th {\n",
       "        text-align: right;\n",
       "    }\n",
       "</style>\n",
       "<table border=\"1\" class=\"dataframe\">\n",
       "  <thead>\n",
       "    <tr style=\"text-align: right;\">\n",
       "      <th></th>\n",
       "      <th>month</th>\n",
       "      <th>sales_mkwh</th>\n",
       "      <th>state</th>\n",
       "      <th>sector</th>\n",
       "      <th>consumers</th>\n",
       "      <th>price</th>\n",
       "      <th>revenue</th>\n",
       "      <th>use_per_capita</th>\n",
       "      <th>region</th>\n",
       "      <th>cooling_days</th>\n",
       "      <th>...</th>\n",
       "      <th>RES</th>\n",
       "      <th>time</th>\n",
       "      <th>year</th>\n",
       "      <th>mon</th>\n",
       "      <th>season</th>\n",
       "      <th>date</th>\n",
       "      <th>num_days</th>\n",
       "      <th>num_hols</th>\n",
       "      <th>pct_weekdays</th>\n",
       "      <th>y</th>\n",
       "    </tr>\n",
       "  </thead>\n",
       "  <tbody>\n",
       "    <tr>\n",
       "      <th>0</th>\n",
       "      <td>202010</td>\n",
       "      <td>2137.29371</td>\n",
       "      <td>AL</td>\n",
       "      <td>RES</td>\n",
       "      <td>2286425.0</td>\n",
       "      <td>13.07</td>\n",
       "      <td>27934.428790</td>\n",
       "      <td>934.775341</td>\n",
       "      <td>ESC</td>\n",
       "      <td>66.799124</td>\n",
       "      <td>...</td>\n",
       "      <td>1</td>\n",
       "      <td>154</td>\n",
       "      <td>2020</td>\n",
       "      <td>10</td>\n",
       "      <td>fall</td>\n",
       "      <td>2020-10-01</td>\n",
       "      <td>31</td>\n",
       "      <td>10</td>\n",
       "      <td>0.677419</td>\n",
       "      <td>30.154043</td>\n",
       "    </tr>\n",
       "    <tr>\n",
       "      <th>1</th>\n",
       "      <td>202009</td>\n",
       "      <td>2875.42861</td>\n",
       "      <td>AL</td>\n",
       "      <td>RES</td>\n",
       "      <td>2325509.0</td>\n",
       "      <td>13.18</td>\n",
       "      <td>37898.149080</td>\n",
       "      <td>1236.472794</td>\n",
       "      <td>ESC</td>\n",
       "      <td>211.894717</td>\n",
       "      <td>...</td>\n",
       "      <td>1</td>\n",
       "      <td>153</td>\n",
       "      <td>2020</td>\n",
       "      <td>9</td>\n",
       "      <td>fall</td>\n",
       "      <td>2020-09-01</td>\n",
       "      <td>30</td>\n",
       "      <td>9</td>\n",
       "      <td>0.700000</td>\n",
       "      <td>41.215760</td>\n",
       "    </tr>\n",
       "    <tr>\n",
       "      <th>2</th>\n",
       "      <td>202008</td>\n",
       "      <td>3569.57496</td>\n",
       "      <td>AL</td>\n",
       "      <td>RES</td>\n",
       "      <td>2322835.0</td>\n",
       "      <td>12.76</td>\n",
       "      <td>45547.776490</td>\n",
       "      <td>1536.732036</td>\n",
       "      <td>ESC</td>\n",
       "      <td>388.011338</td>\n",
       "      <td>...</td>\n",
       "      <td>1</td>\n",
       "      <td>152</td>\n",
       "      <td>2020</td>\n",
       "      <td>8</td>\n",
       "      <td>summer</td>\n",
       "      <td>2020-08-01</td>\n",
       "      <td>31</td>\n",
       "      <td>10</td>\n",
       "      <td>0.677419</td>\n",
       "      <td>49.572001</td>\n",
       "    </tr>\n",
       "    <tr>\n",
       "      <th>3</th>\n",
       "      <td>202007</td>\n",
       "      <td>3587.72858</td>\n",
       "      <td>AL</td>\n",
       "      <td>RES</td>\n",
       "      <td>2319406.0</td>\n",
       "      <td>12.69</td>\n",
       "      <td>45528.275680</td>\n",
       "      <td>1546.830775</td>\n",
       "      <td>ESC</td>\n",
       "      <td>462.496476</td>\n",
       "      <td>...</td>\n",
       "      <td>1</td>\n",
       "      <td>151</td>\n",
       "      <td>2020</td>\n",
       "      <td>7</td>\n",
       "      <td>summer</td>\n",
       "      <td>2020-07-01</td>\n",
       "      <td>31</td>\n",
       "      <td>9</td>\n",
       "      <td>0.709677</td>\n",
       "      <td>49.897767</td>\n",
       "    </tr>\n",
       "    <tr>\n",
       "      <th>4</th>\n",
       "      <td>202006</td>\n",
       "      <td>2912.11315</td>\n",
       "      <td>AL</td>\n",
       "      <td>RES</td>\n",
       "      <td>2314926.0</td>\n",
       "      <td>12.93</td>\n",
       "      <td>37653.623029</td>\n",
       "      <td>1257.972458</td>\n",
       "      <td>ESC</td>\n",
       "      <td>297.090326</td>\n",
       "      <td>...</td>\n",
       "      <td>1</td>\n",
       "      <td>150</td>\n",
       "      <td>2020</td>\n",
       "      <td>6</td>\n",
       "      <td>summer</td>\n",
       "      <td>2020-06-01</td>\n",
       "      <td>30</td>\n",
       "      <td>8</td>\n",
       "      <td>0.733333</td>\n",
       "      <td>41.932415</td>\n",
       "    </tr>\n",
       "  </tbody>\n",
       "</table>\n",
       "<p>5 rows × 22 columns</p>\n",
       "</div>"
      ],
      "text/plain": [
       "    month  sales_mkwh state sector  consumers  price       revenue  \\\n",
       "0  202010  2137.29371    AL    RES  2286425.0  13.07  27934.428790   \n",
       "1  202009  2875.42861    AL    RES  2325509.0  13.18  37898.149080   \n",
       "2  202008  3569.57496    AL    RES  2322835.0  12.76  45547.776490   \n",
       "3  202007  3587.72858    AL    RES  2319406.0  12.69  45528.275680   \n",
       "4  202006  2912.11315    AL    RES  2314926.0  12.93  37653.623029   \n",
       "\n",
       "   use_per_capita region  cooling_days  ...  RES  time  year  mon  season  \\\n",
       "0      934.775341    ESC     66.799124  ...    1   154  2020   10    fall   \n",
       "1     1236.472794    ESC    211.894717  ...    1   153  2020    9    fall   \n",
       "2     1536.732036    ESC    388.011338  ...    1   152  2020    8  summer   \n",
       "3     1546.830775    ESC    462.496476  ...    1   151  2020    7  summer   \n",
       "4     1257.972458    ESC    297.090326  ...    1   150  2020    6  summer   \n",
       "\n",
       "        date num_days num_hols  pct_weekdays          y  \n",
       "0 2020-10-01       31       10      0.677419  30.154043  \n",
       "1 2020-09-01       30        9      0.700000  41.215760  \n",
       "2 2020-08-01       31       10      0.677419  49.572001  \n",
       "3 2020-07-01       31        9      0.709677  49.897767  \n",
       "4 2020-06-01       30        8      0.733333  41.932415  \n",
       "\n",
       "[5 rows x 22 columns]"
      ]
     },
     "execution_count": 187,
     "metadata": {},
     "output_type": "execute_result"
    }
   ],
   "source": [
    "energy_data.head()"
   ]
  },
  {
   "cell_type": "code",
   "execution_count": 188,
   "metadata": {},
   "outputs": [],
   "source": [
    "energy_data.to_csv('energy/energy_data.csv',index=False)"
   ]
  },
  {
   "cell_type": "code",
   "execution_count": null,
   "metadata": {},
   "outputs": [],
   "source": []
  }
 ],
 "metadata": {
  "alphastudio": {
   "as_jupyter_image_name": "gcr.io/ts-quantsource/as-jupyter-v6",
   "as_jupyter_image_tag": "202004221404-4d2e0f17b22e"
  },
  "kernelspec": {
   "display_name": "Python 3",
   "language": "python",
   "name": "python3"
  },
  "language_info": {
   "codemirror_mode": {
    "name": "ipython",
    "version": 3
   },
   "file_extension": ".py",
   "mimetype": "text/x-python",
   "name": "python",
   "nbconvert_exporter": "python",
   "pygments_lexer": "ipython3",
   "version": "3.6.9"
  }
 },
 "nbformat": 4,
 "nbformat_minor": 4
}
